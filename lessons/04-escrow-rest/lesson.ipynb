{
 "cells": [
  {
   "cell_type": "markdown",
   "id": "a8b9d3ec-9b61-4c11-8465-504673116f9d",
   "metadata": {},
   "source": [
    "# Escrow Using Marlowe Runtime\\'s REST API\n",
    "\n",
    "***Before running this notebook, you might want to use Jupyter's \"clear output\" function to erase the results of the previous execution of this notebook. That will make more apparent what has been executed in the current session.***\n",
    "\n",
    "The escrow contract example is a simple Marlowe contract where a seller offers merchandise for sale and a buyer purchases it; if the buyer is not satisfied with the merchandise, they may dispute the purchase, in which case a mediator may rule for the buyer or seller.\n",
    "\n",
    "[A video works through this Jupyter notebook.](https://youtu.be/E8m-PKbS9TI)\n",
    "\n",
    "You can ask questions about Marlowe in [the #ask-marlowe channel on the IOG Discord](https://discord.com/channels/826816523368005654/936295815926927390) or post problems with this lesson to [the issues list for the Marlowe Starter Kit github repository](https://github.com/input-output-hk/marlowe-starter-kit/issues).\n",
    "\n",
    "In this demonsration we use Marlowe Runtime\\'s REST API, served via `marlowe-web-server`, to run this contract on Cardano\\'s `preprod` public testnet. Marlowe contracts may use either addresses or role tokens for authorization: here we use role tokens and we have Marlowe Runtime mint them.\n",
    "\n",
    "In [Marlowe Playground](https://play.marlowe.iohk.io//), the contract looks like this in Blockly format.\n",
    "\n",
    "![Marlowe contract for escrow](images/escrow-playground.png)\n",
    "\n",
    "In Marlowe format it appears as\n",
    "```\n",
    "When [\n",
    "  (Case\n",
    "     (Deposit Role \"Seller\" Role \"Buyer\"\n",
    "        (Token \"\" \"\")\n",
    "        (ConstantParam \"Price\"))\n",
    "     (When [\n",
    "           (Case\n",
    "              (Choice\n",
    "                 (ChoiceId \"Everything is alright\" Role \"Buyer\") [\n",
    "                 (Bound 0 0)]) Close)\n",
    "           ,\n",
    "           (Case\n",
    "              (Choice\n",
    "                 (ChoiceId \"Report problem\" Role \"Buyer\") [\n",
    "                 (Bound 1 1)])\n",
    "              (Pay Role \"Seller\"\n",
    "                 (Account Role \"Buyer\")\n",
    "                 (Token \"\" \"\")\n",
    "                 (ConstantParam \"Price\")\n",
    "                 (When [\n",
    "                       (Case\n",
    "                          (Choice\n",
    "                             (ChoiceId \"Confirm problem\" Role \"Seller\") [\n",
    "                             (Bound 1 1)]) Close)\n",
    "                       ,\n",
    "                       (Case\n",
    "                          (Choice\n",
    "                             (ChoiceId \"Dispute problem\" Role \"Seller\") [\n",
    "                             (Bound 0 0)])\n",
    "                          (When [\n",
    "                                (Case\n",
    "                                   (Choice\n",
    "                                      (ChoiceId \"Dismiss claim\" Role \"Mediator\") [\n",
    "                                      (Bound 0 0)])\n",
    "                                   (Pay Role \"Buyer\"\n",
    "                                      (Party Role \"Seller\")\n",
    "                                      (Token \"\" \"\")\n",
    "                                      (ConstantParam \"Price\") Close))\n",
    "                                ,\n",
    "                                (Case\n",
    "                                   (Choice\n",
    "                                      (ChoiceId \"Confirm problem\" Role \"Mediator\") [\n",
    "                                      (Bound 1 1)]) Close)]\n",
    "                                      (TimeParam \"Mediation deadline\") Close))] \n",
    "                                      (TimeParam \"Complaint response deadline\") Close)))] \n",
    "                                      (TimeParam \"Complaint deadline\") Close))] \n",
    "                                      (TimeParam \"Payment deadline\") Close\n",
    "```\n",
    "\n",
    "The flow chart below shows the possible execution paths of the escrow contract. This example demonstrates the shaded path.\n",
    "\n",
    "![Flow chart for escrow contract, with the \"dismiss claim\" execution path highlighted](images/04-dismiss-claim.svg)"
   ]
  },
  {
   "cell_type": "markdown",
   "id": "f128e27a-afe6-4d03-8c46-ef6e5753e4a8",
   "metadata": {},
   "source": [
    "## Preliminaries\n",
    "\n",
    "See [Lesson 0. Preliminaries](00-preliminaries.md) for information on setting up one's environment for using this tutorial.\n",
    "\n",
    "The lesson assumes that the following environment variables have been set.\n",
    "- `CARDANO_NODE_SOCKET_PATH`: location of Cardano node's socket.\n",
    "- `CARDANO_TESTNET_MAGIC`: testnet magic number.\n",
    "- `MARLOWE_RT_WEBSERVER_HOST`: IP address of the Marlowe Runtime web server.\n",
    "- `MARLOWE_RT_WEBSERVER_PORT`: Port number for the Marlowe Runtime web server.\n",
    "\n",
    "It also assumes that the parties have addresses, signing keys, and funds.\n",
    "- Seller\n",
    "    - [keys/lender.address](keys/lender.address): Cardano address for the seller\n",
    "    - [keys/lender.skey](keys/lender.skey): location of signing key file for the seller\n",
    "- Buyer\n",
    "    - [keys/borrower.address](keys/borrower.address): Cardano address for the buyer\n",
    "    - [keys/borrower.skey](keys/borrower.skey): location of signing key file for the buyer\n",
    "- Mediator\n",
    "    - [keys/mediator.address](keys/mediator.address): Cardano address for the mediator\n",
    "    - [keys/mediator.skey](keys/mediator.skey): location of signing key file for the mediator"
   ]
  },
  {
   "cell_type": "markdown",
   "id": "053cac6c-9bfc-4c47-ba48-c5cc145734d7",
   "metadata": {},
   "source": [
    "### Access to Cardano node and Marlowe Runtime\n",
    "\n",
    "If we're using [demeter.run](https://demeter.run/)'s Cardano Marlowe Runtime extension, then we already have access to Cardano Node and Marlowe Runtime. The followind commands will set the required environment variables to use a local docker deployment on the default ports. It will also set some supplementary environment variables."
   ]
  },
  {
   "cell_type": "code",
   "execution_count": null,
   "id": "e1859d35-ded3-4e16-be43-b1ef030d7f16",
   "metadata": {
    "tags": [],
    "vscode": {
     "languageId": "shellscript"
    }
   },
   "outputs": [],
   "source": [
    "if [[ -z \"$MARLOWE_RT_WEBSERVER_PORT\" ]]\n",
    "then\n",
    "\n",
    "  # Only required for `marlowe-cli` and `cardano-cli`.\n",
    "  export CARDANO_NODE_SOCKET_PATH=\"$(docker volume inspect marlowe-starter-kit_shared | jq -r '.[0].Mountpoint')/node.socket\"\n",
    "  export CARDANO_TESTNET_MAGIC=1 # Note that preprod=1 and preview=2. Do not set this variable if using mainnet.\n",
    "\n",
    "  # Only required for Marlowe Runtime REST API.\n",
    "  export MARLOWE_RT_WEBSERVER_HOST=\"127.0.0.1\"\n",
    "  export MARLOWE_RT_WEBSERVER_PORT=3780\n",
    "\n",
    "fi\n",
    "\n",
    "# FIXME: This should have been inherited from the parent environment.\n",
    "if [[ -z \"$CARDANO_NODE_SOCKET_PATH\" ]]\n",
    "then\n",
    "  export CARDANO_NODE_SOCKET_PATH=/ipc/node.socket\n",
    "fi\n",
    "\n",
    "# FIXME: This should have been set in the parent environment.\n",
    "if [[ -z \"$CARDANO_TESTNET_MAGIC\" ]]\n",
    "then\n",
    "  export CARDANO_TESTNET_MAGIC=$CARDANO_NODE_MAGIC\n",
    "fi\n",
    "\n",
    "case \"$CARDANO_TESTNET_MAGIC\" in\n",
    "  1)\n",
    "    export \"EXPLORER_URL=https://preprod.cardanoscan.io\"\n",
    "    ;;\n",
    "  2)\n",
    "    export \"EXPLORER_URL=https://preview.cardanoscan.io\"\n",
    "    ;;\n",
    "  *)\n",
    "    # Use `mainnet` as the default.\n",
    "    export \"EXPLORER_URL=https://cardanoscan.io\"\n",
    "    ;;\n",
    "esac\n",
    "\n",
    "MARLOWE_RT_WEBSERVER_URL=\"http://$MARLOWE_RT_WEBSERVER_HOST\":\"$MARLOWE_RT_WEBSERVER_PORT\"\n",
    "\n",
    "echo \"CARDANO_NODE_SOCKET_PATH = $CARDANO_NODE_SOCKET_PATH\"\n",
    "echo \"CARDANO_TESTNET_MAGIC = $CARDANO_TESTNET_MAGIC\"\n",
    "echo \"MARLOWE_RT_WEBSERVER_HOST = $MARLOWE_RT_WEBSERVER_HOST\"\n",
    "echo \"MARLOWE_RT_WEBSERVER_PORT = $MARLOWE_RT_WEBSERVER_PORT\"\n",
    "echo \"MARLOWE_RT_WEBSERVER_URL = $MARLOWE_RT_WEBSERVER_URL\""
   ]
  },
  {
   "cell_type": "markdown",
   "id": "08ede461-282f-4209-855a-600c51619940",
   "metadata": {
    "tags": []
   },
   "source": [
    "Note the test network magic number:\n",
    "- `preprod` = 1\n",
    "- `preview` = 2"
   ]
  },
  {
   "cell_type": "markdown",
   "id": "1f209e22-2e7c-444c-a72b-aa88d676e0f8",
   "metadata": {
    "tags": [],
    "vscode": {
     "languageId": "shellscript"
    }
   },
   "source": [
    "### Seller address and funds\n",
    "\n",
    "Check that an address and key has been created for the seller. If not, see \"Creating Addresses and Signing Keys\" in [Lesson 0. Preliminaries](00-preliminaries.md)."
   ]
  },
  {
   "cell_type": "code",
   "execution_count": null,
   "id": "38d0bad1-3b9e-4d80-9aec-a4357c8dc79a",
   "metadata": {
    "tags": [],
    "vscode": {
     "languageId": "shellscript"
    }
   },
   "outputs": [],
   "source": [
    "SELLER_SKEY=keys/lender.skey\n",
    "SELLER_ADDR=$(cat keys/lender.address)\n",
    "echo \"SELLER_ADDR = $SELLER_ADDR\""
   ]
  },
  {
   "cell_type": "markdown",
   "id": "112cbd18-2567-4563-a452-e4a5c529a171",
   "metadata": {},
   "source": [
    "Check that the seller has at least one hundred ada."
   ]
  },
  {
   "cell_type": "code",
   "execution_count": null,
   "id": "a16fd543-cabf-4540-879c-ed0594ca5ff1",
   "metadata": {
    "tags": [],
    "vscode": {
     "languageId": "shellscript"
    }
   },
   "outputs": [],
   "source": [
    "cardano-cli query utxo --testnet-magic \"$CARDANO_TESTNET_MAGIC\" --address \"$SELLER_ADDR\""
   ]
  },
  {
   "cell_type": "markdown",
   "id": "d23a2695-2d68-4fa3-80cb-3afe5afe2196",
   "metadata": {},
   "source": [
    "One can view the address on a Cardano explorer. It sometimes takes thirty seconds or so for the transaction to be visible in an explorer."
   ]
  },
  {
   "cell_type": "code",
   "execution_count": null,
   "id": "b1d78493-a1a1-4739-b911-02b901c73bda",
   "metadata": {
    "tags": [],
    "vscode": {
     "languageId": "shellscript"
    }
   },
   "outputs": [],
   "source": [
    "echo \"$EXPLORER_URL\"/address/\"$SELLER_ADDR\""
   ]
  },
  {
   "cell_type": "markdown",
   "id": "754f546b-b42d-434c-ad78-b4e1fada39b9",
   "metadata": {
    "tags": [],
    "vscode": {
     "languageId": "shellscript"
    }
   },
   "source": [
    "### Buyer address and funds\n",
    "\n",
    "Check that an address and key has been created for the buyer. If not, see \"Creating Addresses and Signing Keys\" in [Lesson 0. Preliminaries](00-preliminaries.md)."
   ]
  },
  {
   "cell_type": "code",
   "execution_count": null,
   "id": "5103b793-05a7-4a9c-bb5b-ed250bcbcc1e",
   "metadata": {
    "tags": [],
    "vscode": {
     "languageId": "shellscript"
    }
   },
   "outputs": [],
   "source": [
    "BUYER_SKEY=keys/borrower.skey\n",
    "BUYER_ADDR=$(cat keys/borrower.address)\n",
    "echo \"BUYER_ADDR = $BUYER_ADDR\""
   ]
  },
  {
   "cell_type": "markdown",
   "id": "41a004a6-8681-4ce1-b07e-6d6d07ee1b38",
   "metadata": {},
   "source": [
    "Check that the buyer has at least one hundred ada."
   ]
  },
  {
   "cell_type": "code",
   "execution_count": null,
   "id": "3af7a962-3038-4b55-a31a-cd7ade94b5ec",
   "metadata": {
    "tags": [],
    "vscode": {
     "languageId": "shellscript"
    }
   },
   "outputs": [],
   "source": [
    "cardano-cli query utxo --testnet-magic \"$CARDANO_TESTNET_MAGIC\" --address \"$BUYER_ADDR\""
   ]
  },
  {
   "cell_type": "markdown",
   "id": "0bf7ec49-14c5-4f3a-9eb7-c97cd38fcfcf",
   "metadata": {},
   "source": [
    "One can view the address on a Cardano explorer. It sometimes takes thirty seconds or so for the transaction to be visible in an explorer."
   ]
  },
  {
   "cell_type": "code",
   "execution_count": null,
   "id": "3455b47d-45f9-4d31-aebe-ab0ea7b36aa9",
   "metadata": {
    "tags": [],
    "vscode": {
     "languageId": "shellscript"
    }
   },
   "outputs": [],
   "source": [
    "echo \"$EXPLORER_URL\"/address/\"$BUYER_ADDR\""
   ]
  },
  {
   "cell_type": "markdown",
   "id": "e9e994d8-95b4-4175-a26e-1d1da2fe103a",
   "metadata": {
    "tags": [],
    "vscode": {
     "languageId": "shellscript"
    }
   },
   "source": [
    "### Mediator address and funds\n",
    "\n",
    "Check that an address and key has been created for the mediator. If not, see \"Creating Addresses and Signing Keys\" in [Lesson 0. Preliminaries](00-preliminaries.md)."
   ]
  },
  {
   "cell_type": "code",
   "execution_count": null,
   "id": "4f9e1680-77da-43f9-9495-14d8a8a9929b",
   "metadata": {
    "tags": [],
    "vscode": {
     "languageId": "shellscript"
    }
   },
   "outputs": [],
   "source": [
    "MEDIATOR_SKEY=keys/mediator.skey\n",
    "MEDIATOR_ADDR=$(cat keys/mediator.address)\n",
    "echo \"MEDIATOR_ADDR = $MEDIATOR_ADDR\""
   ]
  },
  {
   "cell_type": "markdown",
   "id": "7ee5fc4d-f900-4d22-b0a4-bb2cc56fe025",
   "metadata": {},
   "source": [
    "Check that the mediator has at least one hundred ada."
   ]
  },
  {
   "cell_type": "code",
   "execution_count": null,
   "id": "ca1d52a9-8499-4ccc-ab2a-ff9aed202944",
   "metadata": {
    "tags": [],
    "vscode": {
     "languageId": "shellscript"
    }
   },
   "outputs": [],
   "source": [
    "cardano-cli query utxo --testnet-magic \"$CARDANO_TESTNET_MAGIC\" --address \"$MEDIATOR_ADDR\""
   ]
  },
  {
   "cell_type": "markdown",
   "id": "0650ca57-f643-4111-9741-e7c893f45bf4",
   "metadata": {},
   "source": [
    "One can view the address on a Cardano explorer. It sometimes takes thirty seconds or so for the transaction to be visible in an explorer."
   ]
  },
  {
   "cell_type": "code",
   "execution_count": null,
   "id": "d9d17190-eed0-456f-8aa0-6f0a2b4d83dc",
   "metadata": {
    "tags": [],
    "vscode": {
     "languageId": "shellscript"
    }
   },
   "outputs": [],
   "source": [
    "echo \"$EXPLORER_URL\"/address/\"$MEDIATOR_ADDR\""
   ]
  },
  {
   "cell_type": "markdown",
   "id": "00396fbb-ce2d-4666-9bac-85a8ccd7945b",
   "metadata": {},
   "source": [
    "## Design the contract\n",
    "\n",
    "The escrow contract can be downloaded from the [Marlowe Playground](https://play.marlowe.iohk.io//) as a JSON file, or it can be generated using [Marlowe CLI](https://github.com/input-output-hk/marlowe-cardano/tree/main/marlowe-cli#readme) using the `marlowe-cli template` command.\n",
    "\n",
    "Set the purchase prices to 75 ada."
   ]
  },
  {
   "cell_type": "code",
   "execution_count": null,
   "id": "8d28fcbc-c73f-4c27-8d68-069d8ebe98ce",
   "metadata": {
    "vscode": {
     "languageId": "shellscript"
    }
   },
   "outputs": [],
   "source": [
    "ADA=1000000  # 1 ada = 1,000,000 lovelace\n",
    "PRICE=$((75 * ADA))\n",
    "echo \"PRICE = $PRICE lovelace\""
   ]
  },
  {
   "cell_type": "markdown",
   "id": "5a11195d-000f-44e4-a217-50e5d7de01ed",
   "metadata": {},
   "source": [
    "On the Cardano blockchain, the protocol parameters require that each UTxO contain at least some ada. Here we will start the contract with 2 ada."
   ]
  },
  {
   "cell_type": "code",
   "execution_count": null,
   "id": "8f699238-b0a0-4626-b04f-e93d93b0f458",
   "metadata": {
    "vscode": {
     "languageId": "shellscript"
    }
   },
   "outputs": [],
   "source": [
    "MIN_LOVELACE=\"$((2 * ADA))\"\n",
    "echo \"MIN_LOVELACE = $MIN_LOVELACE lovelace\""
   ]
  },
  {
   "cell_type": "markdown",
   "id": "0b4c28e3-3f4b-4fa8-8dd4-aa7b51921132",
   "metadata": {},
   "source": [
    "Later in the example we will need some constants for converting times."
   ]
  },
  {
   "cell_type": "code",
   "execution_count": null,
   "id": "d06a9229-9e53-4a00-accf-ae06b115ff39",
   "metadata": {
    "tags": [],
    "vscode": {
     "languageId": "shellscript"
    }
   },
   "outputs": [],
   "source": [
    "SECOND=1000 # 1 second = 1000 milliseconds\n",
    "MINUTE=$((60 * SECOND)) # 1 minute = 60 seconds\n",
    "HOUR=$((60 * MINUTE)) # 1 hour = 60 minutes"
   ]
  },
  {
   "cell_type": "markdown",
   "id": "94d3ddb1-35e9-49ff-9062-1854febca9b7",
   "metadata": {},
   "source": [
    "### *Alternative 1:* Use Marlowe Playground to design the contract\n",
    "\n",
    "If you want to create the contract in Marlowe Playground, do the following:\n",
    "\n",
    "1. Visit https://play.marlowe.iohk.io// in a web browser.\n",
    "2. Select \"Open an Example\".\n",
    "3. Select \"Marlowe\" or \"Blockly\" under \"Escrow\".\n",
    "4. Select \"Send to Simulator\".\n",
    "5. Set the \"Payment deadline\" to one hour into the future.\n",
    "6. Set the \"Complaint deadline\" to two hours into the future\n",
    "7. Set the \"Complaint response deadline\" to three hours into the future.\n",
    "8. Set the \"Mediation deadline\" to four hours into the future.\n",
    "9. Set the \"Price\" to 75 ada.\n",
    "10. Select \"Download as JSON\", set the file name to \"escrow-contract.json\", and store the file in this folder, namely [marlowe-starter-kit/](.). Note that most interfaces for Jupyter notebooks allow one to drag and drop a file into their explorer panel.\n",
    "\n",
    "***Be careful setting the deadlines because, if these mistakenly are in the past or in the too-near future, then parts of the contract will time out and not operate as described in this tutorial.***\n",
    "\n",
    "![Setting parameters for the escrow bond contract in Marlowe Playground](images/escrow-simulation.png)"
   ]
  },
  {
   "cell_type": "markdown",
   "id": "0073090c-205c-4037-814c-b3053bbc81d6",
   "metadata": {},
   "source": [
    "### *Alternative 2:* Use Marlowe CLI to generate the contract\n",
    "\n",
    "Below we generate the contract using Marlowe CLI.\n",
    "\n",
    "First find the current time, measured in [POSIX milliseconds](https://en.wikipedia.org/wiki/Unix_time)."
   ]
  },
  {
   "cell_type": "code",
   "execution_count": null,
   "id": "327df025-16bf-4f69-acfc-02e3ce56e795",
   "metadata": {
    "vscode": {
     "languageId": "shellscript"
    }
   },
   "outputs": [],
   "source": [
    "NOW=\"$((`date -u +%s` * SECOND))\"\n",
    "echo NOW = \"$NOW\" POSIX milliseconds = \"`date -d @$((NOW / SECOND))`\""
   ]
  },
  {
   "cell_type": "markdown",
   "id": "d3686e55-0139-4e49-a4cc-8d7e5ef4491a",
   "metadata": {},
   "source": [
    "The contract has four deadlines. For convenience in this example, set the deadlines to the near future."
   ]
  },
  {
   "cell_type": "code",
   "execution_count": null,
   "id": "f1797871-350b-400b-b12f-5bc877efca94",
   "metadata": {
    "vscode": {
     "languageId": "shellscript"
    }
   },
   "outputs": [],
   "source": [
    "PAYMENT_DEADLINE=$((NOW+1*HOUR))    # The payment deadline, one hour from now.\n",
    "COMPLAINT_DEADLINE=$((NOW+2*HOUR))  # The complaint deadline, two hours from now.\n",
    "DISPUTE_DEADLINE=$((NOW+3*HOUR))    # The dispute deadline, three hours from now.\n",
    "MEDIATION_DEADLINE=$((NOW+4*HOUR))  # The mediation deadline, four hours from now.\n",
    "\n",
    "echo PAYMENT_DEADLINE = \"$PAYMENT_DEADLINE\" POSIX milliseconds = \"`date -d @$((PAYMENT_DEADLINE / SECOND))`\"\n",
    "echo COMPLAINT_DEADLINE = \"$COMPLAINT_DEADLINE\" POSIX milliseconds = \"`date -d @$((COMPLAINT_DEADLINE / SECOND))`\"\n",
    "echo DISPUTE_DEADLINE = \"$DISPUTE_DEADLINE\" POSIX milliseconds = \"`date -d @$((DISPUTE_DEADLINE / SECOND))`\"\n",
    "echo MEDIATION_DEADLINE = \"$MEDIATION_DEADLINE\" POSIX milliseconds = \"`date -d @$((MEDIATION_DEADLINE / SECOND))`\""
   ]
  },
  {
   "cell_type": "markdown",
   "id": "67bb8476-28d1-4bea-9a4e-d979a3b753c0",
   "metadata": {},
   "source": [
    "Now create the JSON file for the contract, `zcb-contract.json`."
   ]
  },
  {
   "cell_type": "code",
   "execution_count": null,
   "id": "efec81d2-4cd2-4b72-8fab-82a6e60741c7",
   "metadata": {
    "tags": [],
    "vscode": {
     "languageId": "shellscript"
    }
   },
   "outputs": [],
   "source": [
    "marlowe-cli template escrow \\\n",
    "  --minimum-ada \"$MIN_LOVELACE\" \\\n",
    "  --price \"$PRICE\" \\\n",
    "  --seller Seller \\\n",
    "  --buyer Buyer \\\n",
    "  --mediator Mediator \\\n",
    "  --payment-deadline \"$PAYMENT_DEADLINE\" \\\n",
    "  --complaint-deadline \"$COMPLAINT_DEADLINE\" \\\n",
    "  --dispute-deadline \"$DISPUTE_DEADLINE\" \\\n",
    "  --mediation-deadline \"$MEDIATION_DEADLINE\" \\\n",
    "  --out-contract-file escrow-contract.json \\\n",
    "  --out-state-file /dev/null"
   ]
  },
  {
   "cell_type": "markdown",
   "id": "ec5de5c3-848a-417c-aebd-276f10bbce8d",
   "metadata": {},
   "source": [
    "The various command-line options are described by the help system."
   ]
  },
  {
   "cell_type": "code",
   "execution_count": null,
   "id": "4b7754a1-3e13-4d54-81a3-9b98be4c87c9",
   "metadata": {
    "tags": [],
    "vscode": {
     "languageId": "shellscript"
    }
   },
   "outputs": [],
   "source": [
    "marlowe-cli template escrow --help"
   ]
  },
  {
   "cell_type": "markdown",
   "id": "b158c36f-c316-4a08-8db5-8464645f2466",
   "metadata": {},
   "source": [
    "## Examine the contract\n",
    "\n",
    "View the contract file as YAML."
   ]
  },
  {
   "cell_type": "code",
   "execution_count": null,
   "id": "58855a22-decd-4730-bac7-800d0f766034",
   "metadata": {
    "vscode": {
     "languageId": "shellscript",
     "tags": []
    }
   },
   "outputs": [],
   "source": [
    "json2yaml escrow-contract.json"
   ]
  },
  {
   "cell_type": "markdown",
   "id": "4c4c1547-2bb6-4517-ba71-bf1ff35ad973",
   "metadata": {},
   "source": [
    "### \\[Optional, but recommended\\] Check the safety of the contract\n",
    "\n",
    "If we were running the contract on the Cardano `mainnet`, then we\\'d want to check its safety before creating it, so that there is no chance that we might lose funds.\n",
    "\n",
    "Here are the steps for checking the safety of a contract:\n",
    "\n",
    "1. Understand the [Marlowe Language](https://marlowe.iohk.io/).\n",
    "2. Understand Cardano\\'s [Extended UTxO Model](https://docs.cardano.org/learn/eutxo-explainer).\n",
    "3. Read and understand the [Marlowe Best Practices Guide](https://github.com/input-output-hk/marlowe-cardano/blob/main/marlowe/best-practices.md).\n",
    "4. Read and understand the [Marlowe Security Guide](https://github.com/input-output-hk/marlowe-cardano/blob/main/marlowe/security.md).\n",
    "5. Use [Marlowe Playground](https://play.marlowe.iohk.io//) to flag warnings, perform static analysis, and simulate the contract.\n",
    "6. Use [Marlowe CLI\\'s](https://github.com/input-output-hk/marlowe-cardano/blob/main/marlowe-cli/ReadMe.md) `marlowe-cli run analyze` tool to study whether the contract can run on a Cardano network.\n",
    "7. Run *all execution paths* of the contract on a [Cardano testnet](https://docs.cardano.org/cardano-testnet/overview).\n",
    "\n",
    "See [Lesson 1](01-runtime-cli.ipynb) for an example of performing step 6."
   ]
  },
  {
   "cell_type": "markdown",
   "id": "87bb70c0-a8ed-4a9a-b0b7-732c40f0cad6",
   "metadata": {},
   "source": [
    "## Transaction 1: Mediator Creates Escrow Contract with Initial ADA\n",
    "\n",
    "A `HTTP` `POST` request to Marlowe Runtime\\'s `/contracts` endpoint will build the creation transaction for a Marlowe contract. We provide it the JSON file containing the contract and tell it the `MIN_LOVELACE` value that we previously chose. Anyone could create the contract, but in this example the lender will be doing so, so we provide their address to fund the transaction and to receive the change from it.\n",
    "\n",
    "First we create the JSON body of the request to build the creation transaction."
   ]
  },
  {
   "cell_type": "code",
   "execution_count": null,
   "id": "4314ece0-462f-4df8-b739-f9db58cbc6a9",
   "metadata": {
    "vscode": {
     "languageId": "shellscript"
    }
   },
   "outputs": [],
   "source": [
    "yaml2json << EOI > request-1.json\n",
    "version: v1\n",
    "contract: `cat escrow-contract.json`\n",
    "roles:\n",
    "  Seller: \"$SELLER_ADDR\"\n",
    "  Buyer: \"$BUYER_ADDR\"\n",
    "  Mediator: \"$MEDIATOR_ADDR\"\n",
    "minUTxODeposit: $MIN_LOVELACE\n",
    "metadata: {}\n",
    "tags: {}\n",
    "EOI\n",
    "cat request-1.json"
   ]
  },
  {
   "cell_type": "markdown",
   "id": "6b04626a-20d3-4b72-9cf0-0465e818311b",
   "metadata": {},
   "source": [
    "Next we post the request and view the response."
   ]
  },
  {
   "cell_type": "code",
   "execution_count": null,
   "id": "5843b85f-f87e-46d2-a6e8-2550328bb6c6",
   "metadata": {
    "vscode": {
     "languageId": "shellscript"
    }
   },
   "outputs": [],
   "source": [
    "curl \"$MARLOWE_RT_WEBSERVER_URL/contracts\" \\\n",
    "  -X POST \\\n",
    "  -H 'Content-Type: application/json' \\\n",
    "  -H \"X-Change-Address: $MEDIATOR_ADDR\" \\\n",
    "  -d @request-1.json \\\n",
    "  -o response-1.json \\\n",
    "  -sS\n",
    "json2yaml response-1.json"
   ]
  },
  {
   "cell_type": "markdown",
   "id": "fde4adcb-8e68-4cae-bc3a-c3ef077ff47c",
   "metadata": {},
   "source": [
    "The identifier for the contract is embedded in the response."
   ]
  },
  {
   "cell_type": "code",
   "execution_count": null,
   "id": "2e882a2e-07a0-4bf7-891d-cf99651c8c5a",
   "metadata": {
    "vscode": {
     "languageId": "shellscript"
    }
   },
   "outputs": [],
   "source": [
    "CONTRACT_ID=\"$(jq -r '.resource.contractId' response-1.json)\"\n",
    "echo \"CONTRACT_ID = $CONTRACT_ID\""
   ]
  },
  {
   "cell_type": "markdown",
   "id": "c1be0970-cd75-484d-a745-6e88208b612a",
   "metadata": {},
   "source": [
    "The CBOR serialization (in text-envelope format) is also embedded in the response."
   ]
  },
  {
   "cell_type": "code",
   "execution_count": null,
   "id": "fb237371-071c-4b70-baca-c67f0751ac3e",
   "metadata": {
    "vscode": {
     "languageId": "shellscript"
    }
   },
   "outputs": [],
   "source": [
    "jq '.resource.txBody' response-1.json > tx-1.unsigned"
   ]
  },
  {
   "cell_type": "markdown",
   "id": "a59332a1-b1a0-4264-a84e-6b613eb20d72",
   "metadata": {},
   "source": [
    "There are many ways to sign and submit Cardano transactions:\n",
    "- `cardano-cli` at the command line\n",
    "- `cardano-wallet` at the command line or as a REST service\n",
    "- `cardano-hw-cli` for a hardware wallet at the command line\n",
    "- a Babbage-compatible CIP-30 wallet in a web browser\n",
    "- `marlowe-cli` at the command line\n",
    "\n",
    "For convenience, here we use `marlowe-cli transaction submit`. One may have to wait a minute or so for the transactions to be confirmed on the blockchain."
   ]
  },
  {
   "cell_type": "code",
   "execution_count": null,
   "id": "89bb49ae-2353-4d85-9ae5-ad805061f2cd",
   "metadata": {
    "vscode": {
     "languageId": "shellscript"
    }
   },
   "outputs": [],
   "source": [
    "TX_1=$(\n",
    "marlowe-cli transaction submit \\\n",
    "  --tx-body-file tx-1.unsigned \\\n",
    "  --required-signer \"$MEDIATOR_SKEY\" \\\n",
    "  --timeout 600s \\\n",
    "| sed -e 's/^TxId \"\\(.*\\)\"$/\\1/' \\\n",
    ")\n",
    "echo \"TX_1 = $TX_1\""
   ]
  },
  {
   "cell_type": "markdown",
   "id": "df082e87-eeaf-4924-b55b-94a4ba50c327",
   "metadata": {},
   "source": [
    "One can view the transaction on a Cardano explorer and see that the contract has been created and the parties have received their role tokens. It sometimes takes thirty seconds or so for the transaction to be visible in an explorer."
   ]
  },
  {
   "cell_type": "code",
   "execution_count": null,
   "id": "006ca411-2088-439f-b735-b49892de22e8",
   "metadata": {
    "vscode": {
     "languageId": "shellscript"
    }
   },
   "outputs": [],
   "source": [
    "echo \"$EXPLORER_URL\"/transaction/\"$TX_1?tab=utxo\""
   ]
  },
  {
   "cell_type": "markdown",
   "id": "9a1f44ce-de67-4b87-95d8-c1e052cc308a",
   "metadata": {},
   "source": [
    "In particular, we see that the Marlowe contract holds the 2 ada that was set as `MINIMUM_LOVELACE`."
   ]
  },
  {
   "cell_type": "code",
   "execution_count": null,
   "id": "bc7b2078-d23c-47f4-9f12-697de8469ce1",
   "metadata": {
    "vscode": {
     "languageId": "shellscript"
    }
   },
   "outputs": [],
   "source": [
    "cardano-cli query utxo --testnet-magic \"$CARDANO_TESTNET_MAGIC\" --tx-in \"$CONTRACT_ID\""
   ]
  },
  {
   "cell_type": "markdown",
   "id": "9ce2b5b3-4c0b-4c53-ab6d-a1373499097c",
   "metadata": {},
   "source": [
    "One can see that the seller, buyer, and mediator have received their role tokens. Note that `4c656e646572 = Seller`, `4275796572 = Buyer`, and `4d65646961746f72 = Mediator` in hexadecimal notation."
   ]
  },
  {
   "cell_type": "code",
   "execution_count": null,
   "id": "613f0751-3bc5-4ca7-b208-ef5830eef61d",
   "metadata": {
    "tags": [],
    "vscode": {
     "languageId": "shellscript"
    }
   },
   "outputs": [],
   "source": [
    "cardano-cli query utxo --testnet-magic \"$CARDANO_TESTNET_MAGIC\" --address \"$SELLER_ADDR\""
   ]
  },
  {
   "cell_type": "code",
   "execution_count": null,
   "id": "7f6d2b5e-86c2-4f53-ba20-8f95b43c3145",
   "metadata": {
    "tags": [],
    "vscode": {
     "languageId": "shellscript"
    }
   },
   "outputs": [],
   "source": [
    "cardano-cli query utxo --testnet-magic \"$CARDANO_TESTNET_MAGIC\" --address \"$BUYER_ADDR\""
   ]
  },
  {
   "cell_type": "code",
   "execution_count": null,
   "id": "cbfab192-5a28-4595-b3ef-aa8bfdcee154",
   "metadata": {
    "tags": [],
    "vscode": {
     "languageId": "shellscript"
    }
   },
   "outputs": [],
   "source": [
    "cardano-cli query utxo --testnet-magic \"$CARDANO_TESTNET_MAGIC\" --address \"$MEDIATOR_ADDR\""
   ]
  },
  {
   "cell_type": "markdown",
   "id": "3a7f985a-dba3-4b5f-aab8-8418270c5dda",
   "metadata": {},
   "source": [
    "## View the details of the contract on the blockchain\n",
    "\n",
    "Marlowe Runtime\\'s `HTTP` `GET` endpoint `/contracts/{contractId}` can fetch a contract from the blockchain and return information about it."
   ]
  },
  {
   "cell_type": "code",
   "execution_count": null,
   "id": "8328b458-43fb-4e53-8060-1740d25cf93b",
   "metadata": {
    "vscode": {
     "languageId": "shellscript"
    }
   },
   "outputs": [],
   "source": [
    "CONTRACT_URL=\"$MARLOWE_RT_WEBSERVER_URL/`jq -r '.links.contract' response-1.json`\"\n",
    "echo \"CONTRACT_URL = $CONTRACT_URL\""
   ]
  },
  {
   "cell_type": "code",
   "execution_count": null,
   "id": "e805f893-bcd8-4169-a2da-90f1cfa080b2",
   "metadata": {
    "vscode": {
     "languageId": "shellscript"
    }
   },
   "outputs": [],
   "source": [
    "curl -sS \"$CONTRACT_URL\" | json2yaml"
   ]
  },
  {
   "cell_type": "markdown",
   "id": "e2166e0c-108b-40e5-b720-00043d697e1a",
   "metadata": {},
   "source": [
    "## Transaction 2: Buyer Deposits Funds into Seller’s Account\n",
    "\n",
    "The buyer deposits their 75 ada into the contract using Marlowe Runtime\\'s `HTTP` `POST` `/contract/{contractId}/transactions` endpoint. The buyer is providing the funding for and receiving the change from this transaction, so we provide their address.\n",
    "\n",
    "The deposit is represented as JSON input to the contract. The `marlowe-cli input deposit` tool conveniently formats the correct JSON for a deposit."
   ]
  },
  {
   "cell_type": "code",
   "execution_count": null,
   "id": "1fbf5b90-ba80-44b9-83f5-791a7a10b2ab",
   "metadata": {
    "tags": [],
    "vscode": {
     "languageId": "shellscript"
    }
   },
   "outputs": [],
   "source": [
    "marlowe-cli input deposit --help"
   ]
  },
  {
   "cell_type": "code",
   "execution_count": null,
   "id": "3c8a6076-f342-489c-939c-e9c017b6b445",
   "metadata": {
    "vscode": {
     "languageId": "shellscript"
    }
   },
   "outputs": [],
   "source": [
    "marlowe-cli input deposit \\\n",
    "  --deposit-party Buyer \\\n",
    "  --deposit-account Seller \\\n",
    "  --deposit-amount \"$PRICE\" \\\n",
    "  --out-file input-2.json\n",
    "json2yaml input-2.json"
   ]
  },
  {
   "cell_type": "code",
   "execution_count": null,
   "id": "4fc16b02-358c-438f-9e5b-7d709da7eac5",
   "metadata": {
    "vscode": {
     "languageId": "shellscript"
    }
   },
   "outputs": [],
   "source": [
    "yaml2json << EOI > request-2.json\n",
    "version: v1\n",
    "inputs: [$(cat input-2.json)]\n",
    "metadata: {}\n",
    "tags: {}\n",
    "EOI\n",
    "cat request-2.json"
   ]
  },
  {
   "cell_type": "markdown",
   "id": "7f66252b-23fc-47e3-825d-7aba51a86368",
   "metadata": {},
   "source": [
    "Next we post the request and store the response."
   ]
  },
  {
   "cell_type": "code",
   "execution_count": null,
   "id": "465152a1-eaaa-4dab-9035-aa306c0022fa",
   "metadata": {
    "vscode": {
     "languageId": "shellscript"
    }
   },
   "outputs": [],
   "source": [
    "curl \"$CONTRACT_URL/transactions\" \\\n",
    "  -X POST \\\n",
    "  -H 'Content-Type: application/json' \\\n",
    "  -H \"X-Change-Address: $BUYER_ADDR\" \\\n",
    "  -d @request-2.json \\\n",
    "  -o response-2.json \\\n",
    "  -sS\n",
    "json2yaml response-2.json"
   ]
  },
  {
   "cell_type": "markdown",
   "id": "69e4024a-c61f-4e5a-8272-d1f958f82a15",
   "metadata": {},
   "source": [
    "Once again, use `marlowe-cli` to submit the transaction and then wait for confirmation."
   ]
  },
  {
   "cell_type": "code",
   "execution_count": null,
   "id": "6fb5d4c0-c158-434b-8dac-b2160f426e01",
   "metadata": {
    "vscode": {
     "languageId": "shellscript"
    }
   },
   "outputs": [],
   "source": [
    "jq '.resource.txBody' response-2.json > tx-2.unsigned"
   ]
  },
  {
   "cell_type": "code",
   "execution_count": null,
   "id": "b2aa2f81-d6b7-4994-b90b-0812d5fb3fca",
   "metadata": {
    "vscode": {
     "languageId": "shellscript"
    }
   },
   "outputs": [],
   "source": [
    "TX_2=$(\n",
    "marlowe-cli transaction submit \\\n",
    "  --tx-body-file tx-2.unsigned \\\n",
    "  --required-signer \"$BUYER_SKEY\" \\\n",
    "  --timeout 600s \\\n",
    "| sed -e 's/^TxId \"\\(.*\\)\"$/\\1/' \\\n",
    ")\n",
    "echo \"TX_2 = $TX_2\""
   ]
  },
  {
   "cell_type": "markdown",
   "id": "b7d1ac41-f3c3-47b0-b192-e0f8ad53fdfa",
   "metadata": {},
   "source": [
    "One can view the transaction on a Cardano explorer. It sometimes takes thirty seconds or so for the transaction to be visible in an explorer."
   ]
  },
  {
   "cell_type": "code",
   "execution_count": null,
   "id": "9b994073-d1b9-44a4-8149-9b307a69a4e4",
   "metadata": {
    "vscode": {
     "languageId": "shellscript"
    }
   },
   "outputs": [],
   "source": [
    "echo \"$EXPLORER_URL\"/transaction/\"$TX_2?tab=utxo\""
   ]
  },
  {
   "cell_type": "markdown",
   "id": "664d2826-7d6c-4564-9ef9-6b12e3e76f53",
   "metadata": {},
   "source": [
    "One can see that the buyer has approximately 75 ada less than originally."
   ]
  },
  {
   "cell_type": "code",
   "execution_count": null,
   "id": "b45dc15d-f54f-49cb-a36d-0524f47fd70e",
   "metadata": {
    "vscode": {
     "languageId": "shellscript"
    }
   },
   "outputs": [],
   "source": [
    "cardano-cli query utxo --testnet-magic \"$CARDANO_TESTNET_MAGIC\" --address \"$BUYER_ADDR\""
   ]
  },
  {
   "cell_type": "markdown",
   "id": "4d2574d2-587f-46f7-8129-431694172296",
   "metadata": {},
   "source": [
    "The Marlowe contract still has the 2 ada from its creation and an additional 75 ada."
   ]
  },
  {
   "cell_type": "code",
   "execution_count": null,
   "id": "6485d605-dec4-4bab-86f6-81bf002041ed",
   "metadata": {
    "vscode": {
     "languageId": "shellscript"
    }
   },
   "outputs": [],
   "source": [
    "cardano-cli query utxo --testnet-magic \"$CARDANO_TESTNET_MAGIC\" --tx-in \"$TX_2#1\""
   ]
  },
  {
   "cell_type": "markdown",
   "id": "2bbf4214-ecf6-4d4f-a8ea-acdb6ff8bcb7",
   "metadata": {},
   "source": [
    "## View the further progress of the contract on the blockchain\n",
    "\n",
    "Marlowe Runtime\\'s `HTTP` `GET` endpoint `/contracts/{contractId}/transactions/{transactionId}` can fetch a contract from the blockchain and return information about it."
   ]
  },
  {
   "cell_type": "code",
   "execution_count": null,
   "id": "e0461725-7f2b-4256-ac83-8e681ecb3e35",
   "metadata": {
    "vscode": {
     "languageId": "shellscript"
    }
   },
   "outputs": [],
   "source": [
    "curl -sS \"$CONTRACT_URL\"/transactions/\"$TX_2\" | json2yaml"
   ]
  },
  {
   "cell_type": "markdown",
   "id": "1a416c81-4ccb-4964-aab8-e2d76fc4512a",
   "metadata": {},
   "source": [
    "## Transaction 3: The Buyer Reports That There is a Problem\n",
    "\n",
    "The buyer chooses to report a problem with the merchandise.\n",
    "\n",
    "The choice is represented as JSON input to the contract. The `marlowe-cli input choose` tool conveniently formats the correct JSON for a choice."
   ]
  },
  {
   "cell_type": "code",
   "execution_count": null,
   "id": "b8a4045e-ceca-4272-90dc-72747e5329ab",
   "metadata": {
    "tags": [],
    "vscode": {
     "languageId": "shellscript"
    }
   },
   "outputs": [],
   "source": [
    "marlowe-cli input choose --help"
   ]
  },
  {
   "cell_type": "code",
   "execution_count": null,
   "id": "42aeee88-13e1-4170-b18a-727cd5cde877",
   "metadata": {
    "tags": [],
    "vscode": {
     "languageId": "shellscript"
    }
   },
   "outputs": [],
   "source": [
    "marlowe-cli input choose \\\n",
    "  --choice-name \"Report problem\" \\\n",
    "  --choice-party Buyer \\\n",
    "  --choice-number 1 \\\n",
    "  --out-file input-3.json\n",
    "json2yaml input-3.json"
   ]
  },
  {
   "cell_type": "code",
   "execution_count": null,
   "id": "3fee1c9b-c4d9-4ab4-9b47-061db363d31f",
   "metadata": {
    "vscode": {
     "languageId": "shellscript"
    }
   },
   "outputs": [],
   "source": [
    "yaml2json << EOI > request-3.json\n",
    "version: v1\n",
    "inputs: [$(cat input-3.json)]\n",
    "metadata: {}\n",
    "tags: {}\n",
    "EOI\n",
    "cat request-3.json"
   ]
  },
  {
   "cell_type": "markdown",
   "id": "8787ec8b-f045-4fbc-adfd-f68bc88303b4",
   "metadata": {},
   "source": [
    "Next we post the request and store the response."
   ]
  },
  {
   "cell_type": "code",
   "execution_count": null,
   "id": "387362e6-8cb8-4a46-9222-4a065d964167",
   "metadata": {
    "vscode": {
     "languageId": "shellscript"
    }
   },
   "outputs": [],
   "source": [
    "curl \"$CONTRACT_URL/transactions\" \\\n",
    "  -X POST \\\n",
    "  -H 'Content-Type: application/json' \\\n",
    "  -H \"X-Change-Address: $BUYER_ADDR\" \\\n",
    "  -d @request-3.json \\\n",
    "  -o response-3.json \\\n",
    "  -sS\n",
    "json2yaml response-3.json"
   ]
  },
  {
   "cell_type": "markdown",
   "id": "29fe4142-1525-47ef-8270-571c3a5744fc",
   "metadata": {},
   "source": [
    "Once again, use `marlowe-cli` to submit the transaction and then wait for confirmation."
   ]
  },
  {
   "cell_type": "code",
   "execution_count": null,
   "id": "57490822-4650-481c-b2a3-beb73075ae6b",
   "metadata": {
    "vscode": {
     "languageId": "shellscript"
    }
   },
   "outputs": [],
   "source": [
    "jq '.resource.txBody' response-3.json > tx-3.unsigned"
   ]
  },
  {
   "cell_type": "code",
   "execution_count": null,
   "id": "61733dd3-cac6-4ef3-bee8-9cb7ec4362ff",
   "metadata": {
    "vscode": {
     "languageId": "shellscript"
    }
   },
   "outputs": [],
   "source": [
    "TX_3=$(\n",
    "marlowe-cli transaction submit \\\n",
    "  --tx-body-file tx-3.unsigned \\\n",
    "  --required-signer \"$BUYER_SKEY\" \\\n",
    "  --timeout 600s \\\n",
    "| sed -e 's/^TxId \"\\(.*\\)\"$/\\1/' \\\n",
    ")\n",
    "echo \"TX_3 = $TX_3\""
   ]
  },
  {
   "cell_type": "markdown",
   "id": "5aa0221d-485b-4c7f-b711-3dc2773d616d",
   "metadata": {},
   "source": [
    "One can view the transaction on a Cardano explorer. It sometimes takes thirty seconds or so for the transaction to be visible in an explorer."
   ]
  },
  {
   "cell_type": "code",
   "execution_count": null,
   "id": "b7424735-4fba-433d-99ee-ae9b5ec91ab2",
   "metadata": {
    "vscode": {
     "languageId": "shellscript"
    }
   },
   "outputs": [],
   "source": [
    "echo \"$EXPLORER_URL\"/transaction/\"$TX_3?tab=utxo\""
   ]
  },
  {
   "cell_type": "markdown",
   "id": "39055157-6c46-4b48-94ea-42fa54ec2fb5",
   "metadata": {},
   "source": [
    "One can see that the buyer still has approximately 75 ada less than originally."
   ]
  },
  {
   "cell_type": "code",
   "execution_count": null,
   "id": "1f831ae4-36e9-4fb6-9c7b-c6a19e6f249f",
   "metadata": {
    "vscode": {
     "languageId": "shellscript"
    }
   },
   "outputs": [],
   "source": [
    "cardano-cli query utxo --testnet-magic \"$CARDANO_TESTNET_MAGIC\" --address \"$BUYER_ADDR\""
   ]
  },
  {
   "cell_type": "markdown",
   "id": "3b092c43-548e-4ee4-8e0b-8898296d5cf5",
   "metadata": {},
   "source": [
    "The Marlowe contract still has the 77 ada."
   ]
  },
  {
   "cell_type": "code",
   "execution_count": null,
   "id": "0020850f-5700-4a2e-a1b6-f3486ab9eb14",
   "metadata": {
    "vscode": {
     "languageId": "shellscript"
    }
   },
   "outputs": [],
   "source": [
    "cardano-cli query utxo --testnet-magic \"$CARDANO_TESTNET_MAGIC\" --tx-in \"$TX_3#1\""
   ]
  },
  {
   "cell_type": "markdown",
   "id": "4a2e8aac-9a19-48b9-97c7-5b0dc82e75c9",
   "metadata": {},
   "source": [
    "## View the further progress of the contract on the blockchain\n",
    "\n",
    "Marlowe Runtime\\'s `HTTP` `GET` endpoint `/contracts/{contractId}/transactions/{transactionId}` can fetch a contract from the blockchain and return information about it."
   ]
  },
  {
   "cell_type": "code",
   "execution_count": null,
   "id": "b91dc7ca-2cf8-4d8d-81a7-3d0880aafd90",
   "metadata": {
    "vscode": {
     "languageId": "shellscript"
    }
   },
   "outputs": [],
   "source": [
    "curl -sS \"$CONTRACT_URL\"/transactions/\"$TX_3\" | json2yaml"
   ]
  },
  {
   "cell_type": "markdown",
   "id": "6429ba4f-da3b-485f-9515-fc4fd0fc8e05",
   "metadata": {},
   "source": [
    "## Transaction 4: The Seller Disputes that There is a Problem\n",
    "\n",
    "Now the seller chooses to dispute that there is a problem with the merchandise."
   ]
  },
  {
   "cell_type": "code",
   "execution_count": null,
   "id": "f726d751-dee2-46e3-8d95-066fbb3c4a8f",
   "metadata": {
    "tags": [],
    "vscode": {
     "languageId": "shellscript"
    }
   },
   "outputs": [],
   "source": [
    "marlowe-cli input choose \\\n",
    "  --choice-name \"Dispute problem\" \\\n",
    "  --choice-party Seller \\\n",
    "  --choice-number 0 \\\n",
    "  --out-file input-4.json\n",
    "json2yaml input-4.json"
   ]
  },
  {
   "cell_type": "code",
   "execution_count": null,
   "id": "10fe530d-ba44-4ef8-bc8f-a4fa9f301c1f",
   "metadata": {
    "vscode": {
     "languageId": "shellscript"
    }
   },
   "outputs": [],
   "source": [
    "yaml2json << EOI > request-4.json\n",
    "version: v1\n",
    "inputs: [$(cat input-4.json)]\n",
    "metadata: {}\n",
    "tags: {}\n",
    "EOI\n",
    "cat request-4.json"
   ]
  },
  {
   "cell_type": "markdown",
   "id": "9566de68-290f-4f24-a9f7-a160aea60d17",
   "metadata": {},
   "source": [
    "Next we post the request and store the response."
   ]
  },
  {
   "cell_type": "code",
   "execution_count": null,
   "id": "f430a724-b919-432b-a06d-1d179a746f7d",
   "metadata": {
    "vscode": {
     "languageId": "shellscript"
    }
   },
   "outputs": [],
   "source": [
    "curl \"$CONTRACT_URL/transactions\" \\\n",
    "  -X POST \\\n",
    "  -H 'Content-Type: application/json' \\\n",
    "  -H \"X-Change-Address: $SELLER_ADDR\" \\\n",
    "  -d @request-4.json \\\n",
    "  -o response-4.json \\\n",
    "  -sS\n",
    "json2yaml response-4.json"
   ]
  },
  {
   "cell_type": "markdown",
   "id": "28044680-041a-453b-8447-e4f210d8813d",
   "metadata": {},
   "source": [
    "Once again, use `marlowe-cli` to submit the transaction and then wait for confirmation."
   ]
  },
  {
   "cell_type": "code",
   "execution_count": null,
   "id": "b6a98bfc-6ffd-4d4b-97a0-89e380f23f15",
   "metadata": {
    "vscode": {
     "languageId": "shellscript"
    }
   },
   "outputs": [],
   "source": [
    "jq '.resource.txBody' response-4.json > tx-4.unsigned"
   ]
  },
  {
   "cell_type": "code",
   "execution_count": null,
   "id": "01de4b62-c225-4675-8945-97292798286b",
   "metadata": {
    "vscode": {
     "languageId": "shellscript"
    }
   },
   "outputs": [],
   "source": [
    "TX_4=$(\n",
    "marlowe-cli transaction submit \\\n",
    "  --tx-body-file tx-4.unsigned \\\n",
    "  --required-signer \"$SELLER_SKEY\" \\\n",
    "  --timeout 600s \\\n",
    "| sed -e 's/^TxId \"\\(.*\\)\"$/\\1/' \\\n",
    ")\n",
    "echo \"TX_4 = $TX_4\""
   ]
  },
  {
   "cell_type": "markdown",
   "id": "75f2da2a-27b4-42c4-9215-c793a4501d85",
   "metadata": {},
   "source": [
    "One can view the transaction on a Cardano explorer. It sometimes takes thirty seconds or so for the transaction to be visible in an explorer."
   ]
  },
  {
   "cell_type": "code",
   "execution_count": null,
   "id": "3bc43634-af98-43a7-bcd1-0d2bc8ab6a88",
   "metadata": {
    "vscode": {
     "languageId": "shellscript"
    }
   },
   "outputs": [],
   "source": [
    "echo \"$EXPLORER_URL\"/transaction/\"$TX_4?tab=utxo\""
   ]
  },
  {
   "cell_type": "markdown",
   "id": "fb5a46df-5530-4e8e-9684-05d228cc4a25",
   "metadata": {},
   "source": [
    "One can see that the seller still has approximately their original balance."
   ]
  },
  {
   "cell_type": "code",
   "execution_count": null,
   "id": "99a542df-cd08-4cc3-b835-24498d673969",
   "metadata": {
    "vscode": {
     "languageId": "shellscript"
    }
   },
   "outputs": [],
   "source": [
    "cardano-cli query utxo --testnet-magic \"$CARDANO_TESTNET_MAGIC\" --address \"$SELLER_ADDR\""
   ]
  },
  {
   "cell_type": "markdown",
   "id": "d94596e2-757a-4ead-b81f-89187f481908",
   "metadata": {},
   "source": [
    "The Marlowe contract still has the 77 ada."
   ]
  },
  {
   "cell_type": "code",
   "execution_count": null,
   "id": "4d076dc7-1768-4a3d-b11f-61ed2c5f1318",
   "metadata": {
    "vscode": {
     "languageId": "shellscript"
    }
   },
   "outputs": [],
   "source": [
    "cardano-cli query utxo --testnet-magic \"$CARDANO_TESTNET_MAGIC\" --tx-in \"$TX_4#1\""
   ]
  },
  {
   "cell_type": "markdown",
   "id": "2dba77ee-2f74-4d31-a825-39383a6cd1c7",
   "metadata": {},
   "source": [
    "## View the further progress of the contract on the blockchain\n",
    "\n",
    "Marlowe Runtime\\'s `HTTP` `GET` endpoint `/contracts/{contractId}/transactions/{transactionId}` can fetch a contract from the blockchain and return information about it."
   ]
  },
  {
   "cell_type": "code",
   "execution_count": null,
   "id": "92f51247-9285-45a4-93b9-1d561425a4cf",
   "metadata": {
    "vscode": {
     "languageId": "shellscript"
    }
   },
   "outputs": [],
   "source": [
    "curl -sS \"$CONTRACT_URL\"/transactions/\"$TX_4\" | json2yaml"
   ]
  },
  {
   "cell_type": "markdown",
   "id": "29edde4f-b562-4310-8ffb-0f083fe5d247",
   "metadata": {},
   "source": [
    "## Transaction 5: The Mediator Dismisses the Claim\n",
    "\n",
    "The mediator rules in favor or the seller and dismisses the buyer's claim."
   ]
  },
  {
   "cell_type": "code",
   "execution_count": null,
   "id": "3b6ea2d9-22f3-4cf8-a6c2-f4f4acadad70",
   "metadata": {
    "tags": [],
    "vscode": {
     "languageId": "shellscript"
    }
   },
   "outputs": [],
   "source": [
    "marlowe-cli input choose \\\n",
    "  --choice-name \"Dismiss claim\" \\\n",
    "  --choice-party Mediator \\\n",
    "  --choice-number 0 \\\n",
    "  --out-file input-5.json\n",
    "json2yaml input-5.json"
   ]
  },
  {
   "cell_type": "code",
   "execution_count": null,
   "id": "91be787b-0a96-4ea9-8f50-e942abb381b8",
   "metadata": {
    "vscode": {
     "languageId": "shellscript"
    }
   },
   "outputs": [],
   "source": [
    "yaml2json << EOI > request-5.json\n",
    "version: v1\n",
    "inputs: [$(cat input-5.json)]\n",
    "metadata: {}\n",
    "tags: {}\n",
    "EOI\n",
    "cat request-5.json"
   ]
  },
  {
   "cell_type": "markdown",
   "id": "a9f003fb-7d2b-4f4b-bf4b-ed1b7821d84e",
   "metadata": {},
   "source": [
    "Next we post the request and store the response."
   ]
  },
  {
   "cell_type": "code",
   "execution_count": null,
   "id": "e5d6e036-aa13-4b93-9d9d-499787d05341",
   "metadata": {
    "vscode": {
     "languageId": "shellscript"
    }
   },
   "outputs": [],
   "source": [
    "curl \"$CONTRACT_URL/transactions\" \\\n",
    "  -X POST \\\n",
    "  -H 'Content-Type: application/json' \\\n",
    "  -H \"X-Change-Address: $MEDIATOR_ADDR\" \\\n",
    "  -d @request-5.json \\\n",
    "  -o response-5.json \\\n",
    "  -sS\n",
    "json2yaml response-5.json"
   ]
  },
  {
   "cell_type": "markdown",
   "id": "e013214d-0294-467b-a13f-9b80eb837b4e",
   "metadata": {},
   "source": [
    "Once again, use `marlowe-cli` to submit the transaction and then wait for confirmation."
   ]
  },
  {
   "cell_type": "code",
   "execution_count": null,
   "id": "6f48a296-9751-4496-9d4b-e9278104b437",
   "metadata": {
    "vscode": {
     "languageId": "shellscript"
    }
   },
   "outputs": [],
   "source": [
    "jq '.resource.txBody' response-5.json > tx-5.unsigned"
   ]
  },
  {
   "cell_type": "code",
   "execution_count": null,
   "id": "6c725733-bc6a-4903-a5cd-60766b258a40",
   "metadata": {
    "vscode": {
     "languageId": "shellscript"
    }
   },
   "outputs": [],
   "source": [
    "TX_5=$(\n",
    "marlowe-cli transaction submit \\\n",
    "  --tx-body-file tx-5.unsigned \\\n",
    "  --required-signer \"$MEDIATOR_SKEY\" \\\n",
    "  --timeout 600s \\\n",
    "| sed -e 's/^TxId \"\\(.*\\)\"$/\\1/' \\\n",
    ")\n",
    "echo \"TX_5 = $TX_5\""
   ]
  },
  {
   "cell_type": "markdown",
   "id": "69c913d9-8a05-4cbc-b229-b0e0ec22e0ee",
   "metadata": {},
   "source": [
    "One can view the transaction on a Cardano explorer. It sometimes takes thirty seconds or so for the transaction to be visible in an explorer."
   ]
  },
  {
   "cell_type": "code",
   "execution_count": null,
   "id": "05eaf50a-f7c9-4af8-9bd1-fdc72c6e3cd2",
   "metadata": {
    "vscode": {
     "languageId": "shellscript"
    }
   },
   "outputs": [],
   "source": [
    "echo \"$EXPLORER_URL\"/transaction/\"$TX_5?tab=utxo\""
   ]
  },
  {
   "cell_type": "markdown",
   "id": "dffff587-c8c3-43d2-b08c-cc881153234b",
   "metadata": {},
   "source": [
    "One can see that the mediator still has approximately their original balance, which includes the 2 ada they just received, refunding the 2 ada they used to create the contract."
   ]
  },
  {
   "cell_type": "code",
   "execution_count": null,
   "id": "ee3f2e7f-0268-4c4a-84fe-bfc5ca2cf297",
   "metadata": {
    "vscode": {
     "languageId": "shellscript"
    }
   },
   "outputs": [],
   "source": [
    "cardano-cli query utxo --testnet-magic \"$CARDANO_TESTNET_MAGIC\" --address \"$MEDIATOR_ADDR\""
   ]
  },
  {
   "cell_type": "markdown",
   "id": "ff85a692-9d89-40c2-a8bd-76f5b5eedcad",
   "metadata": {},
   "source": [
    "The Marlowe contract is closed, but the role-payout address has the 75 ada for the benefit of the seller."
   ]
  },
  {
   "cell_type": "code",
   "execution_count": null,
   "id": "de0b22dd-6563-4376-a9f7-fda2dd58939f",
   "metadata": {
    "vscode": {
     "languageId": "shellscript"
    }
   },
   "outputs": [],
   "source": [
    "cardano-cli query utxo --testnet-magic \"$CARDANO_TESTNET_MAGIC\" --tx-in \"$TX_5#2\""
   ]
  },
  {
   "cell_type": "markdown",
   "id": "55eab573-dd77-4a93-ac7f-53db59265233",
   "metadata": {},
   "source": [
    "## View the further progress of the contract on the blockchain\n",
    "\n",
    "Marlowe Runtime\\'s `HTTP` `GET` endpoint `/contracts/{contractId}/transactions/{transactionId}` can fetch a contract from the blockchain and return information about it."
   ]
  },
  {
   "cell_type": "code",
   "execution_count": null,
   "id": "6c5841e6-f94b-4f62-9a9e-efab8b427aa2",
   "metadata": {
    "vscode": {
     "languageId": "shellscript"
    }
   },
   "outputs": [],
   "source": [
    "curl -sS \"$CONTRACT_URL\"/transactions/\"$TX_5\" | json2yaml"
   ]
  },
  {
   "cell_type": "markdown",
   "id": "1111ac65-fd60-429a-811f-dfe3440e6b95",
   "metadata": {},
   "source": [
    "## Transaction 6: The Seller Withdraws Their Funds\n",
    "\n",
    "The price of 75 ada is held at Marlowe's role-payout address for the benefit of the seller. The seller can withdraw these funds at any time. The contract ID and role name are included in the request body for a withdrawal."
   ]
  },
  {
   "cell_type": "code",
   "execution_count": null,
   "id": "223cd7b7-30d5-4e7d-b99d-76a5926ff737",
   "metadata": {
    "tags": [],
    "vscode": {
     "languageId": "shellscript"
    }
   },
   "outputs": [],
   "source": [
    "yaml2json << EOI > request-6.json\n",
    "contractId: \"$CONTRACT_ID\"\n",
    "role: Seller\n",
    "EOI\n",
    "cat request-6.json"
   ]
  },
  {
   "cell_type": "markdown",
   "id": "7b3c9b1f-b55a-4a09-b0da-6a33ec67fb2c",
   "metadata": {},
   "source": [
    "Next we post the request and store the response."
   ]
  },
  {
   "cell_type": "code",
   "execution_count": null,
   "id": "fae22f06-a0b5-4366-88c1-4926948dfb50",
   "metadata": {
    "vscode": {
     "languageId": "shellscript"
    }
   },
   "outputs": [],
   "source": [
    "curl \"$MARLOWE_RT_WEBSERVER_URL/withdrawals\" \\\n",
    "  -X POST \\\n",
    "  -H 'Content-Type: application/json' \\\n",
    "  -H \"X-Change-Address: $SELLER_ADDR\" \\\n",
    "  -d @request-6.json \\\n",
    "  -o response-6.json \\\n",
    "  -sS\n",
    "json2yaml response-6.json"
   ]
  },
  {
   "cell_type": "markdown",
   "id": "afefec57-7bba-4c88-82db-6a0f429bf6bb",
   "metadata": {},
   "source": [
    "Once again, use `marlowe-cli` to submit the transaction and then wait for confirmation."
   ]
  },
  {
   "cell_type": "code",
   "execution_count": null,
   "id": "e5d6f45f-89cf-402b-8a17-520a85d9f757",
   "metadata": {
    "vscode": {
     "languageId": "shellscript"
    }
   },
   "outputs": [],
   "source": [
    "jq '.resource.txBody' response-6.json > tx-6.unsigned"
   ]
  },
  {
   "cell_type": "code",
   "execution_count": null,
   "id": "c7fa907d-07d8-46b2-9ece-a6f52320e628",
   "metadata": {
    "vscode": {
     "languageId": "shellscript"
    }
   },
   "outputs": [],
   "source": [
    "TX_6=$(\n",
    "marlowe-cli transaction submit \\\n",
    "  --tx-body-file tx-6.unsigned \\\n",
    "  --required-signer \"$SELLER_SKEY\" \\\n",
    "  --timeout 600s \\\n",
    "| sed -e 's/^TxId \"\\(.*\\)\"$/\\1/' \\\n",
    ")\n",
    "echo \"TX_6 = $TX_6\""
   ]
  },
  {
   "cell_type": "markdown",
   "id": "89158154-d547-4378-806b-de1d7662503e",
   "metadata": {},
   "source": [
    "On can view the transaction on a Cardano explorer. It sometimes takes thirty seconds or so for the transaction to be visible in an explorer."
   ]
  },
  {
   "cell_type": "code",
   "execution_count": null,
   "id": "331d652b-e7fa-4eb0-96a3-e5cfa565b1b9",
   "metadata": {
    "vscode": {
     "languageId": "shellscript"
    }
   },
   "outputs": [],
   "source": [
    "echo \"$EXPLORER_URL\"/transaction/\"$TX_6?tab=utxo\""
   ]
  },
  {
   "cell_type": "markdown",
   "id": "2dfa5c8a-938f-4d0d-a806-ca65b688ae32",
   "metadata": {},
   "source": [
    "The seller now has about an additional 75 ada."
   ]
  },
  {
   "cell_type": "code",
   "execution_count": null,
   "id": "18fabe44-1bd2-40ba-8764-f0b384fb5739",
   "metadata": {
    "vscode": {
     "languageId": "shellscript"
    }
   },
   "outputs": [],
   "source": [
    "cardano-cli query utxo --testnet-magic \"$CARDANO_TESTNET_MAGIC\" --address \"$SELLER_ADDR\""
   ]
  },
  {
   "cell_type": "markdown",
   "id": "97b64a91-527f-4456-9798-c214a8a795b8",
   "metadata": {},
   "source": [
    "## View the withdrawal\n",
    "\n",
    "Marlowe Runtime\\'s `HTTP` `GET` endpoint `/withdrawals/{transactionId}` can fetch a withdrawal from the blockchain and return information about it."
   ]
  },
  {
   "cell_type": "code",
   "execution_count": null,
   "id": "72ca3c23-4074-4581-ac08-30f46fca17b4",
   "metadata": {
    "vscode": {
     "languageId": "shellscript"
    }
   },
   "outputs": [],
   "source": [
    "curl -sS \"$MARLOWE_RT_WEBSERVER_URL\"/withdrawals/\"$TX_6\" | json2yaml"
   ]
  }
 ],
 "metadata": {
  "kernelspec": {
   "display_name": "Bash with Marlowe Tools",
   "language": "bash",
   "name": "bash-minimal"
  },
  "language_info": {
   "codemirror_mode": "shell",
   "file_extension": ".sh",
   "mimetype": "text/x-sh",
   "name": "bash"
  }
 },
 "nbformat": 4,
 "nbformat_minor": 5
}
