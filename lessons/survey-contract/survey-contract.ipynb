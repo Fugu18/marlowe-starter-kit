{
  "cells": [
    {
      "cell_type": "markdown",
      "id": "caa144a8-d3d7-42de-bfdd-8b27cf4c5cbe",
      "metadata": {},
      "source": [
        "# Survey contract\n",
        "\n",
        "***Before running this notebook, you might want to use Jupyter's \"clear output\" function to erase the results of the previous execution of this notebook. That will make more apparent what has been executed in the current session.***\n",
        "\n",
        "This notebook is an excercise that will help you get started with Marlowe. The goal is to design a Survey contract using the [Marlowe Playground](https://play.marlowe.iohk.io/) and then execute it on the Cardano `preprod` network using the [Marlowe Runtime](https://docs.marlowe.iohk.io/docs/developer-tools/runtime/marlowe-runtime) \n",
        "\n",
        "TODO: add prerequesites section with link for\n",
        "* Marlowe Language tutorial\n",
        "* other?"
      ]
    },
    {
      "cell_type": "markdown",
      "id": "f4dc8b07-1958-48da-b2b2-481b6b4598d9",
      "metadata": {},
      "source": [
        "## Preliminaries\n",
        "\n",
        "If you haven't done it before, see the [preliminaries](../../docs/preliminaries.md) for information on setting up one's environment for using this notebook.\n",
        "\n",
        "The first step is to check we have all the required tools and environment variables available to the notebook. "
      ]
    },
    {
      "cell_type": "code",
      "execution_count": null,
      "id": "d5268edb",
      "metadata": {
        "tags": [],
        "vscode": {
          "languageId": "shellscript"
        }
      },
      "outputs": [],
      "source": [
        "export SCRIPTS=$(realpath ../../scripts)\n",
        "export KEYS=$(realpath ../../keys)\n",
        "source $SCRIPTS/check-tools-and-env.sh"
      ]
    },
    {
      "cell_type": "markdown",
      "id": "62c208e2",
      "metadata": {},
      "source": [
        "The survey contract has 2 participants:\n",
        "* `survey_participant`: You, the person taking the survey\n",
        "* `custodian`: The party that owns the survey reward token "
      ]
    },
    {
      "cell_type": "markdown",
      "id": "2a165e54-16e4-4bc6-9d68-39ebbdf8c11a",
      "metadata": {
        "tags": [],
        "vscode": {
          "languageId": "shellscript"
        }
      },
      "source": [
        "### Setup Survey Participant Keys\n",
        "\n",
        "In this section we will use the `create-test-wallet.sh` script to create the `survey_participant` keys. Make sure to have a local faucet wallet with funds as described in the [01-setup-keys.ipynb](../../setup/01-setup-keys.ipynb) notebook.\n",
        "\n"
      ]
    },
    {
      "cell_type": "code",
      "execution_count": null,
      "id": "38d0bad1-3b9e-4d80-9aec-a4357c8dc79a",
      "metadata": {
        "tags": [],
        "vscode": {
          "languageId": "shellscript"
        }
      },
      "outputs": [],
      "source": [
        "source $SCRIPTS/create-test-wallet.sh survey_participant\n",
        "$SCRIPTS/fund-wallets.sh $SURVEY_PARTICIPANT_ADDR"
      ]
    },
    {
      "cell_type": "markdown",
      "id": "aa2dd728",
      "metadata": {},
      "source": [
        "You can use the recovery phrase to restore your account on any [wallet](https://builtoncardano.com/ecosystem/wallets):\n",
        "\n",
        "You can also use cardano scan to see the transactions and balances of your account:"
      ]
    },
    {
      "cell_type": "code",
      "execution_count": null,
      "id": "1eb81f16",
      "metadata": {
        "tags": [],
        "vscode": {
          "languageId": "shellscript"
        }
      },
      "outputs": [],
      "source": [
        "$SCRIPTS/cardano-scan-address.sh $SURVEY_PARTICIPANT_ADDR"
      ]
    },
    {
      "cell_type": "markdown",
      "id": "7ced469e",
      "metadata": {},
      "source": [
        "### Setup the custodian party\n",
        "The custodian party owns the survey reward token. The address is:"
      ]
    },
    {
      "cell_type": "code",
      "execution_count": null,
      "id": "2ad08ec9",
      "metadata": {
        "tags": [],
        "vscode": {
          "languageId": "shellscript"
        }
      },
      "outputs": [],
      "source": [
        "export CUSTODIAN_ADDR=addr_test1vpcucug827nlrmsv7n66hwdfpemwqtv8nxnjc4azacuu80csxt40z"
      ]
    },
    {
      "cell_type": "markdown",
      "id": "0421d494-9e2c-436f-bf88-08bc74e14faf",
      "metadata": {},
      "source": [
        "## Design the contract in the Playground\n",
        "\n",
        "The onchain survey will consist of 5 questions, the first 4 are statements that you need to agree or disagree and the 5th question is a free text.\n",
        "\n",
        "1. I’d like to use/recommend Marlowe for future dApps\n",
        "    * 1 - Higly disagree \n",
        "    * 2 - Disagree\n",
        "    * 3 - Neutral\n",
        "    * 4 - Agree\n",
        "    * 5 - Highly agree\n",
        "2. The survey contract was easy to design\n",
        "    * 1 - Higly disagree \n",
        "    * 2 - Disagree\n",
        "    * 3 - Neutral\n",
        "    * 4 - Agree\n",
        "    * 5 - Highly agree\n",
        "3. The Marlowe Runtime was easy to work with\n",
        "    * 1 - Higly disagree \n",
        "    * 2 - Disagree\n",
        "    * 3 - Neutral\n",
        "    * 4 - Agree\n",
        "    * 5 - Highly agree\n",
        "4. I am an experienced web3 developer\n",
        "    * 1 - Higly disagree \n",
        "    * 2 - Disagree\n",
        "    * 3 - Neutral\n",
        "    * 4 - Agree\n",
        "    * 5 - Highly agree\n",
        "5. Please share any comments (240 char max)\n",
        "\n",
        "To design the contract we'll use the Blockly editor in the [Marlowe Playground](https://play.marlowe.iohk.io/). The questions will be modeled using `Choice Action`. Each question will be answered by the `Address $SURVEY_PARTICIPANT_ADDR` participant before a parameterized `answer timeout`. If the contract timeouts we close it.\n",
        "\n",
        "Create the 5 questions blocks with the following parameters:\n",
        "\n",
        "| Choice name | Bounds    |\n",
        "|-------------|-----------|\n",
        "| answer1     | [1 - 5]   |\n",
        "| answer2     | [1 - 5]   |\n",
        "| answer3     | [1 - 5]   |\n",
        "| answer4     | [1 - 5]   |\n",
        "| answer5     | [1 - 1099511627775]   |\n",
        "\n",
        "![Survey question block](../../images/survey_question_block.png)\n",
        "\n",
        "After the questions, the `$CUSTODIAN_ADDR` participant will deposit 1 `Token \"6fcbab5bb175b420cd060edb63af74c5b3d4687163f282ddc5377dd3\" \"SurveyReward\"` directly into the survey participant account before a parameterized `reward timeout` and then close the contract. After the contract is closed, the payment of the reward token will be made automatically.\n",
        "\n",
        "![Survey reward block](../../images/survey_reward_block.png)\n",
        "\n",
        "After you have created the contract, send it to simulation and check that there is only one path to receive the SurveyReward, which is to answer the 5 questions and for the custodian to make the deposit. \n",
        "\n",
        "Set the `reward timeout` bigger than the `answer timeout` way far in the future, download the contract as `survey.json` and upload it to [the notebook folder](.).\n",
        "\n",
        "![Survey contract parameters](../../images/survey_contract_parameters.png)\n",
        "\n"
      ]
    },
    {
      "cell_type": "markdown",
      "id": "40a59cb9",
      "metadata": {},
      "source": [
        "\n",
        "Note that we use fixed addresses (so the contract participation cannot be traded) but instead of using the actual addresses we use environment variables. This is possible because the playground does not check the validity of the addresses and inside this notebook we can make the releveant interpolation."
      ]
    },
    {
      "cell_type": "code",
      "execution_count": null,
      "id": "3f157499",
      "metadata": {
        "tags": [],
        "vscode": {
          "languageId": "shellscript"
        }
      },
      "outputs": [],
      "source": [
        "cat survey.json | \\\n",
        "    sed \"s/\\$CUSTODIAN_ADDR/$CUSTODIAN_ADDR/g\" | \\\n",
        "    sed \"s/\\$SURVEY_PARTICIPANT_ADDR/$SURVEY_PARTICIPANT_ADDR/g\" > survey-with-addr.json"
      ]
    },
    {
      "cell_type": "markdown",
      "id": "fcbdcc02-7ffe-46a4-8732-10a3e7b93865",
      "metadata": {},
      "source": [
        "## Transaction 1. Create the Contract"
      ]
    },
    {
      "cell_type": "markdown",
      "id": "d3f8b9be-8bdf-4c69-8f87-e1bec603df0a",
      "metadata": {},
      "source": [
        "On the Cardano blockchain, the protocol parameters require that each UTxO contain at least some ada. Here we will start the contract with 2 ada."
      ]
    },
    {
      "cell_type": "code",
      "execution_count": null,
      "id": "8f699238-b0a0-4626-b04f-e93d93b0f458",
      "metadata": {
        "tags": [],
        "vscode": {
          "languageId": "shellscript"
        }
      },
      "outputs": [],
      "source": [
        "ADA=1000000  # 1 ada = 1,000,000 lovelace\n",
        "MIN_LOVELACE=\"$((2 * ADA))\"\n",
        "echo \"MIN_LOVELACE = $MIN_LOVELACE lovelace\""
      ]
    },
    {
      "cell_type": "markdown",
      "id": "99445de3",
      "metadata": {},
      "source": [
        "We'll add an event name in the tag metadata so that the custodian can find the contract easier"
      ]
    },
    {
      "cell_type": "code",
      "execution_count": null,
      "id": "367705a9",
      "metadata": {
        "tags": [],
        "vscode": {
          "languageId": "shellscript"
        }
      },
      "outputs": [],
      "source": [
        "export EVENT_NAME=CryptoPall2023"
      ]
    },
    {
      "cell_type": "markdown",
      "id": "6fad0f1b-a918-4c56-867e-29600be217f4",
      "metadata": {},
      "source": [
        "A `HTTP` `POST` request to Marlowe Runtime\\'s `/contracts` endpoint will build the creation transaction for a Marlowe contract. We provide it the JSON file containing the contract and tell it the `MIN_LOVELACE` value that we previously chose and the event tag.\n",
        "\n",
        "We start by creating the json payload as `request-1.json`"
      ]
    },
    {
      "cell_type": "code",
      "execution_count": null,
      "id": "69abcbb8-6a8e-470b-9dd3-365f15c1f04b",
      "metadata": {
        "tags": [],
        "vscode": {
          "languageId": "shellscript"
        }
      },
      "outputs": [],
      "source": [
        "yaml2json << EOI > request-1.json\n",
        "version: v1\n",
        "contract: `cat survey-with-addr.json`\n",
        "roles: null\n",
        "minUTxODeposit: $MIN_LOVELACE\n",
        "metadata: {}\n",
        "tags: \n",
        "  SurveyContract: $EVENT_NAME\n",
        "EOI\n",
        "cat request-1.json | jq"
      ]
    },
    {
      "cell_type": "markdown",
      "id": "57ecf6fd-6d89-495a-a66b-adc7437e8c29",
      "metadata": {},
      "source": [
        "Next we post the request and view the response."
      ]
    },
    {
      "cell_type": "code",
      "execution_count": null,
      "id": "d88f4f44-49a1-4548-ac97-6fe95fb6059b",
      "metadata": {
        "tags": [],
        "vscode": {
          "languageId": "shellscript"
        }
      },
      "outputs": [],
      "source": [
        "curl \"$MARLOWE_RT_WEBSERVER_URL/contracts\" \\\n",
        "  -X POST \\\n",
        "  -H 'Content-Type: application/json' \\\n",
        "  -H \"X-Change-Address: $SURVEY_PARTICIPANT_ADDR\" \\\n",
        "  -d @request-1.json \\\n",
        "  -o response-1.json \\\n",
        "  -sS\n",
        "json2yaml response-1.json"
      ]
    },
    {
      "cell_type": "markdown",
      "id": "72b2de72-9fc8-45dd-b870-a0aff7877733",
      "metadata": {},
      "source": [
        "From the response object we need to get the contract id"
      ]
    },
    {
      "cell_type": "code",
      "execution_count": null,
      "id": "f446b742-efe7-49bc-96a0-49b4b604bd9b",
      "metadata": {
        "tags": [],
        "vscode": {
          "languageId": "shellscript"
        }
      },
      "outputs": [],
      "source": [
        "CONTRACT_ID=\"$(jq -r '.resource.contractId' response-1.json)\"\n",
        "echo \"CONTRACT_ID = $CONTRACT_ID\""
      ]
    },
    {
      "cell_type": "markdown",
      "id": "f8c416cd",
      "metadata": {},
      "source": [
        "the base link for further restful commands:"
      ]
    },
    {
      "cell_type": "code",
      "execution_count": null,
      "id": "a118eac2",
      "metadata": {
        "tags": [],
        "vscode": {
          "languageId": "shellscript"
        }
      },
      "outputs": [],
      "source": [
        "CONTRACT_URL=\"$MARLOWE_RT_WEBSERVER_URL/`jq -r '.links.contract' response-1.json`\"\n",
        "echo \"CONTRACT_URL: $CONTRACT_URL\""
      ]
    },
    {
      "cell_type": "markdown",
      "id": "2777691b",
      "metadata": {},
      "source": [
        "check that there aren't any safety errors"
      ]
    },
    {
      "cell_type": "code",
      "execution_count": null,
      "id": "a0e3a5dc",
      "metadata": {
        "tags": [],
        "vscode": {
          "languageId": "shellscript"
        }
      },
      "outputs": [],
      "source": [
        "jq -r '.resource.safetyErrors' response-1.json"
      ]
    },
    {
      "cell_type": "markdown",
      "id": "6e1fa8f5-4de3-4d99-8721-60c1e2230484",
      "metadata": {},
      "source": [
        "extract the unsigned transaction (serialized as CBOR in text-envelope format)"
      ]
    },
    {
      "cell_type": "code",
      "execution_count": null,
      "id": "18b60f01-ae10-415d-96bf-9dba0070b752",
      "metadata": {
        "tags": [],
        "vscode": {
          "languageId": "shellscript"
        }
      },
      "outputs": [],
      "source": [
        "jq '.resource.txBody' response-1.json > tx-1.unsigned\n",
        "du -hs tx-1.unsigned"
      ]
    },
    {
      "cell_type": "markdown",
      "id": "cedbb7f9-6e56-4524-b364-3f59711c2f02",
      "metadata": {},
      "source": [
        "Then sign and submit the transaction:\n"
      ]
    },
    {
      "cell_type": "code",
      "execution_count": null,
      "id": "500d6e54-6f2a-478a-a715-5149ebe057a2",
      "metadata": {
        "tags": [],
        "vscode": {
          "languageId": "shellscript"
        }
      },
      "outputs": [],
      "source": [
        "echo \"submiting transaction...\"\n",
        "TX_1=$(\n",
        "marlowe-cli transaction submit \\\n",
        "  --tx-body-file tx-1.unsigned \\\n",
        "  --required-signer \"$SURVEY_PARTICIPANT_SKEY\" \\\n",
        "  --timeout 600s \\\n",
        "| sed -e 's/^TxId \"\\(.*\\)\"$/\\1/' \\\n",
        ")\n",
        "echo \"TX_1 = $TX_1\"\n"
      ]
    },
    {
      "cell_type": "markdown",
      "id": "8379871a-4aba-4134-8aa4-29b04de301d3",
      "metadata": {},
      "source": [
        "We can view the transaction on the Cardano and Marlowe explorer and see that the contract has been created. \n",
        "> NOTE: It might take some time for the transaction to be visible in an explorer."
      ]
    },
    {
      "cell_type": "code",
      "execution_count": null,
      "id": "72115506-5bfd-480f-b3f0-47520dca84c1",
      "metadata": {
        "tags": [],
        "vscode": {
          "languageId": "shellscript"
        }
      },
      "outputs": [],
      "source": [
        "echo \"Cardano Scan (low level)\"\n",
        "$SCRIPTS/cardano-scan-tx.sh $TX_1\n",
        "echo\n",
        "echo \"Marlowe Scan (high level)\"\n",
        "$SCRIPTS/marlowe-scan.sh $CONTRACT_ID"
      ]
    },
    {
      "cell_type": "markdown",
      "id": "cd4fa3da-0f75-4b96-a911-0ba5bea722f8",
      "metadata": {},
      "source": [
        "## Transaction 2. First answer\n",
        "\n",
        "Select the option that best describes this sentence:\n",
        "\n",
        "> **Question 1**: I’d like to use/recommend Marlowe for future dApps\n",
        ">   * 1 - Higly disagree \n",
        ">   * 2 - Disagree\n",
        ">   * 3 - Neutral\n",
        ">   * 4 - Agree\n",
        ">   * 5 - Highly agree\n",
        "\n",
        "We'll answer the first questiong with the help of Marlowe Runtime\\'s \n",
        "\n",
        "The `marlowe-cli input choose` tool conveniently formats the correct JSON for a choice."
      ]
    },
    {
      "cell_type": "code",
      "execution_count": null,
      "id": "95644ee7",
      "metadata": {
        "tags": [],
        "vscode": {
          "languageId": "shellscript"
        }
      },
      "outputs": [],
      "source": [
        "ANSWER1=FILL_NUMBER_1-TO-5"
      ]
    },
    {
      "cell_type": "markdown",
      "id": "9fcfd40b",
      "metadata": {},
      "source": [
        "We'll use the `marlowe-cli input choose` command and the **HTTP** `POST` `/contract/{contractId}/transactions` endpoint to answer."
      ]
    },
    {
      "cell_type": "code",
      "execution_count": null,
      "id": "3c8a6076-f342-489c-939c-e9c017b6b445",
      "metadata": {
        "tags": [],
        "vscode": {
          "languageId": "shellscript"
        }
      },
      "outputs": [],
      "source": [
        "marlowe-cli input choose \\\n",
        "  --choice-name answer1 \\\n",
        "  --choice-party $SURVEY_PARTICIPANT_ADDR \\\n",
        "  --choice-number \"$ANSWER1\" \\\n",
        "  --out-file answer-1-input.json\n",
        "\n",
        "yaml2json << EOI > request-2.json\n",
        "version: v1\n",
        "inputs: [$(cat answer-1-input.json)]\n",
        "metadata: {}\n",
        "tags: {}\n",
        "EOI\n",
        "\n",
        "cat request-2.json | jq"
      ]
    },
    {
      "cell_type": "markdown",
      "id": "c13f2307-ae38-4052-84ad-394159b3394d",
      "metadata": {},
      "source": [
        "Next we post the request and store the response."
      ]
    },
    {
      "cell_type": "code",
      "execution_count": null,
      "id": "465152a1-eaaa-4dab-9035-aa306c0022fa",
      "metadata": {
        "tags": [],
        "vscode": {
          "languageId": "shellscript"
        }
      },
      "outputs": [],
      "source": [
        "curl \"$CONTRACT_URL/transactions\" \\\n",
        "  -X POST \\\n",
        "  -H 'Content-Type: application/json' \\\n",
        "  -H \"X-Change-Address: $SURVEY_PARTICIPANT_ADDR\" \\\n",
        "  -d @request-2.json \\\n",
        "  -o response-2.json \\\n",
        "  -sS\n",
        "json2yaml response-2.json"
      ]
    },
    {
      "cell_type": "markdown",
      "id": "a53aa30a-f631-4714-af72-fdb1df93f12e",
      "metadata": {},
      "source": [
        "Once again, use `marlowe-cli` to submit the transaction and then wait for confirmation."
      ]
    },
    {
      "cell_type": "code",
      "execution_count": null,
      "id": "b2aa2f81-d6b7-4994-b90b-0812d5fb3fca",
      "metadata": {
        "tags": [],
        "vscode": {
          "languageId": "shellscript"
        }
      },
      "outputs": [],
      "source": [
        "jq '.resource.txBody' response-2.json > tx-2.unsigned\n",
        "\n",
        "echo \"submiting transaction...\"\n",
        "\n",
        "TX_2=$(\n",
        "marlowe-cli transaction submit \\\n",
        "  --tx-body-file tx-2.unsigned \\\n",
        "  --required-signer \"$SURVEY_PARTICIPANT_SKEY\" \\\n",
        "  --timeout 600s \\\n",
        "| sed -e 's/^TxId \"\\(.*\\)\"$/\\1/' \\\n",
        ")\n",
        "echo \"TX_2 = $TX_2\""
      ]
    },
    {
      "cell_type": "markdown",
      "id": "166c77e3-d2ec-4961-b1c9-59b882a9c7b7",
      "metadata": {},
      "source": [
        "We can view the transaction on the Cardano and Marlowe explorer."
      ]
    },
    {
      "cell_type": "code",
      "execution_count": null,
      "id": "9b994073-d1b9-44a4-8149-9b307a69a4e4",
      "metadata": {
        "tags": [],
        "vscode": {
          "languageId": "shellscript"
        }
      },
      "outputs": [],
      "source": [
        "echo \"Cardano Scan (low level)\"\n",
        "$SCRIPTS/cardano-scan-tx.sh $TX_2\n",
        "echo\n",
        "echo \"Marlowe Scan (high level)\"\n",
        "$SCRIPTS/marlowe-scan.sh $CONTRACT_ID"
      ]
    },
    {
      "cell_type": "markdown",
      "id": "210a12e4",
      "metadata": {},
      "source": [
        "## Transaction 3. Answer 2nd to 4th question\n",
        "\n",
        "Marlowe contracts supports including multiple inputs in a single transaction as long as the execution budget permits it. Here we'll answer questions 2 to 4 in a single transaction.\n",
        "\n",
        "Select the option that best describes this sentence:\n",
        "\n",
        "> **Question 2**: The survey contract was easy to design\n",
        ">   * 1 - Higly disagree \n",
        ">   * 2 - Disagree\n",
        ">   * 3 - Neutral\n",
        ">   * 4 - Agree\n",
        ">   * 5 - Highly agree\n",
        ">\n",
        "> **Question 3**: The Marlowe Runtime was easy to work with\n",
        ">   * 1 - Higly disagree \n",
        ">   * 2 - Disagree\n",
        ">   * 3 - Neutral\n",
        ">   * 4 - Agree\n",
        ">   * 5 - Highly agree\n",
        ">\n",
        "> **Question 4**: I am an experienced web3 developer\n",
        ">   * 1 - Higly disagree \n",
        ">   * 2 - Disagree\n",
        ">   * 3 - Neutral\n",
        ">   * 4 - Agree\n",
        ">   * 5 - Highly agree"
      ]
    },
    {
      "cell_type": "code",
      "execution_count": null,
      "id": "77f861f9",
      "metadata": {
        "tags": [],
        "vscode": {
          "languageId": "shellscript"
        }
      },
      "outputs": [],
      "source": [
        "ANSWER2=FILL_NUMBER_1-TO-5\n",
        "ANSWER3=FILL_NUMBER_1-TO-5\n",
        "ANSWER4=FILL_NUMBER_1-TO-5"
      ]
    },
    {
      "cell_type": "markdown",
      "id": "26578ad6",
      "metadata": {},
      "source": [
        "Again we'll use the `marlowe-cli input choose` to select the choices"
      ]
    },
    {
      "cell_type": "code",
      "execution_count": null,
      "id": "9debba81",
      "metadata": {
        "tags": [],
        "vscode": {
          "languageId": "shellscript"
        }
      },
      "outputs": [],
      "source": [
        "marlowe-cli input choose \\\n",
        "  --choice-name answer2 \\\n",
        "  --choice-party $SURVEY_PARTICIPANT_ADDR \\\n",
        "  --choice-number \"$ANSWER2\" \\\n",
        "  --out-file answer-2-input.json\n",
        "\n",
        "marlowe-cli input choose \\\n",
        "  --choice-name answer3 \\\n",
        "  --choice-party $SURVEY_PARTICIPANT_ADDR \\\n",
        "  --choice-number \"$ANSWER3\" \\\n",
        "  --out-file answer-3-input.json\n",
        "\n",
        "marlowe-cli input choose \\\n",
        "  --choice-name answer4 \\\n",
        "  --choice-party $SURVEY_PARTICIPANT_ADDR \\\n",
        "  --choice-number \"$ANSWER4\" \\\n",
        "  --out-file answer-4-input.json\n"
      ]
    },
    {
      "cell_type": "markdown",
      "id": "a89d50b8",
      "metadata": {},
      "source": [
        "and the **HTTP** `POST` `/contract/{contractId}/transactions` endpoint to create the transaction"
      ]
    },
    {
      "cell_type": "code",
      "execution_count": null,
      "id": "7e35d46d",
      "metadata": {
        "tags": [],
        "vscode": {
          "languageId": "shellscript"
        }
      },
      "outputs": [],
      "source": [
        "yaml2json << EOI > request-3.json\n",
        "version: v1\n",
        "inputs: \n",
        " - $(cat answer-2-input.json)\n",
        " - $(cat answer-3-input.json)\n",
        " - $(cat answer-4-input.json)\n",
        "metadata: {}\n",
        "tags: {}\n",
        "EOI\n",
        "cat request-3.json | jq"
      ]
    },
    {
      "cell_type": "code",
      "execution_count": null,
      "id": "e9e6aa99",
      "metadata": {
        "tags": [],
        "vscode": {
          "languageId": "shellscript"
        }
      },
      "outputs": [],
      "source": [
        "curl \"$CONTRACT_URL/transactions\" \\\n",
        "  -X POST \\\n",
        "  -H 'Content-Type: application/json' \\\n",
        "  -H \"X-Change-Address: $SURVEY_PARTICIPANT_ADDR\" \\\n",
        "  -d @request-3.json \\\n",
        "  -o response-3.json \\\n",
        "  -sS\n",
        "json2yaml response-3.json"
      ]
    },
    {
      "cell_type": "markdown",
      "id": "337ab5c2",
      "metadata": {},
      "source": [
        "Once again, use `marlowe-cli` to sign and submit the transaction and then wait for confirmation."
      ]
    },
    {
      "cell_type": "code",
      "execution_count": null,
      "id": "460ff389",
      "metadata": {
        "tags": [],
        "vscode": {
          "languageId": "shellscript"
        }
      },
      "outputs": [],
      "source": [
        "jq '.resource.txBody' response-3.json > tx-3.unsigned\n",
        "\n",
        "echo \"submiting transaction...\"\n",
        "\n",
        "TX_3=$(\n",
        "marlowe-cli transaction submit \\\n",
        "  --tx-body-file tx-3.unsigned \\\n",
        "  --required-signer \"$SURVEY_PARTICIPANT_SKEY\" \\\n",
        "  --timeout 600s \\\n",
        "| sed -e 's/^TxId \"\\(.*\\)\"$/\\1/' \\\n",
        ")\n",
        "echo \"TX_3 = $TX_3\""
      ]
    },
    {
      "cell_type": "markdown",
      "id": "49054def",
      "metadata": {},
      "source": [
        "## Transaction 4. Free text answer\n",
        "Marlowe choices are numeric, so we can't use the same mechanism to submit free text. Instead, we will encrypt the answer using a known public key from the custodian (the only one that can decrypt it) and submit a numeric hash of the answer as the Marlowe choice.\n",
        "\n",
        "The encryption provide us privacy, only allowing the `survey_participant` and the `custodian` to know the `SECRET_ANSWER`. The hash provides us authenticity, allowing the `custodian` to verify that the `survey_participant` has not changed the answer after submitting it."
      ]
    },
    {
      "cell_type": "code",
      "execution_count": null,
      "id": "5b6580d2",
      "metadata": {
        "tags": [],
        "vscode": {
          "languageId": "shellscript"
        }
      },
      "outputs": [],
      "source": [
        "# A free form answer with max of 240 characters\n",
        "export SECRET_ANSWER=$(cat <<'EOI'\n",
        "Marlowe is cool!!!\n",
        "EOI\n",
        ")"
      ]
    },
    {
      "cell_type": "markdown",
      "id": "d58fb4e5",
      "metadata": {},
      "source": [
        "The 240 character limitation is a limitation of the encription algorithm being used at the moment. A different algorithm could be used to allow for longer messages. "
      ]
    },
    {
      "cell_type": "code",
      "execution_count": null,
      "id": "ef94cac6",
      "metadata": {
        "tags": [],
        "vscode": {
          "languageId": "shellscript"
        }
      },
      "outputs": [],
      "source": [
        "if [ ${#SECRET_ANSWER} -gt 240 ]; then\n",
        "    echo \"SECRET_ANSWER is too long\"\n",
        "fi\n",
        "echo \"SECRET_ANSWER has ${#SECRET_ANSWER} chars\""
      ]
    },
    {
      "cell_type": "markdown",
      "id": "4380824e",
      "metadata": {},
      "source": [
        "To encrypt the `SECRET_ANSWER` we'll use the custodian public key with openssl"
      ]
    },
    {
      "cell_type": "code",
      "execution_count": null,
      "id": "5e6ad092",
      "metadata": {
        "tags": [],
        "vscode": {
          "languageId": "shellscript"
        }
      },
      "outputs": [],
      "source": [
        "cat << EOI > custodian.pem\n",
        "-----BEGIN PUBLIC KEY-----\n",
        "MIIBIjANBgkqhkiG9w0BAQEFAAOCAQ8AMIIBCgKCAQEAyTHkM+HNQ7M+T2bEW9cq\n",
        "kdjQ49AYY/M4+q1LawK0EheeFX3OxW97muysn/kWuIrF4gcCQVB5Fuiys43LbHmv\n",
        "0hzrJNmure1C2T0yFW56MO4kv5n/LHYYZttyHdTbQS0og/XaO5VhtvdzuIFnCaf+\n",
        "64zIWYnzLs/zSwCbX6iORXxdMF7C6h8QOtNZuLVXwgBJsvZfNhN4kyfYLA+EyJJ6\n",
        "2hUdpHDA2/qQ1ydk2wYHy9oj9xMQ6hUz2DvmsqqONtk15uNWy2zGxlBTQeImuZ72\n",
        "0HvUBeh9mQcFjTHdPysL96Ty0XZINQ29izJqOi13JQV0eY+V/9RZn81lFAtGJhAC\n",
        "XQIDAQAB\n",
        "-----END PUBLIC KEY-----\n",
        "\n",
        "EOI\n",
        "\n",
        "export SECRET_ANSWER_ENC=$(openssl pkeyutl \\\n",
        "                            -encrypt \\\n",
        "                            -inkey custodian.pem \\\n",
        "                            -pubin -in <(echo -n $SECRET_ANSWER) \\\n",
        "                            -out /dev/stdout | base64 | tr -d '\\n'\\\n",
        "                          )\n",
        "\n",
        "echo \"Encrypted secret answer:\"\n",
        "echo\n",
        "echo $SECRET_ANSWER_ENC"
      ]
    },
    {
      "cell_type": "markdown",
      "id": "02828175",
      "metadata": {},
      "source": [
        "We can post the encrypted result in a public url using a service like:\n",
        "- [pastebin](https://pastebin.com/)\n",
        "- [ipfs](https://ipfs.io/)\n",
        "- [S3 bucket](https://aws.amazon.com/s3/)\n",
        "- [gist](https://gist.github.com/) (warning: the owner of the gist is public)\n"
      ]
    },
    {
      "cell_type": "code",
      "execution_count": null,
      "id": "8f802b17",
      "metadata": {
        "tags": [],
        "vscode": {
          "languageId": "shellscript"
        }
      },
      "outputs": [],
      "source": [
        "export SECRET_ANSWER_ENC_URL=https://pastebin.com/vstTD1Sb"
      ]
    },
    {
      "cell_type": "markdown",
      "id": "c9f91c43",
      "metadata": {},
      "source": [
        "We cannot prevent the participant or a malicious actor to modify the result (anybody can encrypt a message using the `custodian` public key), but we can use `openssl` to hash the `SECRET_ANSWER` into a 32 Byte hex string. \n",
        "\n",
        "The result would be a really big decimal number (`2^128 - 1`) so we can use the last 10 Bytes as a sub-hash. This increases the chances of hash collision, as the amount of possibilites is reduced to `2^40 - 1 = 1.099.511.627.775`, which is acceptable for this example."
      ]
    },
    {
      "cell_type": "code",
      "execution_count": null,
      "id": "39fc01e7",
      "metadata": {
        "tags": [],
        "vscode": {
          "languageId": "shellscript"
        }
      },
      "outputs": [],
      "source": [
        "export SECRET_ANSWER_HASH=$(echo -n \"$SECRET_ANSWER\" | openssl dgst -sha256 | cut -d' ' -f2)\n",
        "export SECRET_ANSWER_HASH_LAST_DIGITS=$(echo -n \"$SECRET_ANSWER_HASH\" | tail -c 10)\n",
        "export SECRET_ANSWER_HASH_LAST_DIGITS_DECIMAL=$(printf \"%d\" \"0x$SECRET_ANSWER_HASH_LAST_DIGITS\")\n",
        "\n",
        "echo \"* SECRET_ANSWER_HASH = $SECRET_ANSWER_HASH\"\n",
        "echo \"* SECRET_ANSWER_HASH_LAST_DIGITS = $SECRET_ANSWER_HASH_LAST_DIGITS\"\n",
        "echo \"* SECRET_ANSWER_HASH_LAST_DIGITS_DECIMAL = $SECRET_ANSWER_HASH_LAST_DIGITS_DECIMAL\"\n",
        "\n",
        "echo \"Max choice: $(printf \"%d\" \"0xffffffffff\")\""
      ]
    },
    {
      "cell_type": "markdown",
      "id": "090c17bf",
      "metadata": {},
      "source": [
        "Once again we use the `marlowe-cli input choose` and the **HTTP** `POST` `/contract/{contractId}/transactions` endpoint to create the transaction"
      ]
    },
    {
      "cell_type": "code",
      "execution_count": null,
      "id": "76669f9c",
      "metadata": {
        "tags": [],
        "vscode": {
          "languageId": "shellscript"
        }
      },
      "outputs": [],
      "source": [
        "\n",
        "marlowe-cli input choose \\\n",
        "  --choice-name answer5 \\\n",
        "  --choice-party $SURVEY_PARTICIPANT_ADDR \\\n",
        "  --choice-number \"$SECRET_ANSWER_HASH_LAST_DIGITS_DECIMAL\" \\\n",
        "  --out-file answer-5-input.json\n",
        "\n",
        "\n",
        "yaml2json << EOI > request-4.json\n",
        "version: v1\n",
        "inputs: [$(cat answer-5-input.json)]\n",
        "metadata: {}\n",
        "tags:\n",
        "  encryptedAnswer: $SECRET_ANSWER_ENC_URL\n",
        "EOI\n",
        "cat request-4.json | jq"
      ]
    },
    {
      "cell_type": "code",
      "execution_count": null,
      "id": "64ef189c",
      "metadata": {
        "tags": [],
        "vscode": {
          "languageId": "shellscript"
        }
      },
      "outputs": [],
      "source": [
        "curl \"$CONTRACT_URL/transactions\" \\\n",
        "  -X POST \\\n",
        "  -H 'Content-Type: application/json' \\\n",
        "  -H \"X-Change-Address: $SURVEY_PARTICIPANT_ADDR\" \\\n",
        "  -d @request-4.json \\\n",
        "  -o response-4.json \\\n",
        "  -sS\n",
        "json2yaml response-4.json"
      ]
    },
    {
      "cell_type": "code",
      "execution_count": null,
      "id": "1102db88",
      "metadata": {
        "tags": [],
        "vscode": {
          "languageId": "shellscript"
        }
      },
      "outputs": [],
      "source": [
        "jq '.resource.txBody' response-4.json > tx-4.unsigned\n",
        "\n",
        "echo \"submiting transaction...\"\n",
        "\n",
        "TX_4=$(\n",
        "marlowe-cli transaction submit \\\n",
        "  --tx-body-file tx-4.unsigned \\\n",
        "  --required-signer \"$SURVEY_PARTICIPANT_SKEY\" \\\n",
        "  --timeout 600s \\\n",
        "| sed -e 's/^TxId \"\\(.*\\)\"$/\\1/' \\\n",
        ")\n",
        "echo \"TX_4 = $TX_4\""
      ]
    },
    {
      "cell_type": "markdown",
      "id": "3bce2e56",
      "metadata": {},
      "source": [
        "## Wait for reward\n",
        "\n",
        "Congratulations! You have successfully completed the survey. The `custodian` will need to deposit the reward to finish the contract. For the moment this process is not automated, so you can contact the [#ask-marlowe](https://discord.com/channels/826816523368005654/936295815926927390) channel on discord using your address and contract id"
      ]
    },
    {
      "cell_type": "code",
      "execution_count": null,
      "id": "c87d9072",
      "metadata": {
        "tags": [],
        "vscode": {
          "languageId": "shellscript"
        }
      },
      "outputs": [],
      "source": [
        "echo \"Contract id = $CONTRACT_ID\"\n",
        "echo \"Survey participant address = $SURVEY_PARTICIPANT_ADDR\"    "
      ]
    },
    {
      "cell_type": "markdown",
      "id": "a9caf4c3",
      "metadata": {},
      "source": [
        "You can check in cardano scan to see if you received the reward"
      ]
    },
    {
      "cell_type": "code",
      "execution_count": null,
      "id": "f415c585",
      "metadata": {
        "tags": [],
        "vscode": {
          "languageId": "shellscript"
        }
      },
      "outputs": [],
      "source": [
        "$SCRIPTS/cardano-scan-address.sh $SURVEY_PARTICIPANT_ADDR"
      ]
    },
    {
      "cell_type": "markdown",
      "id": "34f7c463",
      "metadata": {},
      "source": [
        "## Return the remaining ADA to the local faucet\n",
        "Once the contract is closed and you claimed your reward, you can use the following command to send the remaining ADA back to the local faucet.\n"
      ]
    },
    {
      "cell_type": "code",
      "execution_count": null,
      "id": "6e318351",
      "metadata": {
        "tags": [],
        "vscode": {
          "languageId": "shellscript"
        }
      },
      "outputs": [],
      "source": [
        "$SCRIPTS/return-assets-to-faucet.sh survey_participant"
      ]
    }
  ],
  "metadata": {
    "kernelspec": {
      "display_name": "Bash with Marlowe Tools",
      "language": "bash",
      "name": "bash-minimal"
    },
    "language_info": {
      "codemirror_mode": "shell",
      "file_extension": ".sh",
      "mimetype": "text/x-sh",
      "name": "bash"
    }
  },
  "nbformat": 4,
  "nbformat_minor": 5
}
