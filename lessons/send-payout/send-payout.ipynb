{
 "cells": [
  {
   "cell_type": "markdown",
   "id": "4933a34e-e8e2-45cc-9705-ac7d5a7b76bb",
   "metadata": {
    "tags": []
   },
   "source": [
    "# Send value to the Marlowe payout address\n",
    "\n",
    "Here is a simple contract for depositing value (ada or tokens) into a Marlowe contract that immediately pays them to a role. The payout can be redeemed using Marlowe Runtime's \"withdraw\" capability.\n",
    "\n",
    "![Contract for depositing ada to Marlowe's payout address](contract.png)"
   ]
  },
  {
   "cell_type": "markdown",
   "id": "c9a188c5-27a0-4696-b935-63b7de06dcde",
   "metadata": {},
   "source": [
    "## Preliminaries"
   ]
  },
  {
   "cell_type": "markdown",
   "id": "160f63b0-f99e-45b5-9deb-f9792bcf7ab5",
   "metadata": {},
   "source": [
    "Set the location of the Marlowe Runtime web server."
   ]
  },
  {
   "cell_type": "code",
   "execution_count": 1,
   "id": "d5e723e6-469e-47d3-825e-f5a4dad9f3d8",
   "metadata": {
    "tags": []
   },
   "outputs": [],
   "source": [
    "MARLOWE_RT_WEBSERVER_URL=http://192.168.0.12:13780"
   ]
  },
  {
   "cell_type": "markdown",
   "id": "3a22eee6-72c5-482b-a9b2-e74c1f392f32",
   "metadata": {},
   "source": [
    "Set the address and sign key of the party sending the funds."
   ]
  },
  {
   "cell_type": "code",
   "execution_count": 2,
   "id": "61dddff3-9758-4123-90cc-bfb1f2db0447",
   "metadata": {
    "tags": []
   },
   "outputs": [],
   "source": [
    "SENDER_ADDR=$(cat sender.testnet.address)\n",
    "SENDER_SKEY=sender.skey"
   ]
  },
  {
   "cell_type": "markdown",
   "id": "103d7bd4-e818-4c28-b281-0fe84607c458",
   "metadata": {},
   "source": [
    "Set the policy ID for the Marlowe roles currency, and the name of the role."
   ]
  },
  {
   "cell_type": "code",
   "execution_count": 3,
   "id": "2dfc389b-3ffb-411d-a571-93d99b5685a5",
   "metadata": {
    "tags": []
   },
   "outputs": [],
   "source": [
    "RECEIVER_POLICY=8bb3b343d8e404472337966a722150048c768d0a92a9813596c5338d\n",
    "RECEIVER_ROLE=c.marlowe"
   ]
  },
  {
   "cell_type": "markdown",
   "id": "aa4b66dd-e080-4ac2-8e11-5fbca05a13ff",
   "metadata": {},
   "source": [
    "Set the amount of the payment, along with the policy ID and token name for the token being paid. In this case ada is being deposited."
   ]
  },
  {
   "cell_type": "code",
   "execution_count": 4,
   "id": "d8562f2a-72ee-4948-b2d2-825ebe1eecb8",
   "metadata": {
    "tags": []
   },
   "outputs": [],
   "source": [
    "ADA=1000000\n",
    "AMOUNT=$((10 * ADA))"
   ]
  },
  {
   "cell_type": "code",
   "execution_count": 5,
   "id": "a982b48c-8855-4ac7-8e55-6df47bc7c2dd",
   "metadata": {
    "tags": []
   },
   "outputs": [],
   "source": [
    "TOKEN_NAME=\"''\"\n",
    "TOKEN_POLICY=\"''\""
   ]
  },
  {
   "cell_type": "markdown",
   "id": "da33cfc5-baa1-48b0-a523-b5a29fbfbdb5",
   "metadata": {},
   "source": [
    "Set the deadline for the deposit to be made into the contract."
   ]
  },
  {
   "cell_type": "code",
   "execution_count": 6,
   "id": "87118283-0cd0-4a18-9b3f-561062871800",
   "metadata": {
    "tags": []
   },
   "outputs": [],
   "source": [
    "DEPOSIT_DEADLINE=$((1000 * `date -d '+ 10 minutes' -u +%s`))"
   ]
  },
  {
   "cell_type": "markdown",
   "id": "8dd84b7b-3d6e-434a-93a8-faecc4216531",
   "metadata": {},
   "source": [
    "## Create the contract\n",
    "\n",
    "Construct the request for Marlowe Runtime to build the creation transaction."
   ]
  },
  {
   "cell_type": "code",
   "execution_count": 7,
   "id": "69abcbb8-6a8e-470b-9dd3-365f15c1f04b",
   "metadata": {
    "tags": [],
    "vscode": {
     "languageId": "shellscript"
    }
   },
   "outputs": [
    {
     "name": "stdout",
     "output_type": "stream",
     "text": [
      "\u001b[1;39m{\n",
      "  \u001b[0m\u001b[34;1m\"contract\"\u001b[0m\u001b[1;39m: \u001b[0m\u001b[1;39m{\n",
      "    \u001b[0m\u001b[34;1m\"timeout\"\u001b[0m\u001b[1;39m: \u001b[0m\u001b[0;39m1693594514000\u001b[0m\u001b[1;39m,\n",
      "    \u001b[0m\u001b[34;1m\"timeout_continuation\"\u001b[0m\u001b[1;39m: \u001b[0m\u001b[0;32m\"close\"\u001b[0m\u001b[1;39m,\n",
      "    \u001b[0m\u001b[34;1m\"when\"\u001b[0m\u001b[1;39m: \u001b[0m\u001b[1;39m[\n",
      "      \u001b[1;39m{\n",
      "        \u001b[0m\u001b[34;1m\"case\"\u001b[0m\u001b[1;39m: \u001b[0m\u001b[1;39m{\n",
      "          \u001b[0m\u001b[34;1m\"deposits\"\u001b[0m\u001b[1;39m: \u001b[0m\u001b[0;39m10000000\u001b[0m\u001b[1;39m,\n",
      "          \u001b[0m\u001b[34;1m\"into_account\"\u001b[0m\u001b[1;39m: \u001b[0m\u001b[1;39m{\n",
      "            \u001b[0m\u001b[34;1m\"role_token\"\u001b[0m\u001b[1;39m: \u001b[0m\u001b[0;32m\"c.marlowe\"\u001b[0m\u001b[1;39m\n",
      "          \u001b[1;39m}\u001b[0m\u001b[1;39m,\n",
      "          \u001b[0m\u001b[34;1m\"of_token\"\u001b[0m\u001b[1;39m: \u001b[0m\u001b[1;39m{\n",
      "            \u001b[0m\u001b[34;1m\"currency_symbol\"\u001b[0m\u001b[1;39m: \u001b[0m\u001b[0;32m\"\"\u001b[0m\u001b[1;39m,\n",
      "            \u001b[0m\u001b[34;1m\"token_name\"\u001b[0m\u001b[1;39m: \u001b[0m\u001b[0;32m\"\"\u001b[0m\u001b[1;39m\n",
      "          \u001b[1;39m}\u001b[0m\u001b[1;39m,\n",
      "          \u001b[0m\u001b[34;1m\"party\"\u001b[0m\u001b[1;39m: \u001b[0m\u001b[1;39m{\n",
      "            \u001b[0m\u001b[34;1m\"address\"\u001b[0m\u001b[1;39m: \u001b[0m\u001b[0;32m\"addr_test1vq9prvx8ufwutkwxx9cmmuuajaqmjqwujqlp9d8pvg6gupczgtm9j\"\u001b[0m\u001b[1;39m\n",
      "          \u001b[1;39m}\u001b[0m\u001b[1;39m\n",
      "        \u001b[1;39m}\u001b[0m\u001b[1;39m,\n",
      "        \u001b[0m\u001b[34;1m\"then\"\u001b[0m\u001b[1;39m: \u001b[0m\u001b[0;32m\"close\"\u001b[0m\u001b[1;39m\n",
      "      \u001b[1;39m}\u001b[0m\u001b[1;39m\n",
      "    \u001b[1;39m]\u001b[0m\u001b[1;39m\n",
      "  \u001b[1;39m}\u001b[0m\u001b[1;39m,\n",
      "  \u001b[0m\u001b[34;1m\"metadata\"\u001b[0m\u001b[1;39m: \u001b[0m\u001b[1;39m{}\u001b[0m\u001b[1;39m,\n",
      "  \u001b[0m\u001b[34;1m\"minUTxODeposit\"\u001b[0m\u001b[1;39m: \u001b[0m\u001b[0;39m2000000\u001b[0m\u001b[1;39m,\n",
      "  \u001b[0m\u001b[34;1m\"roles\"\u001b[0m\u001b[1;39m: \u001b[0m\u001b[0;32m\"8bb3b343d8e404472337966a722150048c768d0a92a9813596c5338d\"\u001b[0m\u001b[1;39m,\n",
      "  \u001b[0m\u001b[34;1m\"tags\"\u001b[0m\u001b[1;39m: \u001b[0m\u001b[1;39m{}\u001b[0m\u001b[1;39m,\n",
      "  \u001b[0m\u001b[34;1m\"version\"\u001b[0m\u001b[1;39m: \u001b[0m\u001b[0;32m\"v1\"\u001b[0m\u001b[1;39m\n",
      "\u001b[1;39m}\u001b[0m\n"
     ]
    }
   ],
   "source": [
    "yaml2json << EOI > request-1.json\n",
    "version: v1\n",
    "contract:\n",
    "  when:\n",
    "  - case:\n",
    "      party:\n",
    "        address: $SENDER_ADDR\n",
    "      deposits: $AMOUNT\n",
    "      of_token:\n",
    "        currency_symbol: $TOKEN_POLICY\n",
    "        token_name: $TOKEN_NAME\n",
    "      into_account:\n",
    "        role_token: $RECEIVER_ROLE\n",
    "    then: close\n",
    "  timeout: $DEPOSIT_DEADLINE\n",
    "  timeout_continuation: close\n",
    "minUTxODeposit: $((2 * ADA))\n",
    "roles: $RECEIVER_POLICY\n",
    "metadata: {}\n",
    "tags: {}\n",
    "EOI\n",
    "cat request-1.json | jq"
   ]
  },
  {
   "cell_type": "markdown",
   "id": "25f92581-f1a8-4758-9c67-ec4e7a944d25",
   "metadata": {},
   "source": [
    "Call the Marlowe Runtime endpoint to build the creation transaction."
   ]
  },
  {
   "cell_type": "code",
   "execution_count": 8,
   "id": "d88f4f44-49a1-4548-ac97-6fe95fb6059b",
   "metadata": {
    "tags": [],
    "vscode": {
     "languageId": "shellscript"
    }
   },
   "outputs": [
    {
     "name": "stdout",
     "output_type": "stream",
     "text": [
      "CONTRACT_ID = 2138b629a6132dbe96f5b0cbe7c66f4dabbf65de47c88d65d1372cd397bc3ca2#1\n",
      "CONTRACT_URL = http://192.168.0.12:13780/contracts/2138b629a6132dbe96f5b0cbe7c66f4dabbf65de47c88d65d1372cd397bc3ca2%231\n"
     ]
    }
   ],
   "source": [
    "curl \"$MARLOWE_RT_WEBSERVER_URL/contracts\" \\\n",
    "  -X POST \\\n",
    "  -H 'Content-Type: application/json' \\\n",
    "  -H \"X-Change-Address: $SENDER_ADDR\" \\\n",
    "  -d @request-1.json \\\n",
    "  -o response-1.json \\\n",
    "  -sS\n",
    "jq '.resource.txBody' response-1.json > tx-1.unsigned\n",
    "CONTRACT_ID=\"$(jq -r '.resource.contractId' response-1.json)\"\n",
    "echo \"CONTRACT_ID = $CONTRACT_ID\"\n",
    "CONTRACT_URL=\"$MARLOWE_RT_WEBSERVER_URL/$(jq -r '.links.contract' response-1.json)\"\n",
    "echo \"CONTRACT_URL = $CONTRACT_URL\""
   ]
  },
  {
   "cell_type": "markdown",
   "id": "9b5a42b2-58de-4f3e-b436-e7f340082ec1",
   "metadata": {},
   "source": [
    "Sign the transaction."
   ]
  },
  {
   "cell_type": "code",
   "execution_count": 9,
   "id": "18b60f01-ae10-415d-96bf-9dba0070b752",
   "metadata": {
    "tags": [],
    "vscode": {
     "languageId": "shellscript"
    }
   },
   "outputs": [],
   "source": [
    "jq '.resource.txBody' response-1.json > tx-1.unsigned\n",
    "cardano-cli transaction sign \\\n",
    "  --testnet-magic 1 \\\n",
    "  --tx-body-file tx-1.unsigned \\\n",
    "  --out-file tx-1.signed \\\n",
    "  --signing-key-file $SENDER_SKEY"
   ]
  },
  {
   "cell_type": "markdown",
   "id": "4551c1d1-f7b1-4e35-9b69-6a491f130920",
   "metadata": {},
   "source": [
    "Submit the transaction via Marlowe Runtime."
   ]
  },
  {
   "cell_type": "code",
   "execution_count": 10,
   "id": "a2b8c016-88ea-418b-8d68-38f098c8e107",
   "metadata": {
    "tags": []
   },
   "outputs": [],
   "source": [
    "curl \"$CONTRACT_URL\" \\\n",
    "  -X PUT \\\n",
    "  -H 'Content-Type: application/json' \\\n",
    "  -d @tx-1.signed \\\n",
    "  -sS"
   ]
  },
  {
   "cell_type": "markdown",
   "id": "6fd62123-b55e-44a2-bfb6-63cac3eaf559",
   "metadata": {},
   "source": [
    "Wait for the transaction to be confirmed."
   ]
  },
  {
   "cell_type": "code",
   "execution_count": 11,
   "id": "85ce407e-d3a0-488e-a007-28af4dc6953c",
   "metadata": {
    "tags": []
   },
   "outputs": [
    {
     "name": "stdout",
     "output_type": "stream",
     "text": [
      "2023-09-01T18:45:19Z Transaction not confirmed.\n",
      "2023-09-01T18:45:29Z Transaction not confirmed.\n",
      "2023-09-01T18:45:40Z Transaction not confirmed.\n",
      "2023-09-01T18:45:50Z Transaction not confirmed.\n",
      "2023-09-01T18:46:00Z Transaction not confirmed.\n",
      "2023-09-01T18:46:10Z Transaction not confirmed.\n",
      "2023-09-01T18:46:20Z Transaction not confirmed.\n",
      "2023-09-01T18:46:30Z Transaction not confirmed.\n",
      "2023-09-01T18:46:40Z Transaction not confirmed.\n",
      "2023-09-01T18:46:50Z Transaction not confirmed.\n",
      "2023-09-01T18:47:01Z Transaction confirmed.\n"
     ]
    }
   ],
   "source": [
    "while [ $(curl -sS \"$CONTRACT_URL\" | jq .resource.status) != '\"confirmed\"' ]\n",
    "do\n",
    "  echo \"$(date -u +\"%FT%TZ\") Transaction not confirmed.\"\n",
    "  sleep 10s\n",
    "done\n",
    "echo \"$(date -u +\"%FT%TZ\") Transaction confirmed.\""
   ]
  },
  {
   "cell_type": "markdown",
   "id": "606ba22c-d4d4-4cf0-8765-e546d4e8d2c1",
   "metadata": {},
   "source": [
    "## Deposit and pay the funds\n",
    "\n",
    "Construct the request for Marlowe Runtime to deposit the funds."
   ]
  },
  {
   "cell_type": "code",
   "execution_count": 12,
   "id": "d44d79dd-9556-445a-9176-7c4148bad2a9",
   "metadata": {
    "tags": [],
    "vscode": {
     "languageId": "shellscript"
    }
   },
   "outputs": [
    {
     "name": "stdout",
     "output_type": "stream",
     "text": [
      "\u001b[1;39m{\n",
      "  \u001b[0m\u001b[34;1m\"inputs\"\u001b[0m\u001b[1;39m: \u001b[0m\u001b[1;39m[\n",
      "    \u001b[1;39m{\n",
      "      \u001b[0m\u001b[34;1m\"input_from_party\"\u001b[0m\u001b[1;39m: \u001b[0m\u001b[1;39m{\n",
      "        \u001b[0m\u001b[34;1m\"address\"\u001b[0m\u001b[1;39m: \u001b[0m\u001b[0;32m\"addr_test1vq9prvx8ufwutkwxx9cmmuuajaqmjqwujqlp9d8pvg6gupczgtm9j\"\u001b[0m\u001b[1;39m\n",
      "      \u001b[1;39m}\u001b[0m\u001b[1;39m,\n",
      "      \u001b[0m\u001b[34;1m\"into_account\"\u001b[0m\u001b[1;39m: \u001b[0m\u001b[1;39m{\n",
      "        \u001b[0m\u001b[34;1m\"role_token\"\u001b[0m\u001b[1;39m: \u001b[0m\u001b[0;32m\"c.marlowe\"\u001b[0m\u001b[1;39m\n",
      "      \u001b[1;39m}\u001b[0m\u001b[1;39m,\n",
      "      \u001b[0m\u001b[34;1m\"of_token\"\u001b[0m\u001b[1;39m: \u001b[0m\u001b[1;39m{\n",
      "        \u001b[0m\u001b[34;1m\"currency_symbol\"\u001b[0m\u001b[1;39m: \u001b[0m\u001b[0;32m\"\"\u001b[0m\u001b[1;39m,\n",
      "        \u001b[0m\u001b[34;1m\"token_name\"\u001b[0m\u001b[1;39m: \u001b[0m\u001b[0;32m\"\"\u001b[0m\u001b[1;39m\n",
      "      \u001b[1;39m}\u001b[0m\u001b[1;39m,\n",
      "      \u001b[0m\u001b[34;1m\"that_deposits\"\u001b[0m\u001b[1;39m: \u001b[0m\u001b[0;39m10000000\u001b[0m\u001b[1;39m\n",
      "    \u001b[1;39m}\u001b[0m\u001b[1;39m\n",
      "  \u001b[1;39m]\u001b[0m\u001b[1;39m,\n",
      "  \u001b[0m\u001b[34;1m\"metadata\"\u001b[0m\u001b[1;39m: \u001b[0m\u001b[1;39m{}\u001b[0m\u001b[1;39m,\n",
      "  \u001b[0m\u001b[34;1m\"tags\"\u001b[0m\u001b[1;39m: \u001b[0m\u001b[1;39m{}\u001b[0m\u001b[1;39m,\n",
      "  \u001b[0m\u001b[34;1m\"version\"\u001b[0m\u001b[1;39m: \u001b[0m\u001b[0;32m\"v1\"\u001b[0m\u001b[1;39m\n",
      "\u001b[1;39m}\u001b[0m\n"
     ]
    }
   ],
   "source": [
    "yaml2json << EOI > request-2.json\n",
    "version: v1\n",
    "inputs:\n",
    "- input_from_party:\n",
    "    address: $SENDER_ADDR\n",
    "  into_account:\n",
    "    role_token: $RECEIVER_ROLE\n",
    "  of_token:\n",
    "    currency_symbol: $TOKEN_POLICY\n",
    "    token_name: $TOKEN_NAME\n",
    "  that_deposits: $AMOUNT\n",
    "metadata: {}\n",
    "tags: {}\n",
    "EOI\n",
    "cat request-2.json | jq"
   ]
  },
  {
   "cell_type": "markdown",
   "id": "61353955-eb0c-4e5b-9c0c-cdbe64a0b62d",
   "metadata": {},
   "source": [
    "Call the Marlowe Runtime endpoint to build the deposit transaction."
   ]
  },
  {
   "cell_type": "code",
   "execution_count": 13,
   "id": "9067f075-e696-4fab-a0df-963773d8735c",
   "metadata": {
    "tags": [],
    "vscode": {
     "languageId": "shellscript"
    }
   },
   "outputs": [
    {
     "name": "stdout",
     "output_type": "stream",
     "text": [
      "TRANSACTION_ID = 5e99b0ce92c57abaaf6e1cd99cc84994ec8c60402add28925cc3e5baf070ce5b\n",
      "TRANSACTION_URL = http://192.168.0.12:13780/contracts/2138b629a6132dbe96f5b0cbe7c66f4dabbf65de47c88d65d1372cd397bc3ca2%231/transactions/5e99b0ce92c57abaaf6e1cd99cc84994ec8c60402add28925cc3e5baf070ce5b\n"
     ]
    }
   ],
   "source": [
    "curl \"$CONTRACT_URL/transactions\" \\\n",
    "  -X POST \\\n",
    "  -H 'Content-Type: application/json' \\\n",
    "  -H \"X-Change-Address: $SENDER_ADDR\" \\\n",
    "  -d @request-2.json \\\n",
    "  -o response-2.json \\\n",
    "  -sS\n",
    "TRANSACTION_ID=\"$(jq -r '.resource.transactionId' response-2.json)\"\n",
    "echo \"TRANSACTION_ID = $TRANSACTION_ID\"\n",
    "TRANSACTION_URL=\"$MARLOWE_RT_WEBSERVER_URL/$(jq -r '.links.transaction' response-2.json)\"\n",
    "echo \"TRANSACTION_URL = $TRANSACTION_URL\""
   ]
  },
  {
   "cell_type": "markdown",
   "id": "24d5344d-d922-4ba3-8bba-0700b158ec63",
   "metadata": {},
   "source": [
    "Sign the transaction."
   ]
  },
  {
   "cell_type": "code",
   "execution_count": 14,
   "id": "3b0df08e-4727-473b-87c4-6ee6758db0d1",
   "metadata": {
    "tags": [],
    "vscode": {
     "languageId": "shellscript"
    }
   },
   "outputs": [],
   "source": [
    "jq '.resource.txBody' response-2.json > tx-2.unsigned\n",
    "cardano-cli transaction sign \\\n",
    "  --testnet-magic 1 \\\n",
    "  --tx-body-file tx-2.unsigned \\\n",
    "  --out-file tx-2.signed \\\n",
    "  --signing-key-file $SENDER_SKEY"
   ]
  },
  {
   "cell_type": "markdown",
   "id": "2535e96e-ca49-488c-ac2b-12da70b88e5d",
   "metadata": {},
   "source": [
    "Submit the transaction via Marlowe Runtime."
   ]
  },
  {
   "cell_type": "code",
   "execution_count": 15,
   "id": "b12317c0-0903-49be-b4e6-a5af3ffad7e7",
   "metadata": {
    "tags": []
   },
   "outputs": [],
   "source": [
    "curl \"$TRANSACTION_URL\" \\\n",
    "  -X PUT \\\n",
    "  -H 'Content-Type: application/json' \\\n",
    "  -d @tx-2.signed \\\n",
    "  -sS"
   ]
  },
  {
   "cell_type": "markdown",
   "id": "f718a90f-2aaf-4199-823b-ebd9eb0db590",
   "metadata": {},
   "source": [
    "Wait for the transaction to be confirmed."
   ]
  },
  {
   "cell_type": "code",
   "execution_count": 16,
   "id": "155d6715-814d-45af-878b-cb21e18c6c76",
   "metadata": {
    "tags": []
   },
   "outputs": [
    {
     "name": "stdout",
     "output_type": "stream",
     "text": [
      "2023-09-01T18:47:05Z Transaction not confirmed.\n",
      "2023-09-01T18:47:15Z Transaction confirmed.\n"
     ]
    }
   ],
   "source": [
    "while [ $(curl -sS \"$TRANSACTION_URL\" | jq .resource.status) != '\"confirmed\"' ]\n",
    "do\n",
    "  echo \"$(date -u +\"%FT%TZ\") Transaction not confirmed.\"\n",
    "  sleep 10s\n",
    "done\n",
    "echo \"$(date -u +\"%FT%TZ\") Transaction confirmed.\""
   ]
  }
 ],
 "metadata": {
  "kernelspec": {
   "display_name": "Bash with Marlowe Tools",
   "language": "bash",
   "name": "bash-minimal"
  },
  "language_info": {
   "codemirror_mode": "shell",
   "file_extension": ".sh",
   "mimetype": "text/x-sh",
   "name": "bash"
  }
 },
 "nbformat": 4,
 "nbformat_minor": 5
}
