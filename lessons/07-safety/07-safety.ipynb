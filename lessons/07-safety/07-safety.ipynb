{
 "cells": [
  {
   "cell_type": "markdown",
   "id": "51b36607-12f0-4017-9afa-c59caab579da",
   "metadata": {
    "tags": []
   },
   "source": [
    "# Checking the Safety of a Marlowe Contract\n",
    "\n",
    "Although the Marlowe language has strong safety guarantees, it is nevertheless possible to create unsafe Marlowe contracts on the Cardano blockchain because some valid Marlowe contract violate the blockchain's ledger rules.\n",
    "\n",
    "Three Marlowe tools are available for checking the safety of a contract before submitting it to the blockchain. Each of the three tools provide equivalent reports, so the choose whatever tool is most convenient for your workflow.\n",
    "- Marlowe Runtime's REST endpoint `POST /contracts` returns a safety report in its response.\n",
    "- Marlowe Runtime's CLI command `marlowe-runtime-cli create` prints the safety report.\n",
    "- Marlowe CLI's command `marlowe-cli run analyze` prints a similar safety report.\n",
    "\n",
    "In this tutorial we use the first method, but all three methods would yield the same results.\n",
    "\n",
    "***It is important to note that Marlowe Runtime does not prevent one from submitting unsafe contracts. It is the responsibility of the client to review the safety errors and decide whether to submit the contract to the blockchain.*** Safety errors are marked as \"fatal\" to indicate whether the problems are so severe that the contract would not operate on the blockchain.\n",
    "\n",
    "*Also note that Marlowe's safety-analysis tools have not been audited, so it is advisable to test all of the execution paths of a Marlowe contract on a test network before running the contract on the main network.*\n",
    "\n",
    "Learn more about Marlowe safety from these resources:\n",
    "- [Marlowe Best Practices Guide](https://github.com/input-output-hk/marlowe-cardano/blob/main/marlowe/best-practices.md)\n",
    "- [Marlowe Security Guide](https://github.com/input-output-hk/marlowe-cardano/blob/main/marlowe/security.md)\n",
    "\n",
    "A [video of this safety-check lesson](https://youtu.be/3wb6qOTuBEY) is available."
   ]
  },
  {
   "cell_type": "markdown",
   "id": "e93966d3-f001-4782-b34e-f58161c601a7",
   "metadata": {},
   "source": [
    "## Preliminaries\n",
    "\n",
    "See [Preliminaries](../../docs/preliminaries.md) for information on setting up one's environment for using this tutorial.\n",
    "\n",
    "The first step is to check we have all the required tools and environment variables available to the notebook. "
   ]
  },
  {
   "cell_type": "code",
   "execution_count": null,
   "id": "baa91b15-24db-40e9-b486-d02012d430cf",
   "metadata": {
    "tags": [],
    "vscode": {
     "languageId": "shellscript"
    }
   },
   "outputs": [],
   "source": [
    "export SCRIPTS=../../scripts\n",
    "export KEYS=../../keys\n",
    "source $SCRIPTS/check-tools-and-env.sh"
   ]
  },
  {
   "cell_type": "markdown",
   "id": "2ab5f0cb-f3b1-4af1-9696-f409a7f5078f",
   "metadata": {},
   "source": [
    "## First example\n",
    "\n",
    "We create a contract that contains numerous errors in its tokens, names, and addresses."
   ]
  },
  {
   "cell_type": "code",
   "execution_count": null,
   "id": "1286cf19-b263-49f2-a9d7-cffa7272386f",
   "metadata": {
    "tags": []
   },
   "outputs": [],
   "source": [
    "yaml2json << EOI > contract-1.json\n",
    "when:\n",
    "- case:\n",
    "    deposits: 1\n",
    "    into_account:\n",
    "      address: addr_test1vq9prvx8ufwutkwxx9cmmuuajaqmjqwujqlp9d8pvg6gupczgtm9j  # A testnet address.\n",
    "    of_token:\n",
    "      currency_symbol: 14696a4676909f4e3cb1f2e60e2e08e5abed70caf5c02699be9711   # Policy ID too short.\n",
    "      token_name: This token name is longer than the ledger rules allow.        # Token name too long.\n",
    "    party:\n",
    "      address: addr1vy9prvx8ufwutkwxx9cmmuuajaqmjqwujqlp9d8pvg6gupceql82h       # A mainnet address.\n",
    "  then: close\n",
    "- case:\n",
    "    choose_between:\n",
    "    - from: 1\n",
    "      to: 2\n",
    "    for_choice:\n",
    "      choice_name: A Choice\n",
    "      choice_owner:\n",
    "        role_token: This role name is longer than the ledger rules allow.       # Role name too long.\n",
    "  then: close\n",
    "timeout: $((1000 * (`date -u +%s` + 1 * 60 * 60)))\n",
    "timeout_continuation: close\n",
    "EOI"
   ]
  },
  {
   "cell_type": "markdown",
   "id": "7ec19b29-51b2-4ee6-bbd3-f0267a8ea916",
   "metadata": {},
   "source": [
    "Now create the JSON request for the Marlowe Runtime `POST /contracts` endpoint."
   ]
  },
  {
   "cell_type": "code",
   "execution_count": null,
   "id": "634f1f80-b943-4c52-a305-36cf598d6697",
   "metadata": {
    "tags": [],
    "vscode": {
     "languageId": "shellscript"
    }
   },
   "outputs": [],
   "source": [
    "yaml2json << EOI > request-1.json\n",
    "version: v1\n",
    "contract: $(cat contract-1.json)\n",
    "minUTxODeposit: 1200000\n",
    "roles:\n",
    "    An Extra Role: addr_test1vq9prvx8ufwutkwxx9cmmuuajaqmjqwujqlp9d8pvg6gupczgtm9j  # Not present in the contract.\n",
    "metadata: {}\n",
    "tags: {}\n",
    "EOI\n",
    "cat request-1.json | jq"
   ]
  },
  {
   "cell_type": "markdown",
   "id": "30eb2173-e689-46ab-a4bf-de6d0093f82e",
   "metadata": {},
   "source": [
    "Now call the `POST /contracts` endpoint and receive the response, which contains several reports of safety errors."
   ]
  },
  {
   "cell_type": "code",
   "execution_count": null,
   "id": "ccf327b0-40b4-4583-b211-da1d550068df",
   "metadata": {
    "tags": [],
    "vscode": {
     "languageId": "shellscript"
    }
   },
   "outputs": [],
   "source": [
    "curl \"$MARLOWE_RT_WEBSERVER_URL/contracts\" \\\n",
    "  -X POST \\\n",
    "  -H 'Content-Type: application/json' \\\n",
    "  -H \"X-Change-Address: addr_test1vq9prvx8ufwutkwxx9cmmuuajaqmjqwujqlp9d8pvg6gupczgtm9j\" \\\n",
    "  -d @request-1.json \\\n",
    "  -o response-1.json \\\n",
    "  -sS\n",
    "json2yaml response-1.json"
   ]
  },
  {
   "cell_type": "markdown",
   "id": "78978c42-b05d-4a0a-80cd-73411847dfec",
   "metadata": {},
   "source": [
    "There are seven safety errors, which we review individually."
   ]
  },
  {
   "cell_type": "code",
   "execution_count": null,
   "id": "2c925298-4adf-45c6-8443-0b3796d80745",
   "metadata": {
    "tags": []
   },
   "outputs": [],
   "source": [
    "jq -r '.resource.safetyErrors | .[] | .error' response-1.json"
   ]
  },
  {
   "cell_type": "markdown",
   "id": "3d468ee3-ab74-4b00-8232-17c4e7d48107",
   "metadata": {},
   "source": [
    "### `MissingRoleToken`\n",
    "\n",
    "The role name `This role name is longer than the ledger rules allow.` is present in the contract, but the creation request does not mention that role."
   ]
  },
  {
   "cell_type": "code",
   "execution_count": null,
   "id": "9df9f282-2635-45e2-8e8b-29efd836fbd2",
   "metadata": {
    "tags": []
   },
   "outputs": [],
   "source": [
    "jq '.resource.safetyErrors[0]' response-1.json | json2yaml"
   ]
  },
  {
   "cell_type": "markdown",
   "id": "ab13d4b8-de78-4568-acc4-abcfe8db0676",
   "metadata": {},
   "source": [
    "### `ExtraRoleToken`\n",
    "\n",
    "The role name `An Extra Role` is mentioned in the creation request, but not used in the contract itself."
   ]
  },
  {
   "cell_type": "code",
   "execution_count": null,
   "id": "ee6fe581-037a-4020-9f6f-65a7414f1c2c",
   "metadata": {
    "tags": []
   },
   "outputs": [],
   "source": [
    "jq '.resource.safetyErrors[1]' response-1.json | json2yaml"
   ]
  },
  {
   "cell_type": "markdown",
   "id": "02fa0de8-d2f4-47f9-8cf1-8dc8cfa8c05c",
   "metadata": {},
   "source": [
    "### `RoleNameTooLong`\n",
    "\n",
    "The role `This role name is longer than the ledger rules allow.` exceeds the 32-bytes allowed by the ledger rules."
   ]
  },
  {
   "cell_type": "code",
   "execution_count": null,
   "id": "18e92d5b-a457-455e-9d62-e452ed42888f",
   "metadata": {
    "tags": []
   },
   "outputs": [],
   "source": [
    "jq '.resource.safetyErrors[2]' response-1.json | json2yaml"
   ]
  },
  {
   "cell_type": "markdown",
   "id": "3f4c9400-a355-425f-85d7-f0f99d43dfb8",
   "metadata": {},
   "source": [
    "### `InvalidCurrencySymbol`\n",
    "\n",
    "The hexadecimal bytes `14696a4676909f4e3cb1f2e60e2e08e5abed70caf5c02699be9711` are not a valid currency symbol, because they are too short."
   ]
  },
  {
   "cell_type": "code",
   "execution_count": null,
   "id": "c4b2b2ac-e8bf-4b5f-98f1-7ca032eca52d",
   "metadata": {
    "tags": []
   },
   "outputs": [],
   "source": [
    "jq '.resource.safetyErrors[3]' response-1.json | json2yaml"
   ]
  },
  {
   "cell_type": "markdown",
   "id": "7e2050ec-68df-476e-a88b-15c8d366529e",
   "metadata": {},
   "source": [
    "### `WrongNetwork`\n",
    "\n",
    "The contract mentions a `mainnet` address, but Marlowe Runtime is connected to the `preprod` testnet."
   ]
  },
  {
   "cell_type": "code",
   "execution_count": null,
   "id": "eeb496e6-066b-4738-974f-56dbe82d88c6",
   "metadata": {
    "tags": []
   },
   "outputs": [],
   "source": [
    "jq '.resource.safetyErrors[4]' response-1.json | json2yaml"
   ]
  },
  {
   "cell_type": "markdown",
   "id": "ac558279-f1b6-482b-971a-31360b684a68",
   "metadata": {},
   "source": [
    "### `InconsistentNetworks`\n",
    "\n",
    "The contract contains a mixture of mainnet and testnet addresses."
   ]
  },
  {
   "cell_type": "code",
   "execution_count": null,
   "id": "b1b7f836-6a33-4bc6-87b3-bfa52f7bc55e",
   "metadata": {
    "tags": []
   },
   "outputs": [],
   "source": [
    "jq '.resource.safetyErrors[5]' response-1.json | json2yaml"
   ]
  },
  {
   "cell_type": "markdown",
   "id": "ea44cfdf-3eb5-4310-bd0a-bb2afd137a2e",
   "metadata": {},
   "source": [
    "### `TransactionValidationError`\n",
    "\n",
    "The creation transaction would fail validation on the node if it were submitted. The node would not provide a detailed justification for why the transaction fails to validate, so neither can Marlowe Runtime. In this particular case, it is the presence of the illegal token that causes the failure. The safety report lists all of the details of the potential future transaction that would exhibit the validation failure."
   ]
  },
  {
   "cell_type": "code",
   "execution_count": null,
   "id": "a2baab38-b833-408b-bbc8-440142dbdbdc",
   "metadata": {
    "tags": []
   },
   "outputs": [],
   "source": [
    "jq '.resource.safetyErrors[6]' response-1.json | json2yaml"
   ]
  },
  {
   "cell_type": "markdown",
   "id": "c7e5937c-c0f5-407b-b11b-ab6a794b5b0d",
   "metadata": {},
   "source": [
    "## Second example\n",
    "\n",
    "We create a contract that exhibits a few more safety problems."
   ]
  },
  {
   "cell_type": "code",
   "execution_count": null,
   "id": "8982c51e-1b30-4cec-95a2-0eaca7c9fe03",
   "metadata": {
    "tags": []
   },
   "outputs": [],
   "source": [
    "yaml2json << EOI > contract-2.json\n",
    "when:\n",
    "- case:\n",
    "    deposits: 1\n",
    "    into_account:\n",
    "      address: addr_test1vq9prvx8ufwutkwxx9cmmuuajaqmjqwujqlp9d8pvg6gupczgtm9j\n",
    "    of_token:\n",
    "      currency_symbol: c02699be97113914696a4676909f4e3cb1f2e60e2e08e5abed70caf5\n",
    "      token_name: This token name is longer than the ledger rules allow.  # Token name too long.\n",
    "    party:\n",
    "      role_token: ''\n",
    "  then: close\n",
    "- case:\n",
    "    deposits: 1\n",
    "    into_account:\n",
    "      address: addr_test1vq9prvx8ufwutkwxx9cmmuuajaqmjqwujqlp9d8pvg6gupczgtm9j\n",
    "    of_token:\n",
    "      currency_symbol: ''\n",
    "      token_name: Impossible to mint.\n",
    "    party:\n",
    "      role_token: ''\n",
    "  then: close\n",
    "timeout: $((1000 * (`date -u +%s` + 1 * 60 * 60)))\n",
    "timeout_continuation: close\n",
    "EOI"
   ]
  },
  {
   "cell_type": "markdown",
   "id": "a26ef072-fae0-48f7-ab60-aa5138ff1884",
   "metadata": {},
   "source": [
    "Now create the JSON request for the Marlowe Runtime `POST /contracts` endpoint."
   ]
  },
  {
   "cell_type": "code",
   "execution_count": null,
   "id": "205f1b1d-02a2-4531-a31f-c69413026cda",
   "metadata": {
    "tags": [],
    "vscode": {
     "languageId": "shellscript"
    }
   },
   "outputs": [],
   "source": [
    "yaml2json << EOI > request-2.json\n",
    "version: v1\n",
    "contract: $(cat contract-2.json)\n",
    "minUTxODeposit: 1200000\n",
    "metadata: {}\n",
    "tags: {}\n",
    "EOI\n",
    "cat request-2.json | jq"
   ]
  },
  {
   "cell_type": "markdown",
   "id": "41addaf9-f937-48e0-b053-543769127da1",
   "metadata": {},
   "source": [
    "Requesting that Marlowe Runtime build the creation transaction results in five safety errors. We discuss the first three."
   ]
  },
  {
   "cell_type": "code",
   "execution_count": null,
   "id": "8d114ecd-7057-4ce6-9105-11ce0794e4ca",
   "metadata": {
    "tags": [],
    "vscode": {
     "languageId": "shellscript"
    }
   },
   "outputs": [],
   "source": [
    "curl \"$MARLOWE_RT_WEBSERVER_URL/contracts\" \\\n",
    "  -X POST \\\n",
    "  -H 'Content-Type: application/json' \\\n",
    "  -H \"X-Change-Address: addr_test1vq9prvx8ufwutkwxx9cmmuuajaqmjqwujqlp9d8pvg6gupczgtm9j\" \\\n",
    "  -d @request-2.json \\\n",
    "  -o response-2.json \\\n",
    "  -sS\n",
    "jq -r '.resource.safetyErrors | .[] | .error' response-2.json"
   ]
  },
  {
   "cell_type": "markdown",
   "id": "e5928d52-7adb-46b6-b2c6-51134c6f42bc",
   "metadata": {},
   "source": [
    "### `MissingRolesCurrency`\n",
    "\n",
    "We failed to specify the roles currency in the request body."
   ]
  },
  {
   "cell_type": "code",
   "execution_count": null,
   "id": "cd4a7493-b54c-47ed-8501-016e0121bee8",
   "metadata": {
    "tags": []
   },
   "outputs": [],
   "source": [
    "jq '.resource.safetyErrors[0]' response-2.json | json2yaml"
   ]
  },
  {
   "cell_type": "markdown",
   "id": "ce13f3a0-d60e-48eb-8374-6e2e1de1bc74",
   "metadata": {},
   "source": [
    "### `InvalidToken`\n",
    "\n",
    "It is impossible for a non-ada token to exist for the blank currency symbol."
   ]
  },
  {
   "cell_type": "code",
   "execution_count": null,
   "id": "d2bfcb0b-dfb4-47f4-92cf-0ded24340c8b",
   "metadata": {
    "tags": []
   },
   "outputs": [],
   "source": [
    "jq '.resource.safetyErrors[1]' response-2.json | json2yaml"
   ]
  },
  {
   "cell_type": "markdown",
   "id": "b4867828-ddb9-4d0b-b54c-1b6f53fd4d79",
   "metadata": {},
   "source": [
    "### `TokenNameTooLong`\n",
    "\n",
    "The name `This token name is longer than the 32 bytes allowed by the ledger rules.` is too long for a token."
   ]
  },
  {
   "cell_type": "code",
   "execution_count": null,
   "id": "b5ad3e76-3a97-47d4-b8cf-21da21c757c0",
   "metadata": {
    "tags": []
   },
   "outputs": [],
   "source": [
    "jq '.resource.safetyErrors[2]' response-2.json | json2yaml"
   ]
  },
  {
   "cell_type": "markdown",
   "id": "0a76a1a3-320e-4359-9163-46323d6c00c8",
   "metadata": {},
   "source": [
    "## Third example\n",
    "\n",
    "We use the contract from the previous example, but the creation transaction specifies a roles currency policy ID that is too short."
   ]
  },
  {
   "cell_type": "code",
   "execution_count": null,
   "id": "269a4de7-e709-45ee-b2dd-ec4e7433eecc",
   "metadata": {
    "tags": [],
    "vscode": {
     "languageId": "shellscript"
    }
   },
   "outputs": [],
   "source": [
    "yaml2json << EOI > request-3.json\n",
    "version: v1\n",
    "contract: $(cat contract-2.json)\n",
    "minUTxODeposit: 1200000\n",
    "roles: a4676909f4e3cb1f2e60e2e08e5abed70caf5c02699be971139  # Not a valid policy ID.\n",
    "metadata: {}\n",
    "tags: {}\n",
    "EOI\n",
    "cat request-3.json | jq"
   ]
  },
  {
   "cell_type": "markdown",
   "id": "9873826e-eb1b-4e4b-828e-24cd77d735b2",
   "metadata": {},
   "source": [
    "Such an invalid roles currency results in an HTTP error response."
   ]
  },
  {
   "cell_type": "code",
   "execution_count": null,
   "id": "2be6e13f-5c90-43cc-ba9c-7f368094d7bb",
   "metadata": {
    "tags": [],
    "vscode": {
     "languageId": "shellscript"
    }
   },
   "outputs": [],
   "source": [
    "curl \"$MARLOWE_RT_WEBSERVER_URL/contracts\" \\\n",
    "  -X POST \\\n",
    "  -H 'Content-Type: application/json' \\\n",
    "  -H \"X-Change-Address: addr_test1vq9prvx8ufwutkwxx9cmmuuajaqmjqwujqlp9d8pvg6gupczgtm9j\" \\\n",
    "  -d @request-3.json \\\n",
    "  -iSs"
   ]
  },
  {
   "cell_type": "markdown",
   "id": "dece2eca-d0dc-405a-b31f-f92a94ae3c87",
   "metadata": {},
   "source": [
    "## Fourth example\n",
    "\n",
    "We create the simplest contract, which has no roles or other activity."
   ]
  },
  {
   "cell_type": "code",
   "execution_count": null,
   "id": "96ecbc3a-3123-463a-afff-98b80d963e91",
   "metadata": {
    "tags": []
   },
   "outputs": [],
   "source": [
    "cat << EOI > contract-4.json\n",
    "\"close\"\n",
    "EOI"
   ]
  },
  {
   "cell_type": "markdown",
   "id": "bc4faecd-7e7d-42d1-aa58-5c1cf83139af",
   "metadata": {},
   "source": [
    "Now create the JSON request for the Marlowe Runtime `POST /contracts` endpoint."
   ]
  },
  {
   "cell_type": "code",
   "execution_count": null,
   "id": "60bb286b-8065-42b3-bab3-c6f0a191b63e",
   "metadata": {
    "tags": [],
    "vscode": {
     "languageId": "shellscript"
    }
   },
   "outputs": [],
   "source": [
    "yaml2json << EOI > request-4.json\n",
    "version: v1\n",
    "contract: $(cat contract-4.json)\n",
    "minUTxODeposit: 1200000\n",
    "roles: 14696a4676909f4e3cb1f2e60e2e08e5abed70caf5c02699be971139\n",
    "metadata: {}\n",
    "tags: {}\n",
    "EOI\n",
    "cat request-4.json | jq"
   ]
  },
  {
   "cell_type": "markdown",
   "id": "f96827f6-c582-4a9d-b619-77cbe842522d",
   "metadata": {},
   "source": [
    "Requesting that Marlowe Runtime build the creation transaction results in a safety error."
   ]
  },
  {
   "cell_type": "code",
   "execution_count": null,
   "id": "d4759c93-0493-4d9d-b6c5-17dc07317310",
   "metadata": {
    "tags": [],
    "vscode": {
     "languageId": "shellscript"
    }
   },
   "outputs": [],
   "source": [
    "curl \"$MARLOWE_RT_WEBSERVER_URL/contracts\" \\\n",
    "  -X POST \\\n",
    "  -H 'Content-Type: application/json' \\\n",
    "  -H \"X-Change-Address: addr_test1vq9prvx8ufwutkwxx9cmmuuajaqmjqwujqlp9d8pvg6gupczgtm9j\" \\\n",
    "  -d @request-4.json \\\n",
    "  -o response-4.json \\\n",
    "  -Ss\n",
    "jq -r '.resource.safetyErrors | .[] | .error' response-4.json"
   ]
  },
  {
   "cell_type": "markdown",
   "id": "4e76e1e6-812c-4044-8532-3104177aafa6",
   "metadata": {},
   "source": [
    "### `ContractHasNoRoles`\n",
    "\n",
    "A roles currency symbol was specified for a contract that does not contain any roles."
   ]
  },
  {
   "cell_type": "code",
   "execution_count": null,
   "id": "5b8df032-20cc-46d6-86ca-7d4bb35fb517",
   "metadata": {
    "tags": []
   },
   "outputs": [],
   "source": [
    "jq '.resource.safetyErrors[0]' response-4.json | json2yaml"
   ]
  },
  {
   "cell_type": "markdown",
   "id": "c7bc030f-76e8-492f-af20-3ad02787bd61",
   "metadata": {},
   "source": [
    "## Fifth example\n",
    "\n",
    "We create a contract that obeys the ledger rules but which generates warnings because of Marlowe semantics rules: in this case, the contract tries to pay more ada than was deposited. This contract will run on the blockchain, but the warnings indicate that it may contain design mistakes or not adhere to best design practices for Marlowe contracts."
   ]
  },
  {
   "cell_type": "code",
   "execution_count": null,
   "id": "6f43ab7b-69ae-44f0-b864-55ade7de8ff7",
   "metadata": {
    "tags": []
   },
   "outputs": [],
   "source": [
    "yaml2json << EOI > contract-5.json\n",
    "when:\n",
    "- case:\n",
    "    deposits: 10000000\n",
    "    into_account:\n",
    "      role_token: My Role\n",
    "    of_token:\n",
    "      currency_symbol: ''\n",
    "      token_name: ''\n",
    "    party:\n",
    "      role_token: My Role\n",
    "  then:\n",
    "    from_account:\n",
    "      role_token: My Role\n",
    "    pay: 20000000\n",
    "    then: close\n",
    "    to:\n",
    "      party:\n",
    "        role_token: My Role\n",
    "    token:\n",
    "      currency_symbol: ''\n",
    "      token_name: ''\n",
    "timeout: $((1000 * (`date -u +%s` + 1 * 60 * 60)))\n",
    "timeout_continuation: close\n",
    "EOI"
   ]
  },
  {
   "cell_type": "markdown",
   "id": "041bbb49-f481-4a24-b25b-a2dafa4346ce",
   "metadata": {},
   "source": [
    "Now create the JSON request for the Marlowe Runtime `POST /contracts` endpoint."
   ]
  },
  {
   "cell_type": "code",
   "execution_count": null,
   "id": "0937f6e4-2c36-43fd-8491-0391f2622e10",
   "metadata": {
    "tags": [],
    "vscode": {
     "languageId": "shellscript"
    }
   },
   "outputs": [],
   "source": [
    "yaml2json << EOI > request-5.json\n",
    "version: v1\n",
    "contract: $(cat contract-5.json)\n",
    "minUTxODeposit: 1200000\n",
    "roles: 99be97113914696a4676909f4e3cb1f2e60e2e08e5abed70caf5c026\n",
    "metadata: {}\n",
    "tags: {}\n",
    "EOI\n",
    "cat request-5.json | jq"
   ]
  },
  {
   "cell_type": "markdown",
   "id": "cbdfb8fd-f522-46a2-8bd6-500568a24d81",
   "metadata": {},
   "source": [
    "Requesting that Marlowe Runtime build the creation transaction results in a safety error."
   ]
  },
  {
   "cell_type": "code",
   "execution_count": null,
   "id": "2c59a96c-ad6e-49ba-b5b8-e461dee9d46a",
   "metadata": {
    "tags": [],
    "vscode": {
     "languageId": "shellscript"
    }
   },
   "outputs": [],
   "source": [
    "curl \"$MARLOWE_RT_WEBSERVER_URL/contracts\" \\\n",
    "  -X POST \\\n",
    "  -H 'Content-Type: application/json' \\\n",
    "  -H \"X-Change-Address: addr_test1vq9prvx8ufwutkwxx9cmmuuajaqmjqwujqlp9d8pvg6gupczgtm9j\" \\\n",
    "  -d @request-5.json \\\n",
    "  -o response-5.json \\\n",
    "  -sS\n",
    "jq -r '.resource.safetyErrors | .[] | .error' response-5.json"
   ]
  },
  {
   "cell_type": "markdown",
   "id": "fa1cc7b6-f010-45ae-a25e-e715afb3c32b",
   "metadata": {},
   "source": [
    "### `TransactionWarning`\n",
    "\n",
    "Some application of inputs to the contract can trigger a warning from Marlowe semantics. Such a warning will also be visible on the \"Warnings\" tab of Marlowe Playground. The safety report lists all of the details of the potential future transaction that would exhibit the warning."
   ]
  },
  {
   "cell_type": "code",
   "execution_count": null,
   "id": "cfe7f12f-1c1c-4dc7-8e9a-2adb73c7a54f",
   "metadata": {
    "tags": []
   },
   "outputs": [],
   "source": [
    "jq '.resource.safetyErrors[0]' response-5.json | json2yaml"
   ]
  },
  {
   "cell_type": "markdown",
   "id": "858582a2-bec8-4d01-bf23-f7659c51eda1",
   "metadata": {},
   "source": [
    "## Sixth example\n",
    "\n",
    "We create a contract that would exceed the Plutus execution cost limit on the Cardano blockchain."
   ]
  },
  {
   "cell_type": "code",
   "execution_count": null,
   "id": "053cfa92-1823-4272-8f4c-fc4c579fc6f3",
   "metadata": {
    "tags": []
   },
   "outputs": [],
   "source": [
    "yaml2json << EOI > contract-6.json\n",
    "timeout: $((1000 * (`date -u +%s` + 1 * 60 * 60)))\n",
    "timeout_continuation: close\n",
    "when:\n",
    "- case:\n",
    "    deposits: 5000000\n",
    "    into_account:\n",
    "      role_token: Alice\n",
    "    of_token:\n",
    "      currency_symbol: ''\n",
    "      token_name: ''\n",
    "    party:\n",
    "      address: addr_test1vq9prvx8ufwutkwxx9cmmuuajaqmjqwujqlp9d8pvg6gupczgtm9j\n",
    "  then:\n",
    "    timeout: $((1000 * (`date -u +%s` + 2 * 60 * 60)))\n",
    "    timeout_continuation: close\n",
    "    when:\n",
    "    - case:\n",
    "        deposits: 5000000\n",
    "        into_account:\n",
    "          role_token: Bob\n",
    "        of_token:\n",
    "          currency_symbol: ''\n",
    "          token_name: ''\n",
    "        party:\n",
    "          address: addr_test1vq9prvx8ufwutkwxx9cmmuuajaqmjqwujqlp9d8pvg6gupczgtm9j\n",
    "      then:\n",
    "        timeout: $((1000 * (`date -u +%s` + 3 * 60 * 60)))\n",
    "        timeout_continuation: close\n",
    "        when:\n",
    "        - case:\n",
    "            deposits: 5000000\n",
    "            into_account:\n",
    "              role_token: Charlie\n",
    "            of_token:\n",
    "              currency_symbol: ''\n",
    "              token_name: ''\n",
    "            party:\n",
    "              address: addr_test1vq9prvx8ufwutkwxx9cmmuuajaqmjqwujqlp9d8pvg6gupczgtm9j\n",
    "          then:\n",
    "            timeout: $((1000 * (`date -u +%s` + 4 * 60 * 60)))\n",
    "            timeout_continuation: close\n",
    "            when:\n",
    "            - case:\n",
    "                deposits: 5000000\n",
    "                into_account:\n",
    "                  role_token: Dave\n",
    "                of_token:\n",
    "                  currency_symbol: ''\n",
    "                  token_name: ''\n",
    "                party:\n",
    "                  address: addr_test1vq9prvx8ufwutkwxx9cmmuuajaqmjqwujqlp9d8pvg6gupczgtm9j\n",
    "              then:\n",
    "                timeout: $((1000 * (`date -u +%s` + 5 * 60 * 60)))\n",
    "                timeout_continuation: close\n",
    "                when:\n",
    "                - case:\n",
    "                    deposits: 5000000\n",
    "                    into_account:\n",
    "                      role_token: Eve\n",
    "                    of_token:\n",
    "                      currency_symbol: ''\n",
    "                      token_name: ''\n",
    "                    party:\n",
    "                      address: addr_test1vq9prvx8ufwutkwxx9cmmuuajaqmjqwujqlp9d8pvg6gupczgtm9j\n",
    "                  then:\n",
    "                    timeout: $((1000 * (`date -u +%s` + 6 * 60 * 60)))\n",
    "                    timeout_continuation: close\n",
    "                    when:\n",
    "                    - case:\n",
    "                        notify_if: true\n",
    "                      then: close\n",
    "EOI"
   ]
  },
  {
   "cell_type": "markdown",
   "id": "a368fcf6-75e1-4936-89fa-a2a5b3bbef9b",
   "metadata": {},
   "source": [
    "Now create the JSON request for the Marlowe Runtime `POST /contracts` endpoint."
   ]
  },
  {
   "cell_type": "code",
   "execution_count": null,
   "id": "d22f25e7-4c3e-4018-841d-959ea9cd85d2",
   "metadata": {
    "tags": [],
    "vscode": {
     "languageId": "shellscript"
    }
   },
   "outputs": [],
   "source": [
    "yaml2json << EOI > request-6.json\n",
    "version: v1\n",
    "contract: $(cat contract-6.json)\n",
    "minUTxODeposit: 1200000\n",
    "roles: 99be97113914696a4676909f4e3cb1f2e60e2e08e5abed70caf5c026\n",
    "metadata: {}\n",
    "tags: {}\n",
    "EOI\n",
    "cat request-6.json | jq"
   ]
  },
  {
   "cell_type": "markdown",
   "id": "6e2f96b9-3a43-49c5-85ba-ad1735b30957",
   "metadata": {},
   "source": [
    "Requesting that Marlowe Runtime build the creation transaction results in safety errors."
   ]
  },
  {
   "cell_type": "code",
   "execution_count": null,
   "id": "89e3353f-3412-415d-b5b8-8a5c06fa68ff",
   "metadata": {
    "tags": [],
    "vscode": {
     "languageId": "shellscript"
    }
   },
   "outputs": [],
   "source": [
    "curl \"$MARLOWE_RT_WEBSERVER_URL/contracts\" \\\n",
    "  -X POST \\\n",
    "  -H 'Content-Type: application/json' \\\n",
    "  -H \"X-Change-Address: addr_test1vq9prvx8ufwutkwxx9cmmuuajaqmjqwujqlp9d8pvg6gupczgtm9j\" \\\n",
    "  -d @request-6.json \\\n",
    "  -o response-6.json \\\n",
    "  -sS\n",
    "jq -r '.resource.safetyErrors | .[] | .error' response-6.json"
   ]
  },
  {
   "cell_type": "markdown",
   "id": "c6573eab-e9de-47fe-b597-34bed91d2f58",
   "metadata": {},
   "source": [
    "### `TransactionValidationError`\n",
    "\n",
    "We saw this error before in the first example where the Cardano node would have rejected the transaction during phase-one validation. Here we have a phase-two (Plutus) validation failure because a transaction is too costly to execute. Note that the failing transaction is not the creation transaction, but a transaction in the latter stages of the contract's execution. The safety report lists all of the details of the potential future transaction that would exhibit the validation failure."
   ]
  },
  {
   "cell_type": "code",
   "execution_count": null,
   "id": "3673e6ef-298f-4d1a-bd85-52df692527e7",
   "metadata": {
    "tags": []
   },
   "outputs": [],
   "source": [
    "jq '.resource.safetyErrors | .[0]' response-6.json"
   ]
  },
  {
   "cell_type": "markdown",
   "id": "95bbc255-08d9-43c7-a21b-a4463873a23b",
   "metadata": {},
   "source": [
    "The `.message` field of the safety error provides the details from the Plutus interpretter."
   ]
  },
  {
   "cell_type": "code",
   "execution_count": null,
   "id": "b84c7740-eb62-418e-8471-8bf9093f16cb",
   "metadata": {
    "tags": []
   },
   "outputs": [],
   "source": [
    "jq '.resource.safetyErrors | .[0].message' response-6.json"
   ]
  },
  {
   "cell_type": "markdown",
   "id": "7cc80f79-ab98-4dd7-b4fc-0ed2cec122d4",
   "metadata": {},
   "source": [
    "### `SafetyAnalysisTimeout`\n",
    "\n",
    "Note that a `SafetyAnalysisTimeout` error might be reported if the Marlowe contract is so large that the Marlowe Runtime server runs out of time analyzing the contract. (Marlowe Runtime imposes a time limit on safety analysis in order to mitigate against denial-of-service attacks.) In this situation, one can use `marlowe-cli run analyze` to analyze the contract because `marlowe-cli` does not impose a time limit for the analysis."
   ]
  },
  {
   "cell_type": "markdown",
   "id": "b30d9b16-4e88-43dd-88db-a9cfc0e3bebb",
   "metadata": {},
   "source": [
    "## Other safety errors\n",
    "\n",
    "The examples above demonstrate all of the commonly occuring Marlowe safety errors that would be detected by Marlowe Runtime.\n",
    "\n",
    "If the contract is built using `marlowe-cli` instead of Marlowe Runtime, then a few additional safety errors might occur. Several of these relate to the initial Marlowe state, which Marlowe Runtime safely constructs but which is not constrained by Marlowe CLI.\n",
    "- `NonPositiveBalance`: An initial account balance is not positive.\n",
    "- `DuplicateAccount`: A duplicate account entry is present in the intial Marlowe state.\n",
    "- `DuplicateChoice`: A duplicate choice entry is present in the initial Marlowe state.\n",
    "- `DuplicateBoundValue`: A duplicate bound-value entry is present in the initial Marlowe state.\n",
    "\n",
    "Other safety errors relate to heuristic analysis performed by Marlowe CLI but not by Marlowe Runtime. (They are not necessary for Marlowe Runtime because Marlowe Runtime always attempts to execute every possible transaction for the contract and so would catch these errors. In Marlowe CLI, attempting to execute every transaction is optional.)\n",
    "- `MaximumValueMayExceedProtocol`: Too many tokens might be stored at some point in the contract.\n",
    "- `TransactionSizeMayExceedProtocol`: The transaction size (in bytes) might be too large.\n",
    "- `TransactionCostMayExceedProtocol` : The transaction's execution cost might be too high.\n",
    "- `MissingContinuation`: The contract is missing a continuation not present in its continuation map."
   ]
  },
  {
   "cell_type": "code",
   "execution_count": null,
   "id": "2f2f481a-fc54-49df-b677-8058ed0fab4b",
   "metadata": {},
   "outputs": [],
   "source": []
  }
 ],
 "metadata": {
  "kernelspec": {
   "display_name": "Bash with Marlowe Tools",
   "language": "bash",
   "name": "bash-minimal"
  },
  "language_info": {
   "codemirror_mode": "shell",
   "file_extension": ".sh",
   "mimetype": "text/x-sh",
   "name": "bash"
  }
 },
 "nbformat": 4,
 "nbformat_minor": 5
}
