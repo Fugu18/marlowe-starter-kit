{
  "cells": [
    {
      "cell_type": "markdown",
      "id": "caa144a8-d3d7-42de-bfdd-8b27cf4c5cbe",
      "metadata": {},
      "source": [
        "# Zero-Coupon Bond Using Marlowe Runtime\\'s REST API\n",
        "\n",
        "***Before running this notebook, you might want to use Jupyter's \"clear output\" function to erase the results of the previous execution of this notebook. That will make more apparent what has been executed in the current session.***\n",
        "\n",
        "The zero-coupon bond example is a simple Marlowe contract where a lender provides principal to a borrower who repays it back with interest.\n",
        "\n",
        "[A video works through this Jupyter notebook.](https://youtu.be/wgJVdkM2pBY)\n",
        "\n",
        "You can ask questions about Marlowe in [the #ask-marlowe channel on the IOG Discord](https://discord.com/channels/826816523368005654/936295815926927390) or post problems with this lesson to [the issues list for the Marlowe Starter Kit github repository](https://github.com/input-output-hk/marlowe-starter-kit/issues).\n",
        "\n",
        "In this demonsration we use Marlowe Runtime\\'s REST API, served via `marlowe-web-server`, to run this contract on Cardano\\'s `preprod` public testnet. Marlowe contracts may use either addresses or role tokens for authorization: here we use role tokens and we have Marlowe Runtime mint them.\n",
        "\n",
        "In [Marlowe Playground](https://play.marlowe.iohk.io//), the contract looks like this in Blockly format.\n",
        "\n",
        "![Zero-coupon bond Marlowe contract](../../images/02-zcb-contract.png)\n",
        "\n",
        "In Marlowe format it appears as\n",
        "```\n",
        "When\n",
        "    [Case\n",
        "        (Deposit\n",
        "            (Role \"Lender\")\n",
        "            (Role \"Lender\")\n",
        "            (Token \"\" \"\")\n",
        "            (ConstantParam \"$PRINCIPAL\")\n",
        "        )\n",
        "        (Pay\n",
        "            (Role \"Lender\")\n",
        "            (Party (Role \"Borrower\"))\n",
        "            (Token \"\" \"\")\n",
        "            (ConstantParam \"$PRINCIPAL\")\n",
        "            (When\n",
        "                [Case\n",
        "                    (Deposit\n",
        "                        (Role \"Borrower\")\n",
        "                        (Role \"Borrower\")\n",
        "                        (Token \"\" \"\")\n",
        "                        (AddValue\n",
        "                            (ConstantParam \"$INTEREST\")\n",
        "                            (ConstantParam \"$PRINCIPAL\")\n",
        "                        )\n",
        "                    )\n",
        "                    (Pay\n",
        "                        (Role \"Borrower\")\n",
        "                        (Party (Role \"Lender\"))\n",
        "                        (Token \"\" \"\")\n",
        "                        (AddValue\n",
        "                            (ConstantParam \"$INTEREST\")\n",
        "                            (ConstantParam \"$PRINCIPAL\")\n",
        "                        )\n",
        "                        Close \n",
        "                    )]\n",
        "                (TimeParam \"$BORROWER_DEADLINE\")\n",
        "                Close \n",
        "            )\n",
        "        )]\n",
        "    (TimeParam \"$LENDER_DEADLINE\")\n",
        "    Close\n",
        "```"
      ]
    },
    {
      "cell_type": "markdown",
      "id": "f4dc8b07-1958-48da-b2b2-481b6b4598d9",
      "metadata": {},
      "source": [
        "## Preliminaries\n",
        "\n",
        "See [Preliminaries](../../docs/preliminaries.md) for information on setting up one's environment for using this tutorial.\n",
        "\n",
        "The first step is to check we have all the required tools and environment variables available to the notebook. "
      ]
    },
    {
      "cell_type": "code",
      "execution_count": null,
      "id": "d5268edb",
      "metadata": {},
      "outputs": [],
      "source": [
        "export SCRIPTS=../../scripts\n",
        "export KEYS=../../keys\n",
        "source $SCRIPTS/check-tools-and-env.sh"
      ]
    },
    {
      "cell_type": "markdown",
      "id": "62c208e2",
      "metadata": {},
      "source": [
        "Make sure you've also [setup and funded](../../setup/01-setup-keys.ipynb) the different parties\n",
        "\n",
        "- Lender\n",
        "    - \\$KEYS/lender.address: Cardano address for the lender\n",
        "    - \\$KEYS/lender.skey: location of signing key file for the lender\n",
        "- Borrower\n",
        "    - \\$KEYS/borrower.address: Cardano address for the borrower\n",
        "    - \\$KEYS/borrower.skey: location of signing key file for the borrower"
      ]
    },
    {
      "cell_type": "markdown",
      "id": "2a165e54-16e4-4bc6-9d68-39ebbdf8c11a",
      "metadata": {
        "tags": [],
        "vscode": {
          "languageId": "shellscript"
        }
      },
      "source": [
        "### Lender address and funds\n",
        "\n",
        "Check that an address and key has been created for the lender. If not, see \"Creating Addresses and Signing Keys\" in [setup/01-setup-keys.ipynb](../../setup/01-setup-keys.ipynb)."
      ]
    },
    {
      "cell_type": "code",
      "execution_count": null,
      "id": "38d0bad1-3b9e-4d80-9aec-a4357c8dc79a",
      "metadata": {
        "tags": [],
        "vscode": {
          "languageId": "shellscript"
        }
      },
      "outputs": [],
      "source": [
        "LENDER_SKEY=$KEYS/lender.skey\n",
        "LENDER_ADDR=$(cat $KEYS/lender.address)\n",
        "echo \"LENDER_ADDR = $LENDER_ADDR\""
      ]
    },
    {
      "cell_type": "markdown",
      "id": "34252c78-51e2-402d-9d81-1e2741122dbc",
      "metadata": {},
      "source": [
        "Check that the lender has at least one hundred ada."
      ]
    },
    {
      "cell_type": "code",
      "execution_count": null,
      "id": "a16fd543-cabf-4540-879c-ed0594ca5ff1",
      "metadata": {
        "tags": [],
        "vscode": {
          "languageId": "shellscript"
        }
      },
      "outputs": [],
      "source": [
        "cardano-cli query utxo --testnet-magic \"$CARDANO_TESTNET_MAGIC\" --address \"$LENDER_ADDR\""
      ]
    },
    {
      "cell_type": "markdown",
      "id": "da2dd15a-97e5-41cf-827a-8811d734bf8e",
      "metadata": {},
      "source": [
        "One can view the address on a Cardano explorer. It sometimes takes thirty seconds or so for the transaction to be visible in an explorer."
      ]
    },
    {
      "cell_type": "code",
      "execution_count": null,
      "id": "b1d78493-a1a1-4739-b911-02b901c73bda",
      "metadata": {
        "tags": [],
        "vscode": {
          "languageId": "shellscript"
        }
      },
      "outputs": [],
      "source": [
        "$SCRIPTS/cardano-scan-address.sh $LENDER_ADDR"
      ]
    },
    {
      "cell_type": "markdown",
      "id": "f9cc8f9b-344a-4886-adaf-5a417d89fe73",
      "metadata": {
        "tags": []
      },
      "source": [
        "### Borrower address and funds\n",
        "\n",
        "Check that an address and key has been created for the borrower."
      ]
    },
    {
      "cell_type": "code",
      "execution_count": null,
      "id": "5103b793-05a7-4a9c-bb5b-ed250bcbcc1e",
      "metadata": {
        "tags": [],
        "vscode": {
          "languageId": "shellscript"
        }
      },
      "outputs": [],
      "source": [
        "BORROWER_SKEY=$KEYS/borrower.skey\n",
        "BORROWER_ADDR=$(cat $KEYS/borrower.address)\n",
        "echo \"BORROWER_ADDR = $BORROWER_ADDR\""
      ]
    },
    {
      "cell_type": "markdown",
      "id": "88bc3a36-b5b9-4cba-9b6f-4e42a645959d",
      "metadata": {},
      "source": [
        "Check that the borrower has at least one hundred ada."
      ]
    },
    {
      "cell_type": "code",
      "execution_count": null,
      "id": "3af7a962-3038-4b55-a31a-cd7ade94b5ec",
      "metadata": {
        "tags": [],
        "vscode": {
          "languageId": "shellscript"
        }
      },
      "outputs": [],
      "source": [
        "cardano-cli query utxo --testnet-magic \"$CARDANO_TESTNET_MAGIC\" --address \"$BORROWER_ADDR\""
      ]
    },
    {
      "cell_type": "markdown",
      "id": "b396581e-9822-415f-836f-8caf27e10750",
      "metadata": {},
      "source": [
        "One can view the address on a Cardano explorer. It sometimes takes thirty seconds or so for the transaction to be visible in an explorer."
      ]
    },
    {
      "cell_type": "code",
      "execution_count": null,
      "id": "3455b47d-45f9-4d31-aebe-ab0ea7b36aa9",
      "metadata": {
        "tags": [],
        "vscode": {
          "languageId": "shellscript"
        }
      },
      "outputs": [],
      "source": [
        "$SCRIPTS/cardano-scan-address.sh $BORROWER_ADDR"
      ]
    },
    {
      "cell_type": "markdown",
      "id": "0421d494-9e2c-436f-bf88-08bc74e14faf",
      "metadata": {},
      "source": [
        "## Design the contract\n",
        "\n",
        "The zero-coupon bond contract can be downloaded from the [Marlowe Playground](https://play.marlowe.iohk.io//) as a JSON file, or it can be generated using [Marlowe CLI](https://github.com/input-output-hk/marlowe-cardano/tree/main/marlowe-cli#readme) using the `marlowe-cli template` command.\n",
        "\n",
        "Set the loan's principal to 80 ada and it's interest to 5 ada."
      ]
    },
    {
      "cell_type": "code",
      "execution_count": null,
      "id": "8d28fcbc-c73f-4c27-8d68-069d8ebe98ce",
      "metadata": {
        "tags": [],
        "vscode": {
          "languageId": "shellscript"
        }
      },
      "outputs": [],
      "source": [
        "ADA=1000000  # 1 ada = 1,000,000 lovelace\n",
        "PRINCIPAL=$((80 * ADA))\n",
        "INTEREST=$((5 * ADA))\n",
        "echo \"PRINCIPAL = $PRINCIPAL lovelace\"\n",
        "echo \"INTEREST = $INTEREST lovelace\""
      ]
    },
    {
      "cell_type": "markdown",
      "id": "d3f8b9be-8bdf-4c69-8f87-e1bec603df0a",
      "metadata": {},
      "source": [
        "On the Cardano blockchain, the protocol parameters require that each UTxO contain at least some ada. Here we will start the contract with 2 ada."
      ]
    },
    {
      "cell_type": "code",
      "execution_count": null,
      "id": "8f699238-b0a0-4626-b04f-e93d93b0f458",
      "metadata": {
        "tags": [],
        "vscode": {
          "languageId": "shellscript"
        }
      },
      "outputs": [],
      "source": [
        "MIN_LOVELACE=\"$((2 * ADA))\"\n",
        "echo \"MIN_LOVELACE = $MIN_LOVELACE lovelace\""
      ]
    },
    {
      "cell_type": "markdown",
      "id": "61fe6ced-f987-487d-8c1d-308c68afe3ae",
      "metadata": {},
      "source": [
        "Later in the example we will need some constants for converting times."
      ]
    },
    {
      "cell_type": "code",
      "execution_count": null,
      "id": "d06a9229-9e53-4a00-accf-ae06b115ff39",
      "metadata": {
        "tags": [],
        "vscode": {
          "languageId": "shellscript"
        }
      },
      "outputs": [],
      "source": [
        "SECOND=1000 # 1 second = 1000 milliseconds\n",
        "MINUTE=$((60 * SECOND)) # 1 minute = 60 seconds\n",
        "HOUR=$((60 * MINUTE)) # 1 hour = 60 minutes"
      ]
    },
    {
      "cell_type": "markdown",
      "id": "bf224f13-e27c-4f54-bedd-c46e8127445a",
      "metadata": {},
      "source": [
        "### *Alternative 1:* Use Marlowe Playground to design the contract\n",
        "\n",
        "If you want to create the contract in Marlowe Playground, do the following:\n",
        "\n",
        "1. Visit https://play.marlowe.iohk.io/ in a web browser.\n",
        "2. Select \"Open an Example\".\n",
        "3. Select \"Marlowe\" or \"Blockly\" under \"Zero Coupon Bond\".\n",
        "4. Select \"Send to Simulator\".\n",
        "5. Set the \"Loan Deadline\" to one hour into the future.\n",
        "6. Set the \"Payback Deadline\" to three hours into the future.\n",
        "7. Set the \"Principal\" to 80 ada.\n",
        "8. Set the \"Interest\" to 5 ada.\n",
        "9. Select \"Download as JSON\", set the file name to \"zcb-contract.json\", and store the file in this folder, namely [marlowe-starter-kit/lessons/02-runtime-rest/](.). Note that you can use Jupyter notebooks upload button\n",
        "\n",
        "![Setting parameters for the zero-coupon bond contract in Marlowe Playground](../../images/zcb-playground.png)"
      ]
    },
    {
      "cell_type": "markdown",
      "id": "8e228d4e-b36f-40d8-a1df-97986c2693f5",
      "metadata": {},
      "source": [
        "### *Alternative 2:* Use Marlowe CLI to generate the contract\n",
        "\n",
        "Below we generate the contract using Marlowe CLI.\n",
        "\n",
        "First find the current time, measured in [POSIX milliseconds](https://en.wikipedia.org/wiki/Unix_time)."
      ]
    },
    {
      "cell_type": "code",
      "execution_count": null,
      "id": "327df025-16bf-4f69-acfc-02e3ce56e795",
      "metadata": {
        "tags": [],
        "vscode": {
          "languageId": "shellscript"
        }
      },
      "outputs": [],
      "source": [
        "NOW=\"$((`date -u +%s` * SECOND))\"\n",
        "echo NOW = \"$NOW\" POSIX milliseconds = \"`date -d @$((NOW / SECOND))`\""
      ]
    },
    {
      "cell_type": "markdown",
      "id": "d0692af8-498a-407f-bd02-cf4b893f65b2",
      "metadata": {},
      "source": [
        "The contract has a lending deadline and a repayment deadline. For convenience in this example, set the deadlines to the near future."
      ]
    },
    {
      "cell_type": "code",
      "execution_count": null,
      "id": "f1797871-350b-400b-b12f-5bc877efca94",
      "metadata": {
        "tags": [],
        "vscode": {
          "languageId": "shellscript"
        }
      },
      "outputs": [],
      "source": [
        "LENDER_DEADLINE=\"$((NOW + 1 * HOUR))\"\n",
        "BORROWER_DEADLINE=\"$((NOW + 3 * HOUR))\"\n",
        "echo LENDER_DEADLINE = \"$LENDER_DEADLINE\" POSIX milliseconds = \"`date -d @$((LENDER_DEADLINE / SECOND))`\"\n",
        "echo BORROWER_DEADLINE = \"$BORROWER_DEADLINE\" POSIX milliseconds = \"`date -d @$((BORROWER_DEADLINE / SECOND))`\""
      ]
    },
    {
      "cell_type": "markdown",
      "id": "0ce999b9-989c-446f-8396-f32227c73d22",
      "metadata": {},
      "source": [
        "Now create the JSON file for the contract, `zcb-contract.json`."
      ]
    },
    {
      "cell_type": "code",
      "execution_count": null,
      "id": "3301ffcf-635e-4c31-bbc9-38189a6fb3c8",
      "metadata": {
        "tags": [],
        "vscode": {
          "languageId": "shellscript"
        }
      },
      "outputs": [],
      "source": [
        "marlowe-cli template zcb \\\n",
        "  --minimum-ada \"$MIN_LOVELACE\" \\\n",
        "  --lender Lender \\\n",
        "  --borrower Borrower \\\n",
        "  --principal \"$PRINCIPAL\" \\\n",
        "  --interest \"$INTEREST\" \\\n",
        "  --lending-deadline \"$LENDER_DEADLINE\" \\\n",
        "  --repayment-deadline \"$BORROWER_DEADLINE\" \\\n",
        "  --out-contract-file zcb-contract.json \\\n",
        "  --out-state-file /dev/null"
      ]
    },
    {
      "cell_type": "markdown",
      "id": "e3ed8fb8-623b-46f3-8723-9b195b26e504",
      "metadata": {},
      "source": [
        "The various command-line options are described by the help system."
      ]
    },
    {
      "cell_type": "code",
      "execution_count": null,
      "id": "4b7754a1-3e13-4d54-81a3-9b98be4c87c9",
      "metadata": {
        "tags": [],
        "vscode": {
          "languageId": "shellscript"
        }
      },
      "outputs": [],
      "source": [
        "marlowe-cli template zcb --help"
      ]
    },
    {
      "cell_type": "markdown",
      "id": "fe62d6ec-5e55-4053-a386-f5e1024732d9",
      "metadata": {},
      "source": [
        "## Examine the contract\n",
        "\n",
        "View the contract file as YAML."
      ]
    },
    {
      "cell_type": "code",
      "execution_count": null,
      "id": "bf449c31-b594-4d80-811e-80cc0b8db14a",
      "metadata": {
        "tags": [],
        "vscode": {
          "languageId": "shellscript"
        }
      },
      "outputs": [],
      "source": [
        "json2yaml zcb-contract.json"
      ]
    },
    {
      "cell_type": "markdown",
      "id": "6669fc88-c8ca-408f-af25-b8ef8f6e4374",
      "metadata": {},
      "source": [
        "### \\[Optional, but recommended\\] Check the safety of the contract\n",
        "\n",
        "If we were running the contract on the Cardano `mainnet`, then we\\'d want to check its safety before creating it, so that there is no chance that we might lose funds.\n",
        "\n",
        "Here are the steps for checking the safety of a contract:\n",
        "\n",
        "1. Understand the [Marlowe Language](https://marlowe.iohk.io/).\n",
        "2. Understand Cardano\\'s [Extended UTxO Model](https://docs.cardano.org/learn/eutxo-explainer).\n",
        "3. Read and understand the [Marlowe Best Practices Guide](https://github.com/input-output-hk/marlowe-cardano/blob/main/marlowe/best-practices.md).\n",
        "4. Read and understand the [Marlowe Security Guide](https://github.com/input-output-hk/marlowe-cardano/blob/main/marlowe/security.md).\n",
        "5. Use [Marlowe Playground](https://play.marlowe.iohk.io//) to flag warnings, perform static analysis, and simulate the contract.\n",
        "6. Use [Marlowe CLI\\'s](https://github.com/input-output-hk/marlowe-cardano/blob/main/marlowe-cli/ReadMe.md) `marlowe-cli run analyze` tool to study whether the contract can run on a Cardano network.\n",
        "7. Run *all execution paths* of the contract on a [Cardano testnet](https://docs.cardano.org/cardano-testnet/overview).\n",
        "\n",
        "See [Lesson 1](01-runtime-cli.ipynb) for an example of performing step 6."
      ]
    },
    {
      "cell_type": "markdown",
      "id": "fcbdcc02-7ffe-46a4-8732-10a3e7b93865",
      "metadata": {},
      "source": [
        "## Transaction 1. Create the Contract"
      ]
    },
    {
      "cell_type": "markdown",
      "id": "6fad0f1b-a918-4c56-867e-29600be217f4",
      "metadata": {},
      "source": [
        "A `HTTP` `POST` request to Marlowe Runtime\\'s `/contracts` endpoint will build the creation transaction for a Marlowe contract. We provide it the JSON file containing the contract and tell it the `MIN_LOVELACE` value that we previously chose. Anyone could create the contract, but in this example the lender will be doing so, so we provide their address to fund the transaction and to receive the change from it.\n",
        "\n",
        "First we create the JSON body of the request to build the creation transaction."
      ]
    },
    {
      "cell_type": "code",
      "execution_count": null,
      "id": "69abcbb8-6a8e-470b-9dd3-365f15c1f04b",
      "metadata": {
        "tags": [],
        "vscode": {
          "languageId": "shellscript"
        }
      },
      "outputs": [],
      "source": [
        "yaml2json << EOI > request-1.json\n",
        "version: v1\n",
        "contract: `cat zcb-contract.json`\n",
        "roles:\n",
        "  Lender: \"$LENDER_ADDR\"\n",
        "  Borrower: \"$BORROWER_ADDR\"\n",
        "minUTxODeposit: $MIN_LOVELACE\n",
        "metadata: {}\n",
        "tags: {}\n",
        "EOI\n",
        "cat request-1.json | jq"
      ]
    },
    {
      "cell_type": "markdown",
      "id": "57ecf6fd-6d89-495a-a66b-adc7437e8c29",
      "metadata": {},
      "source": [
        "Next we post the request and view the response."
      ]
    },
    {
      "cell_type": "code",
      "execution_count": null,
      "id": "d88f4f44-49a1-4548-ac97-6fe95fb6059b",
      "metadata": {
        "tags": [],
        "vscode": {
          "languageId": "shellscript"
        }
      },
      "outputs": [],
      "source": [
        "curl \"$MARLOWE_RT_WEBSERVER_URL/contracts\" \\\n",
        "  -X POST \\\n",
        "  -H 'Content-Type: application/json' \\\n",
        "  -H \"X-Change-Address: $LENDER_ADDR\" \\\n",
        "  -d @request-1.json \\\n",
        "  -o response-1.json \\\n",
        "  -sS\n",
        "json2yaml response-1.json"
      ]
    },
    {
      "cell_type": "markdown",
      "id": "72b2de72-9fc8-45dd-b870-a0aff7877733",
      "metadata": {},
      "source": [
        "The identifier for the contract is embedded in the response."
      ]
    },
    {
      "cell_type": "code",
      "execution_count": null,
      "id": "f446b742-efe7-49bc-96a0-49b4b604bd9b",
      "metadata": {
        "tags": [],
        "vscode": {
          "languageId": "shellscript"
        }
      },
      "outputs": [],
      "source": [
        "CONTRACT_ID=\"$(jq -r '.resource.contractId' response-1.json)\"\n",
        "echo \"CONTRACT_ID = $CONTRACT_ID\""
      ]
    },
    {
      "cell_type": "markdown",
      "id": "6e1fa8f5-4de3-4d99-8721-60c1e2230484",
      "metadata": {},
      "source": [
        "The CBOR serialization (in text-envelope format) is also embedded in the response."
      ]
    },
    {
      "cell_type": "code",
      "execution_count": null,
      "id": "18b60f01-ae10-415d-96bf-9dba0070b752",
      "metadata": {
        "tags": [],
        "vscode": {
          "languageId": "shellscript"
        }
      },
      "outputs": [],
      "source": [
        "jq '.resource.txBody' response-1.json > tx-1.unsigned\n",
        "du -hs tx-1.unsigned"
      ]
    },
    {
      "cell_type": "markdown",
      "id": "cedbb7f9-6e56-4524-b364-3f59711c2f02",
      "metadata": {},
      "source": [
        "There are many ways to sign and submit Cardano transactions:\n",
        "- `cardano-cli` at the command line\n",
        "- `cardano-wallet` at the command line or as a REST service\n",
        "- `cardano-hw-cli` for a hardware wallet at the command line\n",
        "- a Babbage-compatible CIP-30 wallet in a web browser\n",
        "- `marlowe-cli` at the command line\n",
        "\n",
        "For convenience, here we use `marlowe-cli transaction submit`. One may have to wait a minute or so for the transactions to be confirmed on the blockchain."
      ]
    },
    {
      "cell_type": "code",
      "execution_count": null,
      "id": "500d6e54-6f2a-478a-a715-5149ebe057a2",
      "metadata": {
        "tags": [],
        "vscode": {
          "languageId": "shellscript"
        }
      },
      "outputs": [],
      "source": [
        "echo \"submiting transaction...\"\n",
        "TX_1=$(\n",
        "marlowe-cli transaction submit \\\n",
        "  --tx-body-file tx-1.unsigned \\\n",
        "  --required-signer \"$LENDER_SKEY\" \\\n",
        "  --timeout 600s \\\n",
        "| sed -e 's/^TxId \"\\(.*\\)\"$/\\1/' \\\n",
        ")\n",
        "echo \"TX_1 = $TX_1\""
      ]
    },
    {
      "cell_type": "markdown",
      "id": "8379871a-4aba-4134-8aa4-29b04de301d3",
      "metadata": {},
      "source": [
        "One can view the transaction on the Cardano and Marlowe explorer and see that the contract has been created and the parties have received their role tokens. It sometimes takes thirty seconds or so for the transaction to be visible in an explorer."
      ]
    },
    {
      "cell_type": "code",
      "execution_count": null,
      "id": "72115506-5bfd-480f-b3f0-47520dca84c1",
      "metadata": {
        "tags": [],
        "vscode": {
          "languageId": "shellscript"
        }
      },
      "outputs": [],
      "source": [
        "echo \"Cardano Scan (low level)\"\n",
        "$SCRIPTS/cardano-scan-tx.sh $TX_1\n",
        "echo\n",
        "echo \"Marlowe Scan (high level)\"\n",
        "$SCRIPTS/marlowe-scan.sh $CONTRACT_ID"
      ]
    },
    {
      "cell_type": "markdown",
      "id": "bc370be1-0648-4d98-919d-20424f97f953",
      "metadata": {},
      "source": [
        "In particular, we see that the Marlowe contract holds the 2 ada that was set as `MINIMUM_LOVELACE`."
      ]
    },
    {
      "cell_type": "code",
      "execution_count": null,
      "id": "6413cea3-50cc-4537-a8ed-707f4d6b2ba9",
      "metadata": {
        "tags": [],
        "vscode": {
          "languageId": "shellscript"
        }
      },
      "outputs": [],
      "source": [
        "cardano-cli query utxo --testnet-magic \"$CARDANO_TESTNET_MAGIC\" --tx-in \"$CONTRACT_ID\""
      ]
    },
    {
      "cell_type": "markdown",
      "id": "e1d48599-ee16-433c-9664-ed5e8583a6e8",
      "metadata": {},
      "source": [
        "One can see that the lender and borrower have received their role tokens. Note that `4c656e646572 = Lender` and `426f72726f776572 = Borrower` in hexadecimal notation."
      ]
    },
    {
      "cell_type": "code",
      "execution_count": null,
      "id": "dc8bc919-7114-46fe-93b3-b32802667636",
      "metadata": {
        "tags": [],
        "vscode": {
          "languageId": "shellscript"
        }
      },
      "outputs": [],
      "source": [
        "cardano-cli query utxo --testnet-magic \"$CARDANO_TESTNET_MAGIC\" --address \"$LENDER_ADDR\""
      ]
    },
    {
      "cell_type": "code",
      "execution_count": null,
      "id": "8aebb77c-2cfd-4d62-8a2f-0fea8a61a7af",
      "metadata": {
        "tags": [],
        "vscode": {
          "languageId": "shellscript"
        }
      },
      "outputs": [],
      "source": [
        "cardano-cli query utxo --testnet-magic \"$CARDANO_TESTNET_MAGIC\" --address \"$BORROWER_ADDR\""
      ]
    },
    {
      "cell_type": "markdown",
      "id": "4fde972a-1f26-4ad8-81af-2799adf11b83",
      "metadata": {},
      "source": [
        "## View the details of the contract on the blockchain\n",
        "\n",
        "Marlowe Runtime\\'s `HTTP` `GET` endpoint `/contracts/{contractId}` can fetch a contract from the blockchain and return information about it."
      ]
    },
    {
      "cell_type": "code",
      "execution_count": null,
      "id": "8328b458-43fb-4e53-8060-1740d25cf93b",
      "metadata": {
        "tags": [],
        "vscode": {
          "languageId": "shellscript"
        }
      },
      "outputs": [],
      "source": [
        "CONTRACT_URL=\"$MARLOWE_RT_WEBSERVER_URL/`jq -r '.links.contract' response-1.json`\"\n",
        "echo \"CONTRACT_URL = $CONTRACT_URL\""
      ]
    },
    {
      "cell_type": "code",
      "execution_count": null,
      "id": "e805f893-bcd8-4169-a2da-90f1cfa080b2",
      "metadata": {
        "tags": [],
        "vscode": {
          "languageId": "shellscript"
        }
      },
      "outputs": [],
      "source": [
        "curl -sS \"$CONTRACT_URL\" | json2yaml"
      ]
    },
    {
      "cell_type": "markdown",
      "id": "cd4fa3da-0f75-4b96-a911-0ba5bea722f8",
      "metadata": {},
      "source": [
        "## Transaction 2. The lender deposits the principal\n",
        "\n",
        "The lender deposits their 80 ada of principal into the contract using Marlowe Runtime\\'s `HTTP` `POST` `/contract/{contractId}/transactions` endpoint. The lender is providing the funding for and receiving the change from this transaction, so we provide their address.\n",
        "\n",
        "The deposit is represented as JSON input to the contract. The `marlowe-cli input deposit` tool conveniently formats the correct JSON for a deposit."
      ]
    },
    {
      "cell_type": "code",
      "execution_count": null,
      "id": "1fbf5b90-ba80-44b9-83f5-791a7a10b2ab",
      "metadata": {
        "tags": [],
        "vscode": {
          "languageId": "shellscript"
        }
      },
      "outputs": [],
      "source": [
        "marlowe-cli input deposit --help"
      ]
    },
    {
      "cell_type": "code",
      "execution_count": null,
      "id": "3c8a6076-f342-489c-939c-e9c017b6b445",
      "metadata": {
        "tags": [],
        "vscode": {
          "languageId": "shellscript"
        }
      },
      "outputs": [],
      "source": [
        "marlowe-cli input deposit \\\n",
        "  --deposit-party Lender \\\n",
        "  --deposit-account Lender \\\n",
        "  --deposit-amount \"$PRINCIPAL\" \\\n",
        "  --out-file input-2.json\n",
        "json2yaml input-2.json"
      ]
    },
    {
      "cell_type": "markdown",
      "id": "ad93d832-bf8c-47af-8d80-31a20eef344b",
      "metadata": {},
      "source": [
        "This input is included in the JSON request."
      ]
    },
    {
      "cell_type": "code",
      "execution_count": null,
      "id": "4fc16b02-358c-438f-9e5b-7d709da7eac5",
      "metadata": {
        "tags": [],
        "vscode": {
          "languageId": "shellscript"
        }
      },
      "outputs": [],
      "source": [
        "yaml2json << EOI > request-2.json\n",
        "version: v1\n",
        "inputs: [$(cat input-2.json)]\n",
        "metadata: {}\n",
        "tags: {}\n",
        "EOI\n",
        "cat request-2.json | jq"
      ]
    },
    {
      "cell_type": "markdown",
      "id": "c13f2307-ae38-4052-84ad-394159b3394d",
      "metadata": {},
      "source": [
        "Next we post the request and store the response."
      ]
    },
    {
      "cell_type": "code",
      "execution_count": null,
      "id": "465152a1-eaaa-4dab-9035-aa306c0022fa",
      "metadata": {
        "tags": [],
        "vscode": {
          "languageId": "shellscript"
        }
      },
      "outputs": [],
      "source": [
        "curl \"$CONTRACT_URL/transactions\" \\\n",
        "  -X POST \\\n",
        "  -H 'Content-Type: application/json' \\\n",
        "  -H \"X-Change-Address: $LENDER_ADDR\" \\\n",
        "  -d @request-2.json \\\n",
        "  -o response-2.json \\\n",
        "  -sS\n",
        "json2yaml response-2.json"
      ]
    },
    {
      "cell_type": "markdown",
      "id": "a53aa30a-f631-4714-af72-fdb1df93f12e",
      "metadata": {},
      "source": [
        "Once again, use `marlowe-cli` to submit the transaction and then wait for confirmation."
      ]
    },
    {
      "cell_type": "code",
      "execution_count": null,
      "id": "6fb5d4c0-c158-434b-8dac-b2160f426e01",
      "metadata": {
        "tags": [],
        "vscode": {
          "languageId": "shellscript"
        }
      },
      "outputs": [],
      "source": [
        "jq '.resource.txBody' response-2.json > tx-2.unsigned\n",
        "du -hs tx-2.unsigned"
      ]
    },
    {
      "cell_type": "code",
      "execution_count": null,
      "id": "b2aa2f81-d6b7-4994-b90b-0812d5fb3fca",
      "metadata": {
        "tags": [],
        "vscode": {
          "languageId": "shellscript"
        }
      },
      "outputs": [],
      "source": [
        "echo \"submiting transaction...\"\n",
        "TX_2=$(\n",
        "marlowe-cli transaction submit \\\n",
        "  --tx-body-file tx-2.unsigned \\\n",
        "  --required-signer \"$LENDER_SKEY\" \\\n",
        "  --timeout 600s \\\n",
        "| sed -e 's/^TxId \"\\(.*\\)\"$/\\1/' \\\n",
        ")\n",
        "echo \"TX_2 = $TX_2\""
      ]
    },
    {
      "cell_type": "markdown",
      "id": "166c77e3-d2ec-4961-b1c9-59b882a9c7b7",
      "metadata": {},
      "source": [
        "One can view the transaction on the Cardano and Marlowe explorer. It sometimes takes thirty seconds or so for the transaction to be visible in an explorer."
      ]
    },
    {
      "cell_type": "code",
      "execution_count": null,
      "id": "9b994073-d1b9-44a4-8149-9b307a69a4e4",
      "metadata": {
        "tags": [],
        "vscode": {
          "languageId": "shellscript"
        }
      },
      "outputs": [],
      "source": [
        "echo \"Cardano Scan (low level)\"\n",
        "$SCRIPTS/cardano-scan-tx.sh $TX_2\n",
        "echo\n",
        "echo \"Marlowe Scan (high level)\"\n",
        "$SCRIPTS/marlowe-scan.sh $CONTRACT_ID"
      ]
    },
    {
      "cell_type": "markdown",
      "id": "44cd316b-d4db-4d2b-87a7-eb38b95f5fb3",
      "metadata": {},
      "source": [
        "One can see that the lender has approximately 83 ada less than originally. Two ada were deposited in the contract when it was created and 80 ada were paid to the borrower in the second transaction; another 1 ada was attached to the role token that was sent to the borrower. The lender also holds their own role token."
      ]
    },
    {
      "cell_type": "code",
      "execution_count": null,
      "id": "b45dc15d-f54f-49cb-a36d-0524f47fd70e",
      "metadata": {
        "tags": [],
        "vscode": {
          "languageId": "shellscript"
        }
      },
      "outputs": [],
      "source": [
        "cardano-cli query utxo --testnet-magic \"$CARDANO_TESTNET_MAGIC\" --address \"$LENDER_ADDR\""
      ]
    },
    {
      "cell_type": "markdown",
      "id": "369f3945-299b-41dd-9cbf-f3864002b6aa",
      "metadata": {},
      "source": [
        "The Marlowe contract still has the 2 ada from its creation."
      ]
    },
    {
      "cell_type": "code",
      "execution_count": null,
      "id": "6485d605-dec4-4bab-86f6-81bf002041ed",
      "metadata": {
        "tags": [],
        "vscode": {
          "languageId": "shellscript"
        }
      },
      "outputs": [],
      "source": [
        "cardano-cli query utxo --testnet-magic \"$CARDANO_TESTNET_MAGIC\" --tx-in \"$TX_2#1\""
      ]
    },
    {
      "cell_type": "markdown",
      "id": "42835790-b1b7-4c03-a935-dda6addd4f19",
      "metadata": {},
      "source": [
        "Marlowe\\'s role-payout address holds the 80 ada on behalf of the borrower."
      ]
    },
    {
      "cell_type": "code",
      "execution_count": null,
      "id": "82e3a33e-7ce1-4aa3-824c-59cbfe881ba9",
      "metadata": {
        "tags": [],
        "vscode": {
          "languageId": "shellscript"
        }
      },
      "outputs": [],
      "source": [
        "cardano-cli query utxo --testnet-magic \"$CARDANO_TESTNET_MAGIC\" --tx-in \"$TX_2#3\""
      ]
    },
    {
      "cell_type": "markdown",
      "id": "3eb0d02e-c30c-4845-86b5-602c2279b518",
      "metadata": {},
      "source": [
        "## View the further progress of the contract on the blockchain\n",
        "\n",
        "Marlowe Runtime\\'s `HTTP` `GET` endpoint `/contracts/{contractId}/transactions/{transactionId}` can fetch a contract from the blockchain and return information about it."
      ]
    },
    {
      "cell_type": "code",
      "execution_count": null,
      "id": "e0461725-7f2b-4256-ac83-8e681ecb3e35",
      "metadata": {
        "tags": [],
        "vscode": {
          "languageId": "shellscript"
        }
      },
      "outputs": [],
      "source": [
        "curl -sS \"$CONTRACT_URL\"/transactions/\"$TX_2\" | json2yaml"
      ]
    },
    {
      "cell_type": "markdown",
      "id": "0b17395e-b9bf-4d65-87be-52003df285cc",
      "metadata": {},
      "source": [
        "## Transaction 3. The borrower withdraws the principal\n",
        "\n",
        "The principal of 80 ada is held at Marlowe's role-payout address for the benefit of the borrower. The borrower can withdraw these funds at any time. The contract ID and role name are included in the request body for a withdrawal."
      ]
    },
    {
      "cell_type": "code",
      "execution_count": null,
      "id": "87bf77eb-ba6f-4981-b7a6-453c63685a76",
      "metadata": {
        "tags": [],
        "vscode": {
          "languageId": "shellscript"
        }
      },
      "outputs": [],
      "source": [
        "yaml2json << EOI > request-3.json\n",
        "contractId: \"$CONTRACT_ID\"\n",
        "role: Borrower\n",
        "EOI\n",
        "cat request-3.json"
      ]
    },
    {
      "cell_type": "markdown",
      "id": "5d015904-3a3b-4ae3-bb31-526789648e46",
      "metadata": {},
      "source": [
        "Next we post the request and store the response."
      ]
    },
    {
      "cell_type": "code",
      "execution_count": null,
      "id": "42a6ba19-7618-417f-a9f2-9c4380a67c8b",
      "metadata": {
        "tags": [],
        "vscode": {
          "languageId": "shellscript"
        }
      },
      "outputs": [],
      "source": [
        "curl \"$MARLOWE_RT_WEBSERVER_URL/withdrawals\" \\\n",
        "  -X POST \\\n",
        "  -H 'Content-Type: application/json' \\\n",
        "  -H \"X-Change-Address: $BORROWER_ADDR\" \\\n",
        "  -d @request-3.json \\\n",
        "  -o response-3.json \\\n",
        "  -sS\n",
        "json2yaml response-3.json"
      ]
    },
    {
      "cell_type": "markdown",
      "id": "63337199-839c-46a1-85ff-76a9b0cdec26",
      "metadata": {},
      "source": [
        "Once again, use `marlowe-cli` to submit the transaction and then wait for confirmation."
      ]
    },
    {
      "cell_type": "code",
      "execution_count": null,
      "id": "c4858e39-8eb6-4407-bf68-985938162a74",
      "metadata": {
        "tags": [],
        "vscode": {
          "languageId": "shellscript"
        }
      },
      "outputs": [],
      "source": [
        "jq '.resource.txBody' response-3.json > tx-3.unsigned\n",
        "du -hs tx-3.unsigned"
      ]
    },
    {
      "cell_type": "code",
      "execution_count": null,
      "id": "a1e8ffa6-1a77-422b-8df3-aeeb78716942",
      "metadata": {
        "tags": [],
        "vscode": {
          "languageId": "shellscript"
        }
      },
      "outputs": [],
      "source": [
        "echo \"submiting transaction...\"\n",
        "TX_3=$(\n",
        "marlowe-cli transaction submit \\\n",
        "  --tx-body-file tx-3.unsigned \\\n",
        "  --required-signer \"$BORROWER_SKEY\" \\\n",
        "  --timeout 600s \\\n",
        "| sed -e 's/^TxId \"\\(.*\\)\"$/\\1/' \\\n",
        ")\n",
        "echo \"TX_3 = $TX_3\""
      ]
    },
    {
      "cell_type": "markdown",
      "id": "83cdba11-1c56-4bd4-8cfc-70240f562477",
      "metadata": {},
      "source": [
        "On can view the transaction on a Cardano explorer. It sometimes takes thirty seconds or so for the transaction to be visible in an explorer."
      ]
    },
    {
      "cell_type": "code",
      "execution_count": null,
      "id": "b3df594b-eb21-4551-8c84-26eef2af54fd",
      "metadata": {
        "tags": [],
        "vscode": {
          "languageId": "shellscript"
        }
      },
      "outputs": [],
      "source": [
        "$SCRIPTS/cardano-scan-tx.sh $TX_3"
      ]
    },
    {
      "cell_type": "markdown",
      "id": "26ef923e-2e12-4288-a213-1c05ee323f9c",
      "metadata": {},
      "source": [
        "The borrower now has about an additional 80 ada (the loan's principal). The borrower also holds their own role token."
      ]
    },
    {
      "cell_type": "code",
      "execution_count": null,
      "id": "0c876c3c-381c-441d-92e9-b6bedbaf23a9",
      "metadata": {
        "tags": [],
        "vscode": {
          "languageId": "shellscript"
        }
      },
      "outputs": [],
      "source": [
        "echo \"Borrower:\"\n",
        "$SCRIPTS/cardano-scan-address.sh $BORROWER_ADDR\n",
        "echo\n",
        "cardano-cli query utxo --testnet-magic \"$CARDANO_TESTNET_MAGIC\" --address \"$BORROWER_ADDR\""
      ]
    },
    {
      "cell_type": "markdown",
      "id": "e7c652f6-02da-4786-a54d-755d59e4aba9",
      "metadata": {
        "tags": [],
        "vscode": {
          "languageId": "shellscript"
        }
      },
      "source": [
        "## Transaction 4. The borrower repays the loan\n",
        "\n",
        "After some time passes, the borrower repays principal plus interest. Thus, they fund the transaction and receive the change at their address.\n",
        "\n",
        "First build the input to deposit the funds to the contract."
      ]
    },
    {
      "cell_type": "code",
      "execution_count": null,
      "id": "1eb38d8c-4e20-4172-9deb-4364680823db",
      "metadata": {
        "tags": [],
        "vscode": {
          "languageId": "shellscript"
        }
      },
      "outputs": [],
      "source": [
        "marlowe-cli input deposit \\\n",
        "  --deposit-party Borrower \\\n",
        "  --deposit-account Borrower \\\n",
        "  --deposit-amount \"$((PRINCIPAL+INTEREST))\" \\\n",
        "  --out-file input-4.json\n",
        "json2yaml input-4.json"
      ]
    },
    {
      "cell_type": "markdown",
      "id": "a21b8c20-0207-40c1-a999-937ceb508e9d",
      "metadata": {},
      "source": [
        "Next build the request."
      ]
    },
    {
      "cell_type": "code",
      "execution_count": null,
      "id": "9e0e83d1-cd70-4c42-a350-242e0b5fdd06",
      "metadata": {
        "tags": [],
        "vscode": {
          "languageId": "shellscript"
        }
      },
      "outputs": [],
      "source": [
        "yaml2json << EOI > request-4.json\n",
        "version: v1\n",
        "inputs: [$(cat input-4.json)]\n",
        "metadata: {}\n",
        "tags: {}\n",
        "EOI\n",
        "cat request-4.json | jq"
      ]
    },
    {
      "cell_type": "markdown",
      "id": "8ae5b15b-b43a-492b-83c7-5b7693c61348",
      "metadata": {},
      "source": [
        "Now post the request to Marlowe Runtime."
      ]
    },
    {
      "cell_type": "code",
      "execution_count": null,
      "id": "dc569d98-d5a0-4c40-bafb-6018ce4084ed",
      "metadata": {
        "tags": [],
        "vscode": {
          "languageId": "shellscript"
        }
      },
      "outputs": [],
      "source": [
        "curl \"$CONTRACT_URL/transactions\" \\\n",
        "  -X POST \\\n",
        "  -H 'Content-Type: application/json' \\\n",
        "  -H \"X-Change-Address: $BORROWER_ADDR\" \\\n",
        "  -d @request-4.json \\\n",
        "  -o response-4.json \\\n",
        "  -sS\n",
        "json2yaml response-4.json"
      ]
    },
    {
      "cell_type": "markdown",
      "id": "b2e54a32-15b1-436f-a793-4c30fa048436",
      "metadata": {},
      "source": [
        "Once again, use `marlowe-cli` to submit the transaction and then wait for confirmation."
      ]
    },
    {
      "cell_type": "code",
      "execution_count": null,
      "id": "b6f04318-bfb8-47d5-b681-0abb90d62640",
      "metadata": {
        "tags": [],
        "vscode": {
          "languageId": "shellscript"
        }
      },
      "outputs": [],
      "source": [
        "jq '.resource.txBody' response-4.json > tx-4.unsigned\n",
        "du -hs tx-4.unsigned"
      ]
    },
    {
      "cell_type": "code",
      "execution_count": null,
      "id": "0faa8cd4-902d-4399-8621-03dac811deda",
      "metadata": {
        "tags": [],
        "vscode": {
          "languageId": "shellscript"
        }
      },
      "outputs": [],
      "source": [
        "echo \"submiting transaction...\"\n",
        "TX_4=$(\n",
        "marlowe-cli transaction submit \\\n",
        "  --tx-body-file tx-4.unsigned \\\n",
        "  --required-signer \"$BORROWER_SKEY\" \\\n",
        "  --timeout 600s \\\n",
        "| sed -e 's/^TxId \"\\(.*\\)\"$/\\1/' \\\n",
        ")\n",
        "echo \"TX_4 = $TX_4\""
      ]
    },
    {
      "cell_type": "markdown",
      "id": "0a24c60d-e470-487b-b607-fa94fc243314",
      "metadata": {},
      "source": [
        "One can view the transaction on a Cardano explorer. It sometimes takes thirty seconds or so for the transaction to be visible in an explorer."
      ]
    },
    {
      "cell_type": "code",
      "execution_count": null,
      "id": "53279d7a-c775-422e-a258-e4077df1e2b4",
      "metadata": {
        "tags": [],
        "vscode": {
          "languageId": "shellscript"
        }
      },
      "outputs": [],
      "source": [
        "echo \"Cardano Scan (low level)\"\n",
        "$SCRIPTS/cardano-scan-tx.sh $TX_4\n",
        "echo\n",
        "echo \"Marlowe Scan (high level)\"\n",
        "$SCRIPTS/marlowe-scan.sh $CONTRACT_ID"
      ]
    },
    {
      "cell_type": "markdown",
      "id": "1196c641-e92e-4848-a20b-b673d7fcbc71",
      "metadata": {},
      "source": [
        "The borrower now has a total of about 5 ada (the loan's interest) less than originally."
      ]
    },
    {
      "cell_type": "code",
      "execution_count": null,
      "id": "3e8f27e3-e94a-4332-94a2-2f8af8800d56",
      "metadata": {
        "tags": [],
        "vscode": {
          "languageId": "shellscript"
        }
      },
      "outputs": [],
      "source": [
        "cardano-cli query utxo --testnet-magic \"$CARDANO_TESTNET_MAGIC\" --address \"$BORROWER_ADDR\""
      ]
    },
    {
      "cell_type": "markdown",
      "id": "b21ad2f2-9666-4baa-bbde-76d7b32f5be9",
      "metadata": {},
      "source": [
        "The 85 ada are at Marlowe\\'s role-payout address, held for the benefit of the lender."
      ]
    },
    {
      "cell_type": "code",
      "execution_count": null,
      "id": "6d7bd817-4174-42c1-bc15-29e00f05645b",
      "metadata": {
        "tags": [],
        "vscode": {
          "languageId": "shellscript"
        }
      },
      "outputs": [],
      "source": [
        "cardano-cli query utxo --testnet-magic \"$CARDANO_TESTNET_MAGIC\" --tx-in \"$TX_4#2\""
      ]
    },
    {
      "cell_type": "markdown",
      "id": "8b4951f7-58bb-4399-a09a-2029f4e2dfe4",
      "metadata": {},
      "source": [
        "The Marlowe contract has closed, so there is no output to its script address."
      ]
    },
    {
      "cell_type": "markdown",
      "id": "236043d5-5559-42a6-bf86-4171d80af4d4",
      "metadata": {},
      "source": [
        "## View the completion of the contract on the blockchain\n",
        "\n",
        "Marlowe Runtime\\'s `HTTP` `GET` endpoint `/contracts/{contractId}/transactions/{transactionId}` can fetch a contract from the blockchain and return information about it."
      ]
    },
    {
      "cell_type": "code",
      "execution_count": null,
      "id": "f6f164ae-2fca-4e9f-9368-d2ffe8ce83b9",
      "metadata": {
        "tags": [],
        "vscode": {
          "languageId": "shellscript"
        }
      },
      "outputs": [],
      "source": [
        "curl -sS \"$CONTRACT_URL\"/transactions/\"$TX_4\" | json2yaml"
      ]
    },
    {
      "cell_type": "markdown",
      "id": "12fc02fa-a082-4ec2-8683-c48e1a0e0020",
      "metadata": {},
      "source": [
        "## Transaction 5. The lender withdraws their principal and interest\n",
        "\n",
        "Here again we withdraw funds from the Marlowe role-payout address."
      ]
    },
    {
      "cell_type": "code",
      "execution_count": null,
      "id": "6c1cabad-cde9-4086-bc9b-6bc33fe4fba3",
      "metadata": {
        "tags": [],
        "vscode": {
          "languageId": "shellscript"
        }
      },
      "outputs": [],
      "source": [
        "yaml2json << EOI > request-5.json\n",
        "contractId: \"$CONTRACT_ID\"\n",
        "role: Lender\n",
        "EOI\n",
        "cat request-5.json"
      ]
    },
    {
      "cell_type": "markdown",
      "id": "2a93c3e3-0418-48c3-a54f-31678ed94252",
      "metadata": {},
      "source": [
        "Next we post the request and store the response."
      ]
    },
    {
      "cell_type": "code",
      "execution_count": null,
      "id": "0a07552a-52db-4d24-a757-c2e93aec456b",
      "metadata": {
        "tags": [],
        "vscode": {
          "languageId": "shellscript"
        }
      },
      "outputs": [],
      "source": [
        "curl \"$MARLOWE_RT_WEBSERVER_URL/withdrawals\" \\\n",
        "  -X POST \\\n",
        "  -H 'Content-Type: application/json' \\\n",
        "  -H \"X-Change-Address: $LENDER_ADDR\" \\\n",
        "  -d @request-5.json \\\n",
        "  -o response-5.json \\\n",
        "  -sS\n",
        "json2yaml response-5.json"
      ]
    },
    {
      "cell_type": "markdown",
      "id": "6e2e7970-05d0-4f63-9bca-68737d39700d",
      "metadata": {},
      "source": [
        "Once again, use `marlowe-cli` to submit the transaction and then wait for confirmation."
      ]
    },
    {
      "cell_type": "code",
      "execution_count": null,
      "id": "aa048a7f-6619-4e12-9cf1-98791744b430",
      "metadata": {
        "tags": [],
        "vscode": {
          "languageId": "shellscript"
        }
      },
      "outputs": [],
      "source": [
        "jq '.resource.txBody' response-5.json > tx-5.unsigned\n",
        "du -hs tx-5.unsigned"
      ]
    },
    {
      "cell_type": "code",
      "execution_count": null,
      "id": "a0ac6dc2-1ffd-43f8-991e-c6108b100606",
      "metadata": {
        "tags": [],
        "vscode": {
          "languageId": "shellscript"
        }
      },
      "outputs": [],
      "source": [
        "echo \"submiting transaction...\"\n",
        "TX_5=$(\n",
        "marlowe-cli transaction submit \\\n",
        "  --tx-body-file tx-5.unsigned \\\n",
        "  --required-signer \"$LENDER_SKEY\" \\\n",
        "  --timeout 600s \\\n",
        "| sed -e 's/^TxId \"\\(.*\\)\"$/\\1/' \\\n",
        ")\n",
        "echo \"TX_5 = $TX_5\""
      ]
    },
    {
      "cell_type": "markdown",
      "id": "2776f365-9ba9-481a-ac1e-79f7e9cc60bc",
      "metadata": {},
      "source": [
        "One can view the transaction on a Cardano explorer. It sometimes takes thirty seconds or so for the transaction to be visible in an explorer."
      ]
    },
    {
      "cell_type": "code",
      "execution_count": null,
      "id": "0465596a-9141-476b-84e2-003f2c55eefa",
      "metadata": {
        "tags": [],
        "vscode": {
          "languageId": "shellscript"
        }
      },
      "outputs": [],
      "source": [
        "$SCRIPTS/cardano-scan-tx.sh $TX_5"
      ]
    },
    {
      "cell_type": "markdown",
      "id": "dee709f4-b59a-4411-abd3-defc4031f942",
      "metadata": {},
      "source": [
        "The lender now has an additional 5 ada (the loan's interest), minus fees, compared to their original balance before the contract started."
      ]
    },
    {
      "cell_type": "code",
      "execution_count": null,
      "id": "98ac7654-f649-42dd-972f-103c3b55ad4f",
      "metadata": {
        "tags": [],
        "vscode": {
          "languageId": "shellscript"
        }
      },
      "outputs": [],
      "source": [
        "cardano-cli query utxo --testnet-magic \"$CARDANO_TESTNET_MAGIC\" --address \"$LENDER_ADDR\""
      ]
    },
    {
      "cell_type": "markdown",
      "id": "facfe24b-dd7a-44fe-896b-da2b6c6be5b2",
      "metadata": {},
      "source": [
        "## *Appendix:* OpenAPI Description of Marlowe Web Services\n",
        "\n",
        "Here is how to obtain the OpenAPI description of endpoints and types provided by `marlowe-web-server`."
      ]
    },
    {
      "cell_type": "code",
      "execution_count": null,
      "id": "9f2104c6-6463-4ce5-a1b9-e86e066a08ce",
      "metadata": {
        "tags": [],
        "vscode": {
          "languageId": "shellscript"
        }
      },
      "outputs": [],
      "source": [
        "curl -sS \"$MARLOWE_RT_WEBSERVER_URL/openapi.json\" | json2yaml | head -n 20"
      ]
    },
    {
      "cell_type": "markdown",
      "id": "eb6f2357-705e-4aa9-bd54-9164830add53",
      "metadata": {},
      "source": [
        "It is also available at https://docs.marlowe.iohk.io/api/get-contracts.\n",
        "\n",
        "![Marlowe Runtime OpenAPI](../../images/openapi.png)"
      ]
    }
  ],
  "metadata": {
    "kernelspec": {
      "display_name": "Bash with Marlowe Tools",
      "language": "bash",
      "name": "bash-minimal"
    },
    "language_info": {
      "codemirror_mode": "shell",
      "file_extension": ".sh",
      "mimetype": "text/x-sh",
      "name": "bash"
    }
  },
  "nbformat": 4,
  "nbformat_minor": 5
}
