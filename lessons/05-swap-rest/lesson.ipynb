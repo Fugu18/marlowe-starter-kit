{
 "cells": [
  {
   "cell_type": "markdown",
   "id": "a8b9d3ec-9b61-4c11-8465-504673116f9d",
   "metadata": {},
   "source": [
    "# Token Swap Using Marlowe Runtime\\'s REST API\n",
    "\n",
    "***Before running this notebook, you might want to use Jupyter's \"clear output\" function to erase the results of the previous execution of this notebook. That will make more apparent what has been executed in the current session.***\n",
    "\n",
    "The token-swap contract example is a simple Marlowe contract that lets parties trade ada for a token.\n",
    "\n",
    "[A video works through this Jupyter notebook.](https://youtu.be/sSrVCRNoytU)\n",
    "\n",
    "You can ask questions about Marlowe in [the #ask-marlowe channel on the IOG Discord](https://discord.com/channels/826816523368005654/936295815926927390) or post problems with this lesson to [the issues list for the Marlowe Starter Kit github repository](https://github.com/input-output-hk/marlowe-starter-kit/issues).\n",
    "\n",
    "In this demonsration we use Marlowe Runtime\\'s REST API, served via `marlowe-web-server`, to run this contract on Cardano\\'s `preprod` public testnet. Marlowe contracts may use either addresses or role tokens for authorization: here we use role tokens and we have Marlowe Runtime mint them.\n",
    "\n",
    "In [Marlowe Playground](https://play.marlowe.iohk.io//), the contract looks like this in Blockly format.\n",
    "\n",
    "![Marlowe contract for swapping tokens](../../images/swap-playground.png)\n",
    "\n",
    "In Marlowe format it appears as\n",
    "```\n",
    "When\n",
    "    [Case\n",
    "        (Deposit\n",
    "            (Role \"Ada provider\")\n",
    "            (Role \"Ada provider\")\n",
    "            (Token \"\" \"\")\n",
    "            (MulValue\n",
    "                (Constant 1000000)\n",
    "                (ConstantParam \"Amount of Ada\")\n",
    "            )\n",
    "        )\n",
    "        (When\n",
    "            [Case\n",
    "                (Deposit\n",
    "                    (Role \"Dollar provider\")\n",
    "                    (Role \"Dollar provider\")\n",
    "                    (Token \"9772ff715b691c0444f333ba1db93b055c0864bec48fff92d1f2a7fe\" \"Djed_testMicroUSD\")\n",
    "                    (ConstantParam \"Amount of dollars\")\n",
    "                )\n",
    "                (Pay\n",
    "                    (Role \"Ada provider\")\n",
    "                    (Party (Role \"Dollar provider\"))\n",
    "                    (Token \"\" \"\")\n",
    "                    (MulValue\n",
    "                        (Constant 1000000)\n",
    "                        (ConstantParam \"Amount of Ada\")\n",
    "                    )\n",
    "                    (Pay\n",
    "                        (Role \"Dollar provider\")\n",
    "                        (Party (Role \"Ada provider\"))\n",
    "                        (Token \"9772ff715b691c0444f333ba1db93b055c0864bec48fff92d1f2a7fe\" \"Djed_testMicroUSD\")\n",
    "                        (ConstantParam \"Amount of dollars\")\n",
    "                        Close \n",
    "                    )\n",
    "                )]\n",
    "            (TimeParam \"Timeout for dollar deposit\")\n",
    "            Close \n",
    "        )]\n",
    "    (TimeParam \"Timeout for Ada deposit\")\n",
    "    Close\n",
    "```"
   ]
  },
  {
   "cell_type": "markdown",
   "id": "f128e27a-afe6-4d03-8c46-ef6e5753e4a8",
   "metadata": {},
   "source": [
    "## Preliminaries\n",
    "\n",
    "See [Lesson 0. Preliminaries](00-preliminaries.md) for information on setting up one's environment for using this tutorial.\n",
    "\n",
    "The lesson assumes that the following environment variables have been set.\n",
    "- `CARDANO_NODE_SOCKET_PATH`: location of Cardano node's socket.\n",
    "- `CARDANO_TESTNET_MAGIC`: testnet magic number.\n",
    "- `MARLOWE_RT_WEBSERVER_HOST`: IP address of the Marlowe Runtime web server.\n",
    "- `MARLOWE_RT_WEBSERVER_PORT`: Port number for the Marlowe Runtime web server.\n",
    "\n",
    "It also assumes that the parties have addresses, signing keys, and funds.\n",
    "- Ada Provider\n",
    "    - [keys/lender.address](keys/lender.address): Cardano address for the ada provider\n",
    "    - [keys/lender.skey](keys/lender.skey): location of signing key file for the ada provider\n",
    "- Dollar Provider\n",
    "    - [keys/borrower.address](keys/borrower.address): Cardano address for the dollar provider\n",
    "    - [keys/borrower.skey](keys/borrower.skey): location of signing key file for the dollar provider"
   ]
  },
  {
   "cell_type": "markdown",
   "id": "053cac6c-9bfc-4c47-ba48-c5cc145734d7",
   "metadata": {},
   "source": [
    "### Access to Cardano node and Marlowe Runtime\n",
    "\n",
    "If we're using [demeter.run](https://demeter.run/)'s Cardano Marlowe Runtime extension, then we already have access to Cardano Node and Marlowe Runtime. The followind commands will set the required environment variables to use a local docker deployment on the default ports. It will also set some supplementary environment variables."
   ]
  },
  {
   "cell_type": "code",
   "execution_count": null,
   "id": "e1859d35-ded3-4e16-be43-b1ef030d7f16",
   "metadata": {
    "tags": [],
    "vscode": {
     "languageId": "shellscript"
    }
   },
   "outputs": [],
   "source": [
    "if [[ -z \"$MARLOWE_RT_WEBSERVER_PORT\" ]]\n",
    "then\n",
    "\n",
    "  # Only required for `marlowe-cli` and `cardano-cli`.\n",
    "  export CARDANO_NODE_SOCKET_PATH=\"$(docker volume inspect marlowe-starter-kit_shared | jq -r '.[0].Mountpoint')/node.socket\"\n",
    "  export CARDANO_TESTNET_MAGIC=1 # Note that preprod=1 and preview=2. Do not set this variable if using mainnet.\n",
    "\n",
    "  # Only required for Marlowe Runtime REST API.\n",
    "  export MARLOWE_RT_WEBSERVER_HOST=\"127.0.0.1\"\n",
    "  export MARLOWE_RT_WEBSERVER_PORT=3780\n",
    "\n",
    "fi\n",
    "\n",
    "# FIXME: This should have been inherited from the parent environment.\n",
    "if [[ -z \"$CARDANO_NODE_SOCKET_PATH\" ]]\n",
    "then\n",
    "  export CARDANO_NODE_SOCKET_PATH=/ipc/node.socket\n",
    "fi\n",
    "\n",
    "# FIXME: This should have been set in the parent environment.\n",
    "if [[ -z \"$CARDANO_TESTNET_MAGIC\" ]]\n",
    "then\n",
    "  export CARDANO_TESTNET_MAGIC=$CARDANO_NODE_MAGIC\n",
    "fi\n",
    "\n",
    "case \"$CARDANO_TESTNET_MAGIC\" in\n",
    "  1)\n",
    "    export \"EXPLORER_URL=https://preprod.cardanoscan.io\"\n",
    "    ;;\n",
    "  2)\n",
    "    export \"EXPLORER_URL=https://preview.cardanoscan.io\"\n",
    "    ;;\n",
    "  *)\n",
    "    # Use `mainnet` as the default.\n",
    "    export \"EXPLORER_URL=https://cardanoscan.io\"\n",
    "    ;;\n",
    "esac\n",
    "\n",
    "MARLOWE_RT_WEBSERVER_URL=\"http://$MARLOWE_RT_WEBSERVER_HOST\":\"$MARLOWE_RT_WEBSERVER_PORT\"\n",
    "\n",
    "echo \"CARDANO_NODE_SOCKET_PATH = $CARDANO_NODE_SOCKET_PATH\"\n",
    "echo \"CARDANO_TESTNET_MAGIC = $CARDANO_TESTNET_MAGIC\"\n",
    "echo \"MARLOWE_RT_WEBSERVER_HOST = $MARLOWE_RT_WEBSERVER_HOST\"\n",
    "echo \"MARLOWE_RT_WEBSERVER_PORT = $MARLOWE_RT_WEBSERVER_PORT\"\n",
    "echo \"MARLOWE_RT_WEBSERVER_URL = $MARLOWE_RT_WEBSERVER_URL\""
   ]
  },
  {
   "cell_type": "markdown",
   "id": "d95b634e-944e-4f16-aa1d-880cbf53ddb6",
   "metadata": {
    "tags": []
   },
   "source": [
    "Note the test network magic number:\n",
    "- `preprod` = 1\n",
    "- `preview` = 2"
   ]
  },
  {
   "cell_type": "markdown",
   "id": "1f209e22-2e7c-444c-a72b-aa88d676e0f8",
   "metadata": {
    "tags": [],
    "vscode": {
     "languageId": "shellscript"
    }
   },
   "source": [
    "### Ada Provider address and funds\n",
    "\n",
    "Check that an address and key has been created for the ada provider. If not, see \"Creating Addresses and Signing Keys\" in [Lesson 0. Preliminaries](00-preliminaries.md)."
   ]
  },
  {
   "cell_type": "code",
   "execution_count": null,
   "id": "38d0bad1-3b9e-4d80-9aec-a4357c8dc79a",
   "metadata": {
    "tags": [],
    "vscode": {
     "languageId": "shellscript"
    }
   },
   "outputs": [],
   "source": [
    "ADA_PROVIDER_SKEY=keys/lender.skey\n",
    "ADA_PROVIDER_ADDR=$(cat keys/lender.address)\n",
    "echo \"ADA_PROVIDER_ADDR = $ADA_PROVIDER_ADDR\""
   ]
  },
  {
   "cell_type": "markdown",
   "id": "112cbd18-2567-4563-a452-e4a5c529a171",
   "metadata": {},
   "source": [
    "Check that the ada provider has at least three hundred ada."
   ]
  },
  {
   "cell_type": "code",
   "execution_count": null,
   "id": "a16fd543-cabf-4540-879c-ed0594ca5ff1",
   "metadata": {
    "tags": [],
    "vscode": {
     "languageId": "shellscript"
    }
   },
   "outputs": [],
   "source": [
    "cardano-cli query utxo --testnet-magic \"$CARDANO_TESTNET_MAGIC\" --address \"$ADA_PROVIDER_ADDR\""
   ]
  },
  {
   "cell_type": "markdown",
   "id": "d23a2695-2d68-4fa3-80cb-3afe5afe2196",
   "metadata": {},
   "source": [
    "One can view the address on a Cardano explorer. It sometimes takes thirty seconds or so for the transaction to be visible in an explorer."
   ]
  },
  {
   "cell_type": "code",
   "execution_count": null,
   "id": "b1d78493-a1a1-4739-b911-02b901c73bda",
   "metadata": {
    "tags": [],
    "vscode": {
     "languageId": "shellscript"
    }
   },
   "outputs": [],
   "source": [
    "echo \"$EXPLORER_URL\"/address/\"$ADA_PROVIDER_ADDR\""
   ]
  },
  {
   "cell_type": "markdown",
   "id": "754f546b-b42d-434c-ad78-b4e1fada39b9",
   "metadata": {
    "tags": [],
    "vscode": {
     "languageId": "shellscript"
    }
   },
   "source": [
    "### Dollar Provider address and funds\n",
    "\n",
    "Check that an address and key has been created for the dollar provider. If not, see \"Creating Addresses and Signing Keys\" in [Lesson 0. Preliminaries](00-preliminaries.md)."
   ]
  },
  {
   "cell_type": "code",
   "execution_count": null,
   "id": "5103b793-05a7-4a9c-bb5b-ed250bcbcc1e",
   "metadata": {
    "tags": [],
    "vscode": {
     "languageId": "shellscript"
    }
   },
   "outputs": [],
   "source": [
    "USD_PROVIDER_SKEY=keys/borrower.skey\n",
    "USD_PROVIDER_ADDR=$(cat keys/borrower.address)\n",
    "echo \"USD_PROVIDER_ADDR = $USD_PROVIDER_ADDR\""
   ]
  },
  {
   "cell_type": "markdown",
   "id": "41a004a6-8681-4ce1-b07e-6d6d07ee1b38",
   "metadata": {},
   "source": [
    "Check that the dollar provider has at least one hundred USD tokens."
   ]
  },
  {
   "cell_type": "code",
   "execution_count": null,
   "id": "3af7a962-3038-4b55-a31a-cd7ade94b5ec",
   "metadata": {
    "tags": [],
    "vscode": {
     "languageId": "shellscript"
    }
   },
   "outputs": [],
   "source": [
    "cardano-cli query utxo --testnet-magic \"$CARDANO_TESTNET_MAGIC\" --address \"$USD_PROVIDER_ADDR\""
   ]
  },
  {
   "cell_type": "markdown",
   "id": "0bf7ec49-14c5-4f3a-9eb7-c97cd38fcfcf",
   "metadata": {},
   "source": [
    "One can view the address on a Cardano explorer. It sometimes takes thirty seconds or so for the transaction to be visible in an explorer."
   ]
  },
  {
   "cell_type": "code",
   "execution_count": null,
   "id": "3455b47d-45f9-4d31-aebe-ab0ea7b36aa9",
   "metadata": {
    "tags": [],
    "vscode": {
     "languageId": "shellscript"
    }
   },
   "outputs": [],
   "source": [
    "echo \"$EXPLORER_URL\"/address/\"$USD_PROVIDER_ADDR\""
   ]
  },
  {
   "cell_type": "markdown",
   "id": "00396fbb-ce2d-4666-9bac-85a8ccd7945b",
   "metadata": {},
   "source": [
    "## Design the contract\n",
    "\n",
    "The swap contract can be downloaded from the [Marlowe Playground](https://play.marlowe.iohk.io//) as a JSON file, or it can be generated using [Marlowe CLI](https://github.com/input-output-hk/marlowe-cardano/tree/main/marlowe-cli#readme) using the `marlowe-cli template` command.\n",
    "\n",
    "Set the ada amount to 294 and the dollar amount to 100.000000."
   ]
  },
  {
   "cell_type": "code",
   "execution_count": null,
   "id": "8d28fcbc-c73f-4c27-8d68-069d8ebe98ce",
   "metadata": {
    "vscode": {
     "languageId": "shellscript"
    }
   },
   "outputs": [],
   "source": [
    "ADA=1000000  # 1 ada = 1,000,000 lovelace\n",
    "LOVELACE_AMOUNT=$((294 * ADA))\n",
    "MICROUSD_AMOUNT=$((100 * 1000000))\n",
    "echo \"LOVELACE_AMOUNT = $LOVELACE_AMOUNT lovelace\"\n",
    "echo \"MICROUSD_AMOUNT = $MICROUSD_AMOUNT µUSD\""
   ]
  },
  {
   "cell_type": "markdown",
   "id": "5a11195d-000f-44e4-a217-50e5d7de01ed",
   "metadata": {},
   "source": [
    "On the Cardano blockchain, the protocol parameters require that each UTxO contain at least some ada. Here we will start the contract with 2 ada."
   ]
  },
  {
   "cell_type": "code",
   "execution_count": null,
   "id": "8f699238-b0a0-4626-b04f-e93d93b0f458",
   "metadata": {
    "vscode": {
     "languageId": "shellscript"
    }
   },
   "outputs": [],
   "source": [
    "MIN_LOVELACE=\"$((2 * ADA))\"\n",
    "echo \"MIN_LOVELACE = $MIN_LOVELACE lovelace\""
   ]
  },
  {
   "cell_type": "markdown",
   "id": "0b4c28e3-3f4b-4fa8-8dd4-aa7b51921132",
   "metadata": {},
   "source": [
    "Later in the example we will need some constants for converting times."
   ]
  },
  {
   "cell_type": "code",
   "execution_count": null,
   "id": "d06a9229-9e53-4a00-accf-ae06b115ff39",
   "metadata": {
    "tags": [],
    "vscode": {
     "languageId": "shellscript"
    }
   },
   "outputs": [],
   "source": [
    "SECOND=1000 # 1 second = 1000 milliseconds\n",
    "MINUTE=$((60 * SECOND)) # 1 minute = 60 seconds\n",
    "HOUR=$((60 * MINUTE)) # 1 hour = 60 minutes"
   ]
  },
  {
   "cell_type": "markdown",
   "id": "94d3ddb1-35e9-49ff-9062-1854febca9b7",
   "metadata": {},
   "source": [
    "Now design the contract.\n",
    "\n",
    "1. Visit https://play.marlowe.iohk.io// in a web browser.\n",
    "2. Select \"Open an Example\".\n",
    "3. Select \"Marlowe\" or \"Blockly\" under \"Swap\".\n",
    "4. Edit the contract so that the dollar token has the policy ID and name for the dollar token. In this example we use test djed, which has policy ID `9772ff715b691c0444f333ba1db93b055c0864bec48fff92d1f2a7fe` and token name `Djed_testMicroUSD`.\n",
    "5. Select \"Send to Simulator\".\n",
    "6. Set the \"Timeout for ada deposit\" to one hour into the future.\n",
    "7. Set the \"Timeout for dollar deposit\" to two hours into the future\n",
    "8. Set \"Amount of Ada\" to 294.\n",
    "9. Set \"Amount of dollars\" to 100,000,000, since the units of measure are millionths.\n",
    "10. Select \"Download as JSON\", set the file name to \"swap-contract.json\", and store the file in this folder, namely [marlowe-starter-kit/](.).\n",
    "\n",
    "![Setting parameters for the swap contract in Marlowe Playground](../../images/swap-simulation.png)"
   ]
  },
  {
   "cell_type": "markdown",
   "id": "b158c36f-c316-4a08-8db5-8464645f2466",
   "metadata": {},
   "source": [
    "## Examine the contract\n",
    "\n",
    "View the contract file as YAML."
   ]
  },
  {
   "cell_type": "code",
   "execution_count": null,
   "id": "58855a22-decd-4730-bac7-800d0f766034",
   "metadata": {
    "vscode": {
     "languageId": "shellscript"
    }
   },
   "outputs": [],
   "source": [
    "json2yaml swap-contract.json"
   ]
  },
  {
   "cell_type": "markdown",
   "id": "4c4c1547-2bb6-4517-ba71-bf1ff35ad973",
   "metadata": {},
   "source": [
    "### \\[Optional, but recommended\\] Check the safety of the contract\n",
    "\n",
    "If we were running the contract on the Cardano `mainnet`, then we\\'d want to check its safety before creating it, so that there is no chance that we might lose funds.\n",
    "\n",
    "Here are the steps for checking the safety of a contract:\n",
    "\n",
    "1. Understand the [Marlowe Language](https://marlowe.iohk.io/).\n",
    "2. Understand Cardano\\'s [Extended UTxO Model](https://docs.cardano.org/learn/eutxo-explainer).\n",
    "3. Read and understand the [Marlowe Best Practices Guide](https://github.com/input-output-hk/marlowe-cardano/blob/main/marlowe/best-practices.md).\n",
    "4. Read and understand the [Marlowe Security Guide](https://github.com/input-output-hk/marlowe-cardano/blob/main/marlowe/security.md).\n",
    "5. Use [Marlowe Playground](https://play.marlowe.iohk.io//) to flag warnings, perform static analysis, and simulate the contract.\n",
    "6. Use [Marlowe CLI\\'s](https://github.com/input-output-hk/marlowe-cardano/blob/main/marlowe-cli/ReadMe.md) `marlowe-cli run analyze` tool to study whether the contract can run on a Cardano network.\n",
    "7. Run *all execution paths* of the contract on a [Cardano testnet](https://docs.cardano.org/cardano-testnet/overview).\n",
    "\n",
    "See [Lesson 1](01-runtime-cli.ipynb) for an example of performing step 6."
   ]
  },
  {
   "cell_type": "markdown",
   "id": "87bb70c0-a8ed-4a9a-b0b7-732c40f0cad6",
   "metadata": {},
   "source": [
    "## Transaction 1: Ada provider Creates Swap Contract with Initial ADA\n",
    "\n",
    "A `HTTP` `POST` request to Marlowe Runtime\\'s `/contracts` endpoint will build the creation transaction for a Marlowe contract. We provide it the JSON file containing the contract and tell it the `MIN_LOVELACE` value that we previously chose. Anyone could create the contract, but in this example the lender will be doing so, so we provide their address to fund the transaction and to receive the change from it.\n",
    "\n",
    "First we create the JSON body of the request to build the creation transaction."
   ]
  },
  {
   "cell_type": "code",
   "execution_count": null,
   "id": "4314ece0-462f-4df8-b739-f9db58cbc6a9",
   "metadata": {
    "vscode": {
     "languageId": "shellscript"
    }
   },
   "outputs": [],
   "source": [
    "yaml2json << EOI > request-1.json\n",
    "version: v1\n",
    "contract: `cat swap-contract.json`\n",
    "roles:\n",
    "  Ada provider: \"$ADA_PROVIDER_ADDR\"\n",
    "  Dollar provider: \"$USD_PROVIDER_ADDR\"\n",
    "minUTxODeposit: $MIN_LOVELACE\n",
    "metadata: {}\n",
    "tags: {}\n",
    "EOI\n",
    "cat request-1.json"
   ]
  },
  {
   "cell_type": "markdown",
   "id": "6b04626a-20d3-4b72-9cf0-0465e818311b",
   "metadata": {},
   "source": [
    "Next we post the request and view the response."
   ]
  },
  {
   "cell_type": "code",
   "execution_count": null,
   "id": "5843b85f-f87e-46d2-a6e8-2550328bb6c6",
   "metadata": {
    "tags": [],
    "vscode": {
     "languageId": "shellscript"
    }
   },
   "outputs": [],
   "source": [
    "curl \"$MARLOWE_RT_WEBSERVER_URL/contracts\" \\\n",
    "  -X POST \\\n",
    "  -H 'Content-Type: application/json' \\\n",
    "  -H \"X-Change-Address: $ADA_PROVIDER_ADDR\" \\\n",
    "  -d @request-1.json \\\n",
    "  -o response-1.json \\\n",
    "  -sS\n",
    "json2yaml response-1.json"
   ]
  },
  {
   "cell_type": "markdown",
   "id": "fde4adcb-8e68-4cae-bc3a-c3ef077ff47c",
   "metadata": {},
   "source": [
    "The identifier for the contract is embedded in the response."
   ]
  },
  {
   "cell_type": "code",
   "execution_count": null,
   "id": "2e882a2e-07a0-4bf7-891d-cf99651c8c5a",
   "metadata": {
    "vscode": {
     "languageId": "shellscript"
    }
   },
   "outputs": [],
   "source": [
    "CONTRACT_ID=\"$(jq -r '.resource.contractId' response-1.json)\"\n",
    "echo \"CONTRACT_ID = $CONTRACT_ID\""
   ]
  },
  {
   "cell_type": "markdown",
   "id": "c1be0970-cd75-484d-a745-6e88208b612a",
   "metadata": {},
   "source": [
    "The CBOR serialization (in text-envelope format) is also embedded in the response."
   ]
  },
  {
   "cell_type": "code",
   "execution_count": null,
   "id": "fb237371-071c-4b70-baca-c67f0751ac3e",
   "metadata": {
    "vscode": {
     "languageId": "shellscript"
    }
   },
   "outputs": [],
   "source": [
    "jq '.resource.txBody' response-1.json > tx-1.unsigned"
   ]
  },
  {
   "cell_type": "markdown",
   "id": "a59332a1-b1a0-4264-a84e-6b613eb20d72",
   "metadata": {},
   "source": [
    "There are many ways to sign and submit Cardano transactions:\n",
    "- `cardano-cli` at the command line\n",
    "- `cardano-wallet` at the command line or as a REST service\n",
    "- `cardano-hw-cli` for a hardware wallet at the command line\n",
    "- a Babbage-compatible CIP-30 wallet in a web browser\n",
    "- `marlowe-cli` at the command line\n",
    "\n",
    "For convenience, here we use `marlowe-cli transaction submit`. One may have to wait a minute or so for the transactions to be confirmed on the blockchain."
   ]
  },
  {
   "cell_type": "code",
   "execution_count": null,
   "id": "89bb49ae-2353-4d85-9ae5-ad805061f2cd",
   "metadata": {
    "vscode": {
     "languageId": "shellscript"
    }
   },
   "outputs": [],
   "source": [
    "TX_1=$(\n",
    "marlowe-cli transaction submit \\\n",
    "  --tx-body-file tx-1.unsigned \\\n",
    "  --required-signer \"$ADA_PROVIDER_SKEY\" \\\n",
    "  --timeout 600s \\\n",
    "| sed -e 's/^TxId \"\\(.*\\)\"$/\\1/' \\\n",
    ")\n",
    "echo \"TX_1 = $TX_1\""
   ]
  },
  {
   "cell_type": "markdown",
   "id": "df082e87-eeaf-4924-b55b-94a4ba50c327",
   "metadata": {},
   "source": [
    "One can view the transaction on a Cardano explorer and see that the contract has been created and the parties have received their role tokens. It sometimes takes thirty seconds or so for the transaction to be visible in an explorer."
   ]
  },
  {
   "cell_type": "code",
   "execution_count": null,
   "id": "006ca411-2088-439f-b735-b49892de22e8",
   "metadata": {
    "vscode": {
     "languageId": "shellscript"
    }
   },
   "outputs": [],
   "source": [
    "echo \"$EXPLORER_URL\"/transaction/\"$TX_1?tab=utxo\""
   ]
  },
  {
   "cell_type": "markdown",
   "id": "9a1f44ce-de67-4b87-95d8-c1e052cc308a",
   "metadata": {},
   "source": [
    "In particular, we see that the Marlowe contract holds the 2 ada that was set as `MINIMUM_LOVELACE`."
   ]
  },
  {
   "cell_type": "code",
   "execution_count": null,
   "id": "bc7b2078-d23c-47f4-9f12-697de8469ce1",
   "metadata": {
    "vscode": {
     "languageId": "shellscript"
    }
   },
   "outputs": [],
   "source": [
    "cardano-cli query utxo --testnet-magic \"$CARDANO_TESTNET_MAGIC\" --tx-in \"$CONTRACT_ID\""
   ]
  },
  {
   "cell_type": "markdown",
   "id": "9ce2b5b3-4c0b-4c53-ab6d-a1373499097c",
   "metadata": {},
   "source": [
    "One can see that the ada and dollar providers have received their role tokens. Note that `4164612070726f7669646572 = \"Ada provider`, `4275796572 = Buyer`, and `446f6c6c61722070726f7669646572 = \"Dollar provider\"` in hexadecimal notation. Also note that `446a65645f746573744d696372 = Djed_testMicroUSD`."
   ]
  },
  {
   "cell_type": "code",
   "execution_count": null,
   "id": "613f0751-3bc5-4ca7-b208-ef5830eef61d",
   "metadata": {
    "tags": [],
    "vscode": {
     "languageId": "shellscript"
    }
   },
   "outputs": [],
   "source": [
    "cardano-cli query utxo --testnet-magic \"$CARDANO_TESTNET_MAGIC\" --address \"$ADA_PROVIDER_ADDR\""
   ]
  },
  {
   "cell_type": "code",
   "execution_count": null,
   "id": "7f6d2b5e-86c2-4f53-ba20-8f95b43c3145",
   "metadata": {
    "tags": [],
    "vscode": {
     "languageId": "shellscript"
    }
   },
   "outputs": [],
   "source": [
    "cardano-cli query utxo --testnet-magic \"$CARDANO_TESTNET_MAGIC\" --address \"$USD_PROVIDER_ADDR\""
   ]
  },
  {
   "cell_type": "markdown",
   "id": "3a7f985a-dba3-4b5f-aab8-8418270c5dda",
   "metadata": {},
   "source": [
    "## View the details of the contract on the blockchain\n",
    "\n",
    "Marlowe Runtime\\'s `HTTP` `GET` endpoint `/contracts/{contractId}` can fetch a contract from the blockchain and return information about it."
   ]
  },
  {
   "cell_type": "code",
   "execution_count": null,
   "id": "8328b458-43fb-4e53-8060-1740d25cf93b",
   "metadata": {
    "vscode": {
     "languageId": "shellscript"
    }
   },
   "outputs": [],
   "source": [
    "CONTRACT_URL=\"$MARLOWE_RT_WEBSERVER_URL/`jq -r '.links.contract' response-1.json`\"\n",
    "echo \"CONTRACT_URL = $CONTRACT_URL\""
   ]
  },
  {
   "cell_type": "code",
   "execution_count": null,
   "id": "e805f893-bcd8-4169-a2da-90f1cfa080b2",
   "metadata": {
    "vscode": {
     "languageId": "shellscript"
    }
   },
   "outputs": [],
   "source": [
    "curl -sS \"$CONTRACT_URL\" | json2yaml"
   ]
  },
  {
   "cell_type": "markdown",
   "id": "e2166e0c-108b-40e5-b720-00043d697e1a",
   "metadata": {},
   "source": [
    "## Transaction 2: The Ada Provider Deposits 294 Ada into the Contract\n",
    "\n",
    "The ada provider deposits their 294 ada into the contract using Marlowe Runtime\\'s `HTTP` `POST` `/contract/{contractId}/transactions` endpoint. The buyer is providing the funding for and receiving the change from this transaction, so we provide their address.\n",
    "\n",
    "The deposit is represented as JSON input to the contract. The `marlowe-cli input deposit` tool conveniently formats the correct JSON for a deposit."
   ]
  },
  {
   "cell_type": "code",
   "execution_count": null,
   "id": "3c8a6076-f342-489c-939c-e9c017b6b445",
   "metadata": {
    "vscode": {
     "languageId": "shellscript"
    }
   },
   "outputs": [],
   "source": [
    "marlowe-cli input deposit \\\n",
    "  --deposit-party 'Ada provider' \\\n",
    "  --deposit-account 'Ada provider' \\\n",
    "  --deposit-amount \"$LOVELACE_AMOUNT\" \\\n",
    "  --out-file input-2.json\n",
    "json2yaml input-2.json"
   ]
  },
  {
   "cell_type": "code",
   "execution_count": null,
   "id": "4fc16b02-358c-438f-9e5b-7d709da7eac5",
   "metadata": {
    "vscode": {
     "languageId": "shellscript"
    }
   },
   "outputs": [],
   "source": [
    "yaml2json << EOI > request-2.json\n",
    "version: v1\n",
    "inputs: [$(cat input-2.json)]\n",
    "metadata: {}\n",
    "tags: {}\n",
    "EOI\n",
    "cat request-2.json"
   ]
  },
  {
   "cell_type": "markdown",
   "id": "7f66252b-23fc-47e3-825d-7aba51a86368",
   "metadata": {},
   "source": [
    "Next we post the request and store the response."
   ]
  },
  {
   "cell_type": "code",
   "execution_count": null,
   "id": "465152a1-eaaa-4dab-9035-aa306c0022fa",
   "metadata": {
    "vscode": {
     "languageId": "shellscript"
    }
   },
   "outputs": [],
   "source": [
    "curl \"$CONTRACT_URL/transactions\" \\\n",
    "  -X POST \\\n",
    "  -H 'Content-Type: application/json' \\\n",
    "  -H \"X-Change-Address: $ADA_PROVIDER_ADDR\" \\\n",
    "  -d @request-2.json \\\n",
    "  -o response-2.json \\\n",
    "  -sS\n",
    "json2yaml response-2.json"
   ]
  },
  {
   "cell_type": "markdown",
   "id": "69e4024a-c61f-4e5a-8272-d1f958f82a15",
   "metadata": {},
   "source": [
    "Once again, use `marlowe-cli` to submit the transaction and then wait for confirmation."
   ]
  },
  {
   "cell_type": "code",
   "execution_count": null,
   "id": "6fb5d4c0-c158-434b-8dac-b2160f426e01",
   "metadata": {
    "vscode": {
     "languageId": "shellscript"
    }
   },
   "outputs": [],
   "source": [
    "jq '.resource.txBody' response-2.json > tx-2.unsigned"
   ]
  },
  {
   "cell_type": "code",
   "execution_count": null,
   "id": "b2aa2f81-d6b7-4994-b90b-0812d5fb3fca",
   "metadata": {
    "vscode": {
     "languageId": "shellscript"
    }
   },
   "outputs": [],
   "source": [
    "TX_2=$(\n",
    "marlowe-cli transaction submit \\\n",
    "  --tx-body-file tx-2.unsigned \\\n",
    "  --required-signer \"$ADA_PROVIDER_SKEY\" \\\n",
    "  --timeout 600s \\\n",
    "| sed -e 's/^TxId \"\\(.*\\)\"$/\\1/' \\\n",
    ")\n",
    "echo \"TX_2 = $TX_2\""
   ]
  },
  {
   "cell_type": "markdown",
   "id": "b7d1ac41-f3c3-47b0-b192-e0f8ad53fdfa",
   "metadata": {},
   "source": [
    "One can view the transaction on a Cardano explorer. It sometimes takes thirty seconds or so for the transaction to be visible in an explorer."
   ]
  },
  {
   "cell_type": "code",
   "execution_count": null,
   "id": "9b994073-d1b9-44a4-8149-9b307a69a4e4",
   "metadata": {
    "vscode": {
     "languageId": "shellscript"
    }
   },
   "outputs": [],
   "source": [
    "echo \"$EXPLORER_URL\"/transaction/\"$TX_2?tab=utxo\""
   ]
  },
  {
   "cell_type": "markdown",
   "id": "664d2826-7d6c-4564-9ef9-6b12e3e76f53",
   "metadata": {},
   "source": [
    "One can see that the ada provider has approximately 294 ada less than originally."
   ]
  },
  {
   "cell_type": "code",
   "execution_count": null,
   "id": "b45dc15d-f54f-49cb-a36d-0524f47fd70e",
   "metadata": {
    "vscode": {
     "languageId": "shellscript"
    }
   },
   "outputs": [],
   "source": [
    "cardano-cli query utxo --testnet-magic \"$CARDANO_TESTNET_MAGIC\" --address \"$ADA_PROVIDER_ADDR\""
   ]
  },
  {
   "cell_type": "markdown",
   "id": "4d2574d2-587f-46f7-8129-431694172296",
   "metadata": {},
   "source": [
    "The Marlowe contract still has the 2 ada from its creation and an additional 294 ada."
   ]
  },
  {
   "cell_type": "code",
   "execution_count": null,
   "id": "6485d605-dec4-4bab-86f6-81bf002041ed",
   "metadata": {
    "vscode": {
     "languageId": "shellscript"
    }
   },
   "outputs": [],
   "source": [
    "cardano-cli query utxo --testnet-magic \"$CARDANO_TESTNET_MAGIC\" --tx-in \"$TX_2#1\""
   ]
  },
  {
   "cell_type": "markdown",
   "id": "2bbf4214-ecf6-4d4f-a8ea-acdb6ff8bcb7",
   "metadata": {},
   "source": [
    "## View the further progress of the contract on the blockchain\n",
    "\n",
    "Marlowe Runtime\\'s `HTTP` `GET` endpoint `/contracts/{contractId}/transactions/{transactionId}` can fetch a contract from the blockchain and return information about it."
   ]
  },
  {
   "cell_type": "code",
   "execution_count": null,
   "id": "e0461725-7f2b-4256-ac83-8e681ecb3e35",
   "metadata": {
    "vscode": {
     "languageId": "shellscript"
    }
   },
   "outputs": [],
   "source": [
    "curl -sS \"$CONTRACT_URL\"/transactions/\"$TX_2\" | json2yaml"
   ]
  },
  {
   "cell_type": "markdown",
   "id": "1a416c81-4ccb-4964-aab8-e2d76fc4512a",
   "metadata": {},
   "source": [
    "## Transaction 3: The Dollar Provider deposits 100 Djed into the Contract\n",
    "\n",
    "The dollar provider deposits their 100 djed into the contract using Marlowe Runtime\\'s `HTTP` `POST` `/contract/{contractId}/transactions` endpoint. The buyer is providing the funding for and receiving the change from this transaction, so we provide their address.\n",
    "\n",
    "The deposit is represented as JSON input to the contract. The `marlowe-cli input deposit` tool conveniently formats the correct JSON for a deposit."
   ]
  },
  {
   "cell_type": "code",
   "execution_count": null,
   "id": "42aeee88-13e1-4170-b18a-727cd5cde877",
   "metadata": {
    "tags": [],
    "vscode": {
     "languageId": "shellscript"
    }
   },
   "outputs": [],
   "source": [
    "marlowe-cli input deposit \\\n",
    "  --deposit-party 'Dollar provider' \\\n",
    "  --deposit-account 'Dollar provider' \\\n",
    "  --deposit-token 9772ff715b691c0444f333ba1db93b055c0864bec48fff92d1f2a7fe.Djed_testMicroUSD \\\n",
    "  --deposit-amount \"$MICROUSD_AMOUNT\" \\\n",
    "  --out-file input-3.json\n",
    "json2yaml input-3.json"
   ]
  },
  {
   "cell_type": "code",
   "execution_count": null,
   "id": "3fee1c9b-c4d9-4ab4-9b47-061db363d31f",
   "metadata": {
    "vscode": {
     "languageId": "shellscript"
    }
   },
   "outputs": [],
   "source": [
    "yaml2json << EOI > request-3.json\n",
    "version: v1\n",
    "inputs: [$(cat input-3.json)]\n",
    "metadata: {}\n",
    "tags: {}\n",
    "EOI\n",
    "cat request-3.json"
   ]
  },
  {
   "cell_type": "markdown",
   "id": "8787ec8b-f045-4fbc-adfd-f68bc88303b4",
   "metadata": {},
   "source": [
    "Next we post the request and store the response."
   ]
  },
  {
   "cell_type": "code",
   "execution_count": null,
   "id": "387362e6-8cb8-4a46-9222-4a065d964167",
   "metadata": {
    "vscode": {
     "languageId": "shellscript"
    }
   },
   "outputs": [],
   "source": [
    "curl \"$CONTRACT_URL/transactions\" \\\n",
    "  -X POST \\\n",
    "  -H 'Content-Type: application/json' \\\n",
    "  -H \"X-Change-Address: $USD_PROVIDER_ADDR\" \\\n",
    "  -d @request-3.json \\\n",
    "  -o response-3.json \\\n",
    "  -sS\n",
    "json2yaml response-3.json"
   ]
  },
  {
   "cell_type": "markdown",
   "id": "29fe4142-1525-47ef-8270-571c3a5744fc",
   "metadata": {},
   "source": [
    "Once again, use `marlowe-cli` to submit the transaction and then wait for confirmation."
   ]
  },
  {
   "cell_type": "code",
   "execution_count": null,
   "id": "57490822-4650-481c-b2a3-beb73075ae6b",
   "metadata": {
    "vscode": {
     "languageId": "shellscript"
    }
   },
   "outputs": [],
   "source": [
    "jq '.resource.txBody' response-3.json > tx-3.unsigned"
   ]
  },
  {
   "cell_type": "code",
   "execution_count": null,
   "id": "61733dd3-cac6-4ef3-bee8-9cb7ec4362ff",
   "metadata": {
    "vscode": {
     "languageId": "shellscript"
    }
   },
   "outputs": [],
   "source": [
    "TX_3=$(\n",
    "marlowe-cli transaction submit \\\n",
    "  --tx-body-file tx-3.unsigned \\\n",
    "  --required-signer \"$USD_PROVIDER_SKEY\" \\\n",
    "  --timeout 600s \\\n",
    "| sed -e 's/^TxId \"\\(.*\\)\"$/\\1/' \\\n",
    ")\n",
    "echo \"TX_3 = $TX_3\""
   ]
  },
  {
   "cell_type": "markdown",
   "id": "5aa0221d-485b-4c7f-b711-3dc2773d616d",
   "metadata": {},
   "source": [
    "One can view the transaction on a Cardano explorer. It sometimes takes thirty seconds or so for the transaction to be visible in an explorer."
   ]
  },
  {
   "cell_type": "code",
   "execution_count": null,
   "id": "b7424735-4fba-433d-99ee-ae9b5ec91ab2",
   "metadata": {
    "vscode": {
     "languageId": "shellscript"
    }
   },
   "outputs": [],
   "source": [
    "echo \"$EXPLORER_URL\"/transaction/\"$TX_3?tab=utxo\""
   ]
  },
  {
   "cell_type": "markdown",
   "id": "39055157-6c46-4b48-94ea-42fa54ec2fb5",
   "metadata": {},
   "source": [
    "One can see that the dollar provider has exactly 100 djed less than originally."
   ]
  },
  {
   "cell_type": "code",
   "execution_count": null,
   "id": "1f831ae4-36e9-4fb6-9c7b-c6a19e6f249f",
   "metadata": {
    "vscode": {
     "languageId": "shellscript"
    }
   },
   "outputs": [],
   "source": [
    "cardano-cli query utxo --testnet-magic \"$CARDANO_TESTNET_MAGIC\" --address \"$USD_PROVIDER_ADDR\""
   ]
  },
  {
   "cell_type": "markdown",
   "id": "3b092c43-548e-4ee4-8e0b-8898296d5cf5",
   "metadata": {},
   "source": [
    "The Marlowe contract has closed, but the roll-payout address holds 100 djed for the benefit of the ada provider."
   ]
  },
  {
   "cell_type": "code",
   "execution_count": null,
   "id": "0020850f-5700-4a2e-a1b6-f3486ab9eb14",
   "metadata": {
    "vscode": {
     "languageId": "shellscript"
    }
   },
   "outputs": [],
   "source": [
    "cardano-cli query utxo --testnet-magic \"$CARDANO_TESTNET_MAGIC\" --tx-in \"$TX_3#2\""
   ]
  },
  {
   "cell_type": "markdown",
   "id": "7b5be623-0611-464c-a2ac-51fddb6649d6",
   "metadata": {},
   "source": [
    "The roll-payout address also holds 294 ada for the benefit of the dollar provider."
   ]
  },
  {
   "cell_type": "code",
   "execution_count": null,
   "id": "059097db-7be5-4c14-841b-8f208e915413",
   "metadata": {
    "vscode": {
     "languageId": "shellscript"
    }
   },
   "outputs": [],
   "source": [
    "cardano-cli query utxo --testnet-magic \"$CARDANO_TESTNET_MAGIC\" --tx-in \"$TX_3#3\""
   ]
  },
  {
   "cell_type": "markdown",
   "id": "4a2e8aac-9a19-48b9-97c7-5b0dc82e75c9",
   "metadata": {},
   "source": [
    "## View the further progress of the contract on the blockchain\n",
    "\n",
    "Marlowe Runtime\\'s `HTTP` `GET` endpoint `/contracts/{contractId}/transactions/{transactionId}` can fetch a contract from the blockchain and return information about it."
   ]
  },
  {
   "cell_type": "code",
   "execution_count": null,
   "id": "b91dc7ca-2cf8-4d8d-81a7-3d0880aafd90",
   "metadata": {
    "vscode": {
     "languageId": "shellscript"
    }
   },
   "outputs": [],
   "source": [
    "curl -sS \"$CONTRACT_URL\"/transactions/\"$TX_3\" | json2yaml"
   ]
  },
  {
   "cell_type": "markdown",
   "id": "1111ac65-fd60-429a-811f-dfe3440e6b95",
   "metadata": {},
   "source": [
    "## Transaction 4: The Ada Provider Withdraws the Dollars\n",
    "\n",
    "The 100 djed is held at Marlowe's role-payout address for the benefit of the ada provider. The ada provider can withdraw these funds at any time. The contract ID and role name are included in the request body for a withdrawal."
   ]
  },
  {
   "cell_type": "code",
   "execution_count": null,
   "id": "223cd7b7-30d5-4e7d-b99d-76a5926ff737",
   "metadata": {
    "tags": [],
    "vscode": {
     "languageId": "shellscript"
    }
   },
   "outputs": [],
   "source": [
    "yaml2json << EOI > request-4.json\n",
    "contractId: \"$CONTRACT_ID\"\n",
    "role: \"Ada provider\"\n",
    "EOI\n",
    "cat request-4.json"
   ]
  },
  {
   "cell_type": "markdown",
   "id": "7b3c9b1f-b55a-4a09-b0da-6a33ec67fb2c",
   "metadata": {},
   "source": [
    "Next we post the request and store the response."
   ]
  },
  {
   "cell_type": "code",
   "execution_count": null,
   "id": "fae22f06-a0b5-4366-88c1-4926948dfb50",
   "metadata": {
    "vscode": {
     "languageId": "shellscript"
    }
   },
   "outputs": [],
   "source": [
    "curl \"$MARLOWE_RT_WEBSERVER_URL/withdrawals\" \\\n",
    "  -X POST \\\n",
    "  -H 'Content-Type: application/json' \\\n",
    "  -H \"X-Change-Address: $ADA_PROVIDER_ADDR\" \\\n",
    "  -d @request-4.json \\\n",
    "  -o response-4.json \\\n",
    "  -sS\n",
    "json2yaml response-4.json"
   ]
  },
  {
   "cell_type": "markdown",
   "id": "afefec57-7bba-4c88-82db-6a0f429bf6bb",
   "metadata": {},
   "source": [
    "Once again, use `marlowe-cli` to submit the transaction and then wait for confirmation."
   ]
  },
  {
   "cell_type": "code",
   "execution_count": null,
   "id": "e5d6f45f-89cf-402b-8a17-520a85d9f757",
   "metadata": {
    "vscode": {
     "languageId": "shellscript"
    }
   },
   "outputs": [],
   "source": [
    "jq '.resource.txBody' response-4.json > tx-4.unsigned"
   ]
  },
  {
   "cell_type": "code",
   "execution_count": null,
   "id": "c7fa907d-07d8-46b2-9ece-a6f52320e628",
   "metadata": {
    "vscode": {
     "languageId": "shellscript"
    }
   },
   "outputs": [],
   "source": [
    "TX_4=$(\n",
    "marlowe-cli transaction submit \\\n",
    "  --tx-body-file tx-4.unsigned \\\n",
    "  --required-signer \"$ADA_PROVIDER_SKEY\" \\\n",
    "  --timeout 600s \\\n",
    "| sed -e 's/^TxId \"\\(.*\\)\"$/\\1/' \\\n",
    ")\n",
    "echo \"TX_4 = $TX_4\""
   ]
  },
  {
   "cell_type": "markdown",
   "id": "89158154-d547-4378-806b-de1d7662503e",
   "metadata": {},
   "source": [
    "On can view the transaction on a Cardano explorer. It sometimes takes thirty seconds or so for the transaction to be visible in an explorer."
   ]
  },
  {
   "cell_type": "code",
   "execution_count": null,
   "id": "331d652b-e7fa-4eb0-96a3-e5cfa565b1b9",
   "metadata": {
    "vscode": {
     "languageId": "shellscript"
    }
   },
   "outputs": [],
   "source": [
    "echo \"$EXPLORER_URL\"/transaction/\"$TX_4?tab=utxo\""
   ]
  },
  {
   "cell_type": "markdown",
   "id": "2dfa5c8a-938f-4d0d-a806-ca65b688ae32",
   "metadata": {},
   "source": [
    "The ada provider now has the 100 djed."
   ]
  },
  {
   "cell_type": "code",
   "execution_count": null,
   "id": "18fabe44-1bd2-40ba-8764-f0b384fb5739",
   "metadata": {
    "vscode": {
     "languageId": "shellscript"
    }
   },
   "outputs": [],
   "source": [
    "cardano-cli query utxo --testnet-magic \"$CARDANO_TESTNET_MAGIC\" --address \"$ADA_PROVIDER_ADDR\""
   ]
  },
  {
   "cell_type": "markdown",
   "id": "97b64a91-527f-4456-9798-c214a8a795b8",
   "metadata": {},
   "source": [
    "## View the withdrawal\n",
    "\n",
    "Marlowe Runtime\\'s `HTTP` `GET` endpoint `/withdrawals/{transactionId}` can fetch a withdrawal from the blockchain and return information about it."
   ]
  },
  {
   "cell_type": "code",
   "execution_count": null,
   "id": "72ca3c23-4074-4581-ac08-30f46fca17b4",
   "metadata": {
    "vscode": {
     "languageId": "shellscript"
    }
   },
   "outputs": [],
   "source": [
    "curl -sS \"$MARLOWE_RT_WEBSERVER_URL\"/withdrawals/\"$TX_4\" | json2yaml"
   ]
  },
  {
   "cell_type": "markdown",
   "id": "bf69b83d-560a-433e-9f00-570dd5e75724",
   "metadata": {},
   "source": [
    "## Transaction 5: The Dollar Provider Withdraws the Ada\n",
    "\n",
    "The 294 ada is held at Marlowe's role-payout address for the benefit of the dollar provider. The dollar provider can withdraw these funds at any time. The contract ID and role name are included in the request body for a withdrawal."
   ]
  },
  {
   "cell_type": "code",
   "execution_count": null,
   "id": "be3d3614-94a4-4ebc-af0c-b87b12180baf",
   "metadata": {
    "tags": [],
    "vscode": {
     "languageId": "shellscript"
    }
   },
   "outputs": [],
   "source": [
    "yaml2json << EOI > request-5.json\n",
    "contractId: \"$CONTRACT_ID\"\n",
    "role: \"Dollar provider\"\n",
    "EOI\n",
    "cat request-5.json"
   ]
  },
  {
   "cell_type": "markdown",
   "id": "4edc76dd-be00-4317-ad22-f885898a0903",
   "metadata": {},
   "source": [
    "Next we post the request and store the response."
   ]
  },
  {
   "cell_type": "code",
   "execution_count": null,
   "id": "a4e151cb-0df7-4d70-a6b3-09da7066601a",
   "metadata": {
    "vscode": {
     "languageId": "shellscript"
    }
   },
   "outputs": [],
   "source": [
    "curl \"$MARLOWE_RT_WEBSERVER_URL/withdrawals\" \\\n",
    "  -X POST \\\n",
    "  -H 'Content-Type: application/json' \\\n",
    "  -H \"X-Change-Address: $USD_PROVIDER_ADDR\" \\\n",
    "  -d @request-5.json \\\n",
    "  -o response-5.json \\\n",
    "  -sS\n",
    "json2yaml response-5.json"
   ]
  },
  {
   "cell_type": "markdown",
   "id": "f0278141-5eb1-40ae-be06-f89de14f371a",
   "metadata": {},
   "source": [
    "Once again, use `marlowe-cli` to submit the transaction and then wait for confirmation."
   ]
  },
  {
   "cell_type": "code",
   "execution_count": null,
   "id": "476ccaa4-2da7-4f83-8bda-085f4574a6f7",
   "metadata": {
    "vscode": {
     "languageId": "shellscript"
    }
   },
   "outputs": [],
   "source": [
    "jq '.resource.txBody' response-5.json > tx-5.unsigned"
   ]
  },
  {
   "cell_type": "code",
   "execution_count": null,
   "id": "a40b3d0d-01d4-4c08-998f-5649446fc7fe",
   "metadata": {
    "vscode": {
     "languageId": "shellscript"
    }
   },
   "outputs": [],
   "source": [
    "TX_5=$(\n",
    "marlowe-cli transaction submit \\\n",
    "  --tx-body-file tx-5.unsigned \\\n",
    "  --required-signer \"$USD_PROVIDER_SKEY\" \\\n",
    "  --timeout 600s \\\n",
    "| sed -e 's/^TxId \"\\(.*\\)\"$/\\1/' \\\n",
    ")\n",
    "echo \"TX_5 = $TX_5\""
   ]
  },
  {
   "cell_type": "markdown",
   "id": "0f92114c-dc21-426c-a9e7-c9bed8d1183e",
   "metadata": {},
   "source": [
    "On can view the transaction on a Cardano explorer. It sometimes takes thirty seconds or so for the transaction to be visible in an explorer."
   ]
  },
  {
   "cell_type": "code",
   "execution_count": null,
   "id": "55f05104-8def-4817-b68a-5da197d131d0",
   "metadata": {
    "vscode": {
     "languageId": "shellscript"
    }
   },
   "outputs": [],
   "source": [
    "echo \"$EXPLORER_URL\"/transaction/\"$TX_5?tab=utxo\""
   ]
  },
  {
   "cell_type": "markdown",
   "id": "57b69ece-3691-438a-b2fb-c6ace506b949",
   "metadata": {},
   "source": [
    "The dollar provider now has about an additional 294 ada."
   ]
  },
  {
   "cell_type": "code",
   "execution_count": null,
   "id": "daa35baf-eade-49c5-8d3f-d204f31a5600",
   "metadata": {
    "vscode": {
     "languageId": "shellscript"
    }
   },
   "outputs": [],
   "source": [
    "cardano-cli query utxo --testnet-magic \"$CARDANO_TESTNET_MAGIC\" --address \"$USD_PROVIDER_ADDR\""
   ]
  },
  {
   "cell_type": "markdown",
   "id": "aedb161e-cfa9-4657-a7bf-a93eea800013",
   "metadata": {},
   "source": [
    "## View the withdrawal\n",
    "\n",
    "Marlowe Runtime\\'s `HTTP` `GET` endpoint `/withdrawals/{transactionId}` can fetch a withdrawal from the blockchain and return information about it."
   ]
  },
  {
   "cell_type": "code",
   "execution_count": null,
   "id": "6fda49c9-f5f1-4cc9-95aa-7ab9a9df2b12",
   "metadata": {
    "vscode": {
     "languageId": "shellscript"
    }
   },
   "outputs": [],
   "source": [
    "curl -sS \"$MARLOWE_RT_WEBSERVER_URL\"/withdrawals/\"$TX_5\" | json2yaml"
   ]
  }
 ],
 "metadata": {
  "kernelspec": {
   "display_name": "Bash with Marlowe Tools",
   "language": "bash",
   "name": "bash-minimal"
  },
  "language_info": {
   "codemirror_mode": "shell",
   "file_extension": ".sh",
   "mimetype": "text/x-sh",
   "name": "bash"
  }
 },
 "nbformat": 4,
 "nbformat_minor": 5
}
