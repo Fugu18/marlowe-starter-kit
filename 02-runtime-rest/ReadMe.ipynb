{
 "cells": [
  {
   "cell_type": "markdown",
   "id": "caa144a8-d3d7-42de-bfdd-8b27cf4c5cbe",
   "metadata": {},
   "source": [
    "# Zero-Coupon Bond Using Marlowe Runtime\\'s REST Interface\n",
    "\n",
    "The zero-coupon bond example is a simple Marlowe contract where a lender provides principal to a borrower who repays it back with interest.\n",
    "\n",
    "In this demonsration we use Marlowe Runtime\\'s REST interface, served via `marlowe-web-server`, to run this contract on Cardano\\'s `preprod` public testnet. Marlowe contracts may use either addresses or role tokens for authorization: here we use role tokens and we have Marlowe Runtime mint them.\n",
    "\n",
    "In [Marlowe Playground](https://play.marlowe-finance.io/), the contract looks like this in Blockly format.\n",
    "\n",
    "![Zero-coupon bond Marlowe contract](zcb-contract.png)\n",
    "\n",
    "In Marlowe format it appears as\n",
    "```\n",
    "When\n",
    "    [Case\n",
    "        (Deposit\n",
    "            (Role \"Lender\")\n",
    "            (Role \"Lender\")\n",
    "            (Token \"\" \"\")\n",
    "            (ConstantParam \"$PRINCIPAL\")\n",
    "        )\n",
    "        (Pay\n",
    "            (Role \"Lender\")\n",
    "            (Party (Role \"Borrower\"))\n",
    "            (Token \"\" \"\")\n",
    "            (ConstantParam \"$PRINCIPAL\")\n",
    "            (When\n",
    "                [Case\n",
    "                    (Deposit\n",
    "                        (Role \"Borrower\")\n",
    "                        (Role \"Borrower\")\n",
    "                        (Token \"\" \"\")\n",
    "                        (AddValue\n",
    "                            (ConstantParam \"$INTEREST\")\n",
    "                            (ConstantParam \"$PRINCIPAL\")\n",
    "                        )\n",
    "                    )\n",
    "                    (Pay\n",
    "                        (Role \"Borrower\")\n",
    "                        (Party (Role \"Lender\"))\n",
    "                        (Token \"\" \"\")\n",
    "                        (AddValue\n",
    "                            (ConstantParam \"$INTEREST\")\n",
    "                            (ConstantParam \"$PRINCIPAL\")\n",
    "                        )\n",
    "                        Close \n",
    "                    )]\n",
    "                (TimeParam \"$BORROWER_DEADLINE\")\n",
    "                Close \n",
    "            )\n",
    "        )]\n",
    "    (TimeParam \"$LENDER_DEADLINE\")\n",
    "    Close\n",
    "```"
   ]
  },
  {
   "cell_type": "markdown",
   "id": "c4ae7f57-57a7-46a8-b788-69857028f574",
   "metadata": {},
   "source": [
    "## Connecting to Marlowe Runtime\n",
    "\n",
    "If you are executing this example within [demeter.run](https://demeter.run/), then all of the required environment variables have been set to use Marlowe Runtime on Cardano\\'s pre-production network.\n",
    "\n",
    "If not, the following environment variables must be set to point to the Marlowe Runtime deployment:\n",
    "- `CARDANO_NODE_SOCKET_PATH`\n",
    "- `CARDANO_TESTNET_MAGIC`\n",
    "- `MARLOWE_RT_TX_HOST`\n",
    "- `MARLOWE_RT_TX_COMMAND_PORT`\n",
    "- `MARLOWE_RT_HISTORY_HOST`\n",
    "- `MARLOWE_RT_HISTORY_SYNC_PORT`\n",
    "- `MARLOWE_RUNTIME_URL`\n",
    "\n",
    "Furthermore, the following executables must be on the `PATH`:\n",
    "- `marlowe` and `marlowe-cli`` from [github:input-output-hk/marlowe-cardano](https://github.com/input-output-hk/marlowe-cardano/)\n",
    "- `cardano-cli` from [github:input-output-hk/cardano-node](https://github.com/input-output-hk/cardano-node/)\n",
    "- `curl`\n",
    "- `jq`\n",
    "- `sed`"
   ]
  },
  {
   "cell_type": "markdown",
   "id": "37bd9c34-24a0-4a73-8782-a2329f741c37",
   "metadata": {},
   "source": [
    "## Preliminaries\n",
    "\n",
    "Set up a few things before working with the contract."
   ]
  },
  {
   "cell_type": "markdown",
   "id": "4098c000-629e-483c-ae60-9a0697ab2b41",
   "metadata": {},
   "source": [
    "### Constants\n",
    "\n",
    "Set a few convenient constants for later use.\n",
    "\n",
    "One ada is one million lovelace, which is the basic unit of currency."
   ]
  },
  {
   "cell_type": "code",
   "execution_count": 1,
   "id": "07deccb5-7643-4483-92a8-013f5f198206",
   "metadata": {},
   "outputs": [],
   "source": [
    "ADA=1000000"
   ]
  },
  {
   "cell_type": "markdown",
   "id": "eadc9c05-0b17-48f3-9b92-921c769cd3df",
   "metadata": {},
   "source": [
    "In Marlowe, time is measured in milliseconds."
   ]
  },
  {
   "cell_type": "code",
   "execution_count": 2,
   "id": "384954cc-d4be-4858-b7f7-afc377c0dafc",
   "metadata": {},
   "outputs": [],
   "source": [
    "SECOND=1000\n",
    "MINUTE=$((60 * SECOND))\n",
    "HOUR=$((60 * MINUTE))\n",
    "DAY=$((24 * HOUR))"
   ]
  },
  {
   "cell_type": "markdown",
   "id": "c64afaa9-8798-4639-87fb-893f4f060f69",
   "metadata": {},
   "source": [
    "### Create keys and addresses for the parties to the contract\n",
    "\n",
    "A lender and borrower will interact with the contract. In order to submit transactions, each of them needs a wallet with an address and a signing key."
   ]
  },
  {
   "cell_type": "markdown",
   "id": "004bc946-1f33-4cf0-bdb8-bffc9dd70e3a",
   "metadata": {},
   "source": [
    "#### The lender\n",
    "\n",
    "Set the file names for this party's signing key and verification key."
   ]
  },
  {
   "cell_type": "code",
   "execution_count": 3,
   "id": "a1a47db2-b736-4816-ae93-6984a53e13c1",
   "metadata": {},
   "outputs": [],
   "source": [
    "LENDER_SKEY=lender.skey\n",
    "LENDER_VKEY=lender.vkey"
   ]
  },
  {
   "cell_type": "markdown",
   "id": "c1ccc198-e88a-4677-a707-8e4c5702d4ff",
   "metadata": {},
   "source": [
    "Generate the keys if they haven't already been generated."
   ]
  },
  {
   "cell_type": "code",
   "execution_count": 4,
   "id": "c6a028f0-a87d-427d-8541-47d3e0116f72",
   "metadata": {},
   "outputs": [],
   "source": [
    "if [[ ! -e \"$LENDER_SKEY\" ]]\n",
    "then\n",
    "  cardano-cli address key-gen \\\n",
    "    --signing-key-file \"$LENDER_SKEY\" \\\n",
    "    --verification-key-file \"$LENDER_VKEY\"\n",
    "fi"
   ]
  },
  {
   "cell_type": "markdown",
   "id": "15ccd156-b9a8-4f66-b19f-6f2ee98dd73c",
   "metadata": {},
   "source": [
    "Compute the party's address on the testnet."
   ]
  },
  {
   "cell_type": "code",
   "execution_count": 5,
   "id": "ddd224b8-a356-40dd-9beb-cffac2a78f8c",
   "metadata": {},
   "outputs": [
    {
     "name": "stdout",
     "output_type": "stream",
     "text": [
      "LENDER_ADDR = addr_test1vqer2uqv8raxqvad4vyt6mczad69ms5atuja4rwfck0mp8s9mcpxc\n"
     ]
    }
   ],
   "source": [
    "LENDER_ADDR=$(cardano-cli address build --testnet-magic \"$CARDANO_TESTNET_MAGIC\" --payment-verification-key-file \"$LENDER_VKEY\" )\n",
    "echo \"LENDER_ADDR = $LENDER_ADDR\""
   ]
  },
  {
   "cell_type": "markdown",
   "id": "1b0a765d-e887-479f-8684-0f2c8beb40a6",
   "metadata": {},
   "source": [
    "#### The borrower\n",
    "\n",
    "Set the file names for this party's signing key and verification key."
   ]
  },
  {
   "cell_type": "code",
   "execution_count": 6,
   "id": "89ac7005-6779-45b0-88bb-8cd1c9aec94f",
   "metadata": {},
   "outputs": [],
   "source": [
    "BORROWER_SKEY=borrower.skey\n",
    "BORROWER_VKEY=borrower.vkey"
   ]
  },
  {
   "cell_type": "markdown",
   "id": "970d2575-ee7f-4741-b606-0590c9c59831",
   "metadata": {},
   "source": [
    "Generate the keys if they haven't already been generated."
   ]
  },
  {
   "cell_type": "code",
   "execution_count": 7,
   "id": "f08688a9-8e92-46f9-845d-2628df6322b4",
   "metadata": {},
   "outputs": [],
   "source": [
    "if [[ ! -e \"$BORROWER_SKEY\" ]]\n",
    "then\n",
    "  cardano-cli address key-gen \\\n",
    "    --signing-key-file \"$BORROWER_SKEY\"  \\\n",
    "    --verification-key-file \"$BORROWER_VKEY\"\n",
    "fi"
   ]
  },
  {
   "cell_type": "markdown",
   "id": "4e9b1ba4-53b2-47f2-af8c-54a79a629dd7",
   "metadata": {},
   "source": [
    "Compute the party's address on the testnet."
   ]
  },
  {
   "cell_type": "code",
   "execution_count": 8,
   "id": "eb5d2680-efd7-4332-8f06-52da5093a94a",
   "metadata": {},
   "outputs": [
    {
     "name": "stdout",
     "output_type": "stream",
     "text": [
      "BORROWER_ADDR = addr_test1vr0xg68f7grs68cjd4ejgar7ymvyf55c9q7cyknjxufhadcmn03sc\n"
     ]
    }
   ],
   "source": [
    "BORROWER_ADDR=$(cardano-cli address build --testnet-magic \"$CARDANO_TESTNET_MAGIC\" --payment-verification-key-file \"$BORROWER_VKEY\" )\n",
    "echo \"BORROWER_ADDR = $BORROWER_ADDR\""
   ]
  },
  {
   "cell_type": "markdown",
   "id": "829d0b5a-5eb7-4200-847d-b32657dc38ec",
   "metadata": {},
   "source": [
    "### Fund the parties' wallets\n",
    "\n",
    "If the parties do not already have funds in their wallets, send test ada to them. Here are the faucets for the public testnets: https://docs.cardano.org/cardano-testnet/tools/faucet.\n",
    "\n",
    "It is most convenient to send the funds to Daedalus, and then use Daedalus to fund the three parties. You can download testnet versions of Daedalus at https://docs.cardano.org/cardano-testnet/daedalus-testnet.\n",
    "\n",
    "However, for this example, we'll use a private faucet to send funds to the three addresses."
   ]
  },
  {
   "cell_type": "code",
   "execution_count": 9,
   "id": "87783ed1-96e3-45bb-a250-d796b8fcc448",
   "metadata": {},
   "outputs": [
    {
     "name": "stdout",
     "output_type": "stream",
     "text": [
      "TxId \"a798acad7e780498a3207fa80f75a1141d15e1347508ba4eb6f476c5fb1de638\"\n"
     ]
    }
   ],
   "source": [
    "marlowe-cli util fund-address \\\n",
    " --lovelace \"$((100 * ADA))\" \\\n",
    " --out-file /dev/null \\\n",
    " --source-wallet-credentials \"$(cat ../faucet.testnet.address):../faucet.skey\" \\\n",
    " --submit 600 \\\n",
    " \"$LENDER_ADDR\" \"$BORROWER_ADDR\""
   ]
  },
  {
   "cell_type": "markdown",
   "id": "d12cadfb-9a3a-4d41-88ae-66c29dd82d41",
   "metadata": {},
   "source": [
    "See that the addresses have indeed been funded:"
   ]
  },
  {
   "cell_type": "code",
   "execution_count": 10,
   "id": "6de1934d-0761-47e4-96ab-cf4105a84774",
   "metadata": {},
   "outputs": [
    {
     "name": "stdout",
     "output_type": "stream",
     "text": [
      "\n",
      "Lender @ addr_test1vqer2uqv8raxqvad4vyt6mczad69ms5atuja4rwfck0mp8s9mcpxc\n",
      "                           TxHash                                 TxIx        Amount\n",
      "--------------------------------------------------------------------------------------\n",
      "a798acad7e780498a3207fa80f75a1141d15e1347508ba4eb6f476c5fb1de638     1        100000000 lovelace + TxOutDatumNone\n",
      "\n",
      "\n",
      "Borrower @ addr_test1vr0xg68f7grs68cjd4ejgar7ymvyf55c9q7cyknjxufhadcmn03sc\n",
      "                           TxHash                                 TxIx        Amount\n",
      "--------------------------------------------------------------------------------------\n",
      "a798acad7e780498a3207fa80f75a1141d15e1347508ba4eb6f476c5fb1de638     2        100000000 lovelace + TxOutDatumNone\n",
      "\n"
     ]
    }
   ],
   "source": [
    "echo\n",
    "echo \"Lender @ $LENDER_ADDR\"\n",
    "cardano-cli query utxo --testnet-magic \"$CARDANO_TESTNET_MAGIC\" --address \"$LENDER_ADDR\"\n",
    "echo\n",
    "\n",
    "echo\n",
    "echo \"Borrower @ $BORROWER_ADDR\"\n",
    "cardano-cli query utxo --testnet-magic \"$CARDANO_TESTNET_MAGIC\" --address \"$BORROWER_ADDR\"\n",
    "echo"
   ]
  },
  {
   "cell_type": "markdown",
   "id": "811dd36a-035a-4905-b3b3-aeae85a3c3ed",
   "metadata": {},
   "source": [
    "## Design the Contract\n",
    "\n",
    "The zero-coupon bond contract can be downloaded from the [Marlowe Playground](https://play.marlowe-finance.io/) as a JSON file, or it can be generated using [Marlowe CLI](https://github.com/input-output-hk/marlowe-cardano/tree/main/marlowe-cli#readme) using the `marlowe-cli template` command.\n",
    "\n",
    "Here we generate the contract using Marlowe CLI.\n",
    "\n",
    "First find the current time."
   ]
  },
  {
   "cell_type": "code",
   "execution_count": 11,
   "id": "30ec2929-27e1-4ae7-8ee0-82e710f15b6c",
   "metadata": {},
   "outputs": [
    {
     "name": "stdout",
     "output_type": "stream",
     "text": [
      "NOW = 1676932293000 POSIX milliseconds = Mon Feb 20 03:31:33 PM MST 2023\n"
     ]
    }
   ],
   "source": [
    "NOW=\"$(($(date -u +%s) * SECOND))\"\n",
    "echo \"NOW = $NOW POSIX milliseconds = $(date -d @$((NOW / SECOND)))\""
   ]
  },
  {
   "cell_type": "markdown",
   "id": "c14f87dc-897d-47c7-b138-5e8b158227cc",
   "metadata": {},
   "source": [
    "Set the principal to 80 ada and the interest to 5 ada."
   ]
  },
  {
   "cell_type": "code",
   "execution_count": 12,
   "id": "4c959ebc-7c73-49ef-a1f9-a32771cc9ec9",
   "metadata": {},
   "outputs": [
    {
     "name": "stdout",
     "output_type": "stream",
     "text": [
      "PRINCIPAL = 80000000 lovelace\n",
      "INTEREST = 5000000 lovelace\n"
     ]
    }
   ],
   "source": [
    "PRINCIPAL=$((80 * ADA))\n",
    "INTEREST=$((5 * ADA))\n",
    "echo \"PRINCIPAL = $PRINCIPAL lovelace\"\n",
    "echo \"INTEREST = $INTEREST lovelace\""
   ]
  },
  {
   "cell_type": "markdown",
   "id": "e6cdaf26-c4af-49b0-8538-56b9e7bce5a2",
   "metadata": {},
   "source": [
    "The contract has a lending deadline and a repayment deadline. For convenience in this example, set the deadlines to the near future."
   ]
  },
  {
   "cell_type": "code",
   "execution_count": 13,
   "id": "2ac3ad1d-060f-4ff5-b055-c96011f724a0",
   "metadata": {},
   "outputs": [
    {
     "name": "stdout",
     "output_type": "stream",
     "text": [
      "LENDER_DEADLINE = 1676935893000 POSIX milliseconds = Mon Feb 20 04:31:33 PM MST 2023\n",
      "BORROWER_DEADLINE = 1676943093000 POSIX milliseconds = Mon Feb 20 06:31:33 PM MST 2023\n"
     ]
    }
   ],
   "source": [
    "LENDER_DEADLINE=\"$((NOW + 1 * HOUR))\"\n",
    "BORROWER_DEADLINE=\"$((NOW + 3 * HOUR))\"\n",
    "echo \"LENDER_DEADLINE = $LENDER_DEADLINE POSIX milliseconds = $(date -d @$((LENDER_DEADLINE / SECOND)))\"\n",
    "echo \"BORROWER_DEADLINE = $BORROWER_DEADLINE POSIX milliseconds = $(date -d @$((BORROWER_DEADLINE / SECOND)))\""
   ]
  },
  {
   "cell_type": "markdown",
   "id": "7a2d47dc-3640-4236-a9df-b93d7edac8d8",
   "metadata": {},
   "source": [
    "On the Cardano blockchain, the protocol parameters require that each UTxO contain at least some ada. Here we will start the contract with 2 ada."
   ]
  },
  {
   "cell_type": "code",
   "execution_count": 14,
   "id": "aa229f08-6907-4f7b-b458-5fd18e0b9596",
   "metadata": {},
   "outputs": [
    {
     "name": "stdout",
     "output_type": "stream",
     "text": [
      "MIN_LOVELACE = 2000000 lovelace\n"
     ]
    }
   ],
   "source": [
    "MIN_LOVELACE=\"$((2 * ADA))\"\n",
    "echo \"MIN_LOVELACE = $MIN_LOVELACE lovelace\""
   ]
  },
  {
   "cell_type": "markdown",
   "id": "3454e5f4-eb26-4921-9c12-29dedefebf0f",
   "metadata": {},
   "source": [
    "Now create the JSON file for the contract."
   ]
  },
  {
   "cell_type": "code",
   "execution_count": 15,
   "id": "5b4b87af-265c-4d2c-bfe3-281614311fa8",
   "metadata": {},
   "outputs": [],
   "source": [
    "marlowe-cli template zcb \\\n",
    "  --minimum-ada \"$MIN_LOVELACE\" \\\n",
    "  --lender Lender \\\n",
    "  --borrower Borrower \\\n",
    "  --principal \"$PRINCIPAL\" \\\n",
    "  --interest \"$INTEREST\" \\\n",
    "  --lending-deadline \"$LENDER_DEADLINE\" \\\n",
    "  --repayment-deadline \"$BORROWER_DEADLINE\" \\\n",
    "  --out-contract-file zcb-contract.json \\\n",
    "  --out-state-file /dev/null"
   ]
  },
  {
   "cell_type": "markdown",
   "id": "8f9bb07c-53fc-457a-8719-a3ac85aa71f2",
   "metadata": {},
   "source": [
    "View the contract file as YAML."
   ]
  },
  {
   "cell_type": "code",
   "execution_count": 16,
   "id": "112824a7-635f-4134-b133-a20e63660b35",
   "metadata": {},
   "outputs": [
    {
     "name": "stdout",
     "output_type": "stream",
     "text": [
      "timeout: 1676935893000\n",
      "timeout_continuation: close\n",
      "when:\n",
      "- case:\n",
      "    deposits: 80000000\n",
      "    into_account:\n",
      "      role_token: Lender\n",
      "    of_token:\n",
      "      currency_symbol: ''\n",
      "      token_name: ''\n",
      "    party:\n",
      "      role_token: Lender\n",
      "  then:\n",
      "    from_account:\n",
      "      role_token: Lender\n",
      "    pay: 80000000\n",
      "    then:\n",
      "      timeout: 1676943093000\n",
      "      timeout_continuation: close\n",
      "      when:\n",
      "      - case:\n",
      "          deposits:\n",
      "            add: 80000000\n",
      "            and: 5000000\n",
      "          into_account:\n",
      "            role_token: Borrower\n",
      "          of_token:\n",
      "            currency_symbol: ''\n",
      "            token_name: ''\n",
      "          party:\n",
      "            role_token: Borrower\n",
      "        then:\n",
      "          from_account:\n",
      "            role_token: Borrower\n",
      "          pay:\n",
      "            add: 80000000\n",
      "            and: 5000000\n",
      "          then: close\n",
      "          to:\n",
      "            party:\n",
      "              role_token: Lender\n",
      "          token:\n",
      "            currency_symbol: ''\n",
      "            token_name: ''\n",
      "    to:\n",
      "      party:\n",
      "        role_token: Borrower\n",
      "    token:\n",
      "      currency_symbol: ''\n",
      "      token_name: ''\n"
     ]
    }
   ],
   "source": [
    "json2yaml zcb-contract.json"
   ]
  },
  {
   "cell_type": "markdown",
   "id": "00f357bf-ebf0-4459-adb9-32c5a1140759",
   "metadata": {},
   "source": [
    "## How to check the safety of a Marlowe contract\n",
    "\n",
    "If we were running the contract on the Cardano `mainnet`, then we\\'d want to check its safety before creating it, so that there is no chance that we might lose funds.\n",
    "\n",
    "Here are the steps for checking the safety of a contract:\n",
    "\n",
    "1. Understand the [Marlowe Language](https://marlowe-finance.io/)\n",
    "2. Understand Cardano\\'s [Extended UTxO Model](https://docs.cardano.org/learn/eutxo-explainer).\n",
    "3. Read and understand the [Marlowe Best Practices Guide](https://github.com/input-output-hk/marlowe-cardano/blob/main/marlowe/best-practices.md).\n",
    "4. Read and understand the [Marlowe Security Guide](https://github.com/input-output-hk/marlowe-cardano/blob/main/marlowe/security.md).\n",
    "5. Use [Marlowe Playground](https://play.marlowe-finance.io/) to flag warnings, perform static analysis, and simulate the contract.\n",
    "6. Use [Marlowe CLI\\'s](https://github.com/input-output-hk/marlowe-cardano/blob/main/marlowe-cli/ReadMe.md) `marlowe-cli run analyze` tool to study whether the contract can run on a Cardano network.\n",
    "7. Run *all execution paths* of the contract on a [Cardano testnet](https://docs.cardano.org/cardano-testnet/overview)."
   ]
  },
  {
   "cell_type": "markdown",
   "id": "fcbdcc02-7ffe-46a4-8732-10a3e7b93865",
   "metadata": {},
   "source": [
    "## Transaction 1. Create the Contract"
   ]
  },
  {
   "cell_type": "markdown",
   "id": "6fad0f1b-a918-4c56-867e-29600be217f4",
   "metadata": {},
   "source": [
    "A `HTTP` `POST` request to Marlowe Runtime\\'s `/contracts` endpoint will build the creation transaction for a Marlowe contract. We provide it the JSON file containing the contract and tell it the `MIN_LOVELACE` value that we previously chose. Anyone could create the contract, but in this example the lender will be doing so, so we provide their address to fund the transaction and to receive the change from it.\n",
    "\n",
    "First we create the JSON body of the request to build the creation transaction."
   ]
  },
  {
   "cell_type": "code",
   "execution_count": 17,
   "id": "69abcbb8-6a8e-470b-9dd3-365f15c1f04b",
   "metadata": {},
   "outputs": [
    {
     "name": "stdout",
     "output_type": "stream",
     "text": [
      "{\"contract\":{\"timeout\":1676935893000,\"timeout_continuation\":\"close\",\"when\":[{\"case\":{\"deposits\":80000000,\"into_account\":{\"role_token\":\"Lender\"},\"of_token\":{\"currency_symbol\":\"\",\"token_name\":\"\"},\"party\":{\"role_token\":\"Lender\"}},\"then\":{\"from_account\":{\"role_token\":\"Lender\"},\"pay\":80000000,\"then\":{\"timeout\":1676943093000,\"timeout_continuation\":\"close\",\"when\":[{\"case\":{\"deposits\":{\"add\":80000000,\"and\":5000000},\"into_account\":{\"role_token\":\"Borrower\"},\"of_token\":{\"currency_symbol\":\"\",\"token_name\":\"\"},\"party\":{\"role_token\":\"Borrower\"}},\"then\":{\"from_account\":{\"role_token\":\"Borrower\"},\"pay\":{\"add\":80000000,\"and\":5000000},\"then\":\"close\",\"to\":{\"party\":{\"role_token\":\"Lender\"}},\"token\":{\"currency_symbol\":\"\",\"token_name\":\"\"}}}]},\"to\":{\"party\":{\"role_token\":\"Borrower\"}},\"token\":{\"currency_symbol\":\"\",\"token_name\":\"\"}}}]},\"metadata\":{},\"minUTxODeposit\":2000000,\"roles\":{\"Borrower\":\"addr_test1vr0xg68f7grs68cjd4ejgar7ymvyf55c9q7cyknjxufhadcmn03sc\",\"Lender\":\"addr_test1vqer2uqv8raxqvad4vyt6mczad69ms5atuja4rwfck0mp8s9mcpxc\"},\"version\":\"v1\"}\n"
     ]
    }
   ],
   "source": [
    "yaml2json << EOI > request-1.json\n",
    "version: v1\n",
    "contract: $(cat zcb-contract.json)\n",
    "roles:\n",
    "  Lender: $LENDER_ADDR\n",
    "  Borrower: $BORROWER_ADDR\n",
    "minUTxODeposit: $MIN_LOVELACE\n",
    "metadata: {}\n",
    "EOI\n",
    "cat request-1.json"
   ]
  },
  {
   "cell_type": "markdown",
   "id": "57ecf6fd-6d89-495a-a66b-adc7437e8c29",
   "metadata": {},
   "source": [
    "Next we post the request and view the response."
   ]
  },
  {
   "cell_type": "code",
   "execution_count": 18,
   "id": "d88f4f44-49a1-4548-ac97-6fe95fb6059b",
   "metadata": {},
   "outputs": [
    {
     "name": "stdout",
     "output_type": "stream",
     "text": [
      "links:\n",
      "  contract: contracts/f5a19b1f679b926d4fca1a240584595ba1d0da74cf1c29d0ad3c13c2b920f285%231\n",
      "resource:\n",
      "  contractId: f5a19b1f679b926d4fca1a240584595ba1d0da74cf1c29d0ad3c13c2b920f285#1\n",
      "  txBody:\n",
      "    cborHex: 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\n",
      "    description: ''\n",
      "    type: TxBodyBabbage\n"
     ]
    }
   ],
   "source": [
    "curl '$MARLOWE_RUNTIME_URL/contracts' \\\n",
    "  -X POST \\\n",
    "  -H 'Content-Type: application/json' \\\n",
    "  -H \"X-Change-Address: $LENDER_ADDR\" \\\n",
    "  -d @request-1.json \\\n",
    "  -o response-1.json \\\n",
    "  -s\n",
    "json2yaml response-1.json"
   ]
  },
  {
   "cell_type": "markdown",
   "id": "72b2de72-9fc8-45dd-b870-a0aff7877733",
   "metadata": {},
   "source": [
    "The identifier for the contract is embedded in the response."
   ]
  },
  {
   "cell_type": "code",
   "execution_count": 19,
   "id": "f446b742-efe7-49bc-96a0-49b4b604bd9b",
   "metadata": {},
   "outputs": [
    {
     "name": "stdout",
     "output_type": "stream",
     "text": [
      "CONTRACT_ID = f5a19b1f679b926d4fca1a240584595ba1d0da74cf1c29d0ad3c13c2b920f285#1\n"
     ]
    }
   ],
   "source": [
    "CONTRACT_ID=\"$(jq -r '.resource.contractId' response-1.json)\"\n",
    "echo \"CONTRACT_ID = $CONTRACT_ID\""
   ]
  },
  {
   "cell_type": "markdown",
   "id": "6e1fa8f5-4de3-4d99-8721-60c1e2230484",
   "metadata": {},
   "source": [
    "The CBOR serialization (in text-envelope format) is also embedded in the response."
   ]
  },
  {
   "cell_type": "code",
   "execution_count": 20,
   "id": "18b60f01-ae10-415d-96bf-9dba0070b752",
   "metadata": {},
   "outputs": [],
   "source": [
    "jq '.resource.txBody' response-1.json > tx-1.unsigned"
   ]
  },
  {
   "cell_type": "markdown",
   "id": "cedbb7f9-6e56-4524-b364-3f59711c2f02",
   "metadata": {},
   "source": [
    "There are many ways to sign and submit Cardano transactions:\n",
    "- `cardano-cli` at the command line\n",
    "- `cardano-wallet` at the command line or as a REST service\n",
    "- `cardano-hw-cli` for a hardware wallet at the command line\n",
    "- a Babbage-compatible CIP-30 wallet in a web browser\n",
    "- `marlowe-cli` at the command line\n",
    "\n",
    "For convenience, here we use `marlowe-cli transaction submit`. One may have to wait a minute or so for the transactions to be confirmed on the blockchain."
   ]
  },
  {
   "cell_type": "code",
   "execution_count": 21,
   "id": "500d6e54-6f2a-478a-a715-5149ebe057a2",
   "metadata": {},
   "outputs": [
    {
     "name": "stdout",
     "output_type": "stream",
     "text": [
      "TX_1 = f5a19b1f679b926d4fca1a240584595ba1d0da74cf1c29d0ad3c13c2b920f285\n"
     ]
    }
   ],
   "source": [
    "TX_1=$(\n",
    "marlowe-cli transaction submit \\\n",
    "  --tx-body-file tx-1.unsigned \\\n",
    "  --required-signer \"$LENDER_SKEY\" \\\n",
    "  --timeout 600 \\\n",
    "| sed -e 's/^TxId \"\\(.*\\)\"$/\\1/' \\\n",
    ")\n",
    "echo \"TX_1 = $TX_1\""
   ]
  },
  {
   "cell_type": "markdown",
   "id": "8379871a-4aba-4134-8aa4-29b04de301d3",
   "metadata": {},
   "source": [
    "One can view the transaction on a Cardano explorer."
   ]
  },
  {
   "cell_type": "code",
   "execution_count": 22,
   "id": "72115506-5bfd-480f-b3f0-47520dca84c1",
   "metadata": {},
   "outputs": [
    {
     "name": "stdout",
     "output_type": "stream",
     "text": [
      "https://preprod.cardanoscan.io/transaction/f5a19b1f679b926d4fca1a240584595ba1d0da74cf1c29d0ad3c13c2b920f285?tab=utxo\n"
     ]
    }
   ],
   "source": [
    "echo \"https://preprod.cardanoscan.io/transaction/$TX_1?tab=utxo\""
   ]
  },
  {
   "cell_type": "markdown",
   "id": "bc370be1-0648-4d98-919d-20424f97f953",
   "metadata": {},
   "source": [
    "In particular, we see that the Marlowe contract holds the 2 ada that was set as `MINIMUM_LOVELACE`."
   ]
  },
  {
   "cell_type": "code",
   "execution_count": 23,
   "id": "6413cea3-50cc-4537-a8ed-707f4d6b2ba9",
   "metadata": {},
   "outputs": [
    {
     "name": "stdout",
     "output_type": "stream",
     "text": [
      "                           TxHash                                 TxIx        Amount\n",
      "--------------------------------------------------------------------------------------\n",
      "f5a19b1f679b926d4fca1a240584595ba1d0da74cf1c29d0ad3c13c2b920f285     1        2000000 lovelace + TxOutDatumHash ScriptDataInBabbageEra \"f545fb31f4fc72c6f69e73efb3262251d1e378ead2519d73f94cf8b8dcb2b156\"\n"
     ]
    }
   ],
   "source": [
    "cardano-cli query utxo --testnet-magic \"$CARDANO_TESTNET_MAGIC\" --tx-in \"$CONTRACT_ID\""
   ]
  },
  {
   "cell_type": "markdown",
   "id": "4fde972a-1f26-4ad8-81af-2799adf11b83",
   "metadata": {},
   "source": [
    "## View the details of the contract on the blockchain\n",
    "\n",
    "Marlowe Runtime\\'s `HTTP` `GET` endpoint `/contracts/{contractId}` can fetch a contract from the blockchain and return information about it."
   ]
  },
  {
   "cell_type": "code",
   "execution_count": 24,
   "id": "8328b458-43fb-4e53-8060-1740d25cf93b",
   "metadata": {},
   "outputs": [
    {
     "name": "stdout",
     "output_type": "stream",
     "text": [
      "CONTRACT_URL = http://localhost:8089/contracts/f5a19b1f679b926d4fca1a240584595ba1d0da74cf1c29d0ad3c13c2b920f285%231\n"
     ]
    }
   ],
   "source": [
    "CONTRACT_URL=\"$MARLOWE_RUNTIME_URL/contracts/$(jq -r '.links.contract' response-1.json)\"\n",
    "echo \"CONTRACT_URL = $CONTRACT_URL\""
   ]
  },
  {
   "cell_type": "code",
   "execution_count": 25,
   "id": "e805f893-bcd8-4169-a2da-90f1cfa080b2",
   "metadata": {},
   "outputs": [
    {
     "name": "stdout",
     "output_type": "stream",
     "text": [
      "links:\n",
      "  transactions: contracts/f5a19b1f679b926d4fca1a240584595ba1d0da74cf1c29d0ad3c13c2b920f285%231/transactions\n",
      "resource:\n",
      "  block:\n",
      "    blockHeaderHash: 235608616b6a5e29e6648329d05a2450a8c018c6386c4895bebde1dd43bf1ea8\n",
      "    blockNo: 651014\n",
      "    slotNo: 21249128\n",
      "  contractId: f5a19b1f679b926d4fca1a240584595ba1d0da74cf1c29d0ad3c13c2b920f285#1\n",
      "  currentContract:\n",
      "    timeout: 1676935893000\n",
      "    timeout_continuation: close\n",
      "    when:\n",
      "    - case:\n",
      "        deposits: 80000000\n",
      "        into_account:\n",
      "          role_token: Lender\n",
      "        of_token:\n",
      "          currency_symbol: ''\n",
      "          token_name: ''\n",
      "        party:\n",
      "          role_token: Lender\n",
      "      then:\n",
      "        from_account:\n",
      "          role_token: Lender\n",
      "        pay: 80000000\n",
      "        then:\n",
      "          timeout: 1676943093000\n",
      "          timeout_continuation: close\n",
      "          when:\n",
      "          - case:\n",
      "              deposits:\n",
      "                add: 80000000\n",
      "                and: 5000000\n",
      "              into_account:\n",
      "                role_token: Borrower\n",
      "              of_token:\n",
      "                currency_symbol: ''\n",
      "                token_name: ''\n",
      "              party:\n",
      "                role_token: Borrower\n",
      "            then:\n",
      "              from_account:\n",
      "                role_token: Borrower\n",
      "              pay:\n",
      "                add: 80000000\n",
      "                and: 5000000\n",
      "              then: close\n",
      "              to:\n",
      "                party:\n",
      "                  role_token: Lender\n",
      "              token:\n",
      "                currency_symbol: ''\n",
      "                token_name: ''\n",
      "        to:\n",
      "          party:\n",
      "            role_token: Borrower\n",
      "        token:\n",
      "          currency_symbol: ''\n",
      "          token_name: ''\n",
      "  initialContract:\n",
      "    timeout: 1676935893000\n",
      "    timeout_continuation: close\n",
      "    when:\n",
      "    - case:\n",
      "        deposits: 80000000\n",
      "        into_account:\n",
      "          role_token: Lender\n",
      "        of_token:\n",
      "          currency_symbol: ''\n",
      "          token_name: ''\n",
      "        party:\n",
      "          role_token: Lender\n",
      "      then:\n",
      "        from_account:\n",
      "          role_token: Lender\n",
      "        pay: 80000000\n",
      "        then:\n",
      "          timeout: 1676943093000\n",
      "          timeout_continuation: close\n",
      "          when:\n",
      "          - case:\n",
      "              deposits:\n",
      "                add: 80000000\n",
      "                and: 5000000\n",
      "              into_account:\n",
      "                role_token: Borrower\n",
      "              of_token:\n",
      "                currency_symbol: ''\n",
      "                token_name: ''\n",
      "              party:\n",
      "                role_token: Borrower\n",
      "            then:\n",
      "              from_account:\n",
      "                role_token: Borrower\n",
      "              pay:\n",
      "                add: 80000000\n",
      "                and: 5000000\n",
      "              then: close\n",
      "              to:\n",
      "                party:\n",
      "                  role_token: Lender\n",
      "              token:\n",
      "                currency_symbol: ''\n",
      "                token_name: ''\n",
      "        to:\n",
      "          party:\n",
      "            role_token: Borrower\n",
      "        token:\n",
      "          currency_symbol: ''\n",
      "          token_name: ''\n",
      "  metadata: {}\n",
      "  roleTokenMintingPolicyId: 4923a4105d5f5fbad2fb0ae63b2c68a7fe0eae2201c9c9a09ed410ce\n",
      "  state:\n",
      "    accounts:\n",
      "    - - - address: addr_test1vqer2uqv8raxqvad4vyt6mczad69ms5atuja4rwfck0mp8s9mcpxc\n",
      "        - currency_symbol: ''\n",
      "          token_name: ''\n",
      "      - 2000000\n",
      "    boundValues: []\n",
      "    choices: []\n",
      "    minTime: 0\n",
      "  status: confirmed\n",
      "  txBody: null\n",
      "  utxo: f5a19b1f679b926d4fca1a240584595ba1d0da74cf1c29d0ad3c13c2b920f285#1\n",
      "  version: v1\n"
     ]
    }
   ],
   "source": [
    "curl -s \"$CONTRACT_URL\" | json2yaml"
   ]
  },
  {
   "cell_type": "markdown",
   "id": "cd4fa3da-0f75-4b96-a911-0ba5bea722f8",
   "metadata": {},
   "source": [
    "## Transaction 2. The lender deposits the principal\n",
    "\n",
    "The lender deposits their 80 ada of principal into the contract using Marlowe Runtime\\'s `HTTP` `POST` `/contract/{contractId}/transactions` endpoint. The lender is providing the funding for and receiving the change from this transaction, so we provide their address.\n",
    "\n",
    "The deposit is represented as JSON input to the contract. The `marlowe-cli input deposit` tool conveniently formats the correct JSON for a deposit."
   ]
  },
  {
   "cell_type": "code",
   "execution_count": 26,
   "id": "3c8a6076-f342-489c-939c-e9c017b6b445",
   "metadata": {},
   "outputs": [
    {
     "name": "stdout",
     "output_type": "stream",
     "text": [
      "input_from_party:\n",
      "  role_token: Lender\n",
      "into_account:\n",
      "  role_token: Lender\n",
      "of_token:\n",
      "  currency_symbol: ''\n",
      "  token_name: ''\n",
      "that_deposits: 80000000\n"
     ]
    }
   ],
   "source": [
    "marlowe-cli input deposit \\\n",
    "  --deposit-party Lender \\\n",
    "  --deposit-account Lender \\\n",
    "  --deposit-amount \"$PRINCIPAL\" \\\n",
    "  --out-file input-2.json\n",
    "json2yaml input-2.json"
   ]
  },
  {
   "cell_type": "markdown",
   "id": "ad93d832-bf8c-47af-8d80-31a20eef344b",
   "metadata": {},
   "source": [
    "This input is included in the JSON request."
   ]
  },
  {
   "cell_type": "code",
   "execution_count": 27,
   "id": "4fc16b02-358c-438f-9e5b-7d709da7eac5",
   "metadata": {},
   "outputs": [
    {
     "name": "stdout",
     "output_type": "stream",
     "text": [
      "{\"inputs\":[{\"input_from_party\":{\"role_token\":\"Lender\"},\"into_account\":{\"role_token\":\"Lender\"},\"of_token\":{\"currency_symbol\":\"\",\"token_name\":\"\"},\"that_deposits\":80000000}],\"metadata\":{},\"version\":\"v1\"}\n"
     ]
    }
   ],
   "source": [
    "yaml2json << EOI > request-2.json\n",
    "version: v1\n",
    "inputs: [$(cat input-2.json)]\n",
    "metadata: {}\n",
    "EOI\n",
    "cat request-2.json"
   ]
  },
  {
   "cell_type": "markdown",
   "id": "c13f2307-ae38-4052-84ad-394159b3394d",
   "metadata": {},
   "source": [
    "Next we post the request and store the response."
   ]
  },
  {
   "cell_type": "code",
   "execution_count": 28,
   "id": "465152a1-eaaa-4dab-9035-aa306c0022fa",
   "metadata": {},
   "outputs": [
    {
     "name": "stdout",
     "output_type": "stream",
     "text": [
      "links:\n",
      "  transaction: contracts/f5a19b1f679b926d4fca1a240584595ba1d0da74cf1c29d0ad3c13c2b920f285%231/transactions/edc3c900b7d85632dbf96eb99a8bc5d2a9389d48155e494d0e21acb2c2664910\n",
      "resource:\n",
      "  contractId: f5a19b1f679b926d4fca1a240584595ba1d0da74cf1c29d0ad3c13c2b920f285#1\n",
      "  transactionId: edc3c900b7d85632dbf96eb99a8bc5d2a9389d48155e494d0e21acb2c2664910\n",
      "  txBody:\n",
      "    cborHex: 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\n",
      "    description: ''\n",
      "    type: TxBodyBabbage\n"
     ]
    }
   ],
   "source": [
    "curl \"$CONTRACT_URL/transactions\" \\\n",
    "  -X POST \\\n",
    "  -H 'Content-Type: application/json' \\\n",
    "  -H \"X-Change-Address: $LENDER_ADDR\" \\\n",
    "  -d @request-2.json \\\n",
    "  -o response-2.json \\\n",
    "  -s\n",
    "json2yaml response-2.json"
   ]
  },
  {
   "cell_type": "markdown",
   "id": "a53aa30a-f631-4714-af72-fdb1df93f12e",
   "metadata": {},
   "source": [
    "Once again, use `marlowe-cli` to submit the transaction and then wait for confirmation."
   ]
  },
  {
   "cell_type": "code",
   "execution_count": 29,
   "id": "6fb5d4c0-c158-434b-8dac-b2160f426e01",
   "metadata": {},
   "outputs": [],
   "source": [
    "jq '.resource.txBody' response-2.json > tx-2.unsigned"
   ]
  },
  {
   "cell_type": "code",
   "execution_count": 30,
   "id": "b2aa2f81-d6b7-4994-b90b-0812d5fb3fca",
   "metadata": {},
   "outputs": [
    {
     "name": "stdout",
     "output_type": "stream",
     "text": [
      "TX_2 = edc3c900b7d85632dbf96eb99a8bc5d2a9389d48155e494d0e21acb2c2664910\n"
     ]
    }
   ],
   "source": [
    "TX_2=$(\n",
    "marlowe-cli transaction submit \\\n",
    "  --tx-body-file tx-2.unsigned \\\n",
    "  --required-signer \"$LENDER_SKEY\" \\\n",
    "  --timeout 600 \\\n",
    "| sed -e 's/^TxId \"\\(.*\\)\"$/\\1/' \\\n",
    ")\n",
    "echo \"TX_2 = $TX_2\""
   ]
  },
  {
   "cell_type": "markdown",
   "id": "166c77e3-d2ec-4961-b1c9-59b882a9c7b7",
   "metadata": {},
   "source": [
    "One can view the transaction on a Cardano explorer."
   ]
  },
  {
   "cell_type": "code",
   "execution_count": 31,
   "id": "9b994073-d1b9-44a4-8149-9b307a69a4e4",
   "metadata": {},
   "outputs": [
    {
     "name": "stdout",
     "output_type": "stream",
     "text": [
      "https://preprod.cardanoscan.io/transaction/edc3c900b7d85632dbf96eb99a8bc5d2a9389d48155e494d0e21acb2c2664910?tab=utxo\n"
     ]
    }
   ],
   "source": [
    "echo \"https://preprod.cardanoscan.io/transaction/$TX_2?tab=utxo\""
   ]
  },
  {
   "cell_type": "markdown",
   "id": "44cd316b-d4db-4d2b-87a7-eb38b95f5fb3",
   "metadata": {},
   "source": [
    "One can see that the lender has 16 ada instead of 100 ada. Two ada were deposited in the contract when it was created and 80 ada were paid to the borrower in the second transaction. The other ada was used for fees. The lender also holds their own role token."
   ]
  },
  {
   "cell_type": "code",
   "execution_count": 32,
   "id": "b45dc15d-f54f-49cb-a36d-0524f47fd70e",
   "metadata": {},
   "outputs": [
    {
     "name": "stdout",
     "output_type": "stream",
     "text": [
      "                           TxHash                                 TxIx        Amount\n",
      "--------------------------------------------------------------------------------------\n",
      "edc3c900b7d85632dbf96eb99a8bc5d2a9389d48155e494d0e21acb2c2664910     0        14674987 lovelace + TxOutDatumNone\n",
      "edc3c900b7d85632dbf96eb99a8bc5d2a9389d48155e494d0e21acb2c2664910     2        1034400 lovelace + 1 4923a4105d5f5fbad2fb0ae63b2c68a7fe0eae2201c9c9a09ed410ce.4c656e646572 + TxOutDatumNone\n"
     ]
    }
   ],
   "source": [
    "cardano-cli query utxo --testnet-magic \"$CARDANO_TESTNET_MAGIC\" --address \"$LENDER_ADDR\""
   ]
  },
  {
   "cell_type": "markdown",
   "id": "369f3945-299b-41dd-9cbf-f3864002b6aa",
   "metadata": {},
   "source": [
    "The Marlowe contract still has the 2 ada from its creation."
   ]
  },
  {
   "cell_type": "code",
   "execution_count": 33,
   "id": "6485d605-dec4-4bab-86f6-81bf002041ed",
   "metadata": {},
   "outputs": [
    {
     "name": "stdout",
     "output_type": "stream",
     "text": [
      "                           TxHash                                 TxIx        Amount\n",
      "--------------------------------------------------------------------------------------\n",
      "edc3c900b7d85632dbf96eb99a8bc5d2a9389d48155e494d0e21acb2c2664910     1        2000000 lovelace + TxOutDatumHash ScriptDataInBabbageEra \"649c5cce0b8fecc93f7011bc7e3ffeb99ab15fc6f0b658100c57d8c6a8fe1399\"\n"
     ]
    }
   ],
   "source": [
    "cardano-cli query utxo --testnet-magic \"$CARDANO_TESTNET_MAGIC\" --tx-in \"$TX_2#1\""
   ]
  },
  {
   "cell_type": "markdown",
   "id": "42835790-b1b7-4c03-a935-dda6addd4f19",
   "metadata": {},
   "source": [
    "Marlowe\\'s role-payout address holds the 80 ada on behalf of the borrower."
   ]
  },
  {
   "cell_type": "code",
   "execution_count": 34,
   "id": "82e3a33e-7ce1-4aa3-824c-59cbfe881ba9",
   "metadata": {},
   "outputs": [
    {
     "name": "stdout",
     "output_type": "stream",
     "text": [
      "                           TxHash                                 TxIx        Amount\n",
      "--------------------------------------------------------------------------------------\n",
      "edc3c900b7d85632dbf96eb99a8bc5d2a9389d48155e494d0e21acb2c2664910     3        80000000 lovelace + TxOutDatumHash ScriptDataInBabbageEra \"dff6648987ec6a6472a6183a76ee9aea813d81923b7a467e2f1fe9a300b629cb\"\n"
     ]
    }
   ],
   "source": [
    "cardano-cli query utxo --testnet-magic \"$CARDANO_TESTNET_MAGIC\" --tx-in \"$TX_2#3\""
   ]
  },
  {
   "cell_type": "markdown",
   "id": "3eb0d02e-c30c-4845-86b5-602c2279b518",
   "metadata": {},
   "source": [
    "## View the further progress of the contract on the blockchain\n",
    "\n",
    "Marlowe Runtime\\'s `HTTP` `GET` endpoint `/contracts/{contractId}/transactions/{transactionId}` can fetch a contract from the blockchain and return information about it."
   ]
  },
  {
   "cell_type": "code",
   "execution_count": 35,
   "id": "e0461725-7f2b-4256-ac83-8e681ecb3e35",
   "metadata": {},
   "outputs": [
    {
     "name": "stdout",
     "output_type": "stream",
     "text": [
      "links: {}\n",
      "resource:\n",
      "  block:\n",
      "    blockHeaderHash: 50a9528afabbbb9e65769022ea8d7ddf5f9082e9e190e9bfcf5c8084b62fcc38\n",
      "    blockNo: 651018\n",
      "    slotNo: 21249200\n",
      "  consumingTx: null\n",
      "  contractId: f5a19b1f679b926d4fca1a240584595ba1d0da74cf1c29d0ad3c13c2b920f285#1\n",
      "  inputUtxo: f5a19b1f679b926d4fca1a240584595ba1d0da74cf1c29d0ad3c13c2b920f285#1\n",
      "  inputs:\n",
      "  - input_from_party:\n",
      "      role_token: Lender\n",
      "    into_account:\n",
      "      role_token: Lender\n",
      "    of_token:\n",
      "      currency_symbol: ''\n",
      "      token_name: ''\n",
      "    that_deposits: 80000000\n",
      "  invalidBefore: '2023-02-20T22:32:26Z'\n",
      "  invalidHereafter: '2023-02-20T23:31:33Z'\n",
      "  metadata: {}\n",
      "  outputContract:\n",
      "    timeout: 1676943093000\n",
      "    timeout_continuation: close\n",
      "    when:\n",
      "    - case:\n",
      "        deposits:\n",
      "          add: 80000000\n",
      "          and: 5000000\n",
      "        into_account:\n",
      "          role_token: Borrower\n",
      "        of_token:\n",
      "          currency_symbol: ''\n",
      "          token_name: ''\n",
      "        party:\n",
      "          role_token: Borrower\n",
      "      then:\n",
      "        from_account:\n",
      "          role_token: Borrower\n",
      "        pay:\n",
      "          add: 80000000\n",
      "          and: 5000000\n",
      "        then: close\n",
      "        to:\n",
      "          party:\n",
      "            role_token: Lender\n",
      "        token:\n",
      "          currency_symbol: ''\n",
      "          token_name: ''\n",
      "  outputState:\n",
      "    accounts:\n",
      "    - - - address: addr_test1vqer2uqv8raxqvad4vyt6mczad69ms5atuja4rwfck0mp8s9mcpxc\n",
      "        - currency_symbol: ''\n",
      "          token_name: ''\n",
      "      - 2000000\n",
      "    boundValues: []\n",
      "    choices: []\n",
      "    minTime: 1676932346000\n",
      "  outputUtxo: edc3c900b7d85632dbf96eb99a8bc5d2a9389d48155e494d0e21acb2c2664910#1\n",
      "  status: confirmed\n",
      "  transactionId: edc3c900b7d85632dbf96eb99a8bc5d2a9389d48155e494d0e21acb2c2664910\n",
      "  txBody: null\n"
     ]
    }
   ],
   "source": [
    "curl -s \"$CONTRACT_URL/transactions/$TX_2\" | json2yaml"
   ]
  },
  {
   "cell_type": "markdown",
   "id": "0b17395e-b9bf-4d65-87be-52003df285cc",
   "metadata": {},
   "source": [
    "## Transaction 3. The borrower withdraws the principal\n",
    "\n",
    "Sadly, there currently is no Marlowe Runtime REST endpoint for withdrawing funds from the role-payout address. Instead, we use Marlowe Runtime\\'s command-line interface, `marlowe`, to do this."
   ]
  },
  {
   "cell_type": "code",
   "execution_count": 36,
   "id": "b0830018-b070-4431-aa04-04a327a93537",
   "metadata": {},
   "outputs": [
    {
     "name": "stdout",
     "output_type": "stream",
     "text": [
      "TX_3 = e0b43f101dfa388cd6288ccbd6282bc91bbf6a9081d1c065a403e13174ed1998\n"
     ]
    }
   ],
   "source": [
    "TX_3=$(\n",
    "marlowe withdraw \\\n",
    "  --contract \"$CONTRACT_ID\" \\\n",
    "  --role Borrower \\\n",
    "  --change-address \"$BORROWER_ADDR\" \\\n",
    "  --manual-sign tx-3.unsigned \\\n",
    "| jq -r 'fromjson | .txId' \\\n",
    ")\n",
    "echo \"TX_3 = $TX_3\""
   ]
  },
  {
   "cell_type": "markdown",
   "id": "33ec8012-b08a-4c76-b0a3-49f9d616249a",
   "metadata": {},
   "source": [
    "Submit the transaction."
   ]
  },
  {
   "cell_type": "code",
   "execution_count": 37,
   "id": "a1e8ffa6-1a77-422b-8df3-aeeb78716942",
   "metadata": {},
   "outputs": [
    {
     "name": "stdout",
     "output_type": "stream",
     "text": [
      "TxId \"e0b43f101dfa388cd6288ccbd6282bc91bbf6a9081d1c065a403e13174ed1998\"\n"
     ]
    }
   ],
   "source": [
    "marlowe-cli transaction submit \\\n",
    "  --tx-body-file tx-3.unsigned \\\n",
    "  --required-signer \"$BORROWER_SKEY\" \\\n",
    "  --timeout 600"
   ]
  },
  {
   "cell_type": "markdown",
   "id": "83cdba11-1c56-4bd4-8cfc-70240f562477",
   "metadata": {},
   "source": [
    "On can view the transaction on a Cardano explorer."
   ]
  },
  {
   "cell_type": "code",
   "execution_count": 38,
   "id": "b3df594b-eb21-4551-8c84-26eef2af54fd",
   "metadata": {},
   "outputs": [
    {
     "name": "stdout",
     "output_type": "stream",
     "text": [
      "https://preprod.cardanoscan.io/transaction/e0b43f101dfa388cd6288ccbd6282bc91bbf6a9081d1c065a403e13174ed1998?tab=utxo\n"
     ]
    }
   ],
   "source": [
    "echo \"https://preprod.cardanoscan.io/transaction/$TX_3?tab=utxo\""
   ]
  },
  {
   "cell_type": "markdown",
   "id": "26ef923e-2e12-4288-a213-1c05ee323f9c",
   "metadata": {},
   "source": [
    "The borrower now has about 180 ada. The borrower also holds their own role token."
   ]
  },
  {
   "cell_type": "code",
   "execution_count": 39,
   "id": "0c876c3c-381c-441d-92e9-b6bedbaf23a9",
   "metadata": {},
   "outputs": [
    {
     "name": "stdout",
     "output_type": "stream",
     "text": [
      "                           TxHash                                 TxIx        Amount\n",
      "--------------------------------------------------------------------------------------\n",
      "e0b43f101dfa388cd6288ccbd6282bc91bbf6a9081d1c065a403e13174ed1998     0        179664371 lovelace + TxOutDatumNone\n",
      "e0b43f101dfa388cd6288ccbd6282bc91bbf6a9081d1c065a403e13174ed1998     1        1043020 lovelace + 1 4923a4105d5f5fbad2fb0ae63b2c68a7fe0eae2201c9c9a09ed410ce.426f72726f776572 + TxOutDatumNone\n"
     ]
    }
   ],
   "source": [
    "cardano-cli query utxo --testnet-magic \"$CARDANO_TESTNET_MAGIC\" --address \"$BORROWER_ADDR\""
   ]
  },
  {
   "cell_type": "markdown",
   "id": "e7c652f6-02da-4786-a54d-755d59e4aba9",
   "metadata": {
    "tags": []
   },
   "source": [
    "## Transaction 4. The borrower repays the loan\n",
    "\n",
    "After some time passes, the borrower repays principal plus interest. Thus, they fund the transaction and receive the change at their address.\n",
    "\n",
    "First build the input to deposit the funds to the contract."
   ]
  },
  {
   "cell_type": "code",
   "execution_count": 40,
   "id": "1eb38d8c-4e20-4172-9deb-4364680823db",
   "metadata": {},
   "outputs": [
    {
     "name": "stdout",
     "output_type": "stream",
     "text": [
      "input_from_party:\n",
      "  role_token: Borrower\n",
      "into_account:\n",
      "  role_token: Borrower\n",
      "of_token:\n",
      "  currency_symbol: ''\n",
      "  token_name: ''\n",
      "that_deposits: 85000000\n"
     ]
    }
   ],
   "source": [
    "marlowe-cli input deposit \\\n",
    "  --deposit-party Borrower \\\n",
    "  --deposit-account Borrower \\\n",
    "  --deposit-amount \"$((PRINCIPAL+INTEREST))\" \\\n",
    "  --out-file input-4.json\n",
    "json2yaml input-4.json"
   ]
  },
  {
   "cell_type": "markdown",
   "id": "a21b8c20-0207-40c1-a999-937ceb508e9d",
   "metadata": {},
   "source": [
    "Next build the request."
   ]
  },
  {
   "cell_type": "code",
   "execution_count": 41,
   "id": "9e0e83d1-cd70-4c42-a350-242e0b5fdd06",
   "metadata": {},
   "outputs": [
    {
     "name": "stdout",
     "output_type": "stream",
     "text": [
      "{\"inputs\":[{\"input_from_party\":{\"role_token\":\"Borrower\"},\"into_account\":{\"role_token\":\"Borrower\"},\"of_token\":{\"currency_symbol\":\"\",\"token_name\":\"\"},\"that_deposits\":85000000}],\"metadata\":{},\"version\":\"v1\"}\n"
     ]
    }
   ],
   "source": [
    "yaml2json << EOI > request-4.json\n",
    "version: v1\n",
    "inputs: [$(cat input-4.json)]\n",
    "metadata: {}\n",
    "EOI\n",
    "cat request-4.json"
   ]
  },
  {
   "cell_type": "markdown",
   "id": "8ae5b15b-b43a-492b-83c7-5b7693c61348",
   "metadata": {},
   "source": [
    "Now post the request to Marlowe Runtime."
   ]
  },
  {
   "cell_type": "code",
   "execution_count": 42,
   "id": "dc569d98-d5a0-4c40-bafb-6018ce4084ed",
   "metadata": {},
   "outputs": [
    {
     "name": "stdout",
     "output_type": "stream",
     "text": [
      "links:\n",
      "  transaction: contracts/f5a19b1f679b926d4fca1a240584595ba1d0da74cf1c29d0ad3c13c2b920f285%231/transactions/982cbc1fd3fc6f89eaf2a3c0368e97d61f91ca336abe60fbd83fe7919b22b3ff\n",
      "resource:\n",
      "  contractId: f5a19b1f679b926d4fca1a240584595ba1d0da74cf1c29d0ad3c13c2b920f285#1\n",
      "  transactionId: 982cbc1fd3fc6f89eaf2a3c0368e97d61f91ca336abe60fbd83fe7919b22b3ff\n",
      "  txBody:\n",
      "    cborHex: 86aa0083825820e0b43f101dfa388cd6288ccbd6282bc91bbf6a9081d1c065a403e13174ed199800825820e0b43f101dfa388cd6288ccbd6282bc91bbf6a9081d1c065a403e13174ed199801825820edc3c900b7d85632dbf96eb99a8bc5d2a9389d48155e494d0e21acb2c2664910010d81825820e0b43f101dfa388cd6288ccbd6282bc91bbf6a9081d1c065a403e13174ed1998001281825820d1e488d70850fc36ef6971a65d1f45e2a7a433e4080e4c5c580d0b23094a955e010184a200581d60de6468e9f2070d1f126d7324747e26d844d298283d825a7237137eb7011a059a0330a200581d60de6468e9f2070d1f126d7324747e26d844d298283d825a7237137eb701821a000fea4ca1581c4923a4105d5f5fbad2fb0ae63b2c68a7fe0eae2201c9c9a09ed410cea148426f72726f77657201a300581d7049076eab20243dc9462511fb98a9cfb719f86e9692288139b7c91df3011a0510ff4002820058204a74637557de6ec17d0e2886d5aa5d52fa5224918fa9048c00f0768b37568297a200581d603235700c38fa6033adab08bd6f02eb745dc29d5f25da8dc9c59fb09e011a001e848010a200581d60de6468e9f2070d1f126d7324747e26d844d298283d825a7237137eb7011a0aa5c8ae111a000fad45021a000a7383031a01446675081a01443cd30b5820979e44ff0b7e504fa94fc8499578cd7d322245d00dd325b3ee10db09425c361d9fff82d8799f581c4923a4105d5f5fbad2fb0ae63b2c68a7fe0eae2201c9c9a09ed410ce464c656e646572ffd8799fd8799f581c4923a4105d5f5fbad2fb0ae63b2c68a7fe0eae2201c9c9a09ed410ceffd8799fa1d8799fd8799fd87980d8799fd8799f581c3235700c38fa6033adab08bd6f02eb745dc29d5f25da8dc9c59fb09effd87a80ffffd8799f4040ffff1a001e8480a0a01b0000018670f4f090ffd87c9f9fd8799fd8799fd87a9f48426f72726f776572ffd87a9f48426f72726f776572ffd8799f4040ffd87c9fd87a9f1a04c4b400ffd87a9f1a004c4b40ffffffd87a9fd87a9f48426f72726f776572ffd87a9fd87a9f464c656e646572ffffd8799f4040ffd87c9fd87a9f1a04c4b400ffd87a9f1a004c4b40ffffd87980ffffff1b000001867198ed08d87980ffff818400029fd8799fd8799fd87a9f48426f72726f776572ffd87a9f48426f72726f776572ffd8799f4040ff1a0510ff40ffffff821a005e8c5e1a60ec6ec2f5f6\n",
      "    description: ''\n",
      "    type: TxBodyBabbage\n"
     ]
    }
   ],
   "source": [
    "curl \"$CONTRACT_URL/transactions\" \\\n",
    "  -X POST \\\n",
    "  -H 'Content-Type: application/json' \\\n",
    "  -H \"X-Change-Address: $BORROWER_ADDR\" \\\n",
    "  -d @request-4.json \\\n",
    "  -o response-4.json \\\n",
    "  -s\n",
    "json2yaml response-4.json"
   ]
  },
  {
   "cell_type": "markdown",
   "id": "b2e54a32-15b1-436f-a793-4c30fa048436",
   "metadata": {},
   "source": [
    "Once again, use `marlowe-cli` to submit the transaction and then wait for confirmation."
   ]
  },
  {
   "cell_type": "code",
   "execution_count": 43,
   "id": "b6f04318-bfb8-47d5-b681-0abb90d62640",
   "metadata": {},
   "outputs": [],
   "source": [
    "jq '.resource.txBody' response-4.json > tx-4.unsigned"
   ]
  },
  {
   "cell_type": "code",
   "execution_count": 44,
   "id": "0faa8cd4-902d-4399-8621-03dac811deda",
   "metadata": {},
   "outputs": [
    {
     "name": "stdout",
     "output_type": "stream",
     "text": [
      "TX_4 = 982cbc1fd3fc6f89eaf2a3c0368e97d61f91ca336abe60fbd83fe7919b22b3ff\n"
     ]
    }
   ],
   "source": [
    "TX_4=$(\n",
    "marlowe-cli transaction submit \\\n",
    "  --tx-body-file tx-4.unsigned \\\n",
    "  --required-signer \"$BORROWER_SKEY\" \\\n",
    "  --timeout 600 \\\n",
    "| sed -e 's/^TxId \"\\(.*\\)\"$/\\1/' \\\n",
    ")\n",
    "echo \"TX_4 = $TX_4\""
   ]
  },
  {
   "cell_type": "markdown",
   "id": "0a24c60d-e470-487b-b607-fa94fc243314",
   "metadata": {},
   "source": [
    "One can view the transaction on a Cardano explorer."
   ]
  },
  {
   "cell_type": "code",
   "execution_count": 45,
   "id": "53279d7a-c775-422e-a258-e4077df1e2b4",
   "metadata": {},
   "outputs": [
    {
     "name": "stdout",
     "output_type": "stream",
     "text": [
      "https://preprod.cardanoscan.io/transaction/982cbc1fd3fc6f89eaf2a3c0368e97d61f91ca336abe60fbd83fe7919b22b3ff?tab=utxo\n"
     ]
    }
   ],
   "source": [
    "echo \"https://preprod.cardanoscan.io/transaction/$TX_4?tab=utxo\""
   ]
  },
  {
   "cell_type": "markdown",
   "id": "1196c641-e92e-4848-a20b-b673d7fcbc71",
   "metadata": {},
   "source": [
    "The borrower now has a total of about 95 ada, which is 100 ada minus the 5 ada paid as interest."
   ]
  },
  {
   "cell_type": "code",
   "execution_count": 46,
   "id": "3e8f27e3-e94a-4332-94a2-2f8af8800d56",
   "metadata": {},
   "outputs": [
    {
     "name": "stdout",
     "output_type": "stream",
     "text": [
      "                           TxHash                                 TxIx        Amount\n",
      "--------------------------------------------------------------------------------------\n",
      "982cbc1fd3fc6f89eaf2a3c0368e97d61f91ca336abe60fbd83fe7919b22b3ff     0        93979440 lovelace + TxOutDatumNone\n",
      "982cbc1fd3fc6f89eaf2a3c0368e97d61f91ca336abe60fbd83fe7919b22b3ff     1        1043020 lovelace + 1 4923a4105d5f5fbad2fb0ae63b2c68a7fe0eae2201c9c9a09ed410ce.426f72726f776572 + TxOutDatumNone\n"
     ]
    }
   ],
   "source": [
    "cardano-cli query utxo --testnet-magic \"$CARDANO_TESTNET_MAGIC\" --address \"$BORROWER_ADDR\""
   ]
  },
  {
   "cell_type": "markdown",
   "id": "b21ad2f2-9666-4baa-bbde-76d7b32f5be9",
   "metadata": {},
   "source": [
    "The 85 ada are at Marlowe\\'s role-payout address, held on behalf of the lender."
   ]
  },
  {
   "cell_type": "code",
   "execution_count": 47,
   "id": "6d7bd817-4174-42c1-bc15-29e00f05645b",
   "metadata": {},
   "outputs": [
    {
     "name": "stdout",
     "output_type": "stream",
     "text": [
      "                           TxHash                                 TxIx        Amount\n",
      "--------------------------------------------------------------------------------------\n",
      "982cbc1fd3fc6f89eaf2a3c0368e97d61f91ca336abe60fbd83fe7919b22b3ff     2        85000000 lovelace + TxOutDatumHash ScriptDataInBabbageEra \"4a74637557de6ec17d0e2886d5aa5d52fa5224918fa9048c00f0768b37568297\"\n"
     ]
    }
   ],
   "source": [
    "cardano-cli query utxo --testnet-magic \"$CARDANO_TESTNET_MAGIC\" --tx-in \"$TX_4#2\""
   ]
  },
  {
   "cell_type": "markdown",
   "id": "8b4951f7-58bb-4399-a09a-2029f4e2dfe4",
   "metadata": {},
   "source": [
    "The Marlowe contract has closed, so there is no output to its script address."
   ]
  },
  {
   "cell_type": "markdown",
   "id": "236043d5-5559-42a6-bf86-4171d80af4d4",
   "metadata": {},
   "source": [
    "## View the completion of the contract on the blockchain\n",
    "\n",
    "Marlowe Runtime\\'s `HTTP` `GET` endpoint `/contracts/{contractId}/transactions/{transactionId}` can fetch a contract from the blockchain and return information about it."
   ]
  },
  {
   "cell_type": "code",
   "execution_count": 48,
   "id": "f6f164ae-2fca-4e9f-9368-d2ffe8ce83b9",
   "metadata": {},
   "outputs": [
    {
     "name": "stdout",
     "output_type": "stream",
     "text": [
      "links:\n",
      "  previous: contracts/f5a19b1f679b926d4fca1a240584595ba1d0da74cf1c29d0ad3c13c2b920f285%231/transactions/edc3c900b7d85632dbf96eb99a8bc5d2a9389d48155e494d0e21acb2c2664910\n",
      "resource:\n",
      "  block:\n",
      "    blockHeaderHash: c3fc9aa3c00da8a30886c208d6b1c33ab349bc3e9a59dd98beb6558f645d70cd\n",
      "    blockNo: 651021\n",
      "    slotNo: 21249299\n",
      "  consumingTx: null\n",
      "  contractId: f5a19b1f679b926d4fca1a240584595ba1d0da74cf1c29d0ad3c13c2b920f285#1\n",
      "  inputUtxo: edc3c900b7d85632dbf96eb99a8bc5d2a9389d48155e494d0e21acb2c2664910#1\n",
      "  inputs:\n",
      "  - input_from_party:\n",
      "      role_token: Borrower\n",
      "    into_account:\n",
      "      role_token: Borrower\n",
      "    of_token:\n",
      "      currency_symbol: ''\n",
      "      token_name: ''\n",
      "    that_deposits: 85000000\n",
      "  invalidBefore: '2023-02-20T22:33:55Z'\n",
      "  invalidHereafter: '2023-02-21T01:31:33Z'\n",
      "  metadata: {}\n",
      "  outputContract: null\n",
      "  outputState: null\n",
      "  outputUtxo: null\n",
      "  status: confirmed\n",
      "  transactionId: 982cbc1fd3fc6f89eaf2a3c0368e97d61f91ca336abe60fbd83fe7919b22b3ff\n",
      "  txBody: null\n"
     ]
    }
   ],
   "source": [
    "curl -s \"$CONTRACT_URL/transactions/$TX_4\" | json2yaml"
   ]
  },
  {
   "cell_type": "markdown",
   "id": "12fc02fa-a082-4ec2-8683-c48e1a0e0020",
   "metadata": {},
   "source": [
    "## Transaction 5. The lender withdraws their principal and interest\n",
    "\n",
    "Here again we use `marlowe` to withdraw funds from the Marlowe role-payout address."
   ]
  },
  {
   "cell_type": "code",
   "execution_count": 49,
   "id": "7361402a-3bc4-4d1d-84b0-a447ecb30c10",
   "metadata": {},
   "outputs": [
    {
     "name": "stdout",
     "output_type": "stream",
     "text": [
      "TX_5 = 380f2c92fb064c60f04f132cc894310b2f647b2f78c6adf53971abd65ea38872\n"
     ]
    }
   ],
   "source": [
    "TX_5=$(\n",
    "marlowe withdraw \\\n",
    "  --contract \"$CONTRACT_ID\" \\\n",
    "  --role Lender \\\n",
    "  --change-address \"$LENDER_ADDR\" \\\n",
    "  --manual-sign tx-5.unsigned \\\n",
    "| jq -r 'fromjson | .txId' \\\n",
    ")\n",
    "echo \"TX_5 = $TX_5\""
   ]
  },
  {
   "cell_type": "markdown",
   "id": "89fedf70-1d5a-4b22-a8a6-8037d70a9381",
   "metadata": {},
   "source": [
    "Submit the transaction."
   ]
  },
  {
   "cell_type": "code",
   "execution_count": 50,
   "id": "a0ac6dc2-1ffd-43f8-991e-c6108b100606",
   "metadata": {},
   "outputs": [
    {
     "name": "stdout",
     "output_type": "stream",
     "text": [
      "TxId \"380f2c92fb064c60f04f132cc894310b2f647b2f78c6adf53971abd65ea38872\"\n"
     ]
    }
   ],
   "source": [
    "marlowe-cli transaction submit \\\n",
    "  --tx-body-file tx-5.unsigned \\\n",
    "  --required-signer \"$LENDER_SKEY\" \\\n",
    "  --timeout 600"
   ]
  },
  {
   "cell_type": "markdown",
   "id": "2776f365-9ba9-481a-ac1e-79f7e9cc60bc",
   "metadata": {},
   "source": [
    "One can view the transaction on a Cardano explorer."
   ]
  },
  {
   "cell_type": "code",
   "execution_count": 51,
   "id": "0465596a-9141-476b-84e2-003f2c55eefa",
   "metadata": {},
   "outputs": [
    {
     "name": "stdout",
     "output_type": "stream",
     "text": [
      "https://preprod.cardanoscan.io/transaction/380f2c92fb064c60f04f132cc894310b2f647b2f78c6adf53971abd65ea38872?tab=utxo\n"
     ]
    }
   ],
   "source": [
    "echo \"https://preprod.cardanoscan.io/transaction/$TX_5?tab=utxo\""
   ]
  },
  {
   "cell_type": "markdown",
   "id": "dee709f4-b59a-4411-abd3-defc4031f942",
   "metadata": {},
   "source": [
    "The lender now has a little over 102 ada, having received the interest and having paid transaction fees."
   ]
  },
  {
   "cell_type": "code",
   "execution_count": 52,
   "id": "98ac7654-f649-42dd-972f-103c3b55ad4f",
   "metadata": {},
   "outputs": [
    {
     "name": "stdout",
     "output_type": "stream",
     "text": [
      "                           TxHash                                 TxIx        Amount\n",
      "--------------------------------------------------------------------------------------\n",
      "380f2c92fb064c60f04f132cc894310b2f647b2f78c6adf53971abd65ea38872     0        86664547 lovelace + TxOutDatumNone\n",
      "380f2c92fb064c60f04f132cc894310b2f647b2f78c6adf53971abd65ea38872     1        1034400 lovelace + 1 4923a4105d5f5fbad2fb0ae63b2c68a7fe0eae2201c9c9a09ed410ce.4c656e646572 + TxOutDatumNone\n",
      "edc3c900b7d85632dbf96eb99a8bc5d2a9389d48155e494d0e21acb2c2664910     0        14674987 lovelace + TxOutDatumNone\n"
     ]
    }
   ],
   "source": [
    "cardano-cli query utxo --testnet-magic \"$CARDANO_TESTNET_MAGIC\" --address \"$LENDER_ADDR\""
   ]
  },
  {
   "cell_type": "markdown",
   "id": "48be1a89-6538-49e2-9d67-000cd09b2bf6",
   "metadata": {},
   "source": [
    "## \\[Optional\\] Clean Up"
   ]
  },
  {
   "cell_type": "markdown",
   "id": "b760e269-c70c-4364-a4d3-71438bfc3693",
   "metadata": {},
   "source": [
    "We can tidy up the wallets by sending their funds back to the original faucet."
   ]
  },
  {
   "cell_type": "code",
   "execution_count": 53,
   "id": "00df321a-9b4c-4c15-abbb-d8384e11cab7",
   "metadata": {},
   "outputs": [
    {
     "name": "stdout",
     "output_type": "stream",
     "text": [
      "TxId \"e5cc68288b6b5fdde55231694ab7d5db4b1747e1cc4b488abb073342161c6dac\"\n"
     ]
    }
   ],
   "source": [
    "POLICY_ID=$(curl -s $CONTRACT_URL | jq -r '.resource.roleTokenMintingPolicyId')\n",
    "marlowe-cli transaction simple \\\n",
    "  --tx-in \"$TX_2#0\" \\\n",
    "  --tx-in \"$TX_4#0\" \\\n",
    "  --tx-in \"$TX_4#1\" \\\n",
    "  --tx-in \"$TX_5#0\" \\\n",
    "  --tx-in \"$TX_5#1\" \\\n",
    "  --tx-out \"addr_test1vqxdw4rlu6krp9fwgwcnld6y84wdahg585vrdy67n5urp9qyts0y7+1250000+1 $POLICY_ID.Lender+1 $POLICY_ID.Borrower\" \\\n",
    "  --change-address \"$(cat ../faucet.testnet.address)\" \\\n",
    "  --required-signer \"$LENDER_SKEY\" \\\n",
    "  --required-signer \"$BORROWER_SKEY\" \\\n",
    "  --out-file /dev/null \\\n",
    "  --submit 600"
   ]
  },
  {
   "cell_type": "markdown",
   "id": "facfe24b-dd7a-44fe-896b-da2b6c6be5b2",
   "metadata": {},
   "source": [
    "## *Appendix:* OpenApi Description of Marlowe Web Services\n",
    "\n",
    "Here is the OpenApi description of endpoints and types provided by `marlowe-web-server`."
   ]
  },
  {
   "cell_type": "code",
   "execution_count": 54,
   "id": "9f2104c6-6463-4ce5-a1b9-e86e066a08ce",
   "metadata": {},
   "outputs": [
    {
     "name": "stdout",
     "output_type": "stream",
     "text": [
      "components:\n",
      "  schemas:\n",
      "    Action:\n",
      "      description: A contract which becomes active when an action occurs.\n",
      "      oneOf:\n",
      "      - properties:\n",
      "          deposits:\n",
      "            $ref: '#/components/schemas/Value'\n",
      "          into_account:\n",
      "            $ref: '#/components/schemas/Party'\n",
      "          of_token:\n",
      "            $ref: '#/components/schemas/Token'\n",
      "          party:\n",
      "            $ref: '#/components/schemas/Party'\n",
      "        required:\n",
      "        - party\n",
      "        - deposits\n",
      "        - of_token\n",
      "        - into_account\n",
      "        type: object\n",
      "      - properties:\n",
      "          choose_between:\n",
      "            items:\n",
      "              $ref: '#/components/schemas/Bound'\n",
      "            type: array\n",
      "          for_choice:\n",
      "            $ref: '#/components/schemas/ChoiceId'\n",
      "        required:\n",
      "        - for_choice\n",
      "        - choose_between\n",
      "        type: object\n",
      "      - properties:\n",
      "          notify_if:\n",
      "            $ref: '#/components/schemas/Observation'\n",
      "        required:\n",
      "        - notify_if\n",
      "        type: object\n",
      "    Address:\n",
      "      description: A cardano address\n",
      "      type: string\n",
      "    ApplyInputsTxBody:\n",
      "      properties:\n",
      "        contractId:\n",
      "          $ref: '#/components/schemas/TxOutRef'\n",
      "        transactionId:\n",
      "          $ref: '#/components/schemas/TxId'\n",
      "        txBody:\n",
      "          $ref: '#/components/schemas/TextEnvelope'\n",
      "      required:\n",
      "      - contractId\n",
      "      - transactionId\n",
      "      - txBody\n",
      "      type: object\n",
      "    BlockHeader:\n",
      "      properties:\n",
      "        blockHeaderHash:\n",
      "          type: string\n",
      "        blockNo:\n",
      "          format: int64\n",
      "          maximum: 18446744073709551615\n",
      "          minimum: 0\n",
      "          type: integer\n",
      "        slotNo:\n",
      "          format: int64\n",
      "          maximum: 18446744073709551615\n",
      "          minimum: 0\n",
      "          type: integer\n",
      "      required:\n",
      "      - slotNo\n",
      "      - blockNo\n",
      "      - blockHeaderHash\n",
      "      type: object\n",
      "    Bound:\n",
      "      description: An inclusive range of values for a choice.\n",
      "      properties:\n",
      "        from:\n",
      "          type: integer\n",
      "        to:\n",
      "          type: integer\n",
      "      required:\n",
      "      - from\n",
      "      - to\n",
      "      type: object\n",
      "    Case:\n",
      "      description: A contract which becomes active when an action occurs.\n",
      "      oneOf:\n",
      "      - properties:\n",
      "          case:\n",
      "            $ref: '#/components/schemas/Action'\n",
      "          then:\n",
      "            $ref: '#/components/schemas/Contract'\n",
      "        required:\n",
      "        - case\n",
      "        - then\n",
      "        type: object\n",
      "      - properties:\n",
      "          case:\n",
      "            $ref: '#/components/schemas/Action'\n",
      "          merkleized_then:\n",
      "            type: string\n",
      "        required:\n",
      "        - case\n",
      "        - merkleized_then\n",
      "        type: object\n",
      "    ChoiceId:\n",
      "      description: Refers to a party by role name.\n",
      "      properties:\n",
      "        choice_name:\n",
      "          type: string\n",
      "        choice_owner:\n",
      "          $ref: '#/components/schemas/Party'\n",
      "      required:\n",
      "      - choice_name\n",
      "      - choice_owner\n",
      "      type: object\n",
      "    Contract:\n",
      "      description: Contract terms specified in Marlowe\n",
      "      oneOf:\n",
      "      - description: No more payments will be sent and the balance of the contract\n",
      "          is 0.\n",
      "        enum:\n",
      "        - close\n",
      "        type: string\n",
      "      - description: A payment will be sent from an account to a payee.\n",
      "        properties:\n",
      "          from_account:\n",
      "            $ref: '#/components/schemas/Party'\n",
      "          pay:\n",
      "            $ref: '#/components/schemas/Value'\n",
      "          then:\n",
      "            $ref: '#/components/schemas/Contract'\n",
      "          to:\n",
      "            $ref: '#/components/schemas/Payee'\n",
      "          token:\n",
      "            $ref: '#/components/schemas/Token'\n",
      "        required:\n",
      "        - from_account\n",
      "        - to\n",
      "        - token\n",
      "        - pay\n",
      "        - then\n",
      "        type: object\n",
      "      - description: If an observation is true, the first contract applies, otherwise\n",
      "          the second contract applies.\n",
      "        properties:\n",
      "          else:\n",
      "            $ref: '#/components/schemas/Contract'\n",
      "          if:\n",
      "            $ref: '#/components/schemas/Observation'\n",
      "          then:\n",
      "            $ref: '#/components/schemas/Contract'\n",
      "        required:\n",
      "        - if\n",
      "        - then\n",
      "        - else\n",
      "        type: object\n",
      "      - description: Wait for an action to be performed and apply the matching contract\n",
      "          when it does. Apply the timeout contract if no actions have been performed\n",
      "          in the timeout period.\n",
      "        properties:\n",
      "          timeout:\n",
      "            type: integer\n",
      "          timeout_continuation:\n",
      "            $ref: '#/components/schemas/Contract'\n",
      "          when:\n",
      "            items:\n",
      "              $ref: '#/components/schemas/Case'\n",
      "            type: array\n",
      "        required:\n",
      "        - when\n",
      "        - timeout\n",
      "        - timeout_continuation\n",
      "        type: object\n",
      "      - description: Bind a value to a name within the scope of a sub-contract.\n",
      "        properties:\n",
      "          be:\n",
      "            $ref: '#/components/schemas/Value'\n",
      "          let:\n",
      "            type: string\n",
      "          then:\n",
      "            $ref: '#/components/schemas/Contract'\n",
      "        required:\n",
      "        - let\n",
      "        - be\n",
      "        - then\n",
      "        type: object\n",
      "      - description: Check an observation and produce a warning if it is false.\n",
      "        properties:\n",
      "          assert:\n",
      "            $ref: '#/components/schemas/Observation'\n",
      "          then:\n",
      "            $ref: '#/components/schemas/Contract'\n",
      "        required:\n",
      "        - assert\n",
      "        - then\n",
      "        type: object\n",
      "    ContractHeader:\n",
      "      properties:\n",
      "        block:\n",
      "          $ref: '#/components/schemas/BlockHeader'\n",
      "        contractId:\n",
      "          $ref: '#/components/schemas/TxOutRef'\n",
      "        metadata:\n",
      "          additionalProperties:\n",
      "            $ref: '#/components/schemas/Metadata'\n",
      "          type: object\n",
      "        roleTokenMintingPolicyId:\n",
      "          $ref: '#/components/schemas/PolicyId'\n",
      "        status:\n",
      "          $ref: '#/components/schemas/TxStatusHeader'\n",
      "        version:\n",
      "          $ref: '#/components/schemas/MarloweVersion'\n",
      "      required:\n",
      "      - contractId\n",
      "      - roleTokenMintingPolicyId\n",
      "      - version\n",
      "      - metadata\n",
      "      - status\n",
      "      type: object\n",
      "    ContractState:\n",
      "      properties:\n",
      "        block:\n",
      "          $ref: '#/components/schemas/BlockHeader'\n",
      "        contractId:\n",
      "          $ref: '#/components/schemas/TxOutRef'\n",
      "        currentContract:\n",
      "          $ref: '#/components/schemas/Contract'\n",
      "        initialContract:\n",
      "          $ref: '#/components/schemas/Contract'\n",
      "        metadata:\n",
      "          additionalProperties:\n",
      "            $ref: '#/components/schemas/Metadata'\n",
      "          type: object\n",
      "        roleTokenMintingPolicyId:\n",
      "          $ref: '#/components/schemas/PolicyId'\n",
      "        state:\n",
      "          $ref: '#/components/schemas/MarloweState'\n",
      "        status:\n",
      "          $ref: '#/components/schemas/TxStatusHeader'\n",
      "        txBody:\n",
      "          $ref: '#/components/schemas/TextEnvelope'\n",
      "        utxo:\n",
      "          $ref: '#/components/schemas/TxOutRef'\n",
      "        version:\n",
      "          $ref: '#/components/schemas/MarloweVersion'\n",
      "      required:\n",
      "      - contractId\n",
      "      - roleTokenMintingPolicyId\n",
      "      - version\n",
      "      - metadata\n",
      "      - status\n",
      "      - initialContract\n",
      "      type: object\n",
      "    CreateTxBody:\n",
      "      properties:\n",
      "        contractId:\n",
      "          $ref: '#/components/schemas/TxOutRef'\n",
      "        txBody:\n",
      "          $ref: '#/components/schemas/TextEnvelope'\n",
      "      required:\n",
      "      - contractId\n",
      "      - txBody\n",
      "      type: object\n",
      "    Input:\n",
      "      description: An input to a Marlowe transaction\n",
      "      oneOf:\n",
      "      - description: Notify a contract to check a condition and provide the continuation\n",
      "          of the contract\n",
      "        properties:\n",
      "          continuation_hash:\n",
      "            type: string\n",
      "          merkleized_continuation:\n",
      "            $ref: '#/components/schemas/Contract'\n",
      "        required:\n",
      "        - merkleized_continuation\n",
      "        - continuation_hash\n",
      "        type: object\n",
      "      - description: Notify a contract to check a condition\n",
      "        enum:\n",
      "        - input_notify\n",
      "        type: string\n",
      "      - description: Make a choice in a contract and provide the continuation of the\n",
      "          contract\n",
      "        properties:\n",
      "          continuation_hash:\n",
      "            type: string\n",
      "          for_choice_id:\n",
      "            $ref: '#/components/schemas/ChoiceId'\n",
      "          input_that_chooses_num:\n",
      "            type: integer\n",
      "          merkleized_continuation:\n",
      "            $ref: '#/components/schemas/Contract'\n",
      "        required:\n",
      "        - input_that_chooses_num\n",
      "        - for_choice_id\n",
      "        - merkleized_continuation\n",
      "        - continuation_hash\n",
      "        type: object\n",
      "      - description: Make a choice in a contract\n",
      "        properties:\n",
      "          for_choice_id:\n",
      "            $ref: '#/components/schemas/ChoiceId'\n",
      "          input_that_chooses_num:\n",
      "            type: integer\n",
      "        required:\n",
      "        - input_that_chooses_num\n",
      "        - for_choice_id\n",
      "        type: object\n",
      "      - description: Deposit funds into an account in a contract and provide the continuation\n",
      "          of the contract\n",
      "        properties:\n",
      "          continuation_hash:\n",
      "            type: string\n",
      "          input_from_party:\n",
      "            $ref: '#/components/schemas/Party'\n",
      "          into_account:\n",
      "            $ref: '#/components/schemas/Party'\n",
      "          merkleized_continuation:\n",
      "            $ref: '#/components/schemas/Contract'\n",
      "          of_token:\n",
      "            $ref: '#/components/schemas/Token'\n",
      "          that_deposits:\n",
      "            type: integer\n",
      "        required:\n",
      "        - input_from_party\n",
      "        - that_deposits\n",
      "        - of_token\n",
      "        - into_account\n",
      "        - merkleized_continuation\n",
      "        - continuation_hash\n",
      "        type: object\n",
      "      - description: Deposit funds into an account in a contract\n",
      "        properties:\n",
      "          input_from_party:\n",
      "            $ref: '#/components/schemas/Party'\n",
      "          into_account:\n",
      "            $ref: '#/components/schemas/Party'\n",
      "          of_token:\n",
      "            $ref: '#/components/schemas/Token'\n",
      "          that_deposits:\n",
      "            type: integer\n",
      "        required:\n",
      "        - input_from_party\n",
      "        - that_deposits\n",
      "        - of_token\n",
      "        - into_account\n",
      "        type: object\n",
      "    ListObject_(WithLink_\"contract\"_ContractHeader):\n",
      "      properties:\n",
      "        results:\n",
      "          items:\n",
      "            properties:\n",
      "              links:\n",
      "                properties:\n",
      "                  contract:\n",
      "                    type: string\n",
      "                type: object\n",
      "              resource:\n",
      "                $ref: '#/components/schemas/ContractHeader'\n",
      "            required:\n",
      "            - resource\n",
      "            - links\n",
      "            type: object\n",
      "          type: array\n",
      "      required:\n",
      "      - results\n",
      "      type: object\n",
      "    ListObject_(WithLink_\"transaction\"_TxHeader):\n",
      "      properties:\n",
      "        results:\n",
      "          items:\n",
      "            properties:\n",
      "              links:\n",
      "                properties:\n",
      "                  transaction:\n",
      "                    type: string\n",
      "                type: object\n",
      "              resource:\n",
      "                $ref: '#/components/schemas/TxHeader'\n",
      "            required:\n",
      "            - resource\n",
      "            - links\n",
      "            type: object\n",
      "          type: array\n",
      "      required:\n",
      "      - results\n",
      "      type: object\n",
      "    MarloweState:\n",
      "      description: The on-chain state of a Marlowe contract.\n",
      "      properties:\n",
      "        accounts:\n",
      "          items:\n",
      "            items:\n",
      "            - items:\n",
      "              - $ref: '#/components/schemas/Party'\n",
      "              - $ref: '#/components/schemas/Token'\n",
      "              maxItems: 2\n",
      "              minItems: 2\n",
      "              type: array\n",
      "            - type: integer\n",
      "            maxItems: 2\n",
      "            minItems: 2\n",
      "            type: array\n",
      "          type: array\n",
      "        boundValues:\n",
      "          items:\n",
      "            items:\n",
      "            - type: string\n",
      "            - type: integer\n",
      "            maxItems: 2\n",
      "            minItems: 2\n",
      "            type: array\n",
      "          type: array\n",
      "        choices:\n",
      "          items:\n",
      "            items:\n",
      "            - $ref: '#/components/schemas/ChoiceId'\n",
      "            - type: integer\n",
      "            maxItems: 2\n",
      "            minItems: 2\n",
      "            type: array\n",
      "          type: array\n",
      "        minTime:\n",
      "          type: integer\n",
      "      required:\n",
      "      - accounts\n",
      "      - choices\n",
      "      - boundValues\n",
      "      - minTime\n",
      "      type: object\n",
      "    MarloweVersion:\n",
      "      description: A version of the Marlowe language.\n",
      "      enum:\n",
      "      - v1\n",
      "      type: string\n",
      "    Metadata:\n",
      "      description: An arbitrary JSON value for storage in a metadata key\n",
      "    Observation:\n",
      "      description: A time-varying expression that evaluates to an integer\n",
      "      oneOf:\n",
      "      - type: boolean\n",
      "      - properties:\n",
      "          and:\n",
      "            $ref: '#/components/schemas/Observation'\n",
      "          both:\n",
      "            $ref: '#/components/schemas/Observation'\n",
      "        required:\n",
      "        - both\n",
      "        - and\n",
      "        type: object\n",
      "      - properties:\n",
      "          either:\n",
      "            $ref: '#/components/schemas/Observation'\n",
      "          or:\n",
      "            $ref: '#/components/schemas/Observation'\n",
      "        required:\n",
      "        - either\n",
      "        - or\n",
      "        type: object\n",
      "      - properties:\n",
      "          not:\n",
      "            $ref: '#/components/schemas/Observation'\n",
      "        required:\n",
      "        - not\n",
      "        type: object\n",
      "      - properties:\n",
      "          chose_something_for:\n",
      "            $ref: '#/components/schemas/ChoiceId'\n",
      "        required:\n",
      "        - chose_something_for\n",
      "        type: object\n",
      "      - properties:\n",
      "          ge_than:\n",
      "            $ref: '#/components/schemas/Value'\n",
      "          value:\n",
      "            $ref: '#/components/schemas/Value'\n",
      "        required:\n",
      "        - value\n",
      "        - ge_than\n",
      "        type: object\n",
      "      - properties:\n",
      "          gt:\n",
      "            $ref: '#/components/schemas/Value'\n",
      "          value:\n",
      "            $ref: '#/components/schemas/Value'\n",
      "        required:\n",
      "        - value\n",
      "        - gt\n",
      "        type: object\n",
      "      - properties:\n",
      "          lt:\n",
      "            $ref: '#/components/schemas/Value'\n",
      "          value:\n",
      "            $ref: '#/components/schemas/Value'\n",
      "        required:\n",
      "        - value\n",
      "        - lt\n",
      "        type: object\n",
      "      - properties:\n",
      "          le_than:\n",
      "            $ref: '#/components/schemas/Value'\n",
      "          value:\n",
      "            $ref: '#/components/schemas/Value'\n",
      "        required:\n",
      "        - value\n",
      "        - le_than\n",
      "        type: object\n",
      "      - properties:\n",
      "          equal_to:\n",
      "            $ref: '#/components/schemas/Value'\n",
      "          value:\n",
      "            $ref: '#/components/schemas/Value'\n",
      "        required:\n",
      "        - value\n",
      "        - equal_to\n",
      "        type: object\n",
      "    Party:\n",
      "      description: A participant in a contract\n",
      "      oneOf:\n",
      "      - description: Refers to a party by role name.\n",
      "        properties:\n",
      "          role_token:\n",
      "            type: string\n",
      "        required:\n",
      "        - role_token\n",
      "        type: object\n",
      "      - description: Refers to a party by Cardano address.\n",
      "        properties:\n",
      "          address:\n",
      "            $ref: '#/components/schemas/Address'\n",
      "        required:\n",
      "        - address\n",
      "        type: object\n",
      "    Payee:\n",
      "      description: A recipient of a payment\n",
      "      oneOf:\n",
      "      - description: Pays funds into a party's account in the contract.\n",
      "        properties:\n",
      "          account:\n",
      "            $ref: '#/components/schemas/Party'\n",
      "        required:\n",
      "        - account\n",
      "        type: object\n",
      "      - description: Pays funds to a party.\n",
      "        properties:\n",
      "          party:\n",
      "            $ref: '#/components/schemas/Party'\n",
      "        required:\n",
      "        - party\n",
      "        type: object\n",
      "    PolicyId:\n",
      "      description: The hex-encoded minting policy ID for a native Cardano token\n",
      "      pattern: ^[a-fA-F0-9]*$\n",
      "      type: string\n",
      "    PostContractsRequest:\n",
      "      properties:\n",
      "        contract:\n",
      "          $ref: '#/components/schemas/Contract'\n",
      "        metadata:\n",
      "          additionalProperties:\n",
      "            $ref: '#/components/schemas/Metadata'\n",
      "          type: object\n",
      "        minUTxODeposit:\n",
      "          format: int64\n",
      "          maximum: 18446744073709551615\n",
      "          minimum: 0\n",
      "          type: integer\n",
      "        roles:\n",
      "          $ref: '#/components/schemas/RolesConfig'\n",
      "        version:\n",
      "          $ref: '#/components/schemas/MarloweVersion'\n",
      "      required:\n",
      "      - metadata\n",
      "      - version\n",
      "      - contract\n",
      "      - minUTxODeposit\n",
      "      type: object\n",
      "    PostTransactionsRequest:\n",
      "      properties:\n",
      "        inputs:\n",
      "          items:\n",
      "            $ref: '#/components/schemas/Input'\n",
      "          type: array\n",
      "        invalidBefore:\n",
      "          $ref: '#/components/schemas/UTCTime'\n",
      "        invalidHereafter:\n",
      "          $ref: '#/components/schemas/UTCTime'\n",
      "        metadata:\n",
      "          additionalProperties:\n",
      "            $ref: '#/components/schemas/Metadata'\n",
      "          type: object\n",
      "        version:\n",
      "          $ref: '#/components/schemas/MarloweVersion'\n",
      "      required:\n",
      "      - version\n",
      "      - metadata\n",
      "      - inputs\n",
      "      type: object\n",
      "    RoleTokenConfig:\n",
      "      oneOf:\n",
      "      - $ref: '#/components/schemas/Address'\n",
      "      - properties:\n",
      "          address:\n",
      "            $ref: '#/components/schemas/Address'\n",
      "          metadata:\n",
      "            $ref: '#/components/schemas/TokenMetadata'\n",
      "        required:\n",
      "        - address\n",
      "        - metadata\n",
      "        type: object\n",
      "    RolesConfig:\n",
      "      oneOf:\n",
      "      - $ref: '#/components/schemas/PolicyId'\n",
      "      - additionalProperties:\n",
      "          $ref: '#/components/schemas/RoleTokenConfig'\n",
      "        type: object\n",
      "    TextEnvelope:\n",
      "      properties:\n",
      "        cborHex:\n",
      "          type: string\n",
      "        description:\n",
      "          type: string\n",
      "        type:\n",
      "          type: string\n",
      "      required:\n",
      "      - type\n",
      "      - description\n",
      "      - cborHex\n",
      "      type: object\n",
      "    Token:\n",
      "      description: A token with a currency symbol (minting policy ID) and token name.\n",
      "      properties:\n",
      "        currency_symbol:\n",
      "          type: string\n",
      "        token_name:\n",
      "          type: string\n",
      "      required:\n",
      "      - currency_symbol\n",
      "      - token_name\n",
      "      type: object\n",
      "    TokenMetadata:\n",
      "      additionalProperties: true\n",
      "      description: Metadata for an NFT, as described by https://cips.cardano.org/cips/cip25/\n",
      "      properties:\n",
      "        description:\n",
      "          type: string\n",
      "        files:\n",
      "          items:\n",
      "            $ref: '#/components/schemas/TokenMetadataFile'\n",
      "          type: array\n",
      "        image:\n",
      "          type: string\n",
      "        mediaType:\n",
      "          type: string\n",
      "        name:\n",
      "          type: string\n",
      "      required:\n",
      "      - name\n",
      "      - image\n",
      "      type: object\n",
      "    TokenMetadataFile:\n",
      "      additionalProperties: true\n",
      "      properties:\n",
      "        mediaType:\n",
      "          type: string\n",
      "        name:\n",
      "          type: string\n",
      "        src:\n",
      "          type: string\n",
      "      required:\n",
      "      - name\n",
      "      - src\n",
      "      - mediaType\n",
      "      type: object\n",
      "    Tx:\n",
      "      properties:\n",
      "        block:\n",
      "          $ref: '#/components/schemas/BlockHeader'\n",
      "        consumingTx:\n",
      "          $ref: '#/components/schemas/TxId'\n",
      "        contractId:\n",
      "          $ref: '#/components/schemas/TxOutRef'\n",
      "        inputUtxo:\n",
      "          $ref: '#/components/schemas/TxOutRef'\n",
      "        inputs:\n",
      "          items:\n",
      "            $ref: '#/components/schemas/Input'\n",
      "          type: array\n",
      "        invalidBefore:\n",
      "          $ref: '#/components/schemas/UTCTime'\n",
      "        invalidHereafter:\n",
      "          $ref: '#/components/schemas/UTCTime'\n",
      "        metadata:\n",
      "          additionalProperties:\n",
      "            $ref: '#/components/schemas/Metadata'\n",
      "          type: object\n",
      "        outputContract:\n",
      "          $ref: '#/components/schemas/Contract'\n",
      "        outputState:\n",
      "          $ref: '#/components/schemas/MarloweState'\n",
      "        outputUtxo:\n",
      "          $ref: '#/components/schemas/TxOutRef'\n",
      "        status:\n",
      "          $ref: '#/components/schemas/TxStatusHeader'\n",
      "        transactionId:\n",
      "          $ref: '#/components/schemas/TxId'\n",
      "        txBody:\n",
      "          $ref: '#/components/schemas/TextEnvelope'\n",
      "      required:\n",
      "      - contractId\n",
      "      - transactionId\n",
      "      - metadata\n",
      "      - status\n",
      "      - inputUtxo\n",
      "      - inputs\n",
      "      - invalidBefore\n",
      "      - invalidHereafter\n",
      "      type: object\n",
      "    TxHeader:\n",
      "      properties:\n",
      "        block:\n",
      "          $ref: '#/components/schemas/BlockHeader'\n",
      "        contractId:\n",
      "          $ref: '#/components/schemas/TxOutRef'\n",
      "        metadata:\n",
      "          additionalProperties:\n",
      "            $ref: '#/components/schemas/Metadata'\n",
      "          type: object\n",
      "        status:\n",
      "          $ref: '#/components/schemas/TxStatusHeader'\n",
      "        transactionId:\n",
      "          $ref: '#/components/schemas/TxId'\n",
      "        utxo:\n",
      "          $ref: '#/components/schemas/TxOutRef'\n",
      "      required:\n",
      "      - contractId\n",
      "      - transactionId\n",
      "      - metadata\n",
      "      - status\n",
      "      type: object\n",
      "    TxId:\n",
      "      description: The hex-encoded identifier of a Cardano transaction\n",
      "      pattern: ^[a-fA-F0-9]{64}$\n",
      "      type: string\n",
      "    TxOutRef:\n",
      "      description: A reference to a transaction output with a transaction ID and index.\n",
      "      example: 98d601c9307dd43307cf68a03aad0086d4e07a789b66919ccf9f7f7676577eb7#1\n",
      "      pattern: ^[a-fA-F0-9]{64}#[0-9]+$\n",
      "      type: string\n",
      "    TxStatusHeader:\n",
      "      description: A header of the status of a transaction on the local node.\n",
      "      enum:\n",
      "      - unsigned\n",
      "      - submitted\n",
      "      - confirmed\n",
      "      type: string\n",
      "    UTCTime:\n",
      "      example: '2016-07-22T00:00:00Z'\n",
      "      format: yyyy-mm-ddThh:MM:ssZ\n",
      "      type: string\n",
      "    Value:\n",
      "      description: A time-varying expression that evaluates to a boolean\n",
      "      oneOf:\n",
      "      - properties:\n",
      "          amount_of_token:\n",
      "            $ref: '#/components/schemas/Token'\n",
      "          in_account:\n",
      "            $ref: '#/components/schemas/Party'\n",
      "        required:\n",
      "        - amount_of_token\n",
      "        - in_account\n",
      "        type: object\n",
      "      - format: int64\n",
      "        type: integer\n",
      "      - properties:\n",
      "          negate:\n",
      "            $ref: '#/components/schemas/Value'\n",
      "        required:\n",
      "        - negate\n",
      "        type: object\n",
      "      - properties:\n",
      "          add:\n",
      "            $ref: '#/components/schemas/Value'\n",
      "          and:\n",
      "            $ref: '#/components/schemas/Value'\n",
      "        required:\n",
      "        - add\n",
      "        - and\n",
      "        type: object\n",
      "      - properties:\n",
      "          minus:\n",
      "            $ref: '#/components/schemas/Value'\n",
      "          value:\n",
      "            $ref: '#/components/schemas/Value'\n",
      "        required:\n",
      "        - value\n",
      "        - minus\n",
      "        type: object\n",
      "      - properties:\n",
      "          multiply:\n",
      "            $ref: '#/components/schemas/Value'\n",
      "          times:\n",
      "            $ref: '#/components/schemas/Value'\n",
      "        required:\n",
      "        - multiply\n",
      "        - times\n",
      "        type: object\n",
      "      - properties:\n",
      "          by:\n",
      "            $ref: '#/components/schemas/Value'\n",
      "          divide:\n",
      "            $ref: '#/components/schemas/Value'\n",
      "        required:\n",
      "        - divide\n",
      "        - by\n",
      "        type: object\n",
      "      - properties:\n",
      "          value_of_choice:\n",
      "            $ref: '#/components/schemas/ChoiceId'\n",
      "        required:\n",
      "        - value_of_choice\n",
      "        type: object\n",
      "      - enum:\n",
      "        - time_interval_start\n",
      "        - time_interval_end\n",
      "        type: string\n",
      "      - properties:\n",
      "          use_value:\n",
      "            type: string\n",
      "        required:\n",
      "        - use_value\n",
      "        type: object\n",
      "      - properties:\n",
      "          else:\n",
      "            $ref: '#/components/schemas/Value'\n",
      "          if:\n",
      "            $ref: '#/components/schemas/Observation'\n",
      "          then:\n",
      "            $ref: '#/components/schemas/Value'\n",
      "        required:\n",
      "        - if\n",
      "        - then\n",
      "        - else\n",
      "        type: object\n",
      "info:\n",
      "  title: ''\n",
      "  version: ''\n",
      "openapi: 3.0.0\n",
      "paths:\n",
      "  /contracts:\n",
      "    get:\n",
      "      parameters:\n",
      "      - in: header\n",
      "        name: Range\n",
      "        required: false\n",
      "        schema:\n",
      "          type: string\n",
      "      responses:\n",
      "        '206':\n",
      "          content:\n",
      "            application/json;charset=utf-8:\n",
      "              schema:\n",
      "                $ref: '#/components/schemas/ListObject_(WithLink_\"contract\"_ContractHeader)'\n",
      "          description: ''\n",
      "          headers:\n",
      "            Accept-Ranges:\n",
      "              schema:\n",
      "                items:\n",
      "                  enum:\n",
      "                  - contractId\n",
      "                  type: string\n",
      "                type: array\n",
      "            Content-Range:\n",
      "              schema:\n",
      "                type: string\n",
      "            Next-Range:\n",
      "              schema:\n",
      "                type: string\n",
      "            Total-Count:\n",
      "              schema:\n",
      "                maximum: 9223372036854775807\n",
      "                minimum: -9223372036854775808\n",
      "                type: integer\n",
      "        '400':\n",
      "          description: Invalid `Range`\n",
      "    post:\n",
      "      parameters:\n",
      "      - in: header\n",
      "        name: X-Change-Address\n",
      "        required: true\n",
      "        schema:\n",
      "          description: A cardano address\n",
      "          example: addr1w94f8ywk4fg672xasahtk4t9k6w3aql943uxz5rt62d4dvq8evxaf\n",
      "          type: string\n",
      "      - in: header\n",
      "        name: X-Address\n",
      "        required: false\n",
      "        schema:\n",
      "          description: A comma-separated list of values\n",
      "          type: string\n",
      "      - in: header\n",
      "        name: X-Collateral-UTxO\n",
      "        required: false\n",
      "        schema:\n",
      "          description: A comma-separated list of values\n",
      "          type: string\n",
      "      requestBody:\n",
      "        content:\n",
      "          application/json;charset=utf-8:\n",
      "            schema:\n",
      "              $ref: '#/components/schemas/PostContractsRequest'\n",
      "      responses:\n",
      "        '201':\n",
      "          content:\n",
      "            application/json;charset=utf-8:\n",
      "              schema:\n",
      "                properties:\n",
      "                  links:\n",
      "                    properties:\n",
      "                      contract:\n",
      "                        type: string\n",
      "                    type: object\n",
      "                  resource:\n",
      "                    $ref: '#/components/schemas/CreateTxBody'\n",
      "                required:\n",
      "                - resource\n",
      "                - links\n",
      "                type: object\n",
      "          description: ''\n",
      "        '400':\n",
      "          description: Invalid `X-Collateral-UTxO` or `X-Address` or `X-Change-Address`\n",
      "            or `body`\n",
      "  /contracts/{contractId}:\n",
      "    get:\n",
      "      parameters:\n",
      "      - in: path\n",
      "        name: contractId\n",
      "        required: true\n",
      "        schema:\n",
      "          description: A reference to a transaction output with a transaction ID and\n",
      "            index.\n",
      "          example: 98d601c9307dd43307cf68a03aad0086d4e07a789b66919ccf9f7f7676577eb7#1\n",
      "          pattern: ^[a-fA-F0-9]{64}#[0-9]+$\n",
      "          type: string\n",
      "      responses:\n",
      "        '200':\n",
      "          content:\n",
      "            application/json;charset=utf-8:\n",
      "              schema:\n",
      "                properties:\n",
      "                  links:\n",
      "                    properties:\n",
      "                      transactions:\n",
      "                        type: string\n",
      "                    type: object\n",
      "                  resource:\n",
      "                    $ref: '#/components/schemas/ContractState'\n",
      "                required:\n",
      "                - resource\n",
      "                - links\n",
      "                type: object\n",
      "          description: ''\n",
      "        '404':\n",
      "          description: '`contractId` not found'\n",
      "    put:\n",
      "      parameters:\n",
      "      - in: path\n",
      "        name: contractId\n",
      "        required: true\n",
      "        schema:\n",
      "          description: A reference to a transaction output with a transaction ID and\n",
      "            index.\n",
      "          example: 98d601c9307dd43307cf68a03aad0086d4e07a789b66919ccf9f7f7676577eb7#1\n",
      "          pattern: ^[a-fA-F0-9]{64}#[0-9]+$\n",
      "          type: string\n",
      "      requestBody:\n",
      "        content:\n",
      "          application/json;charset=utf-8:\n",
      "            schema:\n",
      "              $ref: '#/components/schemas/TextEnvelope'\n",
      "      responses:\n",
      "        '202':\n",
      "          content:\n",
      "            application/json;charset=utf-8: {}\n",
      "          description: ''\n",
      "        '400':\n",
      "          description: Invalid `body`\n",
      "        '404':\n",
      "          description: '`contractId` not found'\n",
      "  /contracts/{contractId}/transactions:\n",
      "    get:\n",
      "      parameters:\n",
      "      - in: path\n",
      "        name: contractId\n",
      "        required: true\n",
      "        schema:\n",
      "          description: A reference to a transaction output with a transaction ID and\n",
      "            index.\n",
      "          example: 98d601c9307dd43307cf68a03aad0086d4e07a789b66919ccf9f7f7676577eb7#1\n",
      "          pattern: ^[a-fA-F0-9]{64}#[0-9]+$\n",
      "          type: string\n",
      "      - in: header\n",
      "        name: Range\n",
      "        required: false\n",
      "        schema:\n",
      "          type: string\n",
      "      responses:\n",
      "        '206':\n",
      "          content:\n",
      "            application/json;charset=utf-8:\n",
      "              schema:\n",
      "                $ref: '#/components/schemas/ListObject_(WithLink_\"transaction\"_TxHeader)'\n",
      "          description: ''\n",
      "          headers:\n",
      "            Accept-Ranges:\n",
      "              schema:\n",
      "                items:\n",
      "                  enum:\n",
      "                  - transactionId\n",
      "                  type: string\n",
      "                type: array\n",
      "            Content-Range:\n",
      "              schema:\n",
      "                type: string\n",
      "            Next-Range:\n",
      "              schema:\n",
      "                type: string\n",
      "            Total-Count:\n",
      "              schema:\n",
      "                maximum: 9223372036854775807\n",
      "                minimum: -9223372036854775808\n",
      "                type: integer\n",
      "        '400':\n",
      "          description: Invalid `Range`\n",
      "        '404':\n",
      "          description: '`contractId` not found'\n",
      "    post:\n",
      "      parameters:\n",
      "      - in: path\n",
      "        name: contractId\n",
      "        required: true\n",
      "        schema:\n",
      "          description: A reference to a transaction output with a transaction ID and\n",
      "            index.\n",
      "          example: 98d601c9307dd43307cf68a03aad0086d4e07a789b66919ccf9f7f7676577eb7#1\n",
      "          pattern: ^[a-fA-F0-9]{64}#[0-9]+$\n",
      "          type: string\n",
      "      - in: header\n",
      "        name: X-Change-Address\n",
      "        required: true\n",
      "        schema:\n",
      "          description: A cardano address\n",
      "          example: addr1w94f8ywk4fg672xasahtk4t9k6w3aql943uxz5rt62d4dvq8evxaf\n",
      "          type: string\n",
      "      - in: header\n",
      "        name: X-Address\n",
      "        required: false\n",
      "        schema:\n",
      "          description: A comma-separated list of values\n",
      "          type: string\n",
      "      - in: header\n",
      "        name: X-Collateral-UTxO\n",
      "        required: false\n",
      "        schema:\n",
      "          description: A comma-separated list of values\n",
      "          type: string\n",
      "      requestBody:\n",
      "        content:\n",
      "          application/json;charset=utf-8:\n",
      "            schema:\n",
      "              $ref: '#/components/schemas/PostTransactionsRequest'\n",
      "      responses:\n",
      "        '201':\n",
      "          content:\n",
      "            application/json;charset=utf-8:\n",
      "              schema:\n",
      "                properties:\n",
      "                  links:\n",
      "                    properties:\n",
      "                      transaction:\n",
      "                        type: string\n",
      "                    type: object\n",
      "                  resource:\n",
      "                    $ref: '#/components/schemas/ApplyInputsTxBody'\n",
      "                required:\n",
      "                - resource\n",
      "                - links\n",
      "                type: object\n",
      "          description: ''\n",
      "        '400':\n",
      "          description: Invalid `X-Collateral-UTxO` or `X-Address` or `X-Change-Address`\n",
      "            or `body`\n",
      "        '404':\n",
      "          description: '`contractId` not found'\n",
      "  /contracts/{contractId}/transactions/{transactionId}:\n",
      "    get:\n",
      "      parameters:\n",
      "      - in: path\n",
      "        name: contractId\n",
      "        required: true\n",
      "        schema:\n",
      "          description: A reference to a transaction output with a transaction ID and\n",
      "            index.\n",
      "          example: 98d601c9307dd43307cf68a03aad0086d4e07a789b66919ccf9f7f7676577eb7#1\n",
      "          pattern: ^[a-fA-F0-9]{64}#[0-9]+$\n",
      "          type: string\n",
      "      - in: path\n",
      "        name: transactionId\n",
      "        required: true\n",
      "        schema:\n",
      "          description: The hex-encoded identifier of a Cardano transaction\n",
      "          pattern: ^[a-fA-F0-9]{64}$\n",
      "          type: string\n",
      "      responses:\n",
      "        '200':\n",
      "          content:\n",
      "            application/json;charset=utf-8:\n",
      "              schema:\n",
      "                properties:\n",
      "                  links:\n",
      "                    properties:\n",
      "                      next:\n",
      "                        type: string\n",
      "                      previous:\n",
      "                        type: string\n",
      "                    type: object\n",
      "                  resource:\n",
      "                    $ref: '#/components/schemas/Tx'\n",
      "                required:\n",
      "                - resource\n",
      "                - links\n",
      "                type: object\n",
      "          description: ''\n",
      "        '404':\n",
      "          description: '`contractId` or `transactionId` not found'\n",
      "    put:\n",
      "      parameters:\n",
      "      - in: path\n",
      "        name: contractId\n",
      "        required: true\n",
      "        schema:\n",
      "          description: A reference to a transaction output with a transaction ID and\n",
      "            index.\n",
      "          example: 98d601c9307dd43307cf68a03aad0086d4e07a789b66919ccf9f7f7676577eb7#1\n",
      "          pattern: ^[a-fA-F0-9]{64}#[0-9]+$\n",
      "          type: string\n",
      "      - in: path\n",
      "        name: transactionId\n",
      "        required: true\n",
      "        schema:\n",
      "          description: The hex-encoded identifier of a Cardano transaction\n",
      "          pattern: ^[a-fA-F0-9]{64}$\n",
      "          type: string\n",
      "      requestBody:\n",
      "        content:\n",
      "          application/json;charset=utf-8:\n",
      "            schema:\n",
      "              $ref: '#/components/schemas/TextEnvelope'\n",
      "      responses:\n",
      "        '202':\n",
      "          content:\n",
      "            application/json;charset=utf-8: {}\n",
      "          description: ''\n",
      "        '400':\n",
      "          description: Invalid `body`\n",
      "        '404':\n",
      "          description: '`contractId` or `transactionId` not found'\n"
     ]
    }
   ],
   "source": [
    "curl -s '$RUNTIME_URL/openapi.json' | json2yaml"
   ]
  }
 ],
 "metadata": {
  "kernelspec": {
   "display_name": "Bash with Marlowe Tools",
   "language": "bash",
   "name": "bash-minimal"
  },
  "language_info": {
   "codemirror_mode": "shell",
   "file_extension": ".sh",
   "mimetype": "text/x-sh",
   "name": "bash"
  }
 },
 "nbformat": 4,
 "nbformat_minor": 5
}
