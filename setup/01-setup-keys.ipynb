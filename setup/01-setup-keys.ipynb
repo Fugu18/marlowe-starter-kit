{
 "cells": [
  {
   "cell_type": "markdown",
   "id": "4f3e8ba1-d2d2-4393-8c9e-8d324d444230",
   "metadata": {},
   "source": [
    "# Preliminaries for Using the Marlowe Starter Kit\n",
    "\n",
    "***Before running this notebook, you might want to use Jupyter's \"clear output\" function to erase the results of the previous execution of this notebook. That will make more apparent what has been executed in the current session.***\n",
    "\n",
    "This notebook provides instructions on setting up signing keys and addresses for this starter kit. It covers the following information:\n",
    "\n",
    "- Check for cli tools and environment variables\n",
    "- Creating addresses and signing keys\n",
    "    - The faucet\n",
    "    - The lender\n",
    "    - The borrower\n",
    "    - The mediator\n",
    "- Obtaining test ada\n",
    "- Fund the addresses of the parties\n",
    "    - Using Daedalus or a web-browser wallet\n",
    "    - Using a local faucet at the command line\n",
    "    \n",
    "[A video works through this Jupyter notebook.](https://youtu.be/hGBmj9ZrYHs)\n",
    "\n",
    "You can ask questions about Marlowe in [the #ask-marlowe channel on the IOG Discord](https://discord.com/channels/826816523368005654/936295815926927390) or post problems with this lesson to [the issues list for the Marlowe Starter Kit github repository](https://github.com/input-output-hk/marlowe-starter-kit/issues)."
   ]
  },
  {
   "cell_type": "markdown",
   "id": "4a2ec343-a4e7-4ad6-ae82-0b3ce6c1d2f9",
   "metadata": {},
   "source": [
    "## Command Line Tools and Environment\n",
    "\n",
    "This section introduces the `check-tools-and-env.sh` script, located in the *scripts* folder. This script is designed to validate that the required command line tools and environment settings are correctly set.\n",
    "\n",
    "You can delve into the [scripts folder notebook](../scripts/scripts.ipynb) to find different helpers that are used accross the different notebooks."
   ]
  },
  {
   "cell_type": "code",
   "execution_count": null,
   "id": "c65c78dc",
   "metadata": {
    "tags": [],
    "vscode": {
     "languageId": "shellscript"
    }
   },
   "outputs": [],
   "source": [
    "export SCRIPTS=$(realpath ../scripts)\n",
    "export KEYS=$(realpath ../keys)\n",
    "source $SCRIPTS/check-tools-and-env.sh"
   ]
  },
  {
   "cell_type": "markdown",
   "id": "979706db-b6a7-4a50-827a-368835374bb8",
   "metadata": {
    "tags": [],
    "vscode": {
     "languageId": "shellscript"
    }
   },
   "source": [
    "## Creating Addresses and Signing Keys\n",
    "\n",
    "The [Cardano Developers Portal](https://developers.cardano.org/docs/stake-pool-course/handbook/keys-addresses/) contains instructions for creating addresses and signing keys.\n",
    "\n",
    "This starter kit uses the following addresses:\n",
    "- A local *Faucet* used to fund the other parties.\n",
    "- The *Lender* party for the examples in this starter kit.\n",
    "- The *Borrower* party for the examples in this starter kit.\n",
    "- The *Mediator* party for some examples in this starter kit.\n",
    "\n",
    "The instructions below detail how to create signing keys and addresses for these parties. \n",
    "***IMPORTANT:*** The [keys/](../keys/) folder holds the signing keys that will be created for interacting with the Marlowe contract. If you delete or lose these files, then you also forever lose the test ada stored at those addresses. Either backup these files or, after running the tutorials, send the remaining test ada back to a more permanent wallet or return it to the faucet."
   ]
  },
  {
   "cell_type": "markdown",
   "id": "f81c063e-5f03-4dcf-a9b8-297fa2504076",
   "metadata": {},
   "source": [
    "### The Faucet\n",
    "\n",
    "In this section we create a wallet that will act as a faucet we own. "
   ]
  },
  {
   "cell_type": "code",
   "execution_count": null,
   "id": "8bb867d3-f099-4ce9-8411-af904024e729",
   "metadata": {
    "tags": [],
    "vscode": {
     "languageId": "shellscript"
    }
   },
   "outputs": [],
   "source": [
    "FAUCET_SKEY=$KEYS/faucet.skey\n",
    "FAUCET_VKEY=$KEYS/faucet.vkey\n",
    "\n",
    "if [[ ! -e \"$FAUCET_SKEY\" ]]\n",
    "then\n",
    "  echo \"Creating Faucet key\"\n",
    "  cardano-cli address key-gen \\\n",
    "    --signing-key-file \"$FAUCET_SKEY\" \\\n",
    "    --verification-key-file \"$FAUCET_VKEY\"\n",
    "else \n",
    "  echo \"Faucet key already present\"\n",
    "fi"
   ]
  },
  {
   "cell_type": "markdown",
   "id": "7f6a11b1-8508-48f7-a876-fa36deeca8cb",
   "metadata": {},
   "source": [
    "Compute the faucet's address on the testnet."
   ]
  },
  {
   "cell_type": "code",
   "execution_count": null,
   "id": "1f8ede90-4c8d-4c97-a449-36e7a37aca42",
   "metadata": {
    "tags": [],
    "vscode": {
     "languageId": "shellscript"
    }
   },
   "outputs": [],
   "source": [
    "FAUCET_ADDR=$(cardano-cli address build --testnet-magic \"$CARDANO_TESTNET_MAGIC\" --payment-verification-key-file \"$FAUCET_VKEY\" )\n",
    "echo \"$FAUCET_ADDR\" > $KEYS/faucet.address\n",
    "echo \"FAUCET_ADDR = $FAUCET_ADDR\""
   ]
  },
  {
   "cell_type": "markdown",
   "id": "709cad6d-8355-4959-a0a6-db0cac4824ae",
   "metadata": {},
   "source": [
    "### The Lender\n",
    "\n",
    "To create the rest of the wallets we use the `create-test-wallet.sh` script, which will setup the signing key, address and also a recovery phrase to use together with a wallet"
   ]
  },
  {
   "cell_type": "code",
   "execution_count": null,
   "id": "c66c378f-34f8-484f-acc7-200a40fb2468",
   "metadata": {
    "tags": [],
    "vscode": {
     "languageId": "shellscript"
    }
   },
   "outputs": [],
   "source": [
    "source $SCRIPTS/create-test-wallet.sh lender"
   ]
  },
  {
   "cell_type": "markdown",
   "id": "82c69f5c-c6fe-4aa6-bef2-6daab94adba4",
   "metadata": {},
   "source": [
    "### The Borrower\n",
    "\n",
    "Do the same for the borrower"
   ]
  },
  {
   "cell_type": "code",
   "execution_count": null,
   "id": "7a4cfdc0-0150-428d-b242-b463dea5a0c7",
   "metadata": {
    "tags": [],
    "vscode": {
     "languageId": "shellscript"
    }
   },
   "outputs": [],
   "source": [
    "source $SCRIPTS/create-test-wallet.sh borrower"
   ]
  },
  {
   "cell_type": "markdown",
   "id": "a888e3e6-bdab-4763-8f7f-5c72c990ea90",
   "metadata": {},
   "source": [
    "### The Mediator\n",
    "\n",
    "Do the same for the mediator"
   ]
  },
  {
   "cell_type": "code",
   "execution_count": null,
   "id": "89967b6a-01a0-42a6-ba70-258f67a2ddba",
   "metadata": {
    "tags": [],
    "vscode": {
     "languageId": "shellscript"
    }
   },
   "outputs": [],
   "source": [
    "source $SCRIPTS/create-test-wallet.sh mediator"
   ]
  },
  {
   "cell_type": "markdown",
   "id": "74ea3de1-6c14-4ef6-a5ab-e8784cc879cc",
   "metadata": {},
   "source": [
    "## Obtaining Test Ada\n",
    "\n",
    "In order to execute transactions on a Cardano network, one needs the native currency ada to pay fees and use as funds. There are the faucets for the public testnets at https://docs.cardano.org/cardano-testnet/tools/faucet where one can obtain test ada daily.\n",
    "\n",
    "Optionally, it can be convenient to centrally manage funds with a [web-browser wallets](https://builtoncardano.com/ecosystem/wallets): be sure to select the correct public testnet if using one of these wallets.\n",
    "\n",
    "If you will be using a local faucet (recommended), then send test ada to the faucet address created in the previous section. Otherwise, send the test ada to the web-browser wallet."
   ]
  },
  {
   "cell_type": "code",
   "execution_count": null,
   "id": "73e739b1-9d2f-4f36-b1ce-24e9e6c88f4b",
   "metadata": {
    "tags": [],
    "vscode": {
     "languageId": "shellscript"
    }
   },
   "outputs": [],
   "source": [
    "echo \"FAUCET_ADDR = $FAUCET_ADDR\"\n",
    "echo\n",
    "$SCRIPTS/cardano-scan-address.sh $FAUCET_ADDR"
   ]
  },
  {
   "cell_type": "markdown",
   "id": "415587c0-2559-4ecc-b4cc-737fd3d955d9",
   "metadata": {},
   "source": [
    "## Fund the Addresses of the Parties\n",
    "\n",
    "We'll fund each address with 1000 test ada."
   ]
  },
  {
   "cell_type": "code",
   "execution_count": null,
   "id": "7c2069be-6817-4193-90bf-fd2a5fb26de7",
   "metadata": {
    "tags": [],
    "vscode": {
     "languageId": "shellscript"
    }
   },
   "outputs": [],
   "source": [
    "echo \"LENDER_ADDR = $LENDER_ADDR\"\n",
    "echo \"BORROWER_ADDR = $BORROWER_ADDR\"\n",
    "echo \"MEDIATOR_ADDR = $MEDIATOR_ADDR\""
   ]
  },
  {
   "cell_type": "markdown",
   "id": "3829569e-7f4a-4d2f-983a-b23d81c5b190",
   "metadata": {},
   "source": [
    "### Using Daedalus or a Web-Browser Wallet\n",
    "\n",
    "If you already have a wallet wallet that contains test ada, then you can just send the funds to the addresses of the keys that we created in the previous section.\n"
   ]
  },
  {
   "cell_type": "markdown",
   "id": "2c14be5d-b4ae-4c62-9cc4-271fe79dcaea",
   "metadata": {},
   "source": [
    "### Using a Local Faucet at the Command Line\n",
    "\n",
    "One can use `cardano-cli` or `marlowe-cli` send funds to an address. Here we use `marlowe-cli`.\n",
    "\n",
    "***If you have just funded `FAUCET_ADDR` with ada, you may have to wait a couple of minutes before that transaction is confirmed. If the command below fails, then retry it until it succeeds.***"
   ]
  },
  {
   "cell_type": "code",
   "execution_count": null,
   "id": "5bcf4056-963b-41e1-b963-6af2c09498b5",
   "metadata": {
    "tags": [],
    "vscode": {
     "languageId": "shellscript"
    }
   },
   "outputs": [],
   "source": [
    "# Note that `FAUCET_ADDR` must have already been funded with test ada.\n",
    "\n",
    "# 1 ada = 1,000,000 lovelace\n",
    "ADA=1000000\n",
    "\n",
    "# Send 1000 ada\n",
    "AMOUNT=$((1000 * ADA))\n",
    "\n",
    "# Execute the transaction.\n",
    "marlowe-cli util fund-address \\\n",
    " --lovelace \"$AMOUNT\" \\\n",
    " --out-file /dev/null \\\n",
    " --source-wallet-credentials \"$FAUCET_ADDR\":\"$FAUCET_SKEY\" \\\n",
    " --submit 600 \\\n",
    " \"$LENDER_ADDR\" \"$BORROWER_ADDR\" \"$MEDIATOR_ADDR\""
   ]
  },
  {
   "cell_type": "markdown",
   "id": "90fc1ce5",
   "metadata": {},
   "source": [
    "Alternatively you can use the `fund-wallets.sh` script as a single liner\n",
    "> NOTE: The following script does the same as the above, no need to do it twice."
   ]
  },
  {
   "cell_type": "code",
   "execution_count": null,
   "id": "8164dc98",
   "metadata": {
    "tags": [],
    "vscode": {
     "languageId": "shellscript"
    }
   },
   "outputs": [],
   "source": [
    "$SCRIPTS/fund-wallets.sh $LENDER_ADDR $BORROWER_ADDR $MEDIATOR_ADDR"
   ]
  },
  {
   "cell_type": "markdown",
   "id": "a9096d7c-9b21-48a6-b747-c14560486d17",
   "metadata": {},
   "source": [
    "See that the addresses have indeed been funded:"
   ]
  },
  {
   "cell_type": "code",
   "execution_count": null,
   "id": "d4f822da-45bf-4222-95fa-5ce6a912869b",
   "metadata": {
    "tags": [],
    "vscode": {
     "languageId": "shellscript"
    }
   },
   "outputs": [],
   "source": [
    "echo\n",
    "echo \"Lender\"\n",
    "$SCRIPTS/cardano-scan-address.sh $LENDER_ADDR\n",
    "echo\n",
    "cardano-cli query utxo --testnet-magic \"$CARDANO_TESTNET_MAGIC\" --address \"$LENDER_ADDR\"\n",
    "echo\n",
    "echo\n",
    "echo\n",
    "echo\n",
    "\n",
    "echo \"Borrower\"\n",
    "$SCRIPTS/cardano-scan-address.sh $BORROWER_ADDR\n",
    "cardano-cli query utxo --testnet-magic \"$CARDANO_TESTNET_MAGIC\" --address \"$BORROWER_ADDR\"\n",
    "echo\n",
    "echo\n",
    "echo\n",
    "echo\n",
    "\n",
    "echo \"Mediator @ $MEDIATOR_ADDR\"\n",
    "$SCRIPTS/cardano-scan-address.sh $MEDIATOR_ADDR\n",
    "cardano-cli query utxo --testnet-magic \"$CARDANO_TESTNET_MAGIC\" --address \"$MEDIATOR_ADDR\"\n",
    "echo"
   ]
  },
  {
   "cell_type": "markdown",
   "id": "3e5ebe69",
   "metadata": {},
   "source": [
    "## Return funds to the faucet\n",
    "\n",
    "If you are using a local faucet it is recommended to return the test ADA after running the desired notebooks"
   ]
  },
  {
   "cell_type": "code",
   "execution_count": null,
   "id": "8e1bd98c",
   "metadata": {
    "tags": [],
    "vscode": {
     "languageId": "shellscript"
    }
   },
   "outputs": [],
   "source": [
    "$SCRIPTS/return-assets-to-faucet.sh lender\n",
    "$SCRIPTS/return-assets-to-faucet.sh borrower\n",
    "$SCRIPTS/return-assets-to-faucet.sh mediator"
   ]
  }
 ],
 "metadata": {
  "kernelspec": {
   "display_name": "Bash with Marlowe Tools",
   "language": "bash",
   "name": "bash-minimal"
  },
  "language_info": {
   "codemirror_mode": "shell",
   "file_extension": ".sh",
   "mimetype": "text/x-sh",
   "name": "bash"
  }
 },
 "nbformat": 4,
 "nbformat_minor": 5
}
