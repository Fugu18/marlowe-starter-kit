{
  "cells": [
    {
      "cell_type": "markdown",
      "id": "4f3e8ba1-d2d2-4393-8c9e-8d324d444230",
      "metadata": {},
      "source": [
        "# Local environment checks\n",
        "\n",
        "***Before running this notebook, you might want to use Jupyter's \"clear output\" function to erase the results of the previous execution of this notebook. That will make more apparent what has been executed in the current session.***\n",
        "\n",
        "This notebook serves as a tool for verifying the proper configuration and functionality of your local Marlowe Runtime installation. If you are utilizing the [demeter.run](https://demeter.run/) development platform, you can skip this.\n",
        "\n",
        "📌 **Note**: You can watch a video that guides you through this Jupyter notebook [here (TODO)](https://youtu.be/TODO).\n",
        "\n",
        "Should you have any inquiries about Marlowe, feel free to ask questions in the [IOG Discord's #ask-marlowe channel](https://discord.com/channels/826816523368005654/936295815926927390), or if you encounter any challenges with this lesson, you can report them in the [Marlowe Starter Kit GitHub repository's issues section](https://github.com/input-output-hk/marlowe-starter-kit/issues).\n"
      ]
    },
    {
      "cell_type": "markdown",
      "id": "4a2ec343-a4e7-4ad6-ae82-0b3ce6c1d2f9",
      "metadata": {},
      "source": [
        "## Command Line Tools and Environment\n",
        "\n",
        "This section introduces the `check-tools-and-env.sh` script, located in the *scripts* folder. This script is designed to validate that the required command line tools and environment settings are correctly set.\n",
        "\n",
        "You can delve into the *scripts* folder to find different helpers that are used accross the different notebooks."
      ]
    },
    {
      "cell_type": "code",
      "execution_count": null,
      "id": "01b538d8",
      "metadata": {
        "tags": [],
        "vscode": {
          "languageId": "shellscript"
        }
      },
      "outputs": [],
      "source": [
        "export SCRIPTS=../scripts\n",
        "source $SCRIPTS/check-tools-and-env.sh"
      ]
    },
    {
      "cell_type": "markdown",
      "id": "1d04e564-9695-43f2-b465-74fab8f21f5b",
      "metadata": {},
      "source": [
        "## Check the Health of the Marlowe Runtime Services\n",
        "\n",
        "### Cardano Node\n",
        "\n",
        "When `cardano-node` is started, it may take minutes or hours to synchronize with the tip of the blockchain, depending upon the network. Wait until querying the node shows that its `syncProgress` is 100%.\n"
      ]
    },
    {
      "cell_type": "code",
      "execution_count": null,
      "id": "113b3e9f",
      "metadata": {
        "tags": [],
        "vscode": {
          "languageId": "shellscript"
        }
      },
      "outputs": [],
      "source": [
        "cardano-cli query tip --testnet-magic \"$CARDANO_TESTNET_MAGIC\" | json2yaml"
      ]
    },
    {
      "cell_type": "markdown",
      "id": "616f6891",
      "metadata": {},
      "source": [
        "###  Marlowe Runtime Indexers\n",
        "\n",
        "Check to see that `marlowe-chain-indexer` has reached the tip of the blockchain."
      ]
    },
    {
      "cell_type": "code",
      "execution_count": null,
      "id": "77d87f85",
      "metadata": {
        "tags": [],
        "vscode": {
          "languageId": "shellscript"
        }
      },
      "outputs": [],
      "source": [
        "psql chain_preprod -c 'select max(slotno) from chain.block;'"
      ]
    },
    {
      "cell_type": "markdown",
      "id": "25aaf0c3",
      "metadata": {},
      "source": [
        "Also check to see that `marlowe-indexer` has *approximately* reached the tip of the blockchain."
      ]
    },
    {
      "cell_type": "code",
      "execution_count": null,
      "id": "938db9ff",
      "metadata": {
        "tags": [],
        "vscode": {
          "languageId": "shellscript"
        }
      },
      "outputs": [],
      "source": [
        "psql chain_preprod -c 'select max(slotno) from marlowe.block;'"
      ]
    },
    {
      "cell_type": "markdown",
      "id": "988a304a",
      "metadata": {},
      "source": [
        "*Troubleshooting note:* If the `marlowe-chain-indexer` or `marlowe-indexer` query result is `null` or an extremely low number such as `-1`, you may need to reset the docker postgres volume. You can do that from the HOST machine:\n",
        "\n",
        "```bash\n",
        "docker-compose stop postgres\n",
        "docker-compose remove postgres\n",
        "docker volume rm marlowe-starter-kit-postgres\n",
        "docker-compose up -d\n",
        "```\n",
        "\n",
        "\n",
        "### Marlowe Runtime Proxy Service\n",
        "\n",
        "Check that the `marlowe-runtime-cli` command can communicate with the Marlowe Runtime backend services by querying the history of one of the Marlowe contracts that has previously been executed on the blockchain."
      ]
    },
    {
      "cell_type": "code",
      "execution_count": null,
      "id": "be8c6726",
      "metadata": {
        "tags": [],
        "vscode": {
          "languageId": "shellscript"
        }
      },
      "outputs": [],
      "source": [
        "if [ \"${CARDANO_TESTNET_MAGIC}\" == \"1\" ]; then\n",
        "  export \"CONTRACT_ID=2e515845d04e18bda77d48010948ca891870baf1a2e68d3262d22ec0af4f6f5e#1\"\n",
        "elif [ \"${CARDANO_TESTNET_MAGIC}\" == \"2\" ]; then\n",
        "  export \"CONTRACT_ID=da3c4c1d6f0c052fb149e9bc0600f0869e0fbc1d7c1ae455c0d2cb1ed9717c30#1\"\n",
        "else\n",
        "  export \"CONTRACT_ID=a1e0b1ff9743fc501f5e07f8db1ef9b148ea9e31f1ea190b1afaebc59ec0faac#1\"\n",
        "fi\n",
        "\n",
        "marlowe-runtime-cli log $CONTRACT_ID"
      ]
    },
    {
      "cell_type": "markdown",
      "id": "25444873",
      "metadata": {},
      "source": [
        "We can also see the contract in the [Marlowe Scan tool](https://docs.marlowe.iohk.io/docs/getting-started/marlowe-scan)"
      ]
    },
    {
      "cell_type": "code",
      "execution_count": null,
      "id": "60bd1323",
      "metadata": {
        "tags": [],
        "vscode": {
          "languageId": "shellscript"
        }
      },
      "outputs": [],
      "source": [
        "$SCRIPTS/marlowe-scan.sh $CONTRACT_ID"
      ]
    },
    {
      "cell_type": "markdown",
      "id": "57168bd3",
      "metadata": {},
      "source": [
        "### Marlowe Runtime Web Server\n",
        "\n",
        "Check that one can communicate with the Marlowe Runtime web server and receive a `200 OK` response.\n"
      ]
    },
    {
      "cell_type": "code",
      "execution_count": null,
      "id": "f7ac3f8a",
      "metadata": {
        "tags": [],
        "vscode": {
          "languageId": "shellscript"
        }
      },
      "outputs": [],
      "source": [
        "curl -sSI \"$MARLOWE_RT_WEBSERVER_URL/healthcheck\""
      ]
    }
  ],
  "metadata": {
    "kernelspec": {
      "display_name": "Bash with Marlowe Tools",
      "language": "bash",
      "name": "bash-minimal"
    },
    "language_info": {
      "codemirror_mode": "shell",
      "file_extension": ".sh",
      "mimetype": "text/x-sh",
      "name": "bash"
    }
  },
  "nbformat": 4,
  "nbformat_minor": 5
}
