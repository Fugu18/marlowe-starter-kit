{
  "cells": [
    {
      "cell_type": "markdown",
      "id": "caa144a8-d3d7-42de-bfdd-8b27cf4c5cbe",
      "metadata": {},
      "source": [
        "# Marlowe Starter Kit - Scripts\n",
        "\n",
        "***Before running this notebook, you might want to use Jupyter's \"clear output\" function to erase the results of the previous execution of this notebook. That will make more apparent what has been executed in the current session.***\n",
        "\n",
        "This notebook explains the different scripts available in this folder, which are used throughout the lessons.\n",
        "\n",
        "## Check tools and Env\n",
        "All lessons start with the `check-tools-and-env.sh` script, it basically makes sure that all the tools and environment variables needed to run the notebooks are set up correctly.\n",
        "\n",
        "Even if it isn't needed to run the script, it is good practice to have the variable `$SCRIPTS` pointing to directory relative to the running notebook. When the `$KEYS` variable is defined, the script will check if a `faucet` key is present and export the `FAUCET_ADDR` and `FAUCET_SKEY` variables"
      ]
    },
    {
      "cell_type": "code",
      "execution_count": null,
      "id": "460ff389",
      "metadata": {
        "vscode": {
          "languageId": "shellscript"
        }
      },
      "outputs": [],
      "source": [
        "export SCRIPTS=$(realpath .)\n",
        "export KEYS=$(realpath ../keys)"
      ]
    },
    {
      "cell_type": "markdown",
      "id": "924a0af5",
      "metadata": {},
      "source": [
        "and then we source the script into the notebook. \n",
        "> NOTE: A bash script can be either sourced or executed, the difference is that when sourced the script is executed in the current shell, while when executed the script is executed in a subshell. This means that when a script is sourced, any variables set in the script will persist in the current shell, while when a script is executed, they don't persist. This scripts needs to be sourced as it will set up some variables for us."
      ]
    },
    {
      "cell_type": "code",
      "execution_count": null,
      "id": "a2918929",
      "metadata": {
        "vscode": {
          "languageId": "shellscript"
        }
      },
      "outputs": [],
      "source": [
        "source $SCRIPTS/check-tools-and-env.sh"
      ]
    },
    {
      "cell_type": "markdown",
      "id": "9c5714bc",
      "metadata": {},
      "source": [
        "The full script can be read [here](/edit/scripts/check-tools-and-env.sh)"
      ]
    },
    {
      "cell_type": "markdown",
      "id": "6631a995",
      "metadata": {},
      "source": [
        "## Create test wallet\n",
        "The following script can be used to create a test wallet. It receives as its only argument the name of the wallet to be created. The wallet is created with a random mnemonic and the corresponding address is printed to the standard output. Also some variables are going to be exported to the notebook. The script won't overwrite an existing wallet.\n",
        "\n",
        "> NOTE: This script needs to be sourced "
      ]
    },
    {
      "cell_type": "code",
      "execution_count": null,
      "id": "e5b4712a",
      "metadata": {
        "vscode": {
          "languageId": "shellscript"
        }
      },
      "outputs": [],
      "source": [
        "source $SCRIPTS/create-test-wallet.sh test"
      ]
    },
    {
      "cell_type": "markdown",
      "id": "4a818c43",
      "metadata": {},
      "source": [
        "The full script can be read [here](/edit/scripts/create-test-wallet.sh)"
      ]
    },
    {
      "cell_type": "markdown",
      "id": "53d9865c",
      "metadata": {},
      "source": [
        "## Fund wallets\n",
        "\n",
        "The `fund-wallets.sh` script will use the `FAUCET` wallet configured in the [setup/01-setup-keys.ipynb](../setup/01-setup-keys.ipynb) notebook to fund the addresses passed as arguments.\n",
        "\n",
        "> NOTE: The script needs to be executed, not sourced"
      ]
    },
    {
      "cell_type": "code",
      "execution_count": null,
      "id": "a93bf23a",
      "metadata": {
        "vscode": {
          "languageId": "shellscript"
        }
      },
      "outputs": [],
      "source": [
        "$SCRIPTS/fund-wallets.sh $TEST_ADDR"
      ]
    },
    {
      "cell_type": "markdown",
      "id": "1500d2fa",
      "metadata": {},
      "source": [
        "The full script can be read [here](/edit/scripts/fund-wallets.sh)"
      ]
    },
    {
      "cell_type": "markdown",
      "id": "f3f49bf8",
      "metadata": {},
      "source": [
        "## Return Assets to Faucet\n",
        "The `return-assets-to-faucet.sh` script will returns all ADA from a wallet to the to the `FAUCET` configured in the [setup/01-setup-keys.ipynb](../setup/01-setup-keys.ipynb). The script receives a single wallet name (as provided to the `create-test-wallet.sh` script) as a parameter and it expects that a signing key and an address file be present in the `$KEYS` folder.\n",
        "\n",
        "> NOTE: The script needs to be executed, not sourced"
      ]
    },
    {
      "cell_type": "code",
      "execution_count": null,
      "id": "7e9744ae",
      "metadata": {
        "vscode": {
          "languageId": "shellscript"
        }
      },
      "outputs": [],
      "source": [
        "$SCRIPTS/return-assets-to-faucet.sh test"
      ]
    },
    {
      "cell_type": "markdown",
      "id": "ad536c36",
      "metadata": {},
      "source": [
        "The full script can be read [here](/edit/scripts/return-assets-to-faucet.sh)"
      ]
    },
    {
      "cell_type": "markdown",
      "id": "c2714e3c",
      "metadata": {},
      "source": [
        "## Cardano scan address\n",
        "\n",
        "The `cardano-scan-address.sh` script is used to generate a URL to the cardano scan website for a given address. It needs to be executed, not sourced, and it receives as only argument the address to view."
      ]
    },
    {
      "cell_type": "code",
      "execution_count": null,
      "id": "b2592d82",
      "metadata": {
        "vscode": {
          "languageId": "shellscript"
        }
      },
      "outputs": [],
      "source": [
        "$SCRIPTS/cardano-scan-address.sh $TEST_ADDR"
      ]
    },
    {
      "cell_type": "markdown",
      "id": "01282888",
      "metadata": {},
      "source": [
        "The full script can be read [here](/edit/scripts/cardano-scan-address.sh)"
      ]
    },
    {
      "cell_type": "markdown",
      "id": "76ee2178",
      "metadata": {},
      "source": [
        "## Cardano scan tx\n",
        "The `cardano-scan-tx.sh` script is used to generate a URL to the cardano scan website for a given transaction id. It needs to be executed, not sourced, and it receives as only argument the transaction id to view.\n"
      ]
    },
    {
      "cell_type": "code",
      "execution_count": null,
      "id": "ee5b9f47",
      "metadata": {
        "vscode": {
          "languageId": "shellscript"
        }
      },
      "outputs": [],
      "source": [
        "$SCRIPTS/cardano-scan-tx.sh 07a506c5d534228b9f174cf6ba6effb71c668ee813bae6180c0fadec7b720e3b"
      ]
    },
    {
      "cell_type": "markdown",
      "id": "b3cde337",
      "metadata": {},
      "source": [
        "The full script can be read [here](/edit/scripts/cardano-scan-tx.sh)"
      ]
    },
    {
      "cell_type": "markdown",
      "id": "c6593931",
      "metadata": {},
      "source": [
        "## Fill variables from docker\n",
        "The `fill-variables-from-docker.sh` script is used to fill the required environment variables from a running docker-compose instance. It is used as part of the [running locally with docker](https://github.com/input-output-hk/marlowe-starter-kit/blob/main/docs/docker.md) workflow.\n",
        "\n",
        "\n",
        "> NOTE: This script needs to be sourced, not executed. \n"
      ]
    },
    {
      "cell_type": "code",
      "execution_count": null,
      "id": "d3d9d3db",
      "metadata": {
        "vscode": {
          "languageId": "shellscript"
        }
      },
      "outputs": [],
      "source": [
        "source $SCRIPTS/fill-variable-from-docker.sh"
      ]
    },
    {
      "cell_type": "markdown",
      "id": "9c9c0b14",
      "metadata": {},
      "source": [
        "The full script can be read [here](/edit/scripts/fill-variables-from-docker.sh)."
      ]
    }
  ],
  "metadata": {
    "kernelspec": {
      "display_name": "Bash with Marlowe Tools",
      "language": "bash",
      "name": "bash-minimal"
    },
    "language_info": {
      "codemirror_mode": "shell",
      "file_extension": ".sh",
      "mimetype": "text/x-sh",
      "name": "bash"
    }
  },
  "nbformat": 4,
  "nbformat_minor": 5
}
