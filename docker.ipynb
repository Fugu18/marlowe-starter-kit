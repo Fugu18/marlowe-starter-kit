{
 "cells": [
  {
   "cell_type": "markdown",
   "id": "4f3e8ba1-d2d2-4393-8c9e-8d324d444230",
   "metadata": {},
   "source": [
    "# Deploying Marlowe Runtime Locally Using Docker Compose\n",
    "\n",
    "This notebook provides instructions on setting up one's environment for running the Marlowe examples in this starter kit. It covers the following information:\n",
    "\n",
    "- Environment variables\n",
    "- Deploying Marlowe Runtime"
   ]
  },
  {
   "cell_type": "markdown",
   "id": "5578d294-d437-4397-bd01-b6930c0ad5d5",
   "metadata": {},
   "source": [
    "## Environment Variables\n",
    "\n",
    "The various Marlowe tools use [environment variables](https://en.wikipedia.org/wiki/Environment_variable) to specify the values of parameters and the network locations of services. Only the enviornment variables for the particular tool(s) being used need be set; the others may be left unset or ignored. The following table summarizes the tools' use of these settings.\n",
    "\n",
    "| Workflow            | Tool          | Environment Variable        | Typical Value | Description                                                                                     |\n",
    "|---------------------|---------------|-----------------------------|---------------|-------------------------------------------------------------------------------------------------|\n",
    "| Marlowe CLI         | `marlowe-cli` | `CARDANO_NODE_SOCKET_PATH`  | `node.socket` | Location of the socket for the `cardano-node` service.                                          |\n",
    "|                     |               | `CARDANO_TESTNET_MAGIC`     | 2             | The \"magic number\" for the Cardano testnet being used, or not set if `mainnet` is being used.   |\n",
    "| Marlowe Runtime CLI | `marlowe`     | `MARLOWE_RT_HOST`           | `127.0.0.1`   | The host machine's IP address for Marlowe Runtime.                                              |\n",
    "|                     |               | `MARLOWE_RT_PORT`           | `3700`        | The port number for the `marlowe-proxy` service on the Marlowe Runtime host machine.            |\n",
    "| Marlowe Runtime Web | `curl` etc.   | `MARLOWE_RT_WEBSERVER_HOST` | `127.0.0.1`   | The host machine's IP address for Marlowe Runtime's web server.                                 |\n",
    "|                     |               | `MARLOWE_RT_WEBSERVER_PORT` | `8080`        | The port number for the `marlowe-web-server` service on the Marlowe Runtime web server machine. |"
   ]
  },
  {
   "cell_type": "markdown",
   "id": "093ac3d6-a693-4d6c-bbf8-9f92dcd87ae1",
   "metadata": {},
   "source": [
    "## Deploying Marlowe Runtime\n",
    "\n",
    "Marlowe Runtime consists of several backend services and work together with a web server.\n",
    "\n",
    "![The architecture of Marlowe Runtime](images/runtime-architecture.png)"
   ]
  },
  {
   "cell_type": "markdown",
   "id": "6be15515-1aa9-4a65-a888-796c5a683aca",
   "metadata": {},
   "source": [
    "## Docker\n",
    "\n",
    "First, make sure that either [docker-compose](https://docs.docker.com/compose/install/) or [podman-compose](https://github.com/containers/podman-compose#readme) is installed on your system.\n",
    "\n",
    "### Git Submodule\n",
    "\n",
    "This repository contains a [git submodule](https://git-scm.com/book/en/v2/Git-Tools-Submodules) that contains the docker-compose configuration for running a Cardano Node and Marlowe Runtime. Initialize this submodule."
   ]
  },
  {
   "cell_type": "code",
   "execution_count": 1,
   "id": "8a146db6-2058-4143-b4ec-043349088956",
   "metadata": {
    "vscode": {
     "languageId": "shellscript"
    }
   },
   "outputs": [
    {
     "name": "stdout",
     "output_type": "stream",
     "text": [
      "Submodule 'marlowe-compose' (git@github.com:bwbush/marlowe-compose.git) registered for path 'marlowe-compose'\n",
      "Cloning into '/extra/iohk/marlowe-starter-kit/marlowe-compose'...\n",
      "Submodule path 'marlowe-compose': checked out '19fe4263350212537f93e53b2297ca81772d8edc'\n"
     ]
    }
   ],
   "source": [
    "git submodule update --init --recursive"
   ]
  },
  {
   "cell_type": "markdown",
   "id": "2d4657da-5fe5-4604-881e-d1d83525b44b",
   "metadata": {},
   "source": [
    "### Network Selection\n",
    "\n",
    "Select either the public Cardano testnet pre-production (`preprod`) or preview (`preview`). The `preprod` network is easiest to start with because it contains fewer transactions than `preview`, which makes synchronize the Cardano Node and the Marlowe Runtime indexers much faster."
   ]
  },
  {
   "cell_type": "code",
   "execution_count": 2,
   "id": "5a348df2-cb70-4cad-8df6-c932b7d4eb50",
   "metadata": {
    "tags": [],
    "vscode": {
     "languageId": "shellscript"
    }
   },
   "outputs": [],
   "source": [
    "export NETWORK=preprod"
   ]
  },
  {
   "cell_type": "markdown",
   "id": "5f04bb64-5d28-4a45-806c-9d668fcefdd2",
   "metadata": {},
   "source": [
    "### Starting the Docker Containers\n",
    "\n",
    "Now start the docker containers. Here we use `podman-compose`, but the `docker-compose` works identically."
   ]
  },
  {
   "cell_type": "code",
   "execution_count": 3,
   "id": "e22d9fad-294c-42e1-9307-10edb8f02dfc",
   "metadata": {
    "tags": [],
    "vscode": {
     "languageId": "shellscript"
    }
   },
   "outputs": [
    {
     "name": "stdout",
     "output_type": "stream",
     "text": [
      "['podman', '--version', '']\n",
      "using podman version: 4.3.1\n",
      "** excluding:  set()\n",
      "podman volume inspect marlowe-compose_shared || podman volume create marlowe-compose_shared\n",
      "['podman', 'volume', 'inspect', 'marlowe-compose_shared']\n",
      "['podman', 'volume', 'create', '--label', 'io.podman.compose.project=marlowe-compose', '--label', 'com.docker.compose.project=marlowe-compose', 'marlowe-compose_shared']\n",
      "['podman', 'volume', 'inspect', 'marlowe-compose_shared']\n",
      "podman volume inspect marlowe-compose_node-db || podman volume create marlowe-compose_node-db\n",
      "['podman', 'volume', 'inspect', 'marlowe-compose_node-db']\n",
      "['podman', 'volume', 'create', '--label', 'io.podman.compose.project=marlowe-compose', '--label', 'com.docker.compose.project=marlowe-compose', 'marlowe-compose_node-db']\n",
      "['podman', 'volume', 'inspect', 'marlowe-compose_node-db']\n",
      "['podman', 'network', 'exists', 'marlowe-compose_default']\n",
      "podman run --name=marlowe-compose_node_1 -d --label io.podman.compose.config-hash=123 --label io.podman.compose.project=marlowe-compose --label io.podman.compose.version=0.0.1 --label com.docker.compose.project=marlowe-compose --label com.docker.compose.project.working_dir=/extra/iohk/marlowe-starter-kit/marlowe-compose --label com.docker.compose.project.config_files=compose.yaml --label com.docker.compose.container-number=1 --label com.docker.compose.service=node -e NETWORK=preprod -v marlowe-compose_shared:/ipc -v marlowe-compose_node-db:/opt/cardano/data --net marlowe-compose_default --network-alias node --restart unless-stopped --healthcheck-command /bin/sh -c 'socat -u OPEN:/dev/null UNIX-CONNECT:/ipc/node.socket' --healthcheck-interval 10s --healthcheck-timeout 5s --healthcheck-retries 10 inputoutput/cardano-node:1.35.4\n",
      "exit code: 0\n",
      "podman volume inspect marlowe-compose_postgres || podman volume create marlowe-compose_postgres\n",
      "['podman', 'volume', 'inspect', 'marlowe-compose_postgres']\n",
      "['podman', 'volume', 'create', '--label', 'io.podman.compose.project=marlowe-compose', '--label', 'com.docker.compose.project=marlowe-compose', 'marlowe-compose_postgres']\n",
      "['podman', 'volume', 'inspect', 'marlowe-compose_postgres']\n",
      "['podman', 'network', 'exists', 'marlowe-compose_default']\n",
      "podman run --name=marlowe-compose_postgres_1 -d --label io.podman.compose.config-hash=123 --label io.podman.compose.project=marlowe-compose --label io.podman.compose.version=0.0.1 --label com.docker.compose.project=marlowe-compose --label com.docker.compose.project.working_dir=/extra/iohk/marlowe-starter-kit/marlowe-compose --label com.docker.compose.project.config_files=compose.yaml --label com.docker.compose.container-number=1 --label com.docker.compose.service=postgres -e POSTGRES_LOGGING=true -e POSTGRES_USER=postgres -e POSTGRES_PASSWORD=postgres -e TZ=UTC -v marlowe-compose_postgres:/var/lib/postgresql/data -v /extra/iohk/marlowe-starter-kit/marlowe-compose/preprod/init.sql:/docker-entrypoint-initdb.d/init.sql --net marlowe-compose_default --network-alias postgres --log-driver=json-file --log-opt=max-file=10 --log-opt=max-size=200k --restart unless-stopped --healthcheck-command /bin/sh -c 'pg_isready -U postgres' --healthcheck-interval 10s --healthcheck-timeout 5s --healthcheck-retries 5 postgres:11.5-alpine\n",
      "exit code: 0\n",
      "podman volume inspect marlowe-compose_shared || podman volume create marlowe-compose_shared\n",
      "['podman', 'volume', 'inspect', 'marlowe-compose_shared']\n",
      "['podman', 'network', 'exists', 'marlowe-compose_default']\n",
      "podman run --name=marlowe-compose_chain-indexer_1 -d --label io.podman.compose.config-hash=123 --label io.podman.compose.project=marlowe-compose --label io.podman.compose.version=0.0.1 --label com.docker.compose.project=marlowe-compose --label com.docker.compose.project.working_dir=/extra/iohk/marlowe-starter-kit/marlowe-compose --label com.docker.compose.project.config_files=compose.yaml --label com.docker.compose.container-number=1 --label com.docker.compose.service=chain-indexer -e NODE_CONFIG=/node/config.json -e DB_NAME=chain_preprod -e DB_USER=postgres -e DB_PASS=postgres -e DB_HOST=postgres -e CARDANO_NODE_SOCKET_PATH=/ipc/node.socket -v marlowe-compose_shared:/ipc -v /extra/iohk/marlowe-starter-kit/marlowe-compose/preprod/node:/node --net marlowe-compose_default --network-alias chain-indexer -u 0:0 --restart unless-stopped iohkbuild/marlowe:chain-indexer-20230302\n",
      "exit code: 0\n",
      "podman volume inspect marlowe-compose_shared || podman volume create marlowe-compose_shared\n",
      "['podman', 'volume', 'inspect', 'marlowe-compose_shared']\n",
      "['podman', 'network', 'exists', 'marlowe-compose_default']\n",
      "podman run --name=marlowe-compose_chain-sync_1 -d --label io.podman.compose.config-hash=123 --label io.podman.compose.project=marlowe-compose --label io.podman.compose.version=0.0.1 --label com.docker.compose.project=marlowe-compose --label com.docker.compose.project.working_dir=/extra/iohk/marlowe-starter-kit/marlowe-compose --label com.docker.compose.project.config_files=compose.yaml --label com.docker.compose.container-number=1 --label com.docker.compose.service=chain-sync -e NODE_CONFIG=/node/config.json -e HOST=0.0.0.0 -e PORT=3715 -e QUERY_PORT=3716 -e JOB_PORT=3720 -e DB_NAME=chain_preprod -e DB_USER=postgres -e DB_PASS=postgres -e DB_HOST=postgres -e CARDANO_NODE_SOCKET_PATH=/ipc/node.socket -v marlowe-compose_shared:/ipc -v /extra/iohk/marlowe-starter-kit/marlowe-compose/preprod/node:/node --net marlowe-compose_default --network-alias chain-sync -u 0:0 --restart unless-stopped iohkbuild/marlowe:chain-sync-20230302\n",
      "exit code: 0\n",
      "['podman', 'network', 'exists', 'marlowe-compose_default']\n",
      "podman run --name=marlowe-compose_indexer_1 -d --label io.podman.compose.config-hash=123 --label io.podman.compose.project=marlowe-compose --label io.podman.compose.version=0.0.1 --label com.docker.compose.project=marlowe-compose --label com.docker.compose.project.working_dir=/extra/iohk/marlowe-starter-kit/marlowe-compose --label com.docker.compose.project.config_files=compose.yaml --label com.docker.compose.container-number=1 --label com.docker.compose.service=indexer -e DB_NAME=chain_preprod -e DB_USER=postgres -e DB_PASS=postgres -e DB_HOST=postgres -e MARLOWE_CHAIN_SYNC_HOST=chain-sync -e MARLOWE_CHAIN_SYNC_PORT=3715 -e MARLOWE_CHAIN_SYNC_QUERY_PORT=3716 -e MARLOWE_CHAIN_SYNC_COMMAND_PORT=3720 --net marlowe-compose_default --network-alias indexer --restart unless-stopped iohkbuild/marlowe:indexer-20230302\n",
      "exit code: 0\n",
      "['podman', 'network', 'exists', 'marlowe-compose_default']\n",
      "podman run --name=marlowe-compose_tx_1 -d --label io.podman.compose.config-hash=123 --label io.podman.compose.project=marlowe-compose --label io.podman.compose.version=0.0.1 --label com.docker.compose.project=marlowe-compose --label com.docker.compose.project.working_dir=/extra/iohk/marlowe-starter-kit/marlowe-compose --label com.docker.compose.project.config_files=compose.yaml --label com.docker.compose.container-number=1 --label com.docker.compose.service=tx -e HOST=0.0.0.0 -e PORT=3723 -e MARLOWE_CHAIN_SYNC_HOST=chain-sync -e MARLOWE_CHAIN_SYNC_PORT=3715 -e MARLOWE_CHAIN_SYNC_QUERY_PORT=3716 -e MARLOWE_CHAIN_SYNC_COMMAND_PORT=3720 --net marlowe-compose_default --network-alias tx --restart unless-stopped iohkbuild/marlowe:tx-20230302\n",
      "exit code: 0\n",
      "['podman', 'network', 'exists', 'marlowe-compose_default']\n",
      "podman run --name=marlowe-compose_sync_1 -d --label io.podman.compose.config-hash=123 --label io.podman.compose.project=marlowe-compose --label io.podman.compose.version=0.0.1 --label com.docker.compose.project=marlowe-compose --label com.docker.compose.project.working_dir=/extra/iohk/marlowe-starter-kit/marlowe-compose --label com.docker.compose.project.config_files=compose.yaml --label com.docker.compose.container-number=1 --label com.docker.compose.service=sync -e HOST=0.0.0.0 -e MARLOWE_SYNC_PORT=3724 -e MARLOWE_HEADER_SYNC_PORT=3725 -e MARLOWE_QUERY_PORT=3726 -e DB_NAME=chain_preprod -e DB_USER=postgres -e DB_PASS=postgres -e DB_HOST=postgres --net marlowe-compose_default --network-alias sync --restart unless-stopped iohkbuild/marlowe:sync-20230302\n",
      "exit code: 0\n",
      "['podman', 'network', 'exists', 'marlowe-compose_default']\n",
      "2dcb895b7a2df47078339c727e8626a27d8fddc6705065cf7f0d18466d8c125d\n",
      "599db9c3f59bf234057b1cdd179d9226249219c95e3319fa16687d5954189b98\n",
      "podman run --name=marlowe-compose_proxy_1 -d --label io.podman.compose.config-hash=123 --label io.podman.compose.project=marlowe-compose --label io.podman.compose.version=0.0.1 --label com.docker.compose.project=marlowe-compose --label com.docker.compose.project.working_dir=/extra/iohk/marlowe-starter-kit/marlowe-compose --label com.docker.compose.project.config_files=compose.yaml --label com.docker.compose.container-number=1 --label com.docker.compose.service=proxy -e HOST=0.0.0.0 -e PORT=3700 -e TX_HOST=tx -e TX_PORT=3723 -e SYNC_HOST=sync -e MARLOWE_SYNC_PORT=3724 -e MARLOWE_HEADER_SYNC_PORT=3725 -e MARLOWE_QUERY_PORT=3726 --net marlowe-compose_default --network-alias proxy -p 3700:3700 --restart unless-stopped iohkbuild/marlowe:proxy-20230302\n",
      "exit code: 0\n",
      "['podman', 'network', 'exists', 'marlowe-compose_default']\n",
      "podman run --name=marlowe-compose_web-server_1 -d --label io.podman.compose.config-hash=123 --label io.podman.compose.project=marlowe-compose --label io.podman.compose.version=0.0.1 --label com.docker.compose.project=marlowe-compose --label com.docker.compose.project.working_dir=/extra/iohk/marlowe-starter-kit/marlowe-compose --label com.docker.compose.project.config_files=compose.yaml --label com.docker.compose.container-number=1 --label com.docker.compose.service=web-server -e PORT=80 -e RUNTIME_HOST=proxy -e RUNTIME_PORT=3700 --net marlowe-compose_default --network-alias web-server -p 3780:80 --restart unless-stopped iohkbuild/marlowe:web-server-20230302\n",
      "exit code: 0\n"
     ]
    }
   ],
   "source": [
    "podman-compose -f marlowe-compose/compose.yaml up -d"
   ]
  },
  {
   "cell_type": "markdown",
   "id": "64c371b9-13c7-4a5f-9299-3e34aacc74e2",
   "metadata": {},
   "source": [
    "## Check the Health of the Marlowe Runtime Services\n",
    "\n",
    "### Docker\n",
    "\n",
    "Check to make sure that all of the services were created and have the status \"Up\"."
   ]
  },
  {
   "cell_type": "code",
   "execution_count": 4,
   "id": "386bcb2d-be2d-4346-9657-04d3f4655360",
   "metadata": {
    "tags": [],
    "vscode": {
     "languageId": "shellscript"
    }
   },
   "outputs": [
    {
     "name": "stdout",
     "output_type": "stream",
     "text": [
      "['podman', '--version', '']\n",
      "using podman version: 4.4.2\n",
      "podman ps -a --filter label=io.podman.compose.project=marlowe-compose\n",
      "CONTAINER ID  IMAGE                                               COMMAND     CREATED             STATUS                       PORTS                   NAMES\n",
      "c9ea7fe655a3  docker.io/inputoutput/cardano-node:1.35.4                       About a minute ago  Up About a minute (healthy)                          marlowe-compose_node_1\n",
      "0bf114667144  docker.io/library/postgres:11.5-alpine              postgres    About a minute ago  Up About a minute (healthy)                          marlowe-compose_postgres_1\n",
      "41749da8a001  docker.io/iohkbuild/marlowe:chain-indexer-20230302              About a minute ago  Up About a minute                                    marlowe-compose_chain-indexer_1\n",
      "ee9fd794fb8d  docker.io/iohkbuild/marlowe:chain-sync-20230302                 About a minute ago  Up About a minute                                    marlowe-compose_chain-sync_1\n",
      "2fb140c547b6  docker.io/iohkbuild/marlowe:indexer-20230302                    About a minute ago  Up 56 seconds                                        marlowe-compose_indexer_1\n",
      "a41802909143  docker.io/iohkbuild/marlowe:tx-20230302                         About a minute ago  Up 56 seconds                                        marlowe-compose_tx_1\n",
      "c68488506a4d  docker.io/iohkbuild/marlowe:sync-20230302                       About a minute ago  Up About a minute                                    marlowe-compose_sync_1\n",
      "2dcb895b7a2d  docker.io/iohkbuild/marlowe:proxy-20230302                      About a minute ago  Up About a minute            0.0.0.0:3700->3700/tcp  marlowe-compose_proxy_1\n",
      "599db9c3f59b  docker.io/iohkbuild/marlowe:web-server-20230302                 About a minute ago  Up 59 seconds                0.0.0.0:3780->80/tcp    marlowe-compose_web-server_1\n",
      "exit code: 0\n"
     ]
    }
   ],
   "source": [
    "podman-compose -f marlowe-compose/compose.yaml ps"
   ]
  },
  {
   "cell_type": "markdown",
   "id": "b192339b-b71d-41e5-966c-200baa5f8337",
   "metadata": {},
   "source": [
    "Use the command `podman-compose -f marlowe-compose/compose.yaml stop` to stop the services and the command `podman-compose -f marlowe-compose/compose.yaml start` to restart them. The command `podman-compose -f marlowe-compose/compose.yaml down` will stop the services and destroy the data folders the resources used by the services: unless external volumes were used when starting the services, the Cardano blockchain and Marlowe database will be removed."
   ]
  },
  {
   "cell_type": "markdown",
   "id": "8713661d-a582-433e-81c8-aea6ba51d123",
   "metadata": {},
   "source": [
    "### Environment Variables\n",
    "\n",
    "Now set the environment variables for the Cardano and Marlowe Runtime services."
   ]
  },
  {
   "cell_type": "code",
   "execution_count": 5,
   "id": "7d20a1cd-805b-44b1-90a0-2f934dbc4bf6",
   "metadata": {
    "tags": [],
    "vscode": {
     "languageId": "shellscript"
    }
   },
   "outputs": [],
   "source": [
    "if command -v podman > /dev/null\n",
    "then\n",
    "  DOCKER_CLI=podman\n",
    "else\n",
    "  DOCKER_CLI=docker\n",
    "fi\n",
    "\n",
    "# Only required for `marlowe-cli` and `cardano-cli`.\n",
    "export CARDANO_NODE_SOCKET_PATH=\"$($DOCKER_CLI volume inspect marlowe-compose_shared | jq -r '.[0].Mountpoint')/node.socket\"\n",
    "case \"$NETWORK\" in\n",
    "  preprod)\n",
    "    export CARDANO_TESTNET_MAGIC=1\n",
    "    ;;\n",
    "  preview)\n",
    "    export CARDANO_TESTNET_MAGIC=2\n",
    "    ;;\n",
    "  *)\n",
    "    # Use `mainnet` as the default.\n",
    "    unset CARDANO_TESTNET_MAGIC\n",
    "    ;;\n",
    "esac\n",
    "\n",
    "# Only required for `marlowe`.\n",
    "export MARLOWE_RT_HOST=\"127.0.0.1\"\n",
    "export MARLOWE_RT_PORT=3700\n",
    "\n",
    "# Only required for REST API.\n",
    "export MARLOWE_RT_WEBSERVER_HOST=\"127.0.0.1\"\n",
    "export MARLOWE_RT_WEBSERVER_PORT=3780\n",
    "export MARLOWE_RT_WEBSERVER_URL=\"http://$MARLOWE_RT_WEBSERVER_HOST:$MARLOWE_RT_WEBSERVER_PORT\""
   ]
  },
  {
   "cell_type": "markdown",
   "id": "bae35736-148d-4bd3-9fdc-f4480b9a94cd",
   "metadata": {},
   "source": [
    "### Cardano Node\n",
    "\n",
    "When `cardano-node` is started, it may take minutes or hours to synchronize with the tip of the blockchain, depending upon the network. Wait until querying the node shows that its `syncProgress` is 100%."
   ]
  },
  {
   "cell_type": "code",
   "execution_count": 6,
   "id": "ee183195-ebe5-4d37-b43b-89100bc6dfc6",
   "metadata": {
    "tags": [],
    "vscode": {
     "languageId": "shellscript"
    }
   },
   "outputs": [
    {
     "name": "stdout",
     "output_type": "stream",
     "text": [
      "block: 731649\n",
      "epoch: 57\n",
      "era: Babbage\n",
      "hash: ad9ed62386341677ada848804618b6198c1d4187a0bfbd008500d2ef9595943b\n",
      "slot: 23307149\n",
      "syncProgress: '100.00'\n"
     ]
    }
   ],
   "source": [
    "cardano-cli query tip --testnet-magic \"$CARDANO_TESTNET_MAGIC\" | json2yaml"
   ]
  },
  {
   "cell_type": "markdown",
   "id": "fc856e56-063e-46ad-b995-fea871e38d22",
   "metadata": {},
   "source": [
    "### Marlowe Runtime Proxy Service\n",
    "\n",
    "Check that the `marlowe` command can communicate with the Marlowe Runtime backend services by querying the history of one of the Marlowe contracts that has previously been executed on the blockchain."
   ]
  },
  {
   "cell_type": "code",
   "execution_count": 7,
   "id": "7f29d0f3-c4db-45e5-8748-ce0a72c08eca",
   "metadata": {
    "tags": [],
    "vscode": {
     "languageId": "shellscript"
    }
   },
   "outputs": [
    {
     "name": "stdout",
     "output_type": "stream",
     "text": [
      "\u001b[93mtransaction f06e4b760f2d9578c8088ea5289ba6276e68ae3cbaf5ad27bcfc77dc413890db (creation)\n",
      "\u001b[0mContractId:      f06e4b760f2d9578c8088ea5289ba6276e68ae3cbaf5ad27bcfc77dc413890db#1\n",
      "SlotNo:          11630746\n",
      "BlockNo:         224384\n",
      "BlockId:         f729f57b3bd99dd1d55a5a65b8c74f459dadae784dd55536444770dd2c2cdd2e\n",
      "ScriptAddress:   addr_test1wp4f8ywk4fg672xasahtk4t9k6w3aql943uxz5rt62d4dvqu3c6jv\n",
      "Marlowe Version: 1\n",
      "\n",
      "\n",
      "\n",
      "\u001b[93mtransaction 5a3ed57653b4635c76d2949558f3718e34324a8a1ffc740360ae7d85839de6d9 (close)\n",
      "\u001b[0mContractId: f06e4b760f2d9578c8088ea5289ba6276e68ae3cbaf5ad27bcfc77dc413890db#1\n",
      "SlotNo:     16674281\n",
      "BlockNo:    458964\n",
      "BlockId:    23adcef9d89afc4354155c62960512c810619d8244239f8c642745b034a58fc2\n",
      "Inputs:     []\n",
      "\n",
      "\n"
     ]
    }
   ],
   "source": [
    "marlowe log \"f06e4b760f2d9578c8088ea5289ba6276e68ae3cbaf5ad27bcfc77dc413890db#1\""
   ]
  },
  {
   "cell_type": "markdown",
   "id": "183a4b71-1c30-4241-86aa-ad58ae190455",
   "metadata": {},
   "source": [
    "### Marlowe Runtime Web Server\n",
    "\n",
    "Check that one can communicate with the Marlowe Runtime web server and receive a `200 OK` response."
   ]
  },
  {
   "cell_type": "code",
   "execution_count": 8,
   "id": "9ec08694-8c4f-4a83-acbf-fe71acd715c2",
   "metadata": {
    "tags": [],
    "vscode": {
     "languageId": "shellscript"
    }
   },
   "outputs": [
    {
     "name": "stdout",
     "output_type": "stream",
     "text": [
      "HTTP/1.1 200 OK\n",
      "\u001b[1mDate\u001b[0m: Thu, 16 Mar 2023 18:12:51 GMT\n",
      "\u001b[1mServer\u001b[0m: Warp/3.3.24\n",
      "\u001b[1mContent-Type\u001b[0m: application/json;charset=utf-8\n",
      "\n"
     ]
    }
   ],
   "source": [
    "curl -sSI \"$MARLOWE_RT_WEBSERVER_URL/healthcheck\""
   ]
  }
 ],
 "metadata": {
  "kernelspec": {
   "display_name": "Bash with Marlowe Tools",
   "language": "bash",
   "name": "bash-minimal"
  },
  "language_info": {
   "codemirror_mode": "shell",
   "file_extension": ".sh",
   "mimetype": "text/x-sh",
   "name": "bash"
  }
 },
 "nbformat": 4,
 "nbformat_minor": 5
}
