{
 "cells": [
  {
   "cell_type": "markdown",
   "id": "caa144a8-d3d7-42de-bfdd-8b27cf4c5cbe",
   "metadata": {},
   "source": [
    "# Zero-Coupon Bond Using Marlowe Runtime\\'s Command-Line Interface\n",
    "\n",
    "The zero-coupon bond example is a simple Marlowe contract where a lender provides principal to a borrower who repays it back with interest.\n",
    "\n",
    "In this demonsration we use Marlowe Runtime\\'s command-line interface, `marlowe`, to run this contract on Cardano\\'s `preprod` public testnet. Marlowe contracts may use either addresses or role tokens for authorization: here we use addresses.\n",
    "\n",
    "In [Marlowe Playground](https://play.marlowe-finance.io/), the contract looks like this in Blockly format.\n",
    "\n",
    "![Zero-coupon bond Marlowe contract](zcb-contract.png)\n",
    "\n",
    "In Marlowe format it appears as\n",
    "```\n",
    "When\n",
    "    [Case\n",
    "        (Deposit\n",
    "            (Address \"$LENDER_ADDR\")\n",
    "            (Address \"$LENDER_ADDR\")\n",
    "            (Token \"\" \"\")\n",
    "            (ConstantParam \"$PRINCIPAL\")\n",
    "        )\n",
    "        (Pay\n",
    "            (Address \"$LENDER_ADDR\")\n",
    "            (Party (Address \"$BORROWER_ADDR\"))\n",
    "            (Token \"\" \"\")\n",
    "            (ConstantParam \"$PRINCIPAL\")\n",
    "            (When\n",
    "                [Case\n",
    "                    (Deposit\n",
    "                        (Address \"$BORROWER_ADDR\")\n",
    "                        (Address \"$BORROWER_ADDR\")\n",
    "                        (Token \"\" \"\")\n",
    "                        (AddValue\n",
    "                            (ConstantParam \"$INTEREST\")\n",
    "                            (ConstantParam \"$PRINCIPAL\")\n",
    "                        )\n",
    "                    )\n",
    "                    (Pay\n",
    "                        (Address \"$BORROWER_ADDR\")\n",
    "                        (Party (Address \"$LENDER_ADDR\"))\n",
    "                        (Token \"\" \"\")\n",
    "                        (AddValue\n",
    "                            (ConstantParam \"$INTEREST\")\n",
    "                            (ConstantParam \"$PRINCIPAL\")\n",
    "                        )\n",
    "                        Close \n",
    "                    )]\n",
    "                (TimeParam \"$BORROWER_DEADLINE\")\n",
    "                Close \n",
    "            )\n",
    "        )]\n",
    "    (TimeParam \"$LENDER_DEADLINE\")\n",
    "    Close \n",
    "```"
   ]
  },
  {
   "cell_type": "markdown",
   "id": "c4ae7f57-57a7-46a8-b788-69857028f574",
   "metadata": {},
   "source": [
    "## Connecting to Marlowe Runtime\n",
    "\n",
    "If you are executing this example within [demeter.run](https://demeter.run/), then all of the required environment variables have been set to use Marlowe Runtime on Cardano\\'s pre-production network.\n",
    "\n",
    "If not, the following environment variables must be set to point to the Marlowe Runtime deployment:\n",
    "- `CARDANO_NODE_SOCKET_PATH`\n",
    "- `CARDANO_TESTNET_MAGIC`\n",
    "- `MARLOWE_RT_TX_HOST`\n",
    "- `MARLOWE_RT_TX_COMMAND_PORT`\n",
    "- `MARLOWE_RT_HISTORY_HOST`\n",
    "- `MARLOWE_RT_HISTORY_SYNC_PORT`\n",
    "\n",
    "Furthermore, the following executables must be on the `PATH`:\n",
    "- `marlowe`, `marlowe-cli`, and `marlowe-pipe` from [github:input-output-hk/marlowe-cardano](https://github.com/input-output-hk/marlowe-cardano/)\n",
    "- `cardano-cli` from [github:input-output-hk/cardano-node](https://github.com/input-output-hk/cardano-node/)\n",
    "- `jq`\n",
    "- `sed`"
   ]
  },
  {
   "cell_type": "markdown",
   "id": "37bd9c34-24a0-4a73-8782-a2329f741c37",
   "metadata": {},
   "source": [
    "## Preliminaries\n",
    "\n",
    "Set up a few things before working with the contract."
   ]
  },
  {
   "cell_type": "markdown",
   "id": "4098c000-629e-483c-ae60-9a0697ab2b41",
   "metadata": {},
   "source": [
    "### Constants\n",
    "\n",
    "Set a few convenient constants for later use.\n",
    "\n",
    "One ada is one million lovelace, which is the basic unit of currency."
   ]
  },
  {
   "cell_type": "code",
   "execution_count": 1,
   "id": "07deccb5-7643-4483-92a8-013f5f198206",
   "metadata": {},
   "outputs": [],
   "source": [
    "ADA=1000000"
   ]
  },
  {
   "cell_type": "markdown",
   "id": "eadc9c05-0b17-48f3-9b92-921c769cd3df",
   "metadata": {},
   "source": [
    "In Marlowe, time is measured in milliseconds."
   ]
  },
  {
   "cell_type": "code",
   "execution_count": 2,
   "id": "384954cc-d4be-4858-b7f7-afc377c0dafc",
   "metadata": {},
   "outputs": [],
   "source": [
    "SECOND=1000\n",
    "MINUTE=$((60 * SECOND))\n",
    "HOUR=$((60 * MINUTE))\n",
    "DAY=$((24 * HOUR))"
   ]
  },
  {
   "cell_type": "markdown",
   "id": "c64afaa9-8798-4639-87fb-893f4f060f69",
   "metadata": {},
   "source": [
    "### Create keys and addresses for the parties to the contract\n",
    "\n",
    "A lender and borrower will interact with the contract. In order to submit transactions, each of them needs a wallet with an address and a signing key."
   ]
  },
  {
   "cell_type": "markdown",
   "id": "004bc946-1f33-4cf0-bdb8-bffc9dd70e3a",
   "metadata": {},
   "source": [
    "#### The lender\n",
    "\n",
    "Set the file names for this party's signing key and verification key."
   ]
  },
  {
   "cell_type": "code",
   "execution_count": 3,
   "id": "a1a47db2-b736-4816-ae93-6984a53e13c1",
   "metadata": {},
   "outputs": [],
   "source": [
    "LENDER_SKEY=lender.skey\n",
    "LENDER_VKEY=lender.vkey"
   ]
  },
  {
   "cell_type": "markdown",
   "id": "c1ccc198-e88a-4677-a707-8e4c5702d4ff",
   "metadata": {},
   "source": [
    "Generate the keys if they haven't already been generated."
   ]
  },
  {
   "cell_type": "code",
   "execution_count": 4,
   "id": "c6a028f0-a87d-427d-8541-47d3e0116f72",
   "metadata": {},
   "outputs": [],
   "source": [
    "if [[ ! -e \"$LENDER_SKEY\" ]]\n",
    "then\n",
    "  cardano-cli address key-gen \\\n",
    "    --signing-key-file \"$LENDER_SKEY\" \\\n",
    "    --verification-key-file \"$LENDER_VKEY\"\n",
    "fi"
   ]
  },
  {
   "cell_type": "markdown",
   "id": "15ccd156-b9a8-4f66-b19f-6f2ee98dd73c",
   "metadata": {},
   "source": [
    "Compute the party's address on the testnet."
   ]
  },
  {
   "cell_type": "code",
   "execution_count": 5,
   "id": "ddd224b8-a356-40dd-9beb-cffac2a78f8c",
   "metadata": {},
   "outputs": [
    {
     "name": "stdout",
     "output_type": "stream",
     "text": [
      "LENDER_ADDR = addr_test1vzztyac2krgjn3se4mkan0s5vk4udqnnthaw4tg0tgn78mgnhrkyy\n"
     ]
    }
   ],
   "source": [
    "LENDER_ADDR=$(cardano-cli address build --testnet-magic \"$CARDANO_TESTNET_MAGIC\" --payment-verification-key-file \"$LENDER_VKEY\" )\n",
    "echo \"LENDER_ADDR = $LENDER_ADDR\""
   ]
  },
  {
   "cell_type": "markdown",
   "id": "1b0a765d-e887-479f-8684-0f2c8beb40a6",
   "metadata": {},
   "source": [
    "#### The borrower\n",
    "\n",
    "Set the file names for this party's signing key and verification key."
   ]
  },
  {
   "cell_type": "code",
   "execution_count": 6,
   "id": "89ac7005-6779-45b0-88bb-8cd1c9aec94f",
   "metadata": {},
   "outputs": [],
   "source": [
    "BORROWER_SKEY=borrower.skey\n",
    "BORROWER_VKEY=borrower.vkey"
   ]
  },
  {
   "cell_type": "markdown",
   "id": "970d2575-ee7f-4741-b606-0590c9c59831",
   "metadata": {},
   "source": [
    "Generate the keys if they haven't already been generated."
   ]
  },
  {
   "cell_type": "code",
   "execution_count": 7,
   "id": "f08688a9-8e92-46f9-845d-2628df6322b4",
   "metadata": {},
   "outputs": [],
   "source": [
    "if [[ ! -e \"$BORROWER_SKEY\" ]]\n",
    "then\n",
    "  cardano-cli address key-gen \\\n",
    "    --signing-key-file \"$BORROWER_SKEY\"  \\\n",
    "    --verification-key-file \"$BORROWER_VKEY\"\n",
    "fi"
   ]
  },
  {
   "cell_type": "markdown",
   "id": "4e9b1ba4-53b2-47f2-af8c-54a79a629dd7",
   "metadata": {},
   "source": [
    "Compute the party's address on the testnet."
   ]
  },
  {
   "cell_type": "code",
   "execution_count": 8,
   "id": "eb5d2680-efd7-4332-8f06-52da5093a94a",
   "metadata": {},
   "outputs": [
    {
     "name": "stdout",
     "output_type": "stream",
     "text": [
      "BORROWER_ADDR = addr_test1vryzlnfg9szqzxye7vzzllx5eqsl7u0vas4wnztemha0k5ch2pydf\n"
     ]
    }
   ],
   "source": [
    "BORROWER_ADDR=$(cardano-cli address build --testnet-magic \"$CARDANO_TESTNET_MAGIC\" --payment-verification-key-file \"$BORROWER_VKEY\" )\n",
    "echo \"BORROWER_ADDR = $BORROWER_ADDR\""
   ]
  },
  {
   "cell_type": "markdown",
   "id": "829d0b5a-5eb7-4200-847d-b32657dc38ec",
   "metadata": {},
   "source": [
    "### Fund the parties' wallets\n",
    "\n",
    "If the parties do not already have funds in their wallets, send test ada to them. Here are the faucets for the public testnets: https://docs.cardano.org/cardano-testnet/tools/faucet.\n",
    "\n",
    "It is most convenient to send the funds to Daedalus, and then use Daedalus to fund the three parties. You can download testnet versions of Daedalus at https://docs.cardano.org/cardano-testnet/daedalus-testnet.\n",
    "\n",
    "However, for this example, we'll use a private faucet to send funds to the three addresses."
   ]
  },
  {
   "cell_type": "code",
   "execution_count": 9,
   "id": "87783ed1-96e3-45bb-a250-d796b8fcc448",
   "metadata": {},
   "outputs": [
    {
     "name": "stdout",
     "output_type": "stream",
     "text": [
      "TxId \"500eb161e4bd592518b6d01af91792bb9b639bcc8e4bc2f194d6f7311ffd1ea2\"\n"
     ]
    }
   ],
   "source": [
    "marlowe-cli util fund-address \\\n",
    " --lovelace \"$((100 * ADA))\" \\\n",
    " --out-file /dev/null \\\n",
    " --source-wallet-credentials \"$(cat ../faucet.testnet.address):../faucet.skey\" \\\n",
    " --submit 600 \\\n",
    " \"$LENDER_ADDR\" \"$BORROWER_ADDR\" \"$GUARANTOR_ADDR\""
   ]
  },
  {
   "cell_type": "markdown",
   "id": "d12cadfb-9a3a-4d41-88ae-66c29dd82d41",
   "metadata": {},
   "source": [
    "See that the addresses have indeed been funded:"
   ]
  },
  {
   "cell_type": "code",
   "execution_count": 10,
   "id": "6de1934d-0761-47e4-96ab-cf4105a84774",
   "metadata": {},
   "outputs": [
    {
     "name": "stdout",
     "output_type": "stream",
     "text": [
      "\n",
      "Lender @ addr_test1vzztyac2krgjn3se4mkan0s5vk4udqnnthaw4tg0tgn78mgnhrkyy\n",
      "                           TxHash                                 TxIx        Amount\n",
      "--------------------------------------------------------------------------------------\n",
      "500eb161e4bd592518b6d01af91792bb9b639bcc8e4bc2f194d6f7311ffd1ea2     1        100000000 lovelace + TxOutDatumNone\n",
      "\n",
      "\n",
      "Borrower @ addr_test1vryzlnfg9szqzxye7vzzllx5eqsl7u0vas4wnztemha0k5ch2pydf\n",
      "                           TxHash                                 TxIx        Amount\n",
      "--------------------------------------------------------------------------------------\n",
      "500eb161e4bd592518b6d01af91792bb9b639bcc8e4bc2f194d6f7311ffd1ea2     2        100000000 lovelace + TxOutDatumNone\n",
      "\n"
     ]
    }
   ],
   "source": [
    "echo\n",
    "echo \"Lender @ $LENDER_ADDR\"\n",
    "cardano-cli query utxo --testnet-magic \"$CARDANO_TESTNET_MAGIC\" --address \"$LENDER_ADDR\"\n",
    "echo\n",
    "\n",
    "echo\n",
    "echo \"Borrower @ $BORROWER_ADDR\"\n",
    "cardano-cli query utxo --testnet-magic \"$CARDANO_TESTNET_MAGIC\" --address \"$BORROWER_ADDR\"\n",
    "echo"
   ]
  },
  {
   "cell_type": "markdown",
   "id": "811dd36a-035a-4905-b3b3-aeae85a3c3ed",
   "metadata": {},
   "source": [
    "## Design the Contract\n",
    "\n",
    "The zero-coupon bond contract can be downloaded from the [Marlowe Playground](https://play.marlowe-finance.io/) as a JSON file, or it can be generated using [Marlowe CLI](https://github.com/input-output-hk/marlowe-cardano/tree/main/marlowe-cli#readme) using the `marlowe-cli template` command.\n",
    "\n",
    "Here we generate the contract using Marlowe CLI.\n",
    "\n",
    "First find the current time."
   ]
  },
  {
   "cell_type": "code",
   "execution_count": 11,
   "id": "30ec2929-27e1-4ae7-8ee0-82e710f15b6c",
   "metadata": {},
   "outputs": [
    {
     "name": "stdout",
     "output_type": "stream",
     "text": [
      "NOW = 1676916039000 POSIX milliseconds = Mon Feb 20 11:00:39 AM MST 2023\n"
     ]
    }
   ],
   "source": [
    "NOW=\"$(($(date -u +%s) * SECOND))\"\n",
    "echo \"NOW = $NOW POSIX milliseconds = $(date -d @$((NOW / SECOND)))\""
   ]
  },
  {
   "cell_type": "markdown",
   "id": "c14f87dc-897d-47c7-b138-5e8b158227cc",
   "metadata": {},
   "source": [
    "Set the principal to 80 ada and the interest to 5 ada."
   ]
  },
  {
   "cell_type": "code",
   "execution_count": 12,
   "id": "4c959ebc-7c73-49ef-a1f9-a32771cc9ec9",
   "metadata": {},
   "outputs": [
    {
     "name": "stdout",
     "output_type": "stream",
     "text": [
      "PRINCIPAL = 80000000 lovelace\n",
      "INTEREST = 5000000 lovelace\n"
     ]
    }
   ],
   "source": [
    "PRINCIPAL=$((80 * ADA))\n",
    "INTEREST=$((5 * ADA))\n",
    "echo \"PRINCIPAL = $PRINCIPAL lovelace\"\n",
    "echo \"INTEREST = $INTEREST lovelace\""
   ]
  },
  {
   "cell_type": "markdown",
   "id": "e6cdaf26-c4af-49b0-8538-56b9e7bce5a2",
   "metadata": {},
   "source": [
    "The contract has a lending deadline and a repayment deadline. For convenience in this example, set the deadlines to the near future."
   ]
  },
  {
   "cell_type": "code",
   "execution_count": 13,
   "id": "2ac3ad1d-060f-4ff5-b055-c96011f724a0",
   "metadata": {},
   "outputs": [
    {
     "name": "stdout",
     "output_type": "stream",
     "text": [
      "LENDER_DEADLINE = 1676919639000 POSIX milliseconds = Mon Feb 20 12:00:39 PM MST 2023\n",
      "BORROWER_DEADLINE = 1676926839000 POSIX milliseconds = Mon Feb 20 02:00:39 PM MST 2023\n"
     ]
    }
   ],
   "source": [
    "LENDER_DEADLINE=\"$((NOW + 1 * HOUR))\"\n",
    "BORROWER_DEADLINE=\"$((NOW + 3 * HOUR))\"\n",
    "echo \"LENDER_DEADLINE = $LENDER_DEADLINE POSIX milliseconds = $(date -d @$((LENDER_DEADLINE / SECOND)))\"\n",
    "echo \"BORROWER_DEADLINE = $BORROWER_DEADLINE POSIX milliseconds = $(date -d @$((BORROWER_DEADLINE / SECOND)))\""
   ]
  },
  {
   "cell_type": "markdown",
   "id": "7a2d47dc-3640-4236-a9df-b93d7edac8d8",
   "metadata": {},
   "source": [
    "On the Cardano blockchain, the protocol parameters require that each UTxO contain at least some ada. Here we will start the contract with 2 ada."
   ]
  },
  {
   "cell_type": "code",
   "execution_count": 14,
   "id": "aa229f08-6907-4f7b-b458-5fd18e0b9596",
   "metadata": {},
   "outputs": [
    {
     "name": "stdout",
     "output_type": "stream",
     "text": [
      "MIN_LOVELACE = 2000000 lovelace\n"
     ]
    }
   ],
   "source": [
    "MIN_LOVELACE=\"$((2 * ADA))\"\n",
    "echo \"MIN_LOVELACE = $MIN_LOVELACE lovelace\""
   ]
  },
  {
   "cell_type": "markdown",
   "id": "3454e5f4-eb26-4921-9c12-29dedefebf0f",
   "metadata": {},
   "source": [
    "Now create the JSON file for the contract."
   ]
  },
  {
   "cell_type": "code",
   "execution_count": 15,
   "id": "5b4b87af-265c-4d2c-bfe3-281614311fa8",
   "metadata": {},
   "outputs": [],
   "source": [
    "marlowe-cli template zcb \\\n",
    "  --minimum-ada \"$MIN_LOVELACE\" \\\n",
    "  --lender \"$LENDER_ADDR\" \\\n",
    "  --borrower \"$BORROWER_ADDR\" \\\n",
    "  --principal \"$PRINCIPAL\" \\\n",
    "  --interest \"$INTEREST\" \\\n",
    "  --lending-deadline \"$LENDER_DEADLINE\" \\\n",
    "  --repayment-deadline \"$BORROWER_DEADLINE\" \\\n",
    "  --out-contract-file zcb-contract.json \\\n",
    "  --out-state-file zcb-state.json"
   ]
  },
  {
   "cell_type": "markdown",
   "id": "8f9bb07c-53fc-457a-8719-a3ac85aa71f2",
   "metadata": {},
   "source": [
    "View the contract file as YAML."
   ]
  },
  {
   "cell_type": "code",
   "execution_count": 16,
   "id": "112824a7-635f-4134-b133-a20e63660b35",
   "metadata": {},
   "outputs": [
    {
     "name": "stdout",
     "output_type": "stream",
     "text": [
      "timeout: 1676919639000\n",
      "timeout_continuation: close\n",
      "when:\n",
      "- case:\n",
      "    deposits: 80000000\n",
      "    into_account:\n",
      "      address: addr_test1vzztyac2krgjn3se4mkan0s5vk4udqnnthaw4tg0tgn78mgnhrkyy\n",
      "    of_token:\n",
      "      currency_symbol: ''\n",
      "      token_name: ''\n",
      "    party:\n",
      "      address: addr_test1vzztyac2krgjn3se4mkan0s5vk4udqnnthaw4tg0tgn78mgnhrkyy\n",
      "  then:\n",
      "    from_account:\n",
      "      address: addr_test1vzztyac2krgjn3se4mkan0s5vk4udqnnthaw4tg0tgn78mgnhrkyy\n",
      "    pay: 80000000\n",
      "    then:\n",
      "      timeout: 1676926839000\n",
      "      timeout_continuation: close\n",
      "      when:\n",
      "      - case:\n",
      "          deposits:\n",
      "            add: 80000000\n",
      "            and: 5000000\n",
      "          into_account:\n",
      "            address: addr_test1vryzlnfg9szqzxye7vzzllx5eqsl7u0vas4wnztemha0k5ch2pydf\n",
      "          of_token:\n",
      "            currency_symbol: ''\n",
      "            token_name: ''\n",
      "          party:\n",
      "            address: addr_test1vryzlnfg9szqzxye7vzzllx5eqsl7u0vas4wnztemha0k5ch2pydf\n",
      "        then:\n",
      "          from_account:\n",
      "            address: addr_test1vryzlnfg9szqzxye7vzzllx5eqsl7u0vas4wnztemha0k5ch2pydf\n",
      "          pay:\n",
      "            add: 80000000\n",
      "            and: 5000000\n",
      "          then: close\n",
      "          to:\n",
      "            party:\n",
      "              address: addr_test1vzztyac2krgjn3se4mkan0s5vk4udqnnthaw4tg0tgn78mgnhrkyy\n",
      "          token:\n",
      "            currency_symbol: ''\n",
      "            token_name: ''\n",
      "    to:\n",
      "      party:\n",
      "        address: addr_test1vryzlnfg9szqzxye7vzzllx5eqsl7u0vas4wnztemha0k5ch2pydf\n",
      "    token:\n",
      "      currency_symbol: ''\n",
      "      token_name: ''\n"
     ]
    }
   ],
   "source": [
    "json2yaml zcb-contract.json"
   ]
  },
  {
   "cell_type": "markdown",
   "id": "00f357bf-ebf0-4459-adb9-32c5a1140759",
   "metadata": {},
   "source": [
    "## \\[Optional\\] Check the safety of the contract\n",
    "\n",
    "If we were running the contract on the Cardano `mainnet`, then we\\'d want to check its safety before creating it, so that there is no chance that we might lose funds.\n",
    "\n",
    "Here are the steps for checking the safety of a contract:\n",
    "\n",
    "1. Understand the [Marlowe Language](https://marlowe-finance.io/)\n",
    "2. Understand Cardano\\'s [Extended UTxO Model](https://docs.cardano.org/learn/eutxo-explainer).\n",
    "3. Read and understand the [Marlowe Best Practices Guide](https://github.com/input-output-hk/marlowe-cardano/blob/main/marlowe/best-practices.md).\n",
    "4. Read and understand the [Marlowe Security Guide](https://github.com/input-output-hk/marlowe-cardano/blob/main/marlowe/security.md).\n",
    "5. Use [Marlowe Playground](https://play.marlowe-finance.io/) to flag warnings, perform static analysis, and simulate the contract.\n",
    "6. Use [Marlowe CLI\\'s](https://github.com/input-output-hk/marlowe-cardano/blob/main/marlowe-cli/ReadMe.md) `marlowe-cli run analyze` tool to study whether the contract can run on a Cardano network.\n",
    "7. Run *all execution paths* of the contract on a [Cardano testnet](https://docs.cardano.org/cardano-testnet/overview).\n",
    "\n",
    "Here we\\'ll perform step 6. First we bundle the contract and its initial state into a single file."
   ]
  },
  {
   "cell_type": "code",
   "execution_count": 17,
   "id": "f2c5f0ad-8c56-486a-9107-8abfa61ab68f",
   "metadata": {},
   "outputs": [],
   "source": [
    "marlowe-cli run initialize \\\n",
    "  --permanently-without-staking \\\n",
    "  --contract-file zcb-contract.json \\\n",
    "  --state-file zcb-state.json \\\n",
    "  --out-file zcb-marlowe.json"
   ]
  },
  {
   "cell_type": "markdown",
   "id": "f86ee195-d7a0-4e2e-8cc6-0155112f9c56",
   "metadata": {},
   "source": [
    "Now we analyze the contract and its execution paths."
   ]
  },
  {
   "cell_type": "code",
   "execution_count": 18,
   "id": "bb0789a1-3e56-4e5a-91aa-33417e957c9f",
   "metadata": {},
   "outputs": [
    {
     "name": "stdout",
     "output_type": "stream",
     "text": [
      "Note that path-based analysis ignore the initial state of the contract and instead start with an empty state.\n",
      "Starting search for execution paths . . .\n",
      " . . . found 3 execution paths.\n",
      "- Preconditions:\n",
      "    Duplicate accounts: []\n",
      "    Duplicate bound values: []\n",
      "    Duplicate choices: []\n",
      "    Invalid account parties: []\n",
      "    Invalid account tokens: []\n",
      "    Invalid choice parties: []\n",
      "    Invalid roles currency: false\n",
      "    Non-positive account balances: []\n",
      "- Role names:\n",
      "    Blank role names: false\n",
      "    Invalid role names: []\n",
      "- Tokens:\n",
      "    Invalid tokens: []\n",
      "- Maximum value:\n",
      "    Actual: 88\n",
      "    Invalid: false\n",
      "    Maximum: 5000\n",
      "    Percentage: 1.76\n",
      "    Unit: byte\n",
      "- Minimum UTxO:\n",
      "    Requirement:\n",
      "      lovelace: 1120600\n",
      "- Execution cost:\n",
      "    Memory:\n",
      "      Actual: 5753324\n",
      "      Invalid: false\n",
      "      Maximum: 14000000\n",
      "      Percentage: 41.095171428571426\n",
      "    Steps:\n",
      "      Actual: 1570828622\n",
      "      Invalid: false\n",
      "      Maximum: 10000000000\n",
      "      Percentage: 15.70828622\n",
      "- Transaction size:\n",
      "    Actual: 1630\n",
      "    Invalid: false\n",
      "    Maximum: 16384\n",
      "    Percentage: 9.94873046875\n"
     ]
    }
   ],
   "source": [
    "marlowe-cli run analyze \\\n",
    "  --marlowe-file zcb-marlowe.json"
   ]
  },
  {
   "cell_type": "markdown",
   "id": "2eae4910-05cf-4eca-ad15-be285ee3c782",
   "metadata": {},
   "source": [
    "In the above report, we see that the contract doesn\\'t have any duplicate or invalid values, and it does not exceed any of the blockchain\\'s protocol parameters. In particular, note that our previously chosen `MIN_LOVELACE` value of 2 ada is greater than the 1.120600 ada that the analysis tool says is needed. Thus, it is safe to execute any path in the contract."
   ]
  },
  {
   "cell_type": "markdown",
   "id": "fcbdcc02-7ffe-46a4-8732-10a3e7b93865",
   "metadata": {},
   "source": [
    "## Transaction 1. Create the Contract"
   ]
  },
  {
   "cell_type": "markdown",
   "id": "6fad0f1b-a918-4c56-867e-29600be217f4",
   "metadata": {},
   "source": [
    "Marlowe Runtime\\'s command `marlowe create` will build the creation transaction for a Marlowe contract. We provide it the JSON file containing the contract and tell it the `MIN_LOVELACE` value that we previously chose. Anyone could create the contract, but in this example the lender will be doing so, so we provide their address to fund the transaction and to receive the change from it."
   ]
  },
  {
   "cell_type": "code",
   "execution_count": 19,
   "id": "f8c85b72-afe2-460c-a48a-6e347ace520c",
   "metadata": {},
   "outputs": [
    {
     "name": "stdout",
     "output_type": "stream",
     "text": [
      "CONTRACT_ID = ca7adf79d3bb962931aeccacaa5566968c9c5505168bc33d1d3ed03ebf3f5648#1\n"
     ]
    }
   ],
   "source": [
    "CONTRACT_ID=$(\n",
    "marlowe create \\\n",
    "  --core-file zcb-contract.json \\\n",
    "  --min-utxo \"$MIN_LOVELACE\" \\\n",
    "  --change-address \"$LENDER_ADDR\" \\\n",
    "  --manual-sign tx-1.unsigned \\\n",
    "| jq -r 'fromjson | .contractId' \\\n",
    ")\n",
    "echo \"CONTRACT_ID = $CONTRACT_ID\""
   ]
  },
  {
   "cell_type": "markdown",
   "id": "fb633e68-7177-44ac-a46b-009539093419",
   "metadata": {},
   "source": [
    "The result of building the transaction is the identifier for the contract and the file `tx-1.unsigned`, which contains the Cardano unsigned transaction for creating the contract, in text-envelope format."
   ]
  },
  {
   "cell_type": "code",
   "execution_count": 20,
   "id": "43ddbc79-cc07-45e6-9266-aac7447b7fe3",
   "metadata": {},
   "outputs": [
    {
     "name": "stdout",
     "output_type": "stream",
     "text": [
      "cborHex: 86a70081825820500eb161e4bd592518b6d01af91792bb9b639bcc8e4bc2f194d6f7311ffd1ea2010d81825820500eb161e4bd592518b6d01af91792bb9b639bcc8e4bc2f194d6f7311ffd1ea2010182a200581d6084b2770ab0d129c619aeedd9be1465abc682735dfaeaad0f5a27e3ed011a05d43683a300581d706a9391d6aa51af28dd876ebb5565b69d1e83e5ac7861506bd29b56b0011a001e84800282005820ea4ca38ce2978345fae905244c4bf5e7eb0f0859b8a28b6abd948ba4352e7e6010a200581d6084b2770ab0d129c619aeedd9be1465abc682735dfaeaad0f5a27e3ed011a05f12804111a0004b8fc021a000325fd0b58206592d5c1c7768bb66fc0ef240bc05009fd7d7f700698ef8fb31e88f0094ff7c49fff81d8799fd8799f40ffd8799fa1d8799fd8799fd87980d8799fd8799f581c84b2770ab0d129c619aeedd9be1465abc682735dfaeaad0f5a27e3edffd87a80ffffd8799f4040ffff1a001e8480a0a000ffd87c9f9fd8799fd8799fd8799fd87980d8799fd8799f581c84b2770ab0d129c619aeedd9be1465abc682735dfaeaad0f5a27e3edffd87a80ffffd8799fd87980d8799fd8799f581c84b2770ab0d129c619aeedd9be1465abc682735dfaeaad0f5a27e3edffd87a80ffffd8799f4040ffd87a9f1a04c4b400ffffd87a9fd8799fd87980d8799fd8799f581c84b2770ab0d129c619aeedd9be1465abc682735dfaeaad0f5a27e3edffd87a80ffffd87a9fd8799fd87980d8799fd8799f581cc82fcd282c04011899f3042ffcd4c821ff71ecec2ae98979ddfafb53ffd87a80ffffffd8799f4040ffd87a9f1a04c4b400ffd87c9f9fd8799fd8799fd8799fd87980d8799fd8799f581cc82fcd282c04011899f3042ffcd4c821ff71ecec2ae98979ddfafb53ffd87a80ffffd8799fd87980d8799fd8799f581cc82fcd282c04011899f3042ffcd4c821ff71ecec2ae98979ddfafb53ffd87a80ffffd8799f4040ffd87c9fd87a9f1a04c4b400ffd87a9f1a004c4b40ffffffd87a9fd8799fd87980d8799fd8799f581cc82fcd282c04011899f3042ffcd4c821ff71ecec2ae98979ddfafb53ffd87a80ffffd87a9fd8799fd87980d8799fd8799f581c84b2770ab0d129c619aeedd9be1465abc682735dfaeaad0f5a27e3edffd87a80ffffffd8799f4040ffd87c9fd87a9f1a04c4b400ffd87a9f1a004c4b40ffffd87980ffffff1b0000018670a0e8d8d87980ffffffff1b0000018670330bd8d87980ffff80f5f6\n",
      "description: ''\n",
      "type: TxBodyBabbage\n"
     ]
    }
   ],
   "source": [
    "json2yaml tx-1.unsigned"
   ]
  },
  {
   "cell_type": "markdown",
   "id": "1f0d00de-4fd7-41bd-a933-170de9ef2688",
   "metadata": {},
   "source": [
    "There are many ways to sign and submit Cardano transactions:\n",
    "- `cardano-cli` at the command line\n",
    "- `cardano-wallet` at the command line or as a REST service\n",
    "- `cardano-hw-cli` for a hardware wallet at the command line\n",
    "- a Babbage-compatible CIP-30 wallet in a web browser\n",
    "- `marlowe-cli` at the command line\n",
    "\n",
    "For convenience, here we use `marlowe-cli transaction submit`. One may have to wait a minute or so for the transactions to be confirmed on the blockchain."
   ]
  },
  {
   "cell_type": "code",
   "execution_count": 21,
   "id": "ae1f6a5f-b4f7-452f-9d1b-f0545135deb5",
   "metadata": {},
   "outputs": [
    {
     "name": "stdout",
     "output_type": "stream",
     "text": [
      "TX_1 = ca7adf79d3bb962931aeccacaa5566968c9c5505168bc33d1d3ed03ebf3f5648\n"
     ]
    }
   ],
   "source": [
    "TX_1_=$(\n",
    "marlowe-cli transaction submit \\\n",
    "  --tx-body-file tx-1.unsigned \\\n",
    "  --required-signer \"$LENDER_SKEY\" \\\n",
    "  --timeout 600 \\\n",
    "| sed -e 's/^TxId \"\\(.*\\)\"$/\\1/' \\\n",
    ")\n",
    "echo \"TX_1 = $TX_1\""
   ]
  },
  {
   "cell_type": "markdown",
   "id": "aa349a31-4e44-42c9-8c3d-e910f195325d",
   "metadata": {},
   "source": [
    "One can view the transaction on a Cardano explorer."
   ]
  },
  {
   "cell_type": "code",
   "execution_count": 22,
   "id": "72115506-5bfd-480f-b3f0-47520dca84c1",
   "metadata": {},
   "outputs": [
    {
     "name": "stdout",
     "output_type": "stream",
     "text": [
      "https://preprod.cardanoscan.io/transaction/ca7adf79d3bb962931aeccacaa5566968c9c5505168bc33d1d3ed03ebf3f5648?tab=utxo\n"
     ]
    }
   ],
   "source": [
    "echo \"https://preprod.cardanoscan.io/transaction/$TX_1?tab=utxo\""
   ]
  },
  {
   "cell_type": "markdown",
   "id": "c42fef94-fbf9-4208-90c3-3f93a2eb5290",
   "metadata": {},
   "source": [
    "## View the details of the contract on the blockchain\n",
    "\n",
    "Marlowe Runtime\\'s command `marlowe log` can fetch a contract from the blockchain and print information about it."
   ]
  },
  {
   "cell_type": "code",
   "execution_count": 23,
   "id": "a753938c-92bb-43aa-bb13-d09a112939c6",
   "metadata": {},
   "outputs": [
    {
     "name": "stdout",
     "output_type": "stream",
     "text": [
      "\u001b[93mtransaction ca7adf79d3bb962931aeccacaa5566968c9c5505168bc33d1d3ed03ebf3f5648 (creation)\n",
      "\u001b[0mContractId:      ca7adf79d3bb962931aeccacaa5566968c9c5505168bc33d1d3ed03ebf3f5648#1\n",
      "SlotNo:          21234813\n",
      "BlockNo:         650468\n",
      "BlockId:         54db65b31bfe0f1c7dd33aab569a0ea8c30e63e79aae6062ca9e52b2075bad48\n",
      "ScriptAddress:   addr_test1wp4f8ywk4fg672xasahtk4t9k6w3aql943uxz5rt62d4dvqu3c6jv\n",
      "Marlowe Version: 1\n",
      "\n",
      "    When [\n",
      "      (Case\n",
      "         (Deposit (Address \"addr_test1vzztyac2krgjn3se4mkan0s5vk4udqnnthaw4tg0tgn78mgnhrkyy\") (Address \"addr_test1vzztyac2krgjn3se4mkan0s5vk4udqnnthaw4tg0tgn78mgnhrkyy\")\n",
      "            (Token \"\" \"\")\n",
      "            (Constant 80000000))\n",
      "         (Pay (Address \"addr_test1vzztyac2krgjn3se4mkan0s5vk4udqnnthaw4tg0tgn78mgnhrkyy\")\n",
      "            (Party (Address \"addr_test1vryzlnfg9szqzxye7vzzllx5eqsl7u0vas4wnztemha0k5ch2pydf\"))\n",
      "            (Token \"\" \"\")\n",
      "            (Constant 80000000)\n",
      "            (When [\n",
      "               (Case\n",
      "                  (Deposit (Address \"addr_test1vryzlnfg9szqzxye7vzzllx5eqsl7u0vas4wnztemha0k5ch2pydf\") (Address \"addr_test1vryzlnfg9szqzxye7vzzllx5eqsl7u0vas4wnztemha0k5ch2pydf\")\n",
      "                     (Token \"\" \"\")\n",
      "                     (AddValue\n",
      "                        (Constant 80000000)\n",
      "                        (Constant 5000000)))\n",
      "                  (Pay (Address \"addr_test1vryzlnfg9szqzxye7vzzllx5eqsl7u0vas4wnztemha0k5ch2pydf\")\n",
      "                     (Party (Address \"addr_test1vzztyac2krgjn3se4mkan0s5vk4udqnnthaw4tg0tgn78mgnhrkyy\"))\n",
      "                     (Token \"\" \"\")\n",
      "                     (AddValue\n",
      "                        (Constant 80000000)\n",
      "                        (Constant 5000000)) Close))] 1676926839000 Close)))] 1676919639000 Close\n",
      "\n"
     ]
    }
   ],
   "source": [
    "marlowe log --show-contract \"$CONTRACT_ID\""
   ]
  },
  {
   "cell_type": "markdown",
   "id": "d44441bd-5679-498a-a4f0-156b7087a2b9",
   "metadata": {},
   "source": [
    "More detail can be retrieved using `marlowe-pipe`."
   ]
  },
  {
   "cell_type": "code",
   "execution_count": 24,
   "id": "2ea93a41-ad4a-4040-842a-6c2eec4ba4ae",
   "metadata": {},
   "outputs": [
    {
     "name": "stdout",
     "output_type": "stream",
     "text": [
      "creation:\n",
      "  output:\n",
      "    address: 706a9391d6aa51af28dd876ebb5565b69d1e83e5ac7861506bd29b56b0\n",
      "    assets:\n",
      "      ada: 2000000\n",
      "      tokens: []\n",
      "    datum:\n",
      "      marloweContract:\n",
      "        timeout: 1676919639000\n",
      "        timeout_continuation: close\n",
      "        when:\n",
      "        - case:\n",
      "            deposits: 80000000\n",
      "            into_account:\n",
      "              address: addr_test1vzztyac2krgjn3se4mkan0s5vk4udqnnthaw4tg0tgn78mgnhrkyy\n",
      "            of_token:\n",
      "              currency_symbol: ''\n",
      "              token_name: ''\n",
      "            party:\n",
      "              address: addr_test1vzztyac2krgjn3se4mkan0s5vk4udqnnthaw4tg0tgn78mgnhrkyy\n",
      "          then:\n",
      "            from_account:\n",
      "              address: addr_test1vzztyac2krgjn3se4mkan0s5vk4udqnnthaw4tg0tgn78mgnhrkyy\n",
      "            pay: 80000000\n",
      "            then:\n",
      "              timeout: 1676926839000\n",
      "              timeout_continuation: close\n",
      "              when:\n",
      "              - case:\n",
      "                  deposits:\n",
      "                    add: 80000000\n",
      "                    and: 5000000\n",
      "                  into_account:\n",
      "                    address: addr_test1vryzlnfg9szqzxye7vzzllx5eqsl7u0vas4wnztemha0k5ch2pydf\n",
      "                  of_token:\n",
      "                    currency_symbol: ''\n",
      "                    token_name: ''\n",
      "                  party:\n",
      "                    address: addr_test1vryzlnfg9szqzxye7vzzllx5eqsl7u0vas4wnztemha0k5ch2pydf\n",
      "                then:\n",
      "                  from_account:\n",
      "                    address: addr_test1vryzlnfg9szqzxye7vzzllx5eqsl7u0vas4wnztemha0k5ch2pydf\n",
      "                  pay:\n",
      "                    add: 80000000\n",
      "                    and: 5000000\n",
      "                  then: close\n",
      "                  to:\n",
      "                    party:\n",
      "                      address: addr_test1vzztyac2krgjn3se4mkan0s5vk4udqnnthaw4tg0tgn78mgnhrkyy\n",
      "                  token:\n",
      "                    currency_symbol: ''\n",
      "                    token_name: ''\n",
      "            to:\n",
      "              party:\n",
      "                address: addr_test1vryzlnfg9szqzxye7vzzllx5eqsl7u0vas4wnztemha0k5ch2pydf\n",
      "            token:\n",
      "              currency_symbol: ''\n",
      "              token_name: ''\n",
      "      marloweParams:\n",
      "        rolesCurrency: ''\n",
      "      marloweState:\n",
      "        accounts:\n",
      "        - - - address: addr_test1vzztyac2krgjn3se4mkan0s5vk4udqnnthaw4tg0tgn78mgnhrkyy\n",
      "            - currency_symbol: ''\n",
      "              token_name: ''\n",
      "          - 2000000\n",
      "        boundValues: []\n",
      "        choices: []\n",
      "        minTime: 0\n",
      "    utxo:\n",
      "      txId: ca7adf79d3bb962931aeccacaa5566968c9c5505168bc33d1d3ed03ebf3f5648\n",
      "      txIx: 1\n",
      "  payoutValidatorHash: 49076eab20243dc9462511fb98a9cfb719f86e9692288139b7c91df3\n",
      "response: info\n",
      "steps: []\n"
     ]
    }
   ],
   "source": [
    "echo '{\"request\" : \"get\", \"contractId\" : \"'\"$CONTRACT_ID\"'\"}' | marlowe-pipe 2> /dev/null | json2yaml"
   ]
  },
  {
   "cell_type": "markdown",
   "id": "cd4fa3da-0f75-4b96-a911-0ba5bea722f8",
   "metadata": {},
   "source": [
    "## Transaction 2. The lender deposits the principal\n",
    "\n",
    "The lender deposits their 80 ada of principal into the contract using Marlowe Runtime\\'s `marlowe deposit` command. The lender is providing the funding for and receiving the change from this transaction, so we provide their address. We provide the contract identifier and save the unsigned transaction in the file `tx-2.unsigned`."
   ]
  },
  {
   "cell_type": "code",
   "execution_count": 25,
   "id": "96e0b7b9-4816-46d3-ad2c-580dd7547b07",
   "metadata": {},
   "outputs": [
    {
     "name": "stdout",
     "output_type": "stream",
     "text": [
      "TX_2 = 3765960b657280738819afc0b3156a1861124a11efc36485a0d280efe8b473d8\n"
     ]
    }
   ],
   "source": [
    "TX_2=$(\n",
    "marlowe deposit \\\n",
    "  --contract \"$CONTRACT_ID\" \\\n",
    "  --from-party \"$LENDER_ADDR\" \\\n",
    "  --to-party \"$LENDER_ADDR\" \\\n",
    "  --lovelace \"$PRINCIPAL\" \\\n",
    "  --change-address \"$LENDER_ADDR\" \\\n",
    "  --manual-sign tx-2.unsigned \\\n",
    "| jq -r 'fromjson | .txId' \\\n",
    ")\n",
    "echo \"TX_2 = $TX_2\""
   ]
  },
  {
   "cell_type": "markdown",
   "id": "d888ede9-b756-4ab4-bd8a-f9090870d8ca",
   "metadata": {},
   "source": [
    "Note that if the transaction would violate the logic of the Marlowe contract, one would receive an error message. For example, let\\'s say that we deposit the incorrect amount or deposit it to the wrong party\\'s internal account."
   ]
  },
  {
   "cell_type": "code",
   "execution_count": 26,
   "id": "28c51136-8e5a-483b-891a-e9345f1a6be5",
   "metadata": {},
   "outputs": [
    {
     "name": "stdout",
     "output_type": "stream",
     "text": [
      "ApplyFailed (ApplyInputsConstraintsBuildupFailed (MarloweComputeTransactionFailed \"TEApplyNoMatchError\"))\n"
     ]
    },
    {
     "ename": "",
     "evalue": "1",
     "output_type": "error",
     "traceback": []
    }
   ],
   "source": [
    "marlowe deposit \\\n",
    "  --contract \"$CONTRACT_ID\" \\\n",
    "  --from-party \"$LENDER_ADDR\" \\\n",
    "  --to-party \"$LENDER_ADDR\" \\\n",
    "  --lovelace 80 \\\n",
    "  --change-address \"$LENDER_ADDR\" \\\n",
    "  --manual-sign /dev/null"
   ]
  },
  {
   "cell_type": "code",
   "execution_count": 27,
   "id": "ab45188c-ab07-4918-96f2-79da42ab92f8",
   "metadata": {},
   "outputs": [
    {
     "name": "stdout",
     "output_type": "stream",
     "text": [
      "ApplyFailed (ApplyInputsConstraintsBuildupFailed (MarloweComputeTransactionFailed \"TEApplyNoMatchError\"))\n"
     ]
    },
    {
     "ename": "",
     "evalue": "1",
     "output_type": "error",
     "traceback": []
    }
   ],
   "source": [
    "marlowe deposit \\\n",
    "  --contract \"$CONTRACT_ID\" \\\n",
    "  --from-party \"$LENDER_ADDR\" \\\n",
    "  --to-party \"$BORROWER_ADDR\" \\\n",
    "  --lovelace \"$PRINCIPAL\"\\\n",
    "  --change-address \"$LENDER_ADDR\" \\\n",
    "  --manual-sign /dev/null"
   ]
  },
  {
   "cell_type": "markdown",
   "id": "a75dc0f2-9be5-4f3c-bce4-ec902063967d",
   "metadata": {},
   "source": [
    "The [Marlowe Debugging Cookbook](https://github.com/input-output-hk/marlowe-cardano/blob/main/marlowe/debugging-cookbook.md) guides interpretation of error messages. Also, one can determine the possible actions for the contract at its current stage of execution by studing the contract\\'s current state or by using Marlowe playground to simulate the contract.\n",
    "\n",
    "![Simulation of zero-coupon bond contract in Marlowe Playground](zcb-simulation.png)"
   ]
  },
  {
   "cell_type": "markdown",
   "id": "877807a1-7e62-4258-8d3c-b82664821dc9",
   "metadata": {},
   "source": [
    "Once again, use `marlowe-cli` to submit the transaction and then wait for confirmation."
   ]
  },
  {
   "cell_type": "code",
   "execution_count": 28,
   "id": "bb1b0e65-3cf7-42e1-9495-ce45007e331a",
   "metadata": {},
   "outputs": [
    {
     "name": "stdout",
     "output_type": "stream",
     "text": [
      "TxId \"3765960b657280738819afc0b3156a1861124a11efc36485a0d280efe8b473d8\"\n"
     ]
    }
   ],
   "source": [
    "marlowe-cli transaction submit \\\n",
    "  --tx-body-file tx-2.unsigned \\\n",
    "  --required-signer \"$LENDER_SKEY\" \\\n",
    "  --timeout 600"
   ]
  },
  {
   "cell_type": "markdown",
   "id": "eed6b35f-7aa9-4266-98d2-ac7320ccaf69",
   "metadata": {},
   "source": [
    "One can view the transaction on a Cardano explorer."
   ]
  },
  {
   "cell_type": "code",
   "execution_count": 29,
   "id": "bb813544-092a-4831-bff5-5ea7ce8a9259",
   "metadata": {},
   "outputs": [
    {
     "name": "stdout",
     "output_type": "stream",
     "text": [
      "https://preprod.cardanoscan.io/transaction/3765960b657280738819afc0b3156a1861124a11efc36485a0d280efe8b473d8?tab=utxo\n"
     ]
    }
   ],
   "source": [
    "echo \"https://preprod.cardanoscan.io/transaction/$TX_2?tab=utxo\""
   ]
  },
  {
   "cell_type": "markdown",
   "id": "44cd316b-d4db-4d2b-87a7-eb38b95f5fb3",
   "metadata": {},
   "source": [
    "One can see that the lender has 17 ada instead of 100 ada. Two ada were deposited in the contract when it was created and 80 ada were paid to the borrower in the second transaction."
   ]
  },
  {
   "cell_type": "code",
   "execution_count": 30,
   "id": "b45dc15d-f54f-49cb-a36d-0524f47fd70e",
   "metadata": {},
   "outputs": [
    {
     "name": "stdout",
     "output_type": "stream",
     "text": [
      "                           TxHash                                 TxIx        Amount\n",
      "--------------------------------------------------------------------------------------\n",
      "3765960b657280738819afc0b3156a1861124a11efc36485a0d280efe8b473d8     0        17090077 lovelace + TxOutDatumNone\n"
     ]
    }
   ],
   "source": [
    "cardano-cli query utxo --testnet-magic \"$CARDANO_TESTNET_MAGIC\" --address \"$LENDER_ADDR\""
   ]
  },
  {
   "cell_type": "markdown",
   "id": "8538b320-c3d6-45cb-88f7-aab77f77b78b",
   "metadata": {},
   "source": [
    "The borrower has the 80 ada of principal now."
   ]
  },
  {
   "cell_type": "code",
   "execution_count": 31,
   "id": "304baf28-2a07-4ca7-8576-c10c8a960fcd",
   "metadata": {},
   "outputs": [
    {
     "name": "stdout",
     "output_type": "stream",
     "text": [
      "                           TxHash                                 TxIx        Amount\n",
      "--------------------------------------------------------------------------------------\n",
      "3765960b657280738819afc0b3156a1861124a11efc36485a0d280efe8b473d8     2        80000000 lovelace + TxOutDatumNone\n",
      "500eb161e4bd592518b6d01af91792bb9b639bcc8e4bc2f194d6f7311ffd1ea2     2        100000000 lovelace + TxOutDatumNone\n"
     ]
    }
   ],
   "source": [
    "cardano-cli query utxo --testnet-magic \"$CARDANO_TESTNET_MAGIC\" --address \"$BORROWER_ADDR\""
   ]
  },
  {
   "cell_type": "markdown",
   "id": "369f3945-299b-41dd-9cbf-f3864002b6aa",
   "metadata": {},
   "source": [
    "The Marlowe contract still has the 2 ada from its creation."
   ]
  },
  {
   "cell_type": "code",
   "execution_count": 32,
   "id": "6485d605-dec4-4bab-86f6-81bf002041ed",
   "metadata": {},
   "outputs": [
    {
     "name": "stdout",
     "output_type": "stream",
     "text": [
      "                           TxHash                                 TxIx        Amount\n",
      "--------------------------------------------------------------------------------------\n",
      "3765960b657280738819afc0b3156a1861124a11efc36485a0d280efe8b473d8     1        2000000 lovelace + TxOutDatumHash ScriptDataInBabbageEra \"b72fe7d1e397e9f945e12d543f98193d632d3bcd200cf3d51feca9864c406de3\"\n"
     ]
    }
   ],
   "source": [
    "cardano-cli query utxo --testnet-magic \"$CARDANO_TESTNET_MAGIC\" --tx-in \"$TX_2#1\""
   ]
  },
  {
   "cell_type": "markdown",
   "id": "3eb0d02e-c30c-4845-86b5-602c2279b518",
   "metadata": {},
   "source": [
    "## View the further progress of the contract on the blockchain\n",
    "\n",
    "Marlowe Runtime\\'s command `marlowe log` can fetch a contract from the blockchain and print information about it."
   ]
  },
  {
   "cell_type": "code",
   "execution_count": 33,
   "id": "e0461725-7f2b-4256-ac83-8e681ecb3e35",
   "metadata": {},
   "outputs": [
    {
     "name": "stdout",
     "output_type": "stream",
     "text": [
      "\u001b[93mtransaction ca7adf79d3bb962931aeccacaa5566968c9c5505168bc33d1d3ed03ebf3f5648 (creation)\n",
      "\u001b[0mContractId:      ca7adf79d3bb962931aeccacaa5566968c9c5505168bc33d1d3ed03ebf3f5648#1\n",
      "SlotNo:          21234813\n",
      "BlockNo:         650468\n",
      "BlockId:         54db65b31bfe0f1c7dd33aab569a0ea8c30e63e79aae6062ca9e52b2075bad48\n",
      "ScriptAddress:   addr_test1wp4f8ywk4fg672xasahtk4t9k6w3aql943uxz5rt62d4dvqu3c6jv\n",
      "Marlowe Version: 1\n",
      "\n",
      "    When [\n",
      "      (Case\n",
      "         (Deposit (Address \"addr_test1vzztyac2krgjn3se4mkan0s5vk4udqnnthaw4tg0tgn78mgnhrkyy\") (Address \"addr_test1vzztyac2krgjn3se4mkan0s5vk4udqnnthaw4tg0tgn78mgnhrkyy\")\n",
      "            (Token \"\" \"\")\n",
      "            (Constant 80000000))\n",
      "         (Pay (Address \"addr_test1vzztyac2krgjn3se4mkan0s5vk4udqnnthaw4tg0tgn78mgnhrkyy\")\n",
      "            (Party (Address \"addr_test1vryzlnfg9szqzxye7vzzllx5eqsl7u0vas4wnztemha0k5ch2pydf\"))\n",
      "            (Token \"\" \"\")\n",
      "            (Constant 80000000)\n",
      "            (When [\n",
      "               (Case\n",
      "                  (Deposit (Address \"addr_test1vryzlnfg9szqzxye7vzzllx5eqsl7u0vas4wnztemha0k5ch2pydf\") (Address \"addr_test1vryzlnfg9szqzxye7vzzllx5eqsl7u0vas4wnztemha0k5ch2pydf\")\n",
      "                     (Token \"\" \"\")\n",
      "                     (AddValue\n",
      "                        (Constant 80000000)\n",
      "                        (Constant 5000000)))\n",
      "                  (Pay (Address \"addr_test1vryzlnfg9szqzxye7vzzllx5eqsl7u0vas4wnztemha0k5ch2pydf\")\n",
      "                     (Party (Address \"addr_test1vzztyac2krgjn3se4mkan0s5vk4udqnnthaw4tg0tgn78mgnhrkyy\"))\n",
      "                     (Token \"\" \"\")\n",
      "                     (AddValue\n",
      "                        (Constant 80000000)\n",
      "                        (Constant 5000000)) Close))] 1676926839000 Close)))] 1676919639000 Close\n",
      "\n",
      "\u001b[93mtransaction 3765960b657280738819afc0b3156a1861124a11efc36485a0d280efe8b473d8\n",
      "\u001b[0mContractId: ca7adf79d3bb962931aeccacaa5566968c9c5505168bc33d1d3ed03ebf3f5648#1\n",
      "SlotNo:     21236075\n",
      "BlockNo:    650509\n",
      "BlockId:    503abb3f6fae36ee4f2561b8119aeda9eed2b1f42c6e0b90a8e9f460949855a2\n",
      "Inputs:     [NormalInput (IDeposit \"\\\"addr_test1vzztyac2krgjn3se4mkan0s5vk4udqnnthaw4tg0tgn78mgnhrkyy\\\"\" \"\\\"addr_test1vzztyac2krgjn3se4mkan0s5vk4udqnnthaw4tg0tgn78mgnhrkyy\\\"\" (Token \"\" \"\") 80000000)]\n",
      "\n",
      "    When [\n",
      "      (Case\n",
      "         (Deposit (Address \"addr_test1vryzlnfg9szqzxye7vzzllx5eqsl7u0vas4wnztemha0k5ch2pydf\") (Address \"addr_test1vryzlnfg9szqzxye7vzzllx5eqsl7u0vas4wnztemha0k5ch2pydf\")\n",
      "            (Token \"\" \"\")\n",
      "            (AddValue\n",
      "               (Constant 80000000)\n",
      "               (Constant 5000000)))\n",
      "         (Pay (Address \"addr_test1vryzlnfg9szqzxye7vzzllx5eqsl7u0vas4wnztemha0k5ch2pydf\")\n",
      "            (Party (Address \"addr_test1vzztyac2krgjn3se4mkan0s5vk4udqnnthaw4tg0tgn78mgnhrkyy\"))\n",
      "            (Token \"\" \"\")\n",
      "            (AddValue\n",
      "               (Constant 80000000)\n",
      "               (Constant 5000000)) Close))] 1676926839000 Close\n",
      "\n"
     ]
    }
   ],
   "source": [
    "marlowe log --show-contract \"$CONTRACT_ID\""
   ]
  },
  {
   "cell_type": "markdown",
   "id": "488eb566-c1d7-49a5-91bd-09922aa8493c",
   "metadata": {},
   "source": [
    "More detail can be retrieved using `marlowe-pipe`."
   ]
  },
  {
   "cell_type": "code",
   "execution_count": 34,
   "id": "d373efd1-9947-4ce9-837e-ba0796d89146",
   "metadata": {},
   "outputs": [
    {
     "name": "stdout",
     "output_type": "stream",
     "text": [
      "creation:\n",
      "  output:\n",
      "    address: 706a9391d6aa51af28dd876ebb5565b69d1e83e5ac7861506bd29b56b0\n",
      "    assets:\n",
      "      ada: 2000000\n",
      "      tokens: []\n",
      "    datum:\n",
      "      marloweContract:\n",
      "        timeout: 1676919639000\n",
      "        timeout_continuation: close\n",
      "        when:\n",
      "        - case:\n",
      "            deposits: 80000000\n",
      "            into_account:\n",
      "              address: addr_test1vzztyac2krgjn3se4mkan0s5vk4udqnnthaw4tg0tgn78mgnhrkyy\n",
      "            of_token:\n",
      "              currency_symbol: ''\n",
      "              token_name: ''\n",
      "            party:\n",
      "              address: addr_test1vzztyac2krgjn3se4mkan0s5vk4udqnnthaw4tg0tgn78mgnhrkyy\n",
      "          then:\n",
      "            from_account:\n",
      "              address: addr_test1vzztyac2krgjn3se4mkan0s5vk4udqnnthaw4tg0tgn78mgnhrkyy\n",
      "            pay: 80000000\n",
      "            then:\n",
      "              timeout: 1676926839000\n",
      "              timeout_continuation: close\n",
      "              when:\n",
      "              - case:\n",
      "                  deposits:\n",
      "                    add: 80000000\n",
      "                    and: 5000000\n",
      "                  into_account:\n",
      "                    address: addr_test1vryzlnfg9szqzxye7vzzllx5eqsl7u0vas4wnztemha0k5ch2pydf\n",
      "                  of_token:\n",
      "                    currency_symbol: ''\n",
      "                    token_name: ''\n",
      "                  party:\n",
      "                    address: addr_test1vryzlnfg9szqzxye7vzzllx5eqsl7u0vas4wnztemha0k5ch2pydf\n",
      "                then:\n",
      "                  from_account:\n",
      "                    address: addr_test1vryzlnfg9szqzxye7vzzllx5eqsl7u0vas4wnztemha0k5ch2pydf\n",
      "                  pay:\n",
      "                    add: 80000000\n",
      "                    and: 5000000\n",
      "                  then: close\n",
      "                  to:\n",
      "                    party:\n",
      "                      address: addr_test1vzztyac2krgjn3se4mkan0s5vk4udqnnthaw4tg0tgn78mgnhrkyy\n",
      "                  token:\n",
      "                    currency_symbol: ''\n",
      "                    token_name: ''\n",
      "            to:\n",
      "              party:\n",
      "                address: addr_test1vryzlnfg9szqzxye7vzzllx5eqsl7u0vas4wnztemha0k5ch2pydf\n",
      "            token:\n",
      "              currency_symbol: ''\n",
      "              token_name: ''\n",
      "      marloweParams:\n",
      "        rolesCurrency: ''\n",
      "      marloweState:\n",
      "        accounts:\n",
      "        - - - address: addr_test1vzztyac2krgjn3se4mkan0s5vk4udqnnthaw4tg0tgn78mgnhrkyy\n",
      "            - currency_symbol: ''\n",
      "              token_name: ''\n",
      "          - 2000000\n",
      "        boundValues: []\n",
      "        choices: []\n",
      "        minTime: 0\n",
      "    utxo:\n",
      "      txId: ca7adf79d3bb962931aeccacaa5566968c9c5505168bc33d1d3ed03ebf3f5648\n",
      "      txIx: 1\n",
      "  payoutValidatorHash: 49076eab20243dc9462511fb98a9cfb719f86e9692288139b7c91df3\n",
      "response: info\n",
      "steps:\n",
      "- contractId: ca7adf79d3bb962931aeccacaa5566968c9c5505168bc33d1d3ed03ebf3f5648#1\n",
      "  payouts: []\n",
      "  redeemer:\n",
      "  - input_from_party:\n",
      "      address: addr_test1vzztyac2krgjn3se4mkan0s5vk4udqnnthaw4tg0tgn78mgnhrkyy\n",
      "    into_account:\n",
      "      address: addr_test1vzztyac2krgjn3se4mkan0s5vk4udqnnthaw4tg0tgn78mgnhrkyy\n",
      "    of_token:\n",
      "      currency_symbol: ''\n",
      "      token_name: ''\n",
      "    that_deposits: 80000000\n",
      "  scriptOutput:\n",
      "    address: 706a9391d6aa51af28dd876ebb5565b69d1e83e5ac7861506bd29b56b0\n",
      "    assets:\n",
      "      ada: 2000000\n",
      "      tokens: []\n",
      "    datum:\n",
      "      marloweContract:\n",
      "        timeout: 1676926839000\n",
      "        timeout_continuation: close\n",
      "        when:\n",
      "        - case:\n",
      "            deposits:\n",
      "              add: 80000000\n",
      "              and: 5000000\n",
      "            into_account:\n",
      "              address: addr_test1vryzlnfg9szqzxye7vzzllx5eqsl7u0vas4wnztemha0k5ch2pydf\n",
      "            of_token:\n",
      "              currency_symbol: ''\n",
      "              token_name: ''\n",
      "            party:\n",
      "              address: addr_test1vryzlnfg9szqzxye7vzzllx5eqsl7u0vas4wnztemha0k5ch2pydf\n",
      "          then:\n",
      "            from_account:\n",
      "              address: addr_test1vryzlnfg9szqzxye7vzzllx5eqsl7u0vas4wnztemha0k5ch2pydf\n",
      "            pay:\n",
      "              add: 80000000\n",
      "              and: 5000000\n",
      "            then: close\n",
      "            to:\n",
      "              party:\n",
      "                address: addr_test1vzztyac2krgjn3se4mkan0s5vk4udqnnthaw4tg0tgn78mgnhrkyy\n",
      "            token:\n",
      "              currency_symbol: ''\n",
      "              token_name: ''\n",
      "      marloweParams:\n",
      "        rolesCurrency: ''\n",
      "      marloweState:\n",
      "        accounts:\n",
      "        - - - address: addr_test1vzztyac2krgjn3se4mkan0s5vk4udqnnthaw4tg0tgn78mgnhrkyy\n",
      "            - currency_symbol: ''\n",
      "              token_name: ''\n",
      "          - 2000000\n",
      "        boundValues: []\n",
      "        choices: []\n",
      "        minTime: 1676919240000\n",
      "    utxo:\n",
      "      txId: 3765960b657280738819afc0b3156a1861124a11efc36485a0d280efe8b473d8\n",
      "      txIx: 1\n",
      "  step: apply\n",
      "  txId: 3765960b657280738819afc0b3156a1861124a11efc36485a0d280efe8b473d8\n"
     ]
    }
   ],
   "source": [
    "echo '{\"request\" : \"get\", \"contractId\" : \"'\"$CONTRACT_ID\"'\"}' | marlowe-pipe 2> /dev/null | json2yaml"
   ]
  },
  {
   "cell_type": "markdown",
   "id": "e7c652f6-02da-4786-a54d-755d59e4aba9",
   "metadata": {},
   "source": [
    "## Transaction 3. The borrower repays the loan\n",
    "\n",
    "After some time passes, the borrower repays principal plus interest. Thus, they fund the transaction and receive the change at their address."
   ]
  },
  {
   "cell_type": "code",
   "execution_count": 35,
   "id": "9756dcb3-a357-4b7d-b132-9c85105f0387",
   "metadata": {},
   "outputs": [
    {
     "name": "stdout",
     "output_type": "stream",
     "text": [
      "TX_3 = 30b58c5cd0cb52ba16139a3f4026970b5da0c820d13e7b36e68628f33a529580\n"
     ]
    }
   ],
   "source": [
    "TX_3=$(\n",
    "marlowe deposit \\\n",
    "  --contract \"$CONTRACT_ID\" \\\n",
    "  --from-party \"$BORROWER_ADDR\" \\\n",
    "  --to-party \"$BORROWER_ADDR\" \\\n",
    "  --lovelace \"$((PRINCIPAL+INTEREST))\" \\\n",
    "  --change-address \"$BORROWER_ADDR\" \\\n",
    "  --manual-sign tx-3.unsigned \\\n",
    "| jq -r 'fromjson | .txId' \\\n",
    ")\n",
    "echo \"TX_3 = $TX_3\""
   ]
  },
  {
   "cell_type": "markdown",
   "id": "ccdcc822-ba62-41cb-bde1-55bfc661ce16",
   "metadata": {},
   "source": [
    "Once again, use `marlowe-cli` to submit the transaction and then wait for confirmation."
   ]
  },
  {
   "cell_type": "code",
   "execution_count": 36,
   "id": "5fa86263-3fde-4995-be45-9625cbb35237",
   "metadata": {},
   "outputs": [
    {
     "name": "stdout",
     "output_type": "stream",
     "text": [
      "TxId \"30b58c5cd0cb52ba16139a3f4026970b5da0c820d13e7b36e68628f33a529580\"\n"
     ]
    }
   ],
   "source": [
    "marlowe-cli transaction submit \\\n",
    "  --tx-body-file tx-3.unsigned \\\n",
    "  --required-signer \"$BORROWER_SKEY\" \\\n",
    "  --timeout 600"
   ]
  },
  {
   "cell_type": "markdown",
   "id": "3ef67b53-b30a-4408-a43e-97f1f0715ed0",
   "metadata": {},
   "source": [
    "One can view the transaction on a Cardano explorer."
   ]
  },
  {
   "cell_type": "code",
   "execution_count": 37,
   "id": "94e9f529-529b-4777-b829-dcab0a5fc3b8",
   "metadata": {},
   "outputs": [
    {
     "name": "stdout",
     "output_type": "stream",
     "text": [
      "https://preprod.cardanoscan.io/transaction/30b58c5cd0cb52ba16139a3f4026970b5da0c820d13e7b36e68628f33a529580?tab=utxo\n"
     ]
    }
   ],
   "source": [
    "echo \"https://preprod.cardanoscan.io/transaction/$TX_3?tab=utxo\""
   ]
  },
  {
   "cell_type": "markdown",
   "id": "af13b1f3-d5e2-4ebc-8023-f0fd5875c0a5",
   "metadata": {},
   "source": [
    "One can see that the lender received back the 80 ada of principal and the 2 ada deposited when the contract was created, along with the additional 5 ada of interest, totallying 87 ada."
   ]
  },
  {
   "cell_type": "code",
   "execution_count": 39,
   "id": "492de5e8-7f07-437c-9f88-80ccdf00636f",
   "metadata": {},
   "outputs": [
    {
     "name": "stdout",
     "output_type": "stream",
     "text": [
      "                           TxHash                                 TxIx        Amount\n",
      "--------------------------------------------------------------------------------------\n",
      "30b58c5cd0cb52ba16139a3f4026970b5da0c820d13e7b36e68628f33a529580     1        87000000 lovelace + TxOutDatumNone\n",
      "3765960b657280738819afc0b3156a1861124a11efc36485a0d280efe8b473d8     0        17090077 lovelace + TxOutDatumNone\n"
     ]
    }
   ],
   "source": [
    "cardano-cli query utxo --testnet-magic \"$CARDANO_TESTNET_MAGIC\" --address \"$LENDER_ADDR\""
   ]
  },
  {
   "cell_type": "markdown",
   "id": "1196c641-e92e-4848-a20b-b673d7fcbc71",
   "metadata": {},
   "source": [
    "The borrower now has a total of about 95 ada, which is 100 ada minus the 5 ada paid as interest."
   ]
  },
  {
   "cell_type": "code",
   "execution_count": 39,
   "id": "3e8f27e3-e94a-4332-94a2-2f8af8800d56",
   "metadata": {},
   "outputs": [
    {
     "name": "stdout",
     "output_type": "stream",
     "text": [
      "                           TxHash                                 TxIx        Amount\n",
      "--------------------------------------------------------------------------------------\n",
      "30b58c5cd0cb52ba16139a3f4026970b5da0c820d13e7b36e68628f33a529580     0        14441267 lovelace + TxOutDatumNone\n",
      "3765960b657280738819afc0b3156a1861124a11efc36485a0d280efe8b473d8     2        80000000 lovelace + TxOutDatumNone\n"
     ]
    }
   ],
   "source": [
    "cardano-cli query utxo --testnet-magic \"$CARDANO_TESTNET_MAGIC\" --address \"$BORROWER_ADDR\""
   ]
  },
  {
   "cell_type": "markdown",
   "id": "8b4951f7-58bb-4399-a09a-2029f4e2dfe4",
   "metadata": {},
   "source": [
    "The Marlowe contract has closed, so there is no output to its script address."
   ]
  },
  {
   "cell_type": "markdown",
   "id": "bbe2049a-1507-45c1-888f-2079619be474",
   "metadata": {},
   "source": [
    "## View the completion of the contract on the blockchain\n",
    "\n",
    "Marlowe Runtime\\'s command `marlowe log` can fetch a contract from the blockchain and print information about it."
   ]
  },
  {
   "cell_type": "code",
   "execution_count": 40,
   "id": "14a0a55a-f0f4-40e7-9cc6-9bcc6600d7b1",
   "metadata": {},
   "outputs": [
    {
     "name": "stdout",
     "output_type": "stream",
     "text": [
      "\u001b[93mtransaction ca7adf79d3bb962931aeccacaa5566968c9c5505168bc33d1d3ed03ebf3f5648 (creation)\n",
      "\u001b[0mContractId:      ca7adf79d3bb962931aeccacaa5566968c9c5505168bc33d1d3ed03ebf3f5648#1\n",
      "SlotNo:          21234813\n",
      "BlockNo:         650468\n",
      "BlockId:         54db65b31bfe0f1c7dd33aab569a0ea8c30e63e79aae6062ca9e52b2075bad48\n",
      "ScriptAddress:   addr_test1wp4f8ywk4fg672xasahtk4t9k6w3aql943uxz5rt62d4dvqu3c6jv\n",
      "Marlowe Version: 1\n",
      "\n",
      "    When [\n",
      "      (Case\n",
      "         (Deposit (Address \"addr_test1vzztyac2krgjn3se4mkan0s5vk4udqnnthaw4tg0tgn78mgnhrkyy\") (Address \"addr_test1vzztyac2krgjn3se4mkan0s5vk4udqnnthaw4tg0tgn78mgnhrkyy\")\n",
      "            (Token \"\" \"\")\n",
      "            (Constant 80000000))\n",
      "         (Pay (Address \"addr_test1vzztyac2krgjn3se4mkan0s5vk4udqnnthaw4tg0tgn78mgnhrkyy\")\n",
      "            (Party (Address \"addr_test1vryzlnfg9szqzxye7vzzllx5eqsl7u0vas4wnztemha0k5ch2pydf\"))\n",
      "            (Token \"\" \"\")\n",
      "            (Constant 80000000)\n",
      "            (When [\n",
      "               (Case\n",
      "                  (Deposit (Address \"addr_test1vryzlnfg9szqzxye7vzzllx5eqsl7u0vas4wnztemha0k5ch2pydf\") (Address \"addr_test1vryzlnfg9szqzxye7vzzllx5eqsl7u0vas4wnztemha0k5ch2pydf\")\n",
      "                     (Token \"\" \"\")\n",
      "                     (AddValue\n",
      "                        (Constant 80000000)\n",
      "                        (Constant 5000000)))\n",
      "                  (Pay (Address \"addr_test1vryzlnfg9szqzxye7vzzllx5eqsl7u0vas4wnztemha0k5ch2pydf\")\n",
      "                     (Party (Address \"addr_test1vzztyac2krgjn3se4mkan0s5vk4udqnnthaw4tg0tgn78mgnhrkyy\"))\n",
      "                     (Token \"\" \"\")\n",
      "                     (AddValue\n",
      "                        (Constant 80000000)\n",
      "                        (Constant 5000000)) Close))] 1676926839000 Close)))] 1676919639000 Close\n",
      "\n",
      "\u001b[93mtransaction 3765960b657280738819afc0b3156a1861124a11efc36485a0d280efe8b473d8\n",
      "\u001b[0mContractId: ca7adf79d3bb962931aeccacaa5566968c9c5505168bc33d1d3ed03ebf3f5648#1\n",
      "SlotNo:     21236075\n",
      "BlockNo:    650509\n",
      "BlockId:    503abb3f6fae36ee4f2561b8119aeda9eed2b1f42c6e0b90a8e9f460949855a2\n",
      "Inputs:     [NormalInput (IDeposit \"\\\"addr_test1vzztyac2krgjn3se4mkan0s5vk4udqnnthaw4tg0tgn78mgnhrkyy\\\"\" \"\\\"addr_test1vzztyac2krgjn3se4mkan0s5vk4udqnnthaw4tg0tgn78mgnhrkyy\\\"\" (Token \"\" \"\") 80000000)]\n",
      "\n",
      "    When [\n",
      "      (Case\n",
      "         (Deposit (Address \"addr_test1vryzlnfg9szqzxye7vzzllx5eqsl7u0vas4wnztemha0k5ch2pydf\") (Address \"addr_test1vryzlnfg9szqzxye7vzzllx5eqsl7u0vas4wnztemha0k5ch2pydf\")\n",
      "            (Token \"\" \"\")\n",
      "            (AddValue\n",
      "               (Constant 80000000)\n",
      "               (Constant 5000000)))\n",
      "         (Pay (Address \"addr_test1vryzlnfg9szqzxye7vzzllx5eqsl7u0vas4wnztemha0k5ch2pydf\")\n",
      "            (Party (Address \"addr_test1vzztyac2krgjn3se4mkan0s5vk4udqnnthaw4tg0tgn78mgnhrkyy\"))\n",
      "            (Token \"\" \"\")\n",
      "            (AddValue\n",
      "               (Constant 80000000)\n",
      "               (Constant 5000000)) Close))] 1676926839000 Close\n",
      "\n",
      "\u001b[93mtransaction 30b58c5cd0cb52ba16139a3f4026970b5da0c820d13e7b36e68628f33a529580 (close)\n",
      "\u001b[0mContractId: ca7adf79d3bb962931aeccacaa5566968c9c5505168bc33d1d3ed03ebf3f5648#1\n",
      "SlotNo:     21236664\n",
      "BlockNo:    650535\n",
      "BlockId:    99f6482bae4431a71bbea1a202d7052b4970ee7331e5f4ad78dc5a89df156163\n",
      "Inputs:     [NormalInput (IDeposit \"\\\"addr_test1vryzlnfg9szqzxye7vzzllx5eqsl7u0vas4wnztemha0k5ch2pydf\\\"\" \"\\\"addr_test1vryzlnfg9szqzxye7vzzllx5eqsl7u0vas4wnztemha0k5ch2pydf\\\"\" (Token \"\" \"\") 85000000)]\n",
      "\n",
      "\n"
     ]
    }
   ],
   "source": [
    "marlowe log --show-contract \"$CONTRACT_ID\""
   ]
  },
  {
   "cell_type": "markdown",
   "id": "cfb3e13d-91b3-4db5-8cde-2277d7a71008",
   "metadata": {},
   "source": [
    "More detail can be retrieved using `marlowe-pipe`."
   ]
  },
  {
   "cell_type": "code",
   "execution_count": 41,
   "id": "bf25d4d4-ca3b-4d61-b4f9-546a44bbcddc",
   "metadata": {},
   "outputs": [
    {
     "name": "stdout",
     "output_type": "stream",
     "text": [
      "creation:\n",
      "  output:\n",
      "    address: 706a9391d6aa51af28dd876ebb5565b69d1e83e5ac7861506bd29b56b0\n",
      "    assets:\n",
      "      ada: 2000000\n",
      "      tokens: []\n",
      "    datum:\n",
      "      marloweContract:\n",
      "        timeout: 1676919639000\n",
      "        timeout_continuation: close\n",
      "        when:\n",
      "        - case:\n",
      "            deposits: 80000000\n",
      "            into_account:\n",
      "              address: addr_test1vzztyac2krgjn3se4mkan0s5vk4udqnnthaw4tg0tgn78mgnhrkyy\n",
      "            of_token:\n",
      "              currency_symbol: ''\n",
      "              token_name: ''\n",
      "            party:\n",
      "              address: addr_test1vzztyac2krgjn3se4mkan0s5vk4udqnnthaw4tg0tgn78mgnhrkyy\n",
      "          then:\n",
      "            from_account:\n",
      "              address: addr_test1vzztyac2krgjn3se4mkan0s5vk4udqnnthaw4tg0tgn78mgnhrkyy\n",
      "            pay: 80000000\n",
      "            then:\n",
      "              timeout: 1676926839000\n",
      "              timeout_continuation: close\n",
      "              when:\n",
      "              - case:\n",
      "                  deposits:\n",
      "                    add: 80000000\n",
      "                    and: 5000000\n",
      "                  into_account:\n",
      "                    address: addr_test1vryzlnfg9szqzxye7vzzllx5eqsl7u0vas4wnztemha0k5ch2pydf\n",
      "                  of_token:\n",
      "                    currency_symbol: ''\n",
      "                    token_name: ''\n",
      "                  party:\n",
      "                    address: addr_test1vryzlnfg9szqzxye7vzzllx5eqsl7u0vas4wnztemha0k5ch2pydf\n",
      "                then:\n",
      "                  from_account:\n",
      "                    address: addr_test1vryzlnfg9szqzxye7vzzllx5eqsl7u0vas4wnztemha0k5ch2pydf\n",
      "                  pay:\n",
      "                    add: 80000000\n",
      "                    and: 5000000\n",
      "                  then: close\n",
      "                  to:\n",
      "                    party:\n",
      "                      address: addr_test1vzztyac2krgjn3se4mkan0s5vk4udqnnthaw4tg0tgn78mgnhrkyy\n",
      "                  token:\n",
      "                    currency_symbol: ''\n",
      "                    token_name: ''\n",
      "            to:\n",
      "              party:\n",
      "                address: addr_test1vryzlnfg9szqzxye7vzzllx5eqsl7u0vas4wnztemha0k5ch2pydf\n",
      "            token:\n",
      "              currency_symbol: ''\n",
      "              token_name: ''\n",
      "      marloweParams:\n",
      "        rolesCurrency: ''\n",
      "      marloweState:\n",
      "        accounts:\n",
      "        - - - address: addr_test1vzztyac2krgjn3se4mkan0s5vk4udqnnthaw4tg0tgn78mgnhrkyy\n",
      "            - currency_symbol: ''\n",
      "              token_name: ''\n",
      "          - 2000000\n",
      "        boundValues: []\n",
      "        choices: []\n",
      "        minTime: 0\n",
      "    utxo:\n",
      "      txId: ca7adf79d3bb962931aeccacaa5566968c9c5505168bc33d1d3ed03ebf3f5648\n",
      "      txIx: 1\n",
      "  payoutValidatorHash: 49076eab20243dc9462511fb98a9cfb719f86e9692288139b7c91df3\n",
      "response: info\n",
      "steps:\n",
      "- contractId: ca7adf79d3bb962931aeccacaa5566968c9c5505168bc33d1d3ed03ebf3f5648#1\n",
      "  payouts: []\n",
      "  redeemer:\n",
      "  - input_from_party:\n",
      "      address: addr_test1vzztyac2krgjn3se4mkan0s5vk4udqnnthaw4tg0tgn78mgnhrkyy\n",
      "    into_account:\n",
      "      address: addr_test1vzztyac2krgjn3se4mkan0s5vk4udqnnthaw4tg0tgn78mgnhrkyy\n",
      "    of_token:\n",
      "      currency_symbol: ''\n",
      "      token_name: ''\n",
      "    that_deposits: 80000000\n",
      "  scriptOutput:\n",
      "    address: 706a9391d6aa51af28dd876ebb5565b69d1e83e5ac7861506bd29b56b0\n",
      "    assets:\n",
      "      ada: 2000000\n",
      "      tokens: []\n",
      "    datum:\n",
      "      marloweContract:\n",
      "        timeout: 1676926839000\n",
      "        timeout_continuation: close\n",
      "        when:\n",
      "        - case:\n",
      "            deposits:\n",
      "              add: 80000000\n",
      "              and: 5000000\n",
      "            into_account:\n",
      "              address: addr_test1vryzlnfg9szqzxye7vzzllx5eqsl7u0vas4wnztemha0k5ch2pydf\n",
      "            of_token:\n",
      "              currency_symbol: ''\n",
      "              token_name: ''\n",
      "            party:\n",
      "              address: addr_test1vryzlnfg9szqzxye7vzzllx5eqsl7u0vas4wnztemha0k5ch2pydf\n",
      "          then:\n",
      "            from_account:\n",
      "              address: addr_test1vryzlnfg9szqzxye7vzzllx5eqsl7u0vas4wnztemha0k5ch2pydf\n",
      "            pay:\n",
      "              add: 80000000\n",
      "              and: 5000000\n",
      "            then: close\n",
      "            to:\n",
      "              party:\n",
      "                address: addr_test1vzztyac2krgjn3se4mkan0s5vk4udqnnthaw4tg0tgn78mgnhrkyy\n",
      "            token:\n",
      "              currency_symbol: ''\n",
      "              token_name: ''\n",
      "      marloweParams:\n",
      "        rolesCurrency: ''\n",
      "      marloweState:\n",
      "        accounts:\n",
      "        - - - address: addr_test1vzztyac2krgjn3se4mkan0s5vk4udqnnthaw4tg0tgn78mgnhrkyy\n",
      "            - currency_symbol: ''\n",
      "              token_name: ''\n",
      "          - 2000000\n",
      "        boundValues: []\n",
      "        choices: []\n",
      "        minTime: 1676919240000\n",
      "    utxo:\n",
      "      txId: 3765960b657280738819afc0b3156a1861124a11efc36485a0d280efe8b473d8\n",
      "      txIx: 1\n",
      "  step: apply\n",
      "  txId: 3765960b657280738819afc0b3156a1861124a11efc36485a0d280efe8b473d8\n",
      "- contractId: ca7adf79d3bb962931aeccacaa5566968c9c5505168bc33d1d3ed03ebf3f5648#1\n",
      "  payouts: []\n",
      "  redeemer:\n",
      "  - input_from_party:\n",
      "      address: addr_test1vryzlnfg9szqzxye7vzzllx5eqsl7u0vas4wnztemha0k5ch2pydf\n",
      "    into_account:\n",
      "      address: addr_test1vryzlnfg9szqzxye7vzzllx5eqsl7u0vas4wnztemha0k5ch2pydf\n",
      "    of_token:\n",
      "      currency_symbol: ''\n",
      "      token_name: ''\n",
      "    that_deposits: 85000000\n",
      "  scriptOutput: null\n",
      "  step: apply\n",
      "  txId: 30b58c5cd0cb52ba16139a3f4026970b5da0c820d13e7b36e68628f33a529580\n"
     ]
    }
   ],
   "source": [
    "echo '{\"request\" : \"get\", \"contractId\" : \"'\"$CONTRACT_ID\"'\"}' | marlowe-pipe 2> /dev/null | json2yaml"
   ]
  },
  {
   "cell_type": "markdown",
   "id": "48be1a89-6538-49e2-9d67-000cd09b2bf6",
   "metadata": {},
   "source": [
    "## \\[Optional\\] Clean Up"
   ]
  },
  {
   "cell_type": "markdown",
   "id": "b760e269-c70c-4364-a4d3-71438bfc3693",
   "metadata": {},
   "source": [
    "We can tidy up the wallets by sending their funds back to the original faucet."
   ]
  },
  {
   "cell_type": "code",
   "execution_count": 42,
   "id": "00df321a-9b4c-4c15-abbb-d8384e11cab7",
   "metadata": {},
   "outputs": [
    {
     "name": "stdout",
     "output_type": "stream",
     "text": [
      "TxId \"80052388722e75613371368cafc531cce2bd1e505c6870674de3610bd4bdb8ac\"\n"
     ]
    }
   ],
   "source": [
    "marlowe-cli transaction simple \\\n",
    "  --tx-in \"$TX_2#0\" \\\n",
    "  --tx-in \"$TX_2#2\" \\\n",
    "  --tx-in \"$TX_3#0\" \\\n",
    "  --tx-in \"$TX_3#1\" \\\n",
    "  --change-address \"$(cat ../faucet.testnet.address)\" \\\n",
    "  --required-signer \"$LENDER_SKEY\" \\\n",
    "  --required-signer \"$BORROWER_SKEY\" \\\n",
    "  --out-file /dev/null \\\n",
    "  --submit 600"
   ]
  }
 ],
 "metadata": {
  "kernelspec": {
   "display_name": "Bash - Marlowe",
   "language": "bash",
   "name": "bash_marlowe"
  },
  "language_info": {
   "codemirror_mode": "shell",
   "file_extension": ".sh",
   "mimetype": "text/x-sh",
   "name": "/nix/store/p7bpdnxqd3i5hwm92mrscf7mvxk66404-bash-5.1-p16/bin/bash"
  }
 },
 "nbformat": 4,
 "nbformat_minor": 5
}
